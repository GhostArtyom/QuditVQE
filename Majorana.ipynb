{
 "cells": [
  {
   "cell_type": "code",
   "execution_count": 1,
   "metadata": {},
   "outputs": [],
   "source": [
    "import math\n",
    "import itertools\n",
    "import numpy as np\n",
    "from utils import *\n",
    "from numpy.linalg import *\n",
    "from scipy.linalg import *\n",
    "from functools import reduce\n",
    "\n",
    "np.set_printoptions(linewidth=1000)"
   ]
  },
  {
   "cell_type": "code",
   "execution_count": 2,
   "metadata": {},
   "outputs": [
    {
     "name": "stdout",
     "output_type": "stream",
     "text": [
      "√2/2¦000⟩\n",
      "√2/2¦111⟩\n",
      "[0.70710678+0.j 0.        +0.j 0.        +0.j 0.        +0.j 0.        +0.j 0.        +0.j 0.        +0.j 0.70710678+0.j]\n"
     ]
    }
   ],
   "source": [
    "def qubit(ket: str):\n",
    "    nq = len(ket)\n",
    "    states = {bin(i)[2:].zfill(nq): np.eye(2**nq, dtype=np.complex128)[i] for i in range(2**nq)}\n",
    "    return states[ket]\n",
    "\n",
    "\n",
    "GHZ = qubit('000') + qubit('111')\n",
    "GHZ /= norm(GHZ)\n",
    "str_ket(dim=2, state=GHZ)"
   ]
  },
  {
   "cell_type": "code",
   "execution_count": 3,
   "metadata": {},
   "outputs": [
    {
     "name": "stdout",
     "output_type": "stream",
     "text": [
      "-0.0098+0.0734j¦0000⟩\n",
      "-0.1155+0.0852j¦0001⟩\n",
      "-0.1155+0.0852j¦0010⟩\n",
      "-0.2129+√5/53j¦0011⟩\n",
      "-0.1155+0.0852j¦0100⟩\n",
      "-0.2129+√5/53j¦0101⟩\n",
      "-0.2129+√5/53j¦0110⟩\n",
      "-0.3552-0.0179j¦0111⟩\n",
      "-0.1155+0.0852j¦1000⟩\n",
      "-0.2129+√5/53j¦1001⟩\n",
      "-0.2129+√5/53j¦1010⟩\n",
      "-0.3552-0.0179j¦1011⟩\n",
      "-0.2129+√5/53j¦1100⟩\n",
      "-0.3552-0.0179j¦1101⟩\n",
      "-0.3552-0.0179j¦1110⟩\n",
      "-0.3141-0.1578j¦1111⟩\n",
      "[-0.00979401+0.07335784j -0.11552651+0.08517565j -0.11552651+0.08517565j -0.21292817+0.04219071j -0.11552651+0.08517565j -0.21292817+0.04219071j -0.21292817+0.04219071j -0.3551703 -0.01794872j -0.11552651+0.08517565j -0.21292817+0.04219071j -0.21292817+0.04219071j -0.3551703 -0.01794872j -0.21292817+0.04219071j -0.3551703 -0.01794872j -0.3551703 -0.01794872j -0.31406238-0.1577951j ]\n"
     ]
    },
    {
     "data": {
      "text/plain": [
       "True"
      ]
     },
     "execution_count": 3,
     "metadata": {},
     "output_type": "execute_result"
    }
   ],
   "source": [
    "def num_qubits(state: np.ndarray) -> int:\n",
    "    n = state.shape[0]\n",
    "    nq = round(np.log2(n), 12)\n",
    "    if nq % 1 != 0:\n",
    "        raise ValueError(f'Wrong state shape {state.shape} is not a power of 2')\n",
    "    nq = int(nq)\n",
    "    return nq\n",
    "\n",
    "\n",
    "def Majorana_points(points: list) -> np.ndarray:\n",
    "    nq_list = [num_qubits(i) for i in points]\n",
    "    if len(set(nq_list)) != 1 or nq_list[0] != 1:\n",
    "        raise ValueError(f'Wrong number of qubits {nq_list} is not 1')\n",
    "    num = len(points)\n",
    "    points_list, K_list = [], []\n",
    "    for ind in itertools.permutations(range(num)):\n",
    "        points_perm = [points[i] for i in ind]\n",
    "        points_list.append(reduce(np.kron, points_perm))\n",
    "        K_perm = 1\n",
    "        for i, j in enumerate(ind):\n",
    "            K_perm *= np.inner(points[i].conj(), points[j])\n",
    "        K_list.append(K_perm)\n",
    "    K = math.factorial(num) * sum(K_list)\n",
    "    state = sum(points_list) / np.sqrt(K)\n",
    "    return state\n",
    "\n",
    "\n",
    "nq = 2\n",
    "np.random.seed(42)\n",
    "MP_list = []\n",
    "for _ in range(4):\n",
    "    MP = np.random.rand(2) + 1j * np.random.rand(2)\n",
    "    MP /= norm(MP)\n",
    "    MP_list.append(MP)\n",
    "a = qubit('0') + qubit('1')\n",
    "b = qubit('0') + np.exp(1j * 4 * np.pi / 3) * qubit('1')\n",
    "c = qubit('0') + np.exp(1j * 2 * np.pi / 3) * qubit('1')\n",
    "# MP_list = [a, b, c]\n",
    "sym_state = Majorana_points(MP_list)\n",
    "str_ket(dim=2, state=sym_state)\n",
    "is_symmetric(sym_state)"
   ]
  },
  {
   "cell_type": "code",
   "execution_count": 4,
   "metadata": {},
   "outputs": [],
   "source": [
    "def Majorana_representation(state: np.ndarray) -> list:\n",
    "    pass\n",
    "\n",
    "\n",
    "Majorana_representation(GHZ)"
   ]
  }
 ],
 "metadata": {
  "kernelspec": {
   "display_name": "Python 3",
   "language": "python",
   "name": "python3"
  },
  "language_info": {
   "codemirror_mode": {
    "name": "ipython",
    "version": 3
   },
   "file_extension": ".py",
   "mimetype": "text/x-python",
   "name": "python",
   "nbconvert_exporter": "python",
   "pygments_lexer": "ipython3",
   "version": "3.9.13"
  }
 },
 "nbformat": 4,
 "nbformat_minor": 2
}
