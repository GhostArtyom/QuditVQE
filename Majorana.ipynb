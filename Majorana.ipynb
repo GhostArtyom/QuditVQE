{
 "cells": [
  {
   "cell_type": "code",
   "execution_count": 1,
   "metadata": {},
   "outputs": [],
   "source": [
    "import itertools\n",
    "import numpy as np\n",
    "from utils import *\n",
    "from numpy.linalg import *\n",
    "from scipy.linalg import *\n",
    "from functools import reduce\n",
    "from math import log, factorial\n",
    "from mindquantum.io.display import BlochScene\n",
    "\n",
    "np.set_printoptions(linewidth=1000)"
   ]
  },
  {
   "cell_type": "code",
   "execution_count": 2,
   "metadata": {},
   "outputs": [
    {
     "name": "stdout",
     "output_type": "stream",
     "text": [
      "√2/2¦000⟩\n",
      "√2/2¦111⟩\n",
      "[0.70710678+0.j 0.        +0.j 0.        +0.j 0.        +0.j 0.        +0.j 0.        +0.j 0.        +0.j 0.70710678+0.j]\n"
     ]
    }
   ],
   "source": [
    "def q(ket: str, dim: int = 2):\n",
    "    return np.eye(dim**len(ket), dtype=CDTYPE)[int(ket, dim)]\n",
    "\n",
    "\n",
    "GHZ = q('000') + q('111')\n",
    "GHZ /= norm(GHZ)\n",
    "str_ket(GHZ)"
   ]
  },
  {
   "cell_type": "code",
   "execution_count": 3,
   "metadata": {},
   "outputs": [
    {
     "name": "stdout",
     "output_type": "stream",
     "text": [
      "-0.0098+0.0734j¦0000⟩\n",
      "-0.1155+0.0852j¦0001⟩\n",
      "-0.1155+0.0852j¦0010⟩\n",
      "-0.2129+√5/53j¦0011⟩\n",
      "-0.1155+0.0852j¦0100⟩\n",
      "-0.2129+√5/53j¦0101⟩\n",
      "-0.2129+√5/53j¦0110⟩\n",
      "-0.3552-0.0179j¦0111⟩\n",
      "-0.1155+0.0852j¦1000⟩\n",
      "-0.2129+√5/53j¦1001⟩\n",
      "-0.2129+√5/53j¦1010⟩\n",
      "-0.3552-0.0179j¦1011⟩\n",
      "-0.2129+√5/53j¦1100⟩\n",
      "-0.3552-0.0179j¦1101⟩\n",
      "-0.3552-0.0179j¦1110⟩\n",
      "-0.3141-0.1578j¦1111⟩\n",
      "[-0.00979401+0.07335784j -0.11552651+0.08517565j -0.11552651+0.08517565j -0.21292817+0.04219071j -0.11552651+0.08517565j -0.21292817+0.04219071j -0.21292817+0.04219071j -0.3551703 -0.01794872j -0.11552651+0.08517565j -0.21292817+0.04219071j -0.21292817+0.04219071j -0.3551703 -0.01794872j -0.21292817+0.04219071j -0.3551703 -0.01794872j -0.3551703 -0.01794872j -0.31406238-0.1577951j ]\n"
     ]
    },
    {
     "data": {
      "text/plain": [
       "True"
      ]
     },
     "execution_count": 3,
     "metadata": {},
     "output_type": "execute_result"
    }
   ],
   "source": [
    "def num_qubits(state: np.ndarray) -> int:\n",
    "    n = state.shape[0]\n",
    "    nq = round(np.log2(n), 12)\n",
    "    if nq % 1 != 0:\n",
    "        raise ValueError(f'Wrong state shape {state.shape} is not a power of 2')\n",
    "    nq = int(nq)\n",
    "    return nq\n",
    "\n",
    "\n",
    "def Majorana_points(points: list) -> np.ndarray:\n",
    "    nq_list = [num_qubits(i) for i in points]\n",
    "    if len(set(nq_list)) != 1 or nq_list[0] != 1:\n",
    "        raise ValueError(f'Wrong number of qubits {nq_list} is not 1')\n",
    "    num = len(points)\n",
    "    points_list, K_list = [], []\n",
    "    for ind in itertools.permutations(range(num)):\n",
    "        points_perm = [points[i] for i in ind]\n",
    "        points_list.append(reduce(np.kron, points_perm))\n",
    "        K_perm = 1\n",
    "        for i, j in enumerate(ind):\n",
    "            K_perm *= np.inner(points[i].conj(), points[j])\n",
    "        K_list.append(K_perm)\n",
    "    K = factorial(num) * sum(K_list)\n",
    "    state = sum(points_list) / np.sqrt(K)\n",
    "    return state\n",
    "\n",
    "\n",
    "nq = 2\n",
    "MP_list = []\n",
    "np.random.seed(42)\n",
    "for _ in range(4):\n",
    "    MP = np.random.rand(2) + 1j * np.random.rand(2)\n",
    "    MP /= norm(MP)\n",
    "    MP_list.append(MP)\n",
    "a = q('0') + q('1')\n",
    "b = q('0') + np.exp(1j * 4 * np.pi / 3) * q('1')\n",
    "c = q('0') + np.exp(1j * 2 * np.pi / 3) * q('1')\n",
    "# MP_list = [a, b, c]\n",
    "sym_state = Majorana_points(MP_list)\n",
    "str_ket(sym_state)\n",
    "is_symmetric(sym_state)"
   ]
  },
  {
   "cell_type": "code",
   "execution_count": null,
   "metadata": {},
   "outputs": [],
   "source": [
    "scene = BlochScene()\n",
    "fig, ax = scene.create_scene()\n",
    "for MP in MP_list:\n",
    "    scene.add_state(ax, MP)"
   ]
  },
  {
   "cell_type": "code",
   "execution_count": 5,
   "metadata": {},
   "outputs": [
    {
     "name": "stdout",
     "output_type": "stream",
     "text": [
      "(9,) (16,)\n",
      "-0.2181+0.4484j¦00⟩\n",
      "0.2627+0.6276j¦01⟩\n",
      "0.1808+0.4966j¦02⟩\n",
      "0.2627+0.6276j¦10⟩\n",
      "0.8795+0.2967j¦11⟩\n",
      "0.6716+0.2625j¦12⟩\n",
      "0.1808+0.4966j¦20⟩\n",
      "0.6716+0.2625j¦21⟩\n",
      "0.5115+0.2284j¦22⟩\n",
      "[-0.21811168+0.44844324j  0.26267877+0.62758843j  0.18077365+0.49664059j  0.26267877+0.62758843j  0.87951588+0.29665831j  0.67157906+0.26251092j  0.18077365+0.49664059j  0.67157906+0.26251092j  0.51148084+0.22837409j]\n",
      "-0.2181+0.4484j¦0000⟩\n",
      "0.1857+0.4438j¦0001⟩\n",
      "0.1857+0.4438j¦0010⟩\n",
      "0.1808+0.4966j¦0011⟩\n",
      "0.1857+0.4438j¦0100⟩\n",
      "0.4398+0.1483j¦0101⟩\n",
      "0.4398+0.1483j¦0110⟩\n",
      "0.4749+0.1856j¦0111⟩\n",
      "0.1857+0.4438j¦1000⟩\n",
      "0.4398+0.1483j¦1001⟩\n",
      "0.4398+0.1483j¦1010⟩\n",
      "0.4749+0.1856j¦1011⟩\n",
      "0.1808+0.4966j¦1100⟩\n",
      "0.4749+0.1856j¦1101⟩\n",
      "0.4749+0.1856j¦1110⟩\n",
      "0.5115+0.2284j¦1111⟩\n",
      "[-0.21811168+0.44844324j  0.18574194+0.44377203j  0.18574194+0.44377203j  0.18077365+0.49664059j  0.18574194+0.44377203j  0.43975794+0.14832915j  0.43975794+0.14832915j  0.47487811+0.18562325j  0.18574194+0.44377203j  0.43975794+0.14832915j  0.43975794+0.14832915j  0.47487811+0.18562325j  0.18077365+0.49664059j  0.47487811+0.18562325j  0.47487811+0.18562325j  0.51148084+0.22837409j]\n"
     ]
    }
   ],
   "source": [
    "dim, n_qudits = 3, 2\n",
    "np.random.seed(42)\n",
    "a = np.random.rand(dim) + 1j * np.random.rand(dim)\n",
    "for i in range(n_qudits):\n",
    "    qudit = a if i == 0 else np.kron(qudit, a)\n",
    "qubit = symmetric_encoding(qudit, n_qudits)\n",
    "print(qudit.shape, qubit.shape)\n",
    "str_ket(qudit, dim)\n",
    "str_ket(qubit)"
   ]
  },
  {
   "cell_type": "code",
   "execution_count": 6,
   "metadata": {},
   "outputs": [
    {
     "name": "stdout",
     "output_type": "stream",
     "text": [
      "√2/2¦01⟩\n",
      "√2/2¦10⟩\n",
      "[0.        +0.j 0.70710678+0.j 0.        +0.j 0.70710678+0.j 0.        +0.j 0.        +0.j 0.        +0.j 0.        +0.j 0.        +0.j]\n",
      "1/2¦0001⟩\n",
      "1/2¦0010⟩\n",
      "1/2¦0100⟩\n",
      "1/2¦1000⟩\n",
      "[0. +0.j 0.5+0.j 0.5+0.j 0. +0.j 0.5+0.j 0. +0.j 0. +0.j 0. +0.j 0.5+0.j 0. +0.j 0. +0.j 0. +0.j 0. +0.j 0. +0.j 0. +0.j 0. +0.j]\n"
     ]
    }
   ],
   "source": [
    "def Majorana_representation(qubit: np.ndarray, n_qubits: int) -> list:\n",
    "    qudit = symmetric_decoding(qubit, n_qubits)\n",
    "    return qudit\n",
    "\n",
    "\n",
    "dim = 3\n",
    "a = np.kron(q('0', dim), q('1', dim))\n",
    "b = np.kron(q('1', dim), q('0', dim))\n",
    "qudit = a + b\n",
    "qudit /= norm(qudit)\n",
    "qubit = symmetric_encoding(qudit, 2)\n",
    "str_ket(qudit, dim)\n",
    "str_ket(qubit)\n",
    "\n",
    "\n",
    "# Majorana_representation(a, m)"
   ]
  }
 ],
 "metadata": {
  "kernelspec": {
   "display_name": "Python 3",
   "language": "python",
   "name": "python3"
  },
  "language_info": {
   "codemirror_mode": {
    "name": "ipython",
    "version": 3
   },
   "file_extension": ".py",
   "mimetype": "text/x-python",
   "name": "python",
   "nbconvert_exporter": "python",
   "pygments_lexer": "ipython3",
   "version": "3.9.13"
  }
 },
 "nbformat": 4,
 "nbformat_minor": 2
}
