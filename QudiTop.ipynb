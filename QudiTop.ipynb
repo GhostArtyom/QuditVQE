{
 "cells": [
  {
   "cell_type": "code",
   "execution_count": 1,
   "metadata": {},
   "outputs": [
    {
     "name": "stdout",
     "output_type": "stream",
     "text": [
      "Torch Device: cpu\n"
     ]
    }
   ],
   "source": [
    "import re\n",
    "import time\n",
    "import torch\n",
    "import numpy as np\n",
    "import torch.nn as nn\n",
    "from h5py import File\n",
    "from torch import optim\n",
    "from QudiTop.gates import *\n",
    "from numpy.linalg import norm\n",
    "from QudiTop.circuit import Circuit\n",
    "from QudiTop.global_var import DTYPE\n",
    "from scipy.stats import unitary_group\n",
    "from QudiTop.expectation import Expectation\n",
    "from utils import fidelity, reduced_density_matrix\n",
    "\n",
    "np.set_printoptions(linewidth=300)\n",
    "torch.set_printoptions(linewidth=300)\n",
    "device = torch.device('cuda:0' if torch.cuda.is_available() else 'cpu')\n",
    "# device = torch.device('cpu')\n",
    "print('Torch Device:', device)"
   ]
  },
  {
   "cell_type": "code",
   "execution_count": 2,
   "metadata": {},
   "outputs": [],
   "source": [
    "def ZYZ(d, name, obj, with_phase: bool = False):\n",
    "    if d != 3:\n",
    "        raise ValueError('Only works when d = 3')\n",
    "    circ = Circuit(d, 1)\n",
    "    index = [[1, 2], [0, 1], [1, 2]]\n",
    "    for i, ind in enumerate(index):\n",
    "        str_pr = f'{\"\".join(str(i) for i in ind)}_{i}'\n",
    "        circ += RZ(d, ind, f'{name}RZ{str_pr}').on(obj)\n",
    "        circ += RY(d, ind, f'{name}RY{str_pr}').on(obj)\n",
    "        circ += RZ(d, ind, f'{name}Rz{str_pr}').on(obj)\n",
    "        if with_phase:\n",
    "            circ += GP(d, f'{name}phase_{i}').on(obj)\n",
    "    return circ\n",
    "\n",
    "\n",
    "def Cd(d, name, obj, ctrl, state):\n",
    "    if d != 3:\n",
    "        raise ValueError('Only works when d = 3')\n",
    "    circ = Circuit(d, 2)\n",
    "    circ += RZ(d, [0, 1], f'{name}RZ01').on(obj, ctrl, state)\n",
    "    circ += RZ(d, [0, 2], f'{name}RZ02').on(obj, ctrl, state)\n",
    "    circ += GP(d, f'{name}phase').on(obj, ctrl, state)\n",
    "    return circ\n",
    "\n",
    "\n",
    "def qutrit_ansatz(gate: UMG, with_phase: bool = False):\n",
    "    d = gate.dim\n",
    "    obj = gate.obj_qudits\n",
    "    name = f'{gate.name}_'\n",
    "    circ = Circuit(d, 2)\n",
    "    if len(obj) == 1:\n",
    "        circ += ZYZ(d, f'{name}', obj[0])\n",
    "    elif len(obj) == 2:\n",
    "        circ += ZYZ(d, f'{name}U1_', obj[0])\n",
    "        circ += Cd(d, f'{name}C1_', obj[0], obj[1], 1)\n",
    "        circ += ZYZ(d, f'{name}U2_', obj[0])\n",
    "        circ += Cd(d, f'{name}C2_', obj[0], obj[1], 2)\n",
    "        circ += ZYZ(d, f'{name}U3_', obj[0])\n",
    "        circ += RY(d, [1, 2], f'{name}RY12').on(obj[1], obj[0], 2)\n",
    "        circ += RY(d, [1, 2], f'{name}RY11').on(obj[1], obj[0], 1)\n",
    "        circ += RY(d, [1, 2], f'{name}RY10').on(obj[1], obj[0], 0)\n",
    "        circ += ZYZ(d, f'{name}U4_', obj[0])\n",
    "        circ += Cd(d, f'{name}C3_', obj[0], obj[1], 2)\n",
    "        circ += ZYZ(d, f'{name}U5_', obj[0])\n",
    "        circ += RY(d, [0, 1], f'{name}RY22').on(obj[1], obj[0], 2)\n",
    "        circ += RY(d, [0, 1], f'{name}RY21').on(obj[1], obj[0], 1)\n",
    "        circ += RY(d, [0, 1], f'{name}RY20').on(obj[1], obj[0], 0)\n",
    "        circ += ZYZ(d, f'{name}U6_', obj[0])\n",
    "        circ += Cd(d, f'{name}C4_', obj[0], obj[1], 0)\n",
    "        circ += ZYZ(d, f'{name}U7_', obj[0])\n",
    "        circ += RY(d, [1, 2], f'{name}RY32').on(obj[1], obj[0], 2)\n",
    "        circ += RY(d, [1, 2], f'{name}RY31').on(obj[1], obj[0], 1)\n",
    "        circ += RY(d, [1, 2], f'{name}RY30').on(obj[1], obj[0], 0)\n",
    "        circ += ZYZ(d, f'{name}U8_', obj[0])\n",
    "        circ += Cd(d, f'{name}C5_', obj[0], obj[1], 2)\n",
    "        circ += ZYZ(d, f'{name}U9_', obj[0])\n",
    "    else:\n",
    "        raise ValueError('Only works when nq <= 2')\n",
    "    if with_phase:\n",
    "        circ += [GP(d, f'{name}phase').on(i) for i in obj]\n",
    "    return circ"
   ]
  },
  {
   "cell_type": "code",
   "execution_count": 3,
   "metadata": {},
   "outputs": [],
   "source": [
    "g = File('./mat/322_d3_num1_model957_RDM3_gates_L10_N7_variational.mat', 'r')\n",
    "position = g['RDM_site'][:] - 1  # subtract index of matlab to python\n",
    "l = list(g.keys())  # list of HDF5 gates file keys\n",
    "d = int(g['d'][0])  # dimension of qudit state\n",
    "f = g['fidelity'][0][0]  # fidelity of gates\n",
    "g_name = [x for x in l if 'gates' in x]  # list of Q_gates_?\n",
    "key = lambda x: [int(s) if s.isdigit() else s for s in re.split('(\\d+)', x)]\n",
    "g_name = sorted(g_name, key=key)  # sort 1,10,11,...,2 into 1,2,...,10,11\n",
    "k = g[g_name[0]].shape[0]  # number of gates in one layer\n",
    "gates = [[g[g[i][j]][:].view('complex').T for j in range(k)] for i in g_name]\n",
    "g.close()\n",
    "\n",
    "r = File('./mat/322_d3_num1_model957_RDM_v7.3.mat', 'r')\n",
    "l = list(r.keys())  # list of HDF5 rdm file keys\n",
    "rdm = [r[i][:].view('complex').T for i in l]\n",
    "rdm.insert(0, [])\n",
    "r.close()"
   ]
  },
  {
   "cell_type": "code",
   "execution_count": 4,
   "metadata": {},
   "outputs": [
    {
     "name": "stdout",
     "output_type": "stream",
     "text": [
      "Number of qudits: 7\n",
      "Number of params: 6360\n",
      "Number of gates: 6420\n",
      "Hamiltonian Dimension: (2187, 2187)\n",
      "rho norm: 0.00076547501441202176\n",
      "rho fidelity: 0.99997400636617883585\n"
     ]
    }
   ],
   "source": [
    "d, nq = 3, 7\n",
    "circ = Circuit(d, nq)\n",
    "ansatz = Circuit(d, nq)\n",
    "for i in range(len(g_name)):\n",
    "    for j in range(k):\n",
    "        mat = gates[i][j]\n",
    "        name = f'G{j + 1}_L{i + 1}'\n",
    "        gate = UMG(d, mat, name=name).on([j, j + 1])\n",
    "        circ += gate\n",
    "        ansatz += qutrit_ansatz(gate, True)\n",
    "\n",
    "pr = ansatz.get_parameters()\n",
    "g_num = len(ansatz.gates)\n",
    "p_num = len(pr)\n",
    "print('Number of qudits: %d' % nq)\n",
    "print('Number of params: %d' % p_num)\n",
    "print('Number of gates: %d' % g_num)\n",
    "\n",
    "psi = circ.get_qs()\n",
    "rho = np.outer(psi, psi.conj())\n",
    "print('Hamiltonian Dimension:', rho.shape)\n",
    "Ham = [(1, UMG(d, rho).on(list(range(nq))))]\n",
    "expect = Expectation(Ham)\n",
    "\n",
    "rho_rdm = reduced_density_matrix(psi, d, position)\n",
    "print('rho norm: %.20f' % norm(rdm[3] - rho_rdm, 2))\n",
    "print('rho fidelity: %.20f' % fidelity(rdm[3], rho_rdm))"
   ]
  },
  {
   "cell_type": "code",
   "execution_count": 8,
   "metadata": {},
   "outputs": [
    {
     "name": "stdout",
     "output_type": "stream",
     "text": [
      "Loss: 0.999689677952048, Fidelity: 0.000278688965819,   0, 10.7311\n",
      "Loss: 0.999346076816789, Fidelity: 0.000622290101078,   1, 20.9884\n",
      "Loss: 0.992536843643930, Fidelity: 0.007431523273937,   2, 31.1787\n",
      "Loss: 0.973718800932329, Fidelity: 0.026249565985538,   3, 40.8628\n",
      "Loss: 0.973718800932329, Fidelity: 0.026249565985538,   3, 40.8634\n",
      "psi norm: 1.34853827802835457561\n",
      "psi fidelity: 0.17802492066427064166\n",
      "rho fidelity: 0.50728944070105552733\n",
      "Runtime: 46.516487\n"
     ]
    }
   ],
   "source": [
    "start = time.perf_counter()\n",
    "p0 = np.random.uniform(-1, 1, p_num)\n",
    "target = torch.tensor([f], dtype=DTYPE).to(device)\n",
    "ansatz.assign_ansatz_parameters(dict(zip(pr, p0)))\n",
    "optimizer = optim.Adam(ansatz.parameters(), lr=1e-2)\n",
    "for i in range(1000):\n",
    "    out = expect(ansatz()).to(device)\n",
    "    loss = nn.L1Loss()(out, target)\n",
    "    optimizer.zero_grad()\n",
    "    loss.backward()\n",
    "    optimizer.step()\n",
    "    if i % 1 == 0:\n",
    "        t = time.perf_counter() - start\n",
    "        print('Loss: %.15f, Fidelity: %.15f, %3d, %.4f' % (loss, out, i, t))\n",
    "    if loss < 1e-8:\n",
    "        break\n",
    "t = time.perf_counter() - start\n",
    "print('Loss: %.15f, Fidelity: %.15f, %3d, %.4f' % (loss, out, i, t))\n",
    "\n",
    "pr_res = ansatz.get_parameters()\n",
    "psi_res = ansatz.get_qs()\n",
    "print('psi norm: %.20f' % norm(psi - psi_res, 2))\n",
    "print('psi fidelity: %.20f' % fidelity(psi, psi_res))\n",
    "\n",
    "rho_res = reduced_density_matrix(psi_res, d, position)\n",
    "print('rho fidelity: %.20f' % fidelity(rdm[3], rho_res))\n",
    "\n",
    "end = time.perf_counter()\n",
    "print('Runtime: %f' % (end - start))"
   ]
  }
 ],
 "metadata": {
  "kernelspec": {
   "display_name": "Python 3",
   "language": "python",
   "name": "python3"
  },
  "language_info": {
   "codemirror_mode": {
    "name": "ipython",
    "version": 3
   },
   "file_extension": ".py",
   "mimetype": "text/x-python",
   "name": "python",
   "nbconvert_exporter": "python",
   "pygments_lexer": "ipython3",
   "version": "3.9.13"
  }
 },
 "nbformat": 4,
 "nbformat_minor": 2
}
