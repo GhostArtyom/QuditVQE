{
 "cells": [
  {
   "cell_type": "code",
   "execution_count": 1,
   "metadata": {},
   "outputs": [],
   "source": [
    "import time\n",
    "import torch\n",
    "import numpy as np\n",
    "import torch.nn as nn\n",
    "from torch import optim\n",
    "from utils import fidelity\n",
    "from QudiTop.gates import *\n",
    "from numpy.linalg import norm\n",
    "from QudiTop.circuit import Circuit\n",
    "from QudiTop.global_var import DTYPE\n",
    "from scipy.stats import unitary_group\n",
    "from QudiTop.expectation import Expectation\n",
    "\n",
    "np.set_printoptions(linewidth=250)\n",
    "torch.set_printoptions(linewidth=250)"
   ]
  },
  {
   "cell_type": "code",
   "execution_count": 2,
   "metadata": {},
   "outputs": [],
   "source": [
    "def ZYZ(d, name, obj, with_phase: bool = False):\n",
    "    if d != 3:\n",
    "        raise ValueError('Only works when d = 3')\n",
    "    circ = Circuit(d, 1)\n",
    "    index = [[1, 2], [0, 1], [1, 2]]\n",
    "    for i, ind in enumerate(index):\n",
    "        str_pr = f'{\"\".join(str(i) for i in ind)}_{i}'\n",
    "        circ += RZ(d, ind, f'{name}RZ{str_pr}').on(obj)\n",
    "        circ += RY(d, ind, f'{name}RY{str_pr}').on(obj)\n",
    "        circ += RZ(d, ind, f'{name}Rz{str_pr}').on(obj)\n",
    "        if with_phase:\n",
    "            circ += GP(d, f'{name}phase_{i}').on(obj)\n",
    "    return circ\n",
    "\n",
    "\n",
    "def Cd(d, name, obj, ctrl, state):\n",
    "    if d != 3:\n",
    "        raise ValueError('Only works when d = 3')\n",
    "    circ = Circuit(d, 2)\n",
    "    circ += RZ(d, [0, 1], f'{name}RZ01').on(obj, ctrl, state)\n",
    "    circ += RZ(d, [0, 2], f'{name}RZ02').on(obj, ctrl, state)\n",
    "    circ += GP(d, f'{name}phase').on(obj, ctrl, state)\n",
    "    return circ\n",
    "\n",
    "\n",
    "def qutrit_ansatz(gate: UMG, with_phase: bool = True):\n",
    "    d = gate.dim\n",
    "    obj = gate.obj_qudits\n",
    "    name = f'{gate.name}_'\n",
    "    circ = Circuit(d, 2)\n",
    "    if len(obj) == 1:\n",
    "        circ += ZYZ(d, f'{name}', obj[0])\n",
    "    elif len(obj) == 2:\n",
    "        circ += ZYZ(d, f'{name}U1_', obj[0])\n",
    "        circ += Cd(d, f'{name}Cd1_', obj[0], obj[1], 1)\n",
    "        circ += ZYZ(d, f'{name}U2_', obj[0])\n",
    "        circ += Cd(d, f'{name}Cd2_', obj[0], obj[1], 2)\n",
    "        circ += ZYZ(d, f'{name}U3_', obj[0])\n",
    "        circ += RY(d, [1, 2], f'{name}RY1').on(obj[1], obj[0], 2)\n",
    "        circ += RY(d, [1, 2], f'{name}RY1').on(obj[1], obj[0], 1)\n",
    "        circ += RY(d, [1, 2], f'{name}RY1').on(obj[1], obj[0], 0)\n",
    "        circ += ZYZ(d, f'{name}U4_', obj[0])\n",
    "        circ += Cd(d, f'{name}Cd3_', obj[0], obj[1], 2)\n",
    "        circ += ZYZ(d, f'{name}U5_', obj[0])\n",
    "        circ += RY(d, [0, 1], f'{name}RY2').on(obj[1], obj[0], 2)\n",
    "        circ += RY(d, [0, 1], f'{name}RY2').on(obj[1], obj[0], 1)\n",
    "        circ += RY(d, [0, 1], f'{name}RY2').on(obj[1], obj[0], 0)\n",
    "        circ += ZYZ(d, f'{name}U6_', obj[0])\n",
    "        circ += Cd(d, f'{name}Cd4_', obj[0], obj[1], 0)\n",
    "        circ += ZYZ(d, f'{name}U7_', obj[0])\n",
    "        circ += RY(d, [1, 2], f'{name}RY3').on(obj[1], obj[0], 2)\n",
    "        circ += RY(d, [1, 2], f'{name}RY3').on(obj[1], obj[0], 1)\n",
    "        circ += RY(d, [1, 2], f'{name}RY3').on(obj[1], obj[0], 0)\n",
    "        circ += ZYZ(d, f'{name}U8_', obj[0])\n",
    "        circ += Cd(d, f'{name}Cd5_', obj[0], obj[1], 2)\n",
    "        circ += ZYZ(d, f'{name}U9_', obj[0])\n",
    "    else:\n",
    "        raise ValueError('Only works when nq <= 2')\n",
    "    if with_phase:\n",
    "        circ += [GP(d, 'phase').on(i) for i in obj]\n",
    "    return circ"
   ]
  },
  {
   "cell_type": "code",
   "execution_count": 61,
   "metadata": {},
   "outputs": [
    {
     "name": "stdout",
     "output_type": "stream",
     "text": [
      "  0 RZ(3 [1 2] mat_U1_RZ12_0|0)\n",
      "  1 RY(3 [1 2] mat_U1_RY12_0|0)\n",
      "  2 RZ(3 [1 2] mat_U1_Rz12_0|0)\n",
      "  3 RZ(3 [0 1] mat_U1_RZ01_1|0)\n",
      "  4 RY(3 [0 1] mat_U1_RY01_1|0)\n",
      "  5 RZ(3 [0 1] mat_U1_Rz01_1|0)\n",
      "  6 RZ(3 [1 2] mat_U1_RZ12_2|0)\n",
      "  7 RY(3 [1 2] mat_U1_RY12_2|0)\n",
      "  8 RZ(3 [1 2] mat_U1_Rz12_2|0)\n",
      "  9 RZ(3 [0 1] mat_Cd1_RZ01|0 <-: 1 - 1)\n",
      " 10 RZ(3 [0 2] mat_Cd1_RZ02|0 <-: 1 - 1)\n",
      " 11 GP(3 mat_Cd1_phase|0 <-: 1 - 1)\n",
      " 12 RZ(3 [1 2] mat_U2_RZ12_0|0)\n",
      " 13 RY(3 [1 2] mat_U2_RY12_0|0)\n",
      " 14 RZ(3 [1 2] mat_U2_Rz12_0|0)\n",
      " 15 RZ(3 [0 1] mat_U2_RZ01_1|0)\n",
      " 16 RY(3 [0 1] mat_U2_RY01_1|0)\n",
      " 17 RZ(3 [0 1] mat_U2_Rz01_1|0)\n",
      " 18 RZ(3 [1 2] mat_U2_RZ12_2|0)\n",
      " 19 RY(3 [1 2] mat_U2_RY12_2|0)\n",
      " 20 RZ(3 [1 2] mat_U2_Rz12_2|0)\n",
      " 21 RZ(3 [0 1] mat_Cd2_RZ01|0 <-: 1 - 2)\n",
      " 22 RZ(3 [0 2] mat_Cd2_RZ02|0 <-: 1 - 2)\n",
      " 23 GP(3 mat_Cd2_phase|0 <-: 1 - 2)\n",
      " 24 RZ(3 [1 2] mat_U3_RZ12_0|0)\n",
      " 25 RY(3 [1 2] mat_U3_RY12_0|0)\n",
      " 26 RZ(3 [1 2] mat_U3_Rz12_0|0)\n",
      " 27 RZ(3 [0 1] mat_U3_RZ01_1|0)\n",
      " 28 RY(3 [0 1] mat_U3_RY01_1|0)\n",
      " 29 RZ(3 [0 1] mat_U3_Rz01_1|0)\n",
      " 30 RZ(3 [1 2] mat_U3_RZ12_2|0)\n",
      " 31 RY(3 [1 2] mat_U3_RY12_2|0)\n",
      " 32 RZ(3 [1 2] mat_U3_Rz12_2|0)\n",
      " 33 RY(3 [1 2] mat_RY1|1 <-: 0 - 2)\n",
      " 34 RY(3 [1 2] mat_RY1|1 <-: 0 - 1)\n",
      " 35 RY(3 [1 2] mat_RY1|1 <-: 0 - 0)\n",
      " 36 RZ(3 [1 2] mat_U4_RZ12_0|0)\n",
      " 37 RY(3 [1 2] mat_U4_RY12_0|0)\n",
      " 38 RZ(3 [1 2] mat_U4_Rz12_0|0)\n",
      " 39 RZ(3 [0 1] mat_U4_RZ01_1|0)\n",
      " 40 RY(3 [0 1] mat_U4_RY01_1|0)\n",
      " 41 RZ(3 [0 1] mat_U4_Rz01_1|0)\n",
      " 42 RZ(3 [1 2] mat_U4_RZ12_2|0)\n",
      " 43 RY(3 [1 2] mat_U4_RY12_2|0)\n",
      " 44 RZ(3 [1 2] mat_U4_Rz12_2|0)\n",
      " 45 RZ(3 [0 1] mat_Cd3_RZ01|0 <-: 1 - 2)\n",
      " 46 RZ(3 [0 2] mat_Cd3_RZ02|0 <-: 1 - 2)\n",
      " 47 GP(3 mat_Cd3_phase|0 <-: 1 - 2)\n",
      " 48 RZ(3 [1 2] mat_U5_RZ12_0|0)\n",
      " 49 RY(3 [1 2] mat_U5_RY12_0|0)\n",
      " 50 RZ(3 [1 2] mat_U5_Rz12_0|0)\n",
      " 51 RZ(3 [0 1] mat_U5_RZ01_1|0)\n",
      " 52 RY(3 [0 1] mat_U5_RY01_1|0)\n",
      " 53 RZ(3 [0 1] mat_U5_Rz01_1|0)\n",
      " 54 RZ(3 [1 2] mat_U5_RZ12_2|0)\n",
      " 55 RY(3 [1 2] mat_U5_RY12_2|0)\n",
      " 56 RZ(3 [1 2] mat_U5_Rz12_2|0)\n",
      " 57 RY(3 [0 1] mat_RY2|1 <-: 0 - 2)\n",
      " 58 RY(3 [0 1] mat_RY2|1 <-: 0 - 1)\n",
      " 59 RY(3 [0 1] mat_RY2|1 <-: 0 - 0)\n",
      " 60 RZ(3 [1 2] mat_U6_RZ12_0|0)\n",
      " 61 RY(3 [1 2] mat_U6_RY12_0|0)\n",
      " 62 RZ(3 [1 2] mat_U6_Rz12_0|0)\n",
      " 63 RZ(3 [0 1] mat_U6_RZ01_1|0)\n",
      " 64 RY(3 [0 1] mat_U6_RY01_1|0)\n",
      " 65 RZ(3 [0 1] mat_U6_Rz01_1|0)\n",
      " 66 RZ(3 [1 2] mat_U6_RZ12_2|0)\n",
      " 67 RY(3 [1 2] mat_U6_RY12_2|0)\n",
      " 68 RZ(3 [1 2] mat_U6_Rz12_2|0)\n",
      " 69 RZ(3 [0 1] mat_Cd4_RZ01|0 <-: 1 - 0)\n",
      " 70 RZ(3 [0 2] mat_Cd4_RZ02|0 <-: 1 - 0)\n",
      " 71 GP(3 mat_Cd4_phase|0 <-: 1 - 0)\n",
      " 72 RZ(3 [1 2] mat_U7_RZ12_0|0)\n",
      " 73 RY(3 [1 2] mat_U7_RY12_0|0)\n",
      " 74 RZ(3 [1 2] mat_U7_Rz12_0|0)\n",
      " 75 RZ(3 [0 1] mat_U7_RZ01_1|0)\n",
      " 76 RY(3 [0 1] mat_U7_RY01_1|0)\n",
      " 77 RZ(3 [0 1] mat_U7_Rz01_1|0)\n",
      " 78 RZ(3 [1 2] mat_U7_RZ12_2|0)\n",
      " 79 RY(3 [1 2] mat_U7_RY12_2|0)\n",
      " 80 RZ(3 [1 2] mat_U7_Rz12_2|0)\n",
      " 81 RY(3 [1 2] mat_RY3|1 <-: 0 - 2)\n",
      " 82 RY(3 [1 2] mat_RY3|1 <-: 0 - 1)\n",
      " 83 RY(3 [1 2] mat_RY3|1 <-: 0 - 0)\n",
      " 84 RZ(3 [1 2] mat_U8_RZ12_0|0)\n",
      " 85 RY(3 [1 2] mat_U8_RY12_0|0)\n",
      " 86 RZ(3 [1 2] mat_U8_Rz12_0|0)\n",
      " 87 RZ(3 [0 1] mat_U8_RZ01_1|0)\n",
      " 88 RY(3 [0 1] mat_U8_RY01_1|0)\n",
      " 89 RZ(3 [0 1] mat_U8_Rz01_1|0)\n",
      " 90 RZ(3 [1 2] mat_U8_RZ12_2|0)\n",
      " 91 RY(3 [1 2] mat_U8_RY12_2|0)\n",
      " 92 RZ(3 [1 2] mat_U8_Rz12_2|0)\n",
      " 93 RZ(3 [0 1] mat_Cd5_RZ01|0 <-: 1 - 2)\n",
      " 94 RZ(3 [0 2] mat_Cd5_RZ02|0 <-: 1 - 2)\n",
      " 95 GP(3 mat_Cd5_phase|0 <-: 1 - 2)\n",
      " 96 RZ(3 [1 2] mat_U9_RZ12_0|0)\n",
      " 97 RY(3 [1 2] mat_U9_RY12_0|0)\n",
      " 98 RZ(3 [1 2] mat_U9_Rz12_0|0)\n",
      " 99 RZ(3 [0 1] mat_U9_RZ01_1|0)\n",
      "100 RY(3 [0 1] mat_U9_RY01_1|0)\n",
      "101 RZ(3 [0 1] mat_U9_Rz01_1|0)\n",
      "102 RZ(3 [1 2] mat_U9_RZ12_2|0)\n",
      "103 RY(3 [1 2] mat_U9_RY12_2|0)\n",
      "104 RZ(3 [1 2] mat_U9_Rz12_2|0)\n",
      "105 GP(3 phase|0)\n",
      "106 GP(3 phase|1)\n",
      "Number of qudits: 2\n",
      "Number of params: 100\n",
      "Number of gates: 107\n",
      "Hamiltonian Dimension: (9, 9)\n"
     ]
    }
   ],
   "source": [
    "d, nq = 3, 2\n",
    "circ = Circuit(d, nq)\n",
    "ansatz = Circuit(d, nq)\n",
    "mat = unitary_group.rvs(d**nq, random_state=42)\n",
    "obj = list(range(nq))\n",
    "gate = UMG(d, mat, name=f'mat').on(obj)\n",
    "circ += gate\n",
    "ansatz += qutrit_ansatz(gate, True)\n",
    "for i, g in enumerate(ansatz.gates):\n",
    "    print('{:3d}'.format(i), g)\n",
    "\n",
    "pr = ansatz.get_parameters()\n",
    "g_num = len(ansatz.gates)\n",
    "p_num = len(pr)\n",
    "print('Number of qudits: %d' % nq)\n",
    "print('Number of params: %d' % p_num)\n",
    "print('Number of gates: %d' % g_num)\n",
    "\n",
    "psi = circ.get_qs(endian_reverse=True)\n",
    "rho = np.outer(psi, psi.conj())\n",
    "print('Hamiltonian Dimension:', rho.shape)\n",
    "Ham = [(1, UMG(d, rho).on(obj))]\n",
    "expect = Expectation(Ham)"
   ]
  },
  {
   "cell_type": "code",
   "execution_count": 57,
   "metadata": {},
   "outputs": [
    {
     "data": {
      "text/plain": [
       "array([ 0.15954476+0.11470468j,  0.17427048+0.03118134j, -0.29165765-0.07534947j,  0.12067434+0.08272528j,  0.06708706-0.3753798j , -0.23121421-0.31816062j,  0.33115741+0.49783948j, -0.38422199+0.08347445j, -0.01150734+0.07459997j])"
      ]
     },
     "execution_count": 57,
     "metadata": {},
     "output_type": "execute_result"
    }
   ],
   "source": [
    "psi0 = np.zeros(9)\n",
    "psi0[0] = 1\n",
    "mat @ psi0"
   ]
  },
  {
   "cell_type": "code",
   "execution_count": 60,
   "metadata": {},
   "outputs": [
    {
     "data": {
      "text/plain": [
       "array([ 0.15954476+0.11470468j,  0.17427048+0.03118134j, -0.29165765-0.07534947j,  0.12067434+0.08272528j,  0.06708706-0.3753798j , -0.23121421-0.31816062j,  0.33115741+0.49783948j, -0.38422199+0.08347445j, -0.01150734+0.07459997j])"
      ]
     },
     "execution_count": 60,
     "metadata": {},
     "output_type": "execute_result"
    }
   ],
   "source": [
    "psi = circ.get_qs(endian_reverse=True)\n",
    "psi"
   ]
  },
  {
   "cell_type": "code",
   "execution_count": 66,
   "metadata": {},
   "outputs": [
    {
     "name": "stdout",
     "output_type": "stream",
     "text": [
      "[[ 0.15954476+0.11470468j -0.06103561+0.39748719j  0.35366995+0.0241016j   0.51848236-0.17040294j  0.09154356-0.09661222j  0.00251148+0.12965336j  0.32082762+0.03723391j  0.03906598-0.02118671j -0.47704032-0.08804991j]\n",
      " [ 0.17427048+0.03118134j -0.11656296+0.27828594j  0.02472758-0.09278033j  0.12259524-0.21456561j -0.40581082-0.07250741j -0.52954083-0.35859401j -0.43220594+0.06974023j  0.02890947-0.12278077j  0.112041  -0.09092448j]\n",
      " [-0.29165765-0.07534947j -0.32234964-0.41684445j  0.02047276-0.1451303j   0.12267488+0.00546674j -0.01424259-0.17246723j -0.29985217+0.00951082j  0.01013678+0.32603134j -0.03580743+0.03965181j -0.316844  +0.51520425j]\n",
      " [ 0.12067434+0.08272528j -0.1638045 +0.01528112j -0.02596774-0.42055175j  0.11850007-0.06701917j  0.43053669+0.02593006j  0.06047641+0.35328226j -0.52880273-0.00828177j  0.32873943+0.21876952j  0.05052043-0.05266853j]\n",
      " [ 0.06708706-0.3753798j  -0.36879162+0.28566322j -0.37522101+0.10404462j -0.12648422-0.04316762j  0.29023162-0.09856455j -0.11408009+0.00419731j -0.04980717-0.27209269j -0.48092374+0.11662662j -0.19640804-0.02321301j]\n",
      " [-0.23121421-0.31816062j -0.02959037-0.20127606j  0.03793486-0.18136517j  0.21730111-0.0048208j  -0.38461878-0.39660972j  0.02343095+0.43103862j  0.00573655-0.23917228j -0.08080568-0.1130273j   0.11575613-0.37528135j]\n",
      " [ 0.33115741+0.49783948j  0.09622137-0.09261697j  0.05410066+0.13679794j -0.08436478+0.17779801j -0.07660124-0.27261701j  0.05435022+0.31239716j -0.29446256-0.00349759j -0.46440243-0.21108335j -0.09871878+0.1638863j ]\n",
      " [-0.38422199+0.08347445j  0.1667227 +0.08682106j  0.18362549-0.23440238j  0.19222719-0.20307669j  0.31113848-0.03289931j  0.09980905-0.19010254j -0.05033211+0.28763291j -0.54338215-0.0200385j   0.32778744-0.10416449j]\n",
      " [-0.01150734+0.07459997j  0.35453566+0.06819j    -0.57458834-0.19923205j  0.54218978+0.36257771j -0.05902729+0.12498937j -0.08597916-0.04794429j  0.04864219-0.09906324j -0.04709448+0.03203765j -0.0099639 +0.15607272j]]\n"
     ]
    }
   ],
   "source": [
    "print(mat)"
   ]
  },
  {
   "cell_type": "code",
   "execution_count": 65,
   "metadata": {},
   "outputs": [
    {
     "name": "stdout",
     "output_type": "stream",
     "text": [
      "[[[ 0.15954476+0.11470468j -0.06103561+0.39748719j  0.35366995+0.0241016j   0.51848236-0.17040294j  0.09154356-0.09661222j  0.00251148+0.12965336j  0.32082762+0.03723391j  0.03906598-0.02118671j -0.47704032-0.08804991j]\n",
      "  [ 0.12067434+0.08272528j -0.1638045 +0.01528112j -0.02596774-0.42055175j  0.11850007-0.06701917j  0.43053669+0.02593006j  0.06047641+0.35328226j -0.52880273-0.00828177j  0.32873943+0.21876952j  0.05052043-0.05266853j]\n",
      "  [ 0.33115741+0.49783948j  0.09622137-0.09261697j  0.05410066+0.13679794j -0.08436478+0.17779801j -0.07660124-0.27261701j  0.05435022+0.31239716j -0.29446256-0.00349759j -0.46440243-0.21108335j -0.09871878+0.1638863j ]]\n",
      "\n",
      " [[ 0.17427048+0.03118134j -0.11656296+0.27828594j  0.02472758-0.09278033j  0.12259524-0.21456561j -0.40581082-0.07250741j -0.52954083-0.35859401j -0.43220594+0.06974023j  0.02890947-0.12278077j  0.112041  -0.09092448j]\n",
      "  [ 0.06708706-0.3753798j  -0.36879162+0.28566322j -0.37522101+0.10404462j -0.12648422-0.04316762j  0.29023162-0.09856455j -0.11408009+0.00419731j -0.04980717-0.27209269j -0.48092374+0.11662662j -0.19640804-0.02321301j]\n",
      "  [-0.38422199+0.08347445j  0.1667227 +0.08682106j  0.18362549-0.23440238j  0.19222719-0.20307669j  0.31113848-0.03289931j  0.09980905-0.19010254j -0.05033211+0.28763291j -0.54338215-0.0200385j   0.32778744-0.10416449j]]\n",
      "\n",
      " [[-0.29165765-0.07534947j -0.32234964-0.41684445j  0.02047276-0.1451303j   0.12267488+0.00546674j -0.01424259-0.17246723j -0.29985217+0.00951082j  0.01013678+0.32603134j -0.03580743+0.03965181j -0.316844  +0.51520425j]\n",
      "  [-0.23121421-0.31816062j -0.02959037-0.20127606j  0.03793486-0.18136517j  0.21730111-0.0048208j  -0.38461878-0.39660972j  0.02343095+0.43103862j  0.00573655-0.23917228j -0.08080568-0.1130273j   0.11575613-0.37528135j]\n",
      "  [-0.01150734+0.07459997j  0.35453566+0.06819j    -0.57458834-0.19923205j  0.54218978+0.36257771j -0.05902729+0.12498937j -0.08597916-0.04794429j  0.04864219-0.09906324j -0.04709448+0.03203765j -0.0099639 +0.15607272j]]]\n"
     ]
    }
   ],
   "source": [
    "print(circ.matrix())"
   ]
  },
  {
   "cell_type": "code",
   "execution_count": 62,
   "metadata": {},
   "outputs": [
    {
     "name": "stdout",
     "output_type": "stream",
     "text": [
      "Loss: 0.982170080039227, Fidelity: 0.017829919960773,   0, 0.0691\n",
      "Loss: 0.841614823967881, Fidelity: 0.158385176032119,  10, 0.6698\n",
      "Loss: 0.803239089873358, Fidelity: 0.196760910126642,  20, 1.2911\n",
      "Loss: 0.760274777641424, Fidelity: 0.239725222358576,  30, 1.8994\n",
      "Loss: 0.712912375916501, Fidelity: 0.287087624083499,  40, 2.5144\n",
      "Loss: 0.649353872617932, Fidelity: 0.350646127382068,  50, 3.1193\n",
      "Loss: 0.573783395092084, Fidelity: 0.426216604907916,  60, 3.7148\n",
      "Loss: 0.495815738316319, Fidelity: 0.504184261683681,  70, 4.3178\n",
      "Loss: 0.416893311329301, Fidelity: 0.583106688670699,  80, 4.9214\n",
      "Loss: 0.340077910824672, Fidelity: 0.659922089175328,  90, 5.5314\n",
      "Loss: 0.270000297668807, Fidelity: 0.729999702331193, 100, 6.1426\n",
      "Loss: 0.209064359545718, Fidelity: 0.790935640454282, 110, 6.7531\n",
      "Loss: 0.158504669823726, Fidelity: 0.841495330176274, 120, 7.3577\n",
      "Loss: 0.118033428035369, Fidelity: 0.881966571964631, 130, 8.0478\n",
      "Loss: 0.086379601227883, Fidelity: 0.913620398772117, 140, 8.7671\n",
      "Loss: 0.061937418129091, Fidelity: 0.938062581870909, 150, 9.5306\n",
      "Loss: 0.043335666309647, Fidelity: 0.956664333690353, 160, 10.2633\n",
      "Loss: 0.029510625344127, Fidelity: 0.970489374655873, 170, 11.0489\n",
      "Loss: 0.019539173203894, Fidelity: 0.980460826796106, 180, 11.8076\n",
      "Loss: 0.012569199151817, Fidelity: 0.987430800848183, 190, 12.5474\n",
      "Loss: 0.007847425094352, Fidelity: 0.992152574905648, 200, 13.2914\n",
      "Loss: 0.004751859689507, Fidelity: 0.995248140310493, 210, 14.0048\n",
      "Loss: 0.002789970606139, Fidelity: 0.997210029393861, 220, 14.7349\n",
      "Loss: 0.001588084172905, Fidelity: 0.998411915827095, 230, 15.4505\n",
      "Loss: 0.000876430794221, Fidelity: 0.999123569205779, 240, 16.1564\n",
      "Loss: 0.000468977014529, Fidelity: 0.999531022985471, 250, 16.8916\n",
      "Loss: 0.000243317863224, Fidelity: 0.999756682136776, 260, 17.7775\n",
      "Loss: 0.000122326334238, Fidelity: 0.999877673665762, 270, 18.5652\n",
      "Loss: 0.000059563983288, Fidelity: 0.999940436016712, 280, 19.3149\n",
      "Loss: 0.000028160226886, Fidelity: 0.999971839773114, 290, 20.0680\n",
      "Loss: 0.000013207998863, Fidelity: 0.999986792001137, 300, 20.8024\n",
      "Loss: 0.000005270696745, Fidelity: 0.999994729303255, 310, 21.5308\n",
      "Loss: 0.000002175914777, Fidelity: 0.999997824085223, 320, 22.2650\n",
      "Loss: 0.000001044275602, Fidelity: 0.999998955724398, 330, 22.9852\n",
      "Loss: 0.000000134381832, Fidelity: 0.999999865618168, 340, 23.6995\n",
      "Loss: 0.000000332572053, Fidelity: 0.999999667427947, 350, 24.4333\n",
      "Loss: 0.000000008553798, Fidelity: 1.000000008553798, 351, 24.5045\n",
      "psi norm: 1.40697864386785620461\n",
      "psi fidelity: 0.01294349288212334401\n",
      "Runtime: 24.540054\n"
     ]
    }
   ],
   "source": [
    "start = time.perf_counter()\n",
    "p0 = np.random.uniform(-1, 1, p_num)\n",
    "target = torch.tensor([1], dtype=DTYPE)\n",
    "ansatz.assign_ansatz_parameters(dict(zip(pr, p0)))\n",
    "optimizer = optim.Adam(ansatz.parameters(), lr=1e-2)\n",
    "for i in range(500):\n",
    "    out = expect(ansatz())\n",
    "    loss = nn.L1Loss()(out, target)\n",
    "    optimizer.zero_grad()\n",
    "    loss.backward()\n",
    "    optimizer.step()\n",
    "    if i % 10 == 0:\n",
    "        t = time.perf_counter() - start\n",
    "        print('Loss: %.15f, Fidelity: %.15f, %3d, %.4f' % (loss, out, i, t))\n",
    "    if loss < 1e-8:\n",
    "        break\n",
    "t = time.perf_counter() - start\n",
    "print('Loss: %.15f, Fidelity: %.15f, %3d, %.4f' % (loss, out, i, t))\n",
    "\n",
    "pr_res = ansatz.get_parameters()\n",
    "psi_res = ansatz.get_qs(pr_res)\n",
    "print('psi norm: %.20f' % norm(psi - psi_res, 2))\n",
    "print('psi fidelity: %.20f' % fidelity(psi, psi_res))\n",
    "\n",
    "end = time.perf_counter()\n",
    "print('Runtime: %f' % (end - start))"
   ]
  },
  {
   "cell_type": "code",
   "execution_count": 63,
   "metadata": {},
   "outputs": [
    {
     "name": "stdout",
     "output_type": "stream",
     "text": [
      "psi norm: 1.40697864386785620461\n",
      "psi fidelity: 0.01294349288212334401\n"
     ]
    },
    {
     "data": {
      "text/plain": [
       "tensor([0.0002], dtype=torch.float64, grad_fn=<StackBackward0>)"
      ]
     },
     "execution_count": 63,
     "metadata": {},
     "output_type": "execute_result"
    }
   ],
   "source": [
    "psi_res = ansatz.get_qs(pr_res)\n",
    "print('psi norm: %.20f' % norm(psi - psi_res, 2))\n",
    "print('psi fidelity: %.20f' % fidelity(psi, psi_res))\n",
    "expect(ansatz())"
   ]
  }
 ],
 "metadata": {
  "kernelspec": {
   "display_name": "Python 3",
   "language": "python",
   "name": "python3"
  },
  "language_info": {
   "codemirror_mode": {
    "name": "ipython",
    "version": 3
   },
   "file_extension": ".py",
   "mimetype": "text/x-python",
   "name": "python",
   "nbconvert_exporter": "python",
   "pygments_lexer": "ipython3",
   "version": "3.9.13"
  }
 },
 "nbformat": 4,
 "nbformat_minor": 2
}
