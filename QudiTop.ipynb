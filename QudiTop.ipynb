{
 "cells": [
  {
   "cell_type": "code",
   "execution_count": 1,
   "metadata": {},
   "outputs": [],
   "source": [
    "import time\n",
    "import torch\n",
    "import numpy as np\n",
    "import torch.nn as nn\n",
    "from torch import optim\n",
    "from utils import fidelity\n",
    "from QudiTop.gates import *\n",
    "from numpy.linalg import norm\n",
    "from QudiTop.circuit import Circuit\n",
    "from QudiTop.global_var import DTYPE\n",
    "from scipy.stats import unitary_group\n",
    "from QudiTop.expectation import Expectation\n",
    "\n",
    "np.set_printoptions(linewidth=200)\n",
    "torch.set_printoptions(linewidth=200)"
   ]
  },
  {
   "cell_type": "code",
   "execution_count": 73,
   "metadata": {},
   "outputs": [
    {
     "name": "stdout",
     "output_type": "stream",
     "text": [
      "[[-0.22484513-0.49129552j -0.45464873+0.70807344j  0.        +0.j        ]\n",
      " [ 0.45464873+0.70807344j -0.22484513+0.49129552j  0.        +0.j        ]\n",
      " [ 0.        +0.j          0.        +0.j          1.        +0.j        ]]\n"
     ]
    }
   ],
   "source": [
    "d = 3\n",
    "circ = Circuit(d, 1) + RZ(d, [0, 1], 1).on(0) + RY(d, [0, 1], 2).on(0) + RZ(d, [0, 1], 3).on(0)\n",
    "print(circ.matrix())"
   ]
  },
  {
   "cell_type": "code",
   "execution_count": 67,
   "metadata": {},
   "outputs": [
    {
     "name": "stdout",
     "output_type": "stream",
     "text": [
      "[[ 1.          0.          0.          0.          0.          0.          0.          0.          0.        ]\n",
      " [ 0.          1.          0.          0.          0.          0.          0.          0.          0.        ]\n",
      " [ 0.          0.          1.          0.          0.          0.          0.          0.          0.        ]\n",
      " [ 0.          0.          0.          1.          0.          0.          0.          0.          0.        ]\n",
      " [ 0.          0.          0.          0.          1.          0.          0.          0.          0.        ]\n",
      " [ 0.          0.          0.          0.          0.          1.          0.          0.          0.        ]\n",
      " [ 0.          0.          0.          0.          0.          0.         -0.22484513  0.         -0.0595233 ]\n",
      " [ 0.          0.          0.          0.          0.          0.          0.         -0.41614684  0.        ]\n",
      " [ 0.          0.          0.          0.          0.          0.          0.73846024  0.          0.54030234]]\n",
      "[[ 0.          0.          0.          0.          0.          0.          0.          0.          0.        ]\n",
      " [ 0.          0.          0.          0.          0.          0.          0.          0.          0.        ]\n",
      " [ 0.          0.          0.          0.          0.          0.          0.          0.          0.        ]\n",
      " [ 0.          0.          0.          0.          0.          0.          0.          0.          0.        ]\n",
      " [ 0.          0.          0.          0.          0.          0.          0.          0.          0.        ]\n",
      " [ 0.          0.          0.          0.          0.          0.          0.          0.          0.        ]\n",
      " [ 0.          0.          0.          0.          0.          0.         -0.49129552  0.          0.8393631 ]\n",
      " [ 0.          0.          0.          0.          0.          0.          0.          0.90929741  0.        ]\n",
      " [ 0.          0.          0.          0.          0.          0.         -0.40342268  0.          0.        ]]\n"
     ]
    }
   ],
   "source": [
    "d, m = 3, 2\n",
    "circ = Circuit(d, 2) + RZ(d, [0, 1], 1).on(0, 1, m) + RY(d, [0, 2], 2).on(0, 1, m) + RZ(d, [0, 1], 3).on(0, 1, m)\n",
    "print(circ.matrix().real)\n",
    "print(circ.matrix().imag)"
   ]
  },
  {
   "cell_type": "code",
   "execution_count": 59,
   "metadata": {},
   "outputs": [
    {
     "name": "stdout",
     "output_type": "stream",
     "text": [
      "tensor([[0.8776-0.4794j, 0.0000+0.0000j, 0.0000+0.0000j],\n",
      "        [0.0000+0.0000j, 0.8776+0.4794j, 0.0000+0.0000j],\n",
      "        [0.0000+0.0000j, 0.0000+0.0000j, 1.0000+0.0000j]])\n",
      "tensor([[0.5403-0.8415j, 0.0000+0.0000j, 0.0000+0.0000j],\n",
      "        [0.0000+0.0000j, 1.0000+0.0000j, 0.0000+0.0000j],\n",
      "        [0.0000+0.0000j, 0.0000+0.0000j, 0.5403+0.8415j]])\n",
      "[[-0.21079582+0.97753018j  0.        +0.j          0.        +0.j          0.        +0.j          0.        +0.j          0.        +0.j          0.        +0.j          0.        +0.j\n",
      "   0.        +0.j        ]\n",
      " [ 0.        +0.j         -0.80114365-0.59847218j  0.        +0.j          0.        +0.j          0.        +0.j          0.        +0.j          0.        +0.j          0.        +0.j\n",
      "   0.        +0.j        ]\n",
      " [ 0.        +0.j          0.        +0.j         -0.41614687-0.90929741j  0.        +0.j          0.        +0.j          0.        +0.j          0.        +0.j          0.        +0.j\n",
      "   0.        +0.j        ]\n",
      " [ 0.        +0.j          0.        +0.j          0.        +0.j          1.        +0.j          0.        +0.j          0.        +0.j          0.        +0.j          0.        +0.j\n",
      "   0.        +0.j        ]\n",
      " [ 0.        +0.j          0.        +0.j          0.        +0.j          0.        +0.j          1.        +0.j          0.        +0.j          0.        +0.j          0.        +0.j\n",
      "   0.        +0.j        ]\n",
      " [ 0.        +0.j          0.        +0.j          0.        +0.j          0.        +0.j          0.        +0.j          1.        +0.j          0.        +0.j          0.        +0.j\n",
      "   0.        +0.j        ]\n",
      " [ 0.        +0.j          0.        +0.j          0.        +0.j          0.        +0.j          0.        +0.j          0.        +0.j          1.        +0.j          0.        +0.j\n",
      "   0.        +0.j        ]\n",
      " [ 0.        +0.j          0.        +0.j          0.        +0.j          0.        +0.j          0.        +0.j          0.        +0.j          0.        +0.j          1.        +0.j\n",
      "   0.        +0.j        ]\n",
      " [ 0.        +0.j          0.        +0.j          0.        +0.j          0.        +0.j          0.        +0.j          0.        +0.j          0.        +0.j          0.        +0.j\n",
      "   1.        +0.j        ]]\n"
     ]
    }
   ],
   "source": [
    "d, m = 3, 0\n",
    "circ = Circuit(d, 2)\n",
    "\n",
    "a = 1\n",
    "ind = [0, 1]\n",
    "circ = circ + RZ(d, ind, a).on(0, 1, m)\n",
    "print(RZ(d, ind, a).matrix())\n",
    "# print(circ.matrix())\n",
    "\n",
    "b = 2\n",
    "ind = [0, 2]\n",
    "circ = circ + RZ(d, ind, b).on(0, 1, m)\n",
    "print(RZ(d, ind, b).matrix())\n",
    "# print(circ.matrix())\n",
    "\n",
    "circ += GP(d, 3).on(0, 1, m)\n",
    "print(circ.matrix())"
   ]
  },
  {
   "cell_type": "code",
   "execution_count": 58,
   "metadata": {},
   "outputs": [
    {
     "name": "stdout",
     "output_type": "stream",
     "text": [
      "tensor([[0.8776-0.4794j, 0.0000+0.0000j, 0.0000+0.0000j],\n",
      "        [0.0000+0.0000j, 0.8776+0.4794j, 0.0000+0.0000j],\n",
      "        [0.0000+0.0000j, 0.0000+0.0000j, 1.0000+0.0000j]])\n",
      "tensor([[0.5403-0.8415j, 0.0000+0.0000j, 0.0000+0.0000j],\n",
      "        [0.0000+0.0000j, 1.0000+0.0000j, 0.0000+0.0000j],\n",
      "        [0.0000+0.0000j, 0.0000+0.0000j, 0.5403+0.8415j]])\n",
      "[[-0.21079573+0.97753024j  0.        +0.j          0.        +0.j          0.        +0.j          0.        +0.j          0.        +0.j          0.        +0.j          0.        +0.j\n",
      "   0.        +0.j        ]\n",
      " [ 0.        +0.j         -0.80114365-0.59847218j  0.        +0.j          0.        +0.j          0.        +0.j          0.        +0.j          0.        +0.j          0.        +0.j\n",
      "   0.        +0.j        ]\n",
      " [ 0.        +0.j          0.        +0.j         -0.41614679-0.90929747j  0.        +0.j          0.        +0.j          0.        +0.j          0.        +0.j          0.        +0.j\n",
      "   0.        +0.j        ]\n",
      " [ 0.        +0.j          0.        +0.j          0.        +0.j          1.        +0.j          0.        +0.j          0.        +0.j          0.        +0.j          0.        +0.j\n",
      "   0.        +0.j        ]\n",
      " [ 0.        +0.j          0.        +0.j          0.        +0.j          0.        +0.j          1.        +0.j          0.        +0.j          0.        +0.j          0.        +0.j\n",
      "   0.        +0.j        ]\n",
      " [ 0.        +0.j          0.        +0.j          0.        +0.j          0.        +0.j          0.        +0.j          1.        +0.j          0.        +0.j          0.        +0.j\n",
      "   0.        +0.j        ]\n",
      " [ 0.        +0.j          0.        +0.j          0.        +0.j          0.        +0.j          0.        +0.j          0.        +0.j          1.        +0.j          0.        +0.j\n",
      "   0.        +0.j        ]\n",
      " [ 0.        +0.j          0.        +0.j          0.        +0.j          0.        +0.j          0.        +0.j          0.        +0.j          0.        +0.j          1.        +0.j\n",
      "   0.        +0.j        ]\n",
      " [ 0.        +0.j          0.        +0.j          0.        +0.j          0.        +0.j          0.        +0.j          0.        +0.j          0.        +0.j          0.        +0.j\n",
      "   1.        +0.j        ]]\n"
     ]
    }
   ],
   "source": [
    "d, m = 3, 0\n",
    "circ = Circuit(d, 2)\n",
    "\n",
    "a = 1\n",
    "ind = [0, 1]\n",
    "circ = circ + RZ(d, ind, a / 2).on(0) + X(d, ind).on(0, 1, m) + RZ(d, ind, -a / 2).on(0) + X(d, ind).on(0, 1, m)\n",
    "print(RZ(d, ind, a).matrix())\n",
    "# print(circ.matrix())\n",
    "\n",
    "b = 2\n",
    "ind = [0, 2]\n",
    "circ = circ + RZ(d, ind, b / 2).on(0) + X(d, ind).on(0, 1, m) + RZ(d, ind, -b / 2).on(0) + X(d, ind).on(0, 1, m)\n",
    "print(RZ(d, ind, b).matrix())\n",
    "# print(circ.matrix())\n",
    "\n",
    "circ += GP(d, 3).on(0, 1, m)\n",
    "print(circ.matrix())"
   ]
  },
  {
   "cell_type": "code",
   "execution_count": 19,
   "metadata": {},
   "outputs": [
    {
     "name": "stdout",
     "output_type": "stream",
     "text": [
      "Circuit(\n",
      "  (gates): ModuleList(\n",
      "    (0): RY(3 [1 2] π/2|1 <-: 0 - 2)\n",
      "    (1): RY(3 [1 2] π/3|1 <-: 0 - 1)\n",
      "    (2): RY(3 [1 2] π/4|1 <-: 0 - 0)\n",
      "  )\n",
      ")\n",
      "[[ 1.        +0.j  0.        +0.j  0.        +0.j  0.        +0.j  0.        +0.j  0.        +0.j  0.        +0.j  0.        +0.j  0.        +0.j]\n",
      " [ 0.        +0.j  1.        +0.j  0.        +0.j  0.        +0.j  0.        +0.j  0.        +0.j  0.        +0.j  0.        +0.j  0.        +0.j]\n",
      " [ 0.        +0.j  0.        +0.j  1.        +0.j  0.        +0.j  0.        +0.j  0.        +0.j  0.        +0.j  0.        +0.j  0.        +0.j]\n",
      " [ 0.        +0.j  0.        +0.j  0.        +0.j  0.9238795 +0.j  0.        +0.j  0.        +0.j -0.38268346+0.j  0.        +0.j  0.        +0.j]\n",
      " [ 0.        +0.j  0.        +0.j  0.        +0.j  0.        +0.j  0.86602539+0.j  0.        +0.j  0.        +0.j -0.5       +0.j  0.        +0.j]\n",
      " [ 0.        +0.j  0.        +0.j  0.        +0.j  0.        +0.j  0.        +0.j  0.70710677+0.j  0.        +0.j  0.        +0.j -0.70710677+0.j]\n",
      " [ 0.        +0.j  0.        +0.j  0.        +0.j  0.38268346+0.j  0.        +0.j  0.        +0.j  0.9238795 +0.j  0.        +0.j  0.        +0.j]\n",
      " [ 0.        +0.j  0.        +0.j  0.        +0.j  0.        +0.j  0.5       +0.j  0.        +0.j  0.        +0.j  0.86602539+0.j  0.        +0.j]\n",
      " [ 0.        +0.j  0.        +0.j  0.        +0.j  0.        +0.j  0.        +0.j  0.70710677+0.j  0.        +0.j  0.        +0.j  0.70710677+0.j]]\n"
     ]
    }
   ],
   "source": [
    "d, nq = 3, 2\n",
    "circ = Circuit(d, nq)\n",
    "for i in range(d):\n",
    "    circ += RY(d, [1, 2], np.pi / (2 + i)).on(1, 0, d - i - 1)\n",
    "print(circ)\n",
    "print(circ.matrix())"
   ]
  },
  {
   "cell_type": "code",
   "execution_count": 3,
   "metadata": {},
   "outputs": [
    {
     "name": "stdout",
     "output_type": "stream",
     "text": [
      "Circuit(\n",
      "  (gates): ModuleList(\n",
      "    (0): RZ(3 [0 2] mat_RZ02_0|0)\n",
      "    (1): RY(3 [0 2] mat_RY02_0|0)\n",
      "    (2): RZ(3 [0 2] mat_Rz02_0|0)\n",
      "    (3): RZ(3 [1 2] mat_RZ12_1|0)\n",
      "    (4): RY(3 [1 2] mat_RY12_1|0)\n",
      "    (5): RZ(3 [1 2] mat_Rz12_1|0)\n",
      "    (6): RZ(3 [0 2] mat_RZ02_2|0)\n",
      "    (7): RY(3 [0 2] mat_RY02_2|0)\n",
      "    (8): RZ(3 [0 2] mat_Rz02_2|0)\n",
      "  )\n",
      ")\n",
      "Number of qudits: 1\n",
      "Number of params: 9\n",
      "Number of gates: 9\n",
      "Hamiltonian Dimension: (3, 3)\n"
     ]
    }
   ],
   "source": [
    "def Cd(d, pr, state, obj, ctrl):\n",
    "    if d != 3:\n",
    "        raise ValueError('Only works when d = 3')\n",
    "    if state < 0 or state >= d:\n",
    "        raise ValueError(f'¦{state}⟩ control state should in 0 to {d-1}')\n",
    "    circ = Circuit(d, nq)\n",
    "    circ += RZ(d, [0, 1], f'{pr}RZ01').on(obj)\n",
    "    circ += X(d, [0, 1]).on(obj, ctrl, state)\n",
    "    circ += RZ(d, [0, 1], f'{pr}-RZ01').on(obj)\n",
    "    circ += X(d, [0, 1]).on(obj, ctrl, state)\n",
    "    circ += RZ(d, [0, 2], f'{pr}RZ02').on(obj)\n",
    "    circ += X(d, [0, 2]).on(obj, ctrl, state)\n",
    "    circ += RZ(d, [0, 2], f'{pr}-RZ02').on(obj)\n",
    "    circ += X(d, [0, 2]).on(obj, ctrl, state)\n",
    "    circ += GP(d, f'{pr}phase_obj').on(obj)\n",
    "    circ += GP(d, f'{pr}phase_ctrl').on(ctrl)\n",
    "    return circ\n",
    "\n",
    "\n",
    "def qutrit_ansatz(gate: UMG, with_phase: bool = False):\n",
    "    obj = gate.obj_qudits\n",
    "    name = f'{gate.name}_'\n",
    "    circ = Circuit(d, nq)\n",
    "    index = [[0, 2], [1, 2], [0, 2]]\n",
    "    if len(obj) == 1:\n",
    "        for i, ind in enumerate(index):\n",
    "            str_pr = f'{\"\".join(str(i) for i in ind)}_{i}'\n",
    "            circ += RZ(d, ind, f'{name}RZ{str_pr}').on(obj[0])\n",
    "            circ += RY(d, ind, f'{name}RY{str_pr}').on(obj[0])\n",
    "            circ += RZ(d, ind, f'{name}Rz{str_pr}').on(obj[0])\n",
    "    elif len(obj) == 2:\n",
    "        circ += qutrit_ansatz(UMG(d, np.eye(d), name=f'{name}U1').on(obj[1]))\n",
    "        circ += Cd(d, f'{name}Cd1', 1, obj[1], obj[0])\n",
    "        circ += qutrit_ansatz(UMG(d, np.eye(d), name=f'{name}U2').on(obj[1]))\n",
    "        circ += Cd(d, f'{name}Cd2', 2, obj[1], obj[0])\n",
    "        circ += qutrit_ansatz(UMG(d, np.eye(d), name=f'{name}U3').on(obj[1]))\n",
    "        circ += RY(d, [1, 2], f'{name}RY1').on(obj[0], obj[1], 0)\n",
    "        circ += qutrit_ansatz(UMG(d, np.eye(d), name=f'{name}U4').on(obj[1]))\n",
    "        circ += Cd(d, f'{name}Cd3', 2, obj[1], obj[0])\n",
    "        circ += qutrit_ansatz(UMG(d, np.eye(d), name=f'{name}U5').on(obj[1]))\n",
    "        circ += RY(d, [0, 1], f'{name}RY2').on(obj[0], obj[1], 1)\n",
    "        circ += qutrit_ansatz(UMG(d, np.eye(d), name=f'{name}U6').on(obj[1]))\n",
    "        circ += Cd(d, f'{name}Cd4', 0, obj[1], obj[0])\n",
    "        circ += qutrit_ansatz(UMG(d, np.eye(d), name=f'{name}U7').on(obj[1]))\n",
    "        circ += RY(d, [1, 2], f'{name}RY3').on(obj[0], obj[1], 2)\n",
    "        circ += qutrit_ansatz(UMG(d, np.eye(d), name=f'{name}U8').on(obj[1]))\n",
    "        circ += Cd(d, f'{name}Cd5', 2, obj[1], obj[0])\n",
    "        circ += qutrit_ansatz(UMG(d, np.eye(d), name=f'{name}U9').on(obj[1]))\n",
    "    else:\n",
    "        raise ValueError('Only works when nq <= 2')\n",
    "    if with_phase:\n",
    "        circ += [GP(d, 'phase').on(i) for i in obj]\n",
    "    return circ\n",
    "\n",
    "\n",
    "d, nq = 3, 1\n",
    "circ = Circuit(d, nq)\n",
    "ansatz = Circuit(d, nq)\n",
    "mat = unitary_group.rvs(d**nq, random_state=42)\n",
    "obj = list(range(nq))\n",
    "gate = UMG(d, mat, name=f'mat').on(obj)\n",
    "circ += gate\n",
    "ansatz += qutrit_ansatz(gate)\n",
    "print(ansatz)\n",
    "\n",
    "pr = ansatz.get_parameters()\n",
    "g_num = len(ansatz.gates)\n",
    "p_num = len(pr)\n",
    "print('Number of qudits: %d' % nq)\n",
    "print('Number of params: %d' % p_num)\n",
    "print('Number of gates: %d' % g_num)\n",
    "\n",
    "psi = circ.get_qs()\n",
    "rho = np.outer(psi, psi.conj())\n",
    "print('Hamiltonian Dimension:', rho.shape)\n",
    "Ham = [(1, UMG(d, rho).on(obj[::-1]))]\n",
    "expect = Expectation(Ham)"
   ]
  },
  {
   "cell_type": "code",
   "execution_count": 4,
   "metadata": {},
   "outputs": [
    {
     "name": "stdout",
     "output_type": "stream",
     "text": [
      "Loss: 0.917853832244873, Fidelity: 0.082146182656288,   0, 0.8764\n",
      "Loss: 0.536430597305298, Fidelity: 0.463569402694702,  10, 0.9968\n",
      "Loss: 0.459062159061432, Fidelity: 0.540937840938568,  20, 1.1112\n",
      "Loss: 0.248667240142822, Fidelity: 0.751332759857178,  30, 1.2401\n",
      "Loss: 0.005841374397278, Fidelity: 0.994158625602722,  40, 1.3542\n",
      "Loss: 0.029161632061005, Fidelity: 0.970838367938995,  50, 1.4781\n",
      "Loss: 0.003436625003815, Fidelity: 0.996563374996185,  60, 1.5935\n",
      "Loss: 0.001842975616455, Fidelity: 0.998157024383545,  70, 1.7143\n",
      "Loss: 0.001288652420044, Fidelity: 0.998711347579956,  80, 1.8292\n",
      "Loss: 0.000018060207367, Fidelity: 0.999981939792633,  90, 1.9383\n",
      "Loss: 0.000105857849121, Fidelity: 0.999894142150879, 100, 2.0492\n",
      "Loss: 0.000063002109528, Fidelity: 0.999936997890472, 110, 2.1647\n",
      "Loss: 0.000005006790161, Fidelity: 0.999994993209839, 120, 2.2924\n",
      "Loss: 0.000002026557922, Fidelity: 0.999997973442078, 130, 2.4095\n",
      "Loss: 0.000002622604370, Fidelity: 0.999997377395630, 140, 2.5286\n",
      "Loss: 0.000001072883606, Fidelity: 0.999998927116394, 150, 2.6407\n",
      "Loss: 0.000000000000000, Fidelity: 1.000000000000000, 160, 2.7586\n",
      "Loss: 0.000000000000000, Fidelity: 1.000000000000000, 160, 2.7592\n",
      "psi norm: 1.14426314830780029297\n",
      "psi fidelity: 1.00000000000000000000\n"
     ]
    }
   ],
   "source": [
    "start = time.perf_counter()\n",
    "p0 = np.random.uniform(-1, 1, p_num)\n",
    "target = torch.tensor([1], dtype=DTYPE)\n",
    "ansatz.assign_ansatz_parameters(dict(zip(pr, p0)))\n",
    "optimizer = optim.Adam(ansatz.parameters(), lr=1e-1)\n",
    "for i in range(1000):\n",
    "    out = expect(ansatz())\n",
    "    loss = nn.L1Loss()(out, target)\n",
    "    optimizer.zero_grad()\n",
    "    loss.backward()\n",
    "    optimizer.step()\n",
    "    if i % 10 == 0:\n",
    "        t = time.perf_counter() - start\n",
    "        print('Loss: %.15f, Fidelity: %.15f, %3d, %.4f' % (loss, out, i, t))\n",
    "    if loss < 1e-8:\n",
    "        break\n",
    "t = time.perf_counter() - start\n",
    "print('Loss: %.15f, Fidelity: %.15f, %3d, %.4f' % (loss, out, i, t))\n",
    "\n",
    "pr_res = ansatz.get_parameters()\n",
    "psi_res = ansatz.get_qs(pr_res)\n",
    "print('psi norm: %.20f' % norm(psi - psi_res, 2))\n",
    "print('psi fidelity: %.20f' % fidelity(psi, psi_res)**2)"
   ]
  }
 ],
 "metadata": {
  "kernelspec": {
   "display_name": "Python 3",
   "language": "python",
   "name": "python3"
  },
  "language_info": {
   "codemirror_mode": {
    "name": "ipython",
    "version": 3
   },
   "file_extension": ".py",
   "mimetype": "text/x-python",
   "name": "python",
   "nbconvert_exporter": "python",
   "pygments_lexer": "ipython3",
   "version": "3.9.13"
  }
 },
 "nbformat": 4,
 "nbformat_minor": 2
}
