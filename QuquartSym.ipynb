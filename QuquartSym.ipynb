{
 "cells": [
  {
   "cell_type": "code",
   "execution_count": 1,
   "metadata": {},
   "outputs": [],
   "source": [
    "import re\n",
    "import os\n",
    "import sys\n",
    "import time\n",
    "import numpy as np\n",
    "import scipy as sp\n",
    "from utils import *\n",
    "from math import log\n",
    "from h5py import File\n",
    "from numpy.linalg import *\n",
    "from scipy.linalg import *\n",
    "from scipy.io import loadmat\n",
    "from scipy.optimize import minimize\n",
    "from mindquantum.framework import *\n",
    "from mindquantum.core.gates import *\n",
    "from scipy.stats import unitary_group\n",
    "from mindquantum.core.circuit import *\n",
    "from IPython.display import display_svg\n",
    "from mindquantum.core.operators import *\n",
    "from mindquantum.algorithm.nisq import *\n",
    "from mindquantum.simulator import Simulator\n",
    "from mindquantum.algorithm.compiler import *\n",
    "from scipy.sparse import csc_matrix, csr_matrix\n",
    "\n",
    "np.set_printoptions(linewidth=1000)"
   ]
  },
  {
   "cell_type": "code",
   "execution_count": 183,
   "metadata": {},
   "outputs": [
    {
     "name": "stdout",
     "output_type": "stream",
     "text": [
      "[[0.+0.j 0.+0.j 0.+0.j 0.+0.j 0.+0.j 0.+0.j 0.+0.j 0.+0.j]\n",
      " [0.+0.j 0.+0.j 0.+0.j 0.+0.j 0.+0.j 0.+0.j 0.+0.j 0.+0.j]\n",
      " [0.+0.j 0.+0.j 0.+0.j 0.+0.j 0.+0.j 0.+0.j 0.+0.j 0.+0.j]\n",
      " [0.+0.j 0.+0.j 0.+0.j 0.+0.j 0.+0.j 0.+0.j 0.+0.j 0.+0.j]\n",
      " [0.+0.j 0.+0.j 0.+0.j 0.+0.j 0.+0.j 0.+0.j 0.+0.j 0.+0.j]\n",
      " [0.+0.j 0.+0.j 0.+0.j 0.+0.j 0.+0.j 0.+0.j 0.+0.j 0.+0.j]\n",
      " [0.+0.j 0.+0.j 0.+0.j 0.+0.j 0.+0.j 0.+0.j 0.+0.j 0.+0.j]\n",
      " [0.+0.j 0.+0.j 0.+0.j 0.+0.j 0.+0.j 0.+0.j 0.+0.j 0.+0.j]]\n",
      "[[ 0.       +0.j   0.       +0.j   0.       +0.j   0.       +0.j   0.       +0.j   0.       +0.j   0.       +0.j   0.       +0.j ]\n",
      " [ 0.       +0.j   0.1339746+0.5j  0.       +0.j   0.       +0.j   0.       +0.j   0.       +0.j   0.       +0.j   0.       +0.j ]\n",
      " [ 0.       +0.j   0.       +0.j   0.       +0.j   0.       +0.j   0.       +0.j   0.       +0.j   0.       +0.j   0.       +0.j ]\n",
      " [ 0.       +0.j   0.       +0.j   0.       +0.j   0.       +0.j   0.       +0.j   0.       +0.j   0.       +0.j   0.       +0.j ]\n",
      " [ 0.       +0.j   0.       +0.j   0.       +0.j   0.       +0.j   0.       +0.j   0.       +0.j   0.       +0.j   0.       +0.j ]\n",
      " [ 0.       +0.j   0.       +0.j   0.       +0.j   0.       +0.j   0.       +0.j   0.       +0.j   0.       +0.j   0.       +0.j ]\n",
      " [ 0.       +0.j   0.       +0.j   0.       +0.j   0.       +0.j   0.       +0.j   0.       +0.j  -0.1339746-0.5j  0.       +0.j ]\n",
      " [ 0.       +0.j   0.       +0.j   0.       +0.j   0.       +0.j   0.       +0.j   0.       +0.j   0.       +0.j   0.       +0.j ]]\n"
     ]
    }
   ],
   "source": [
    "d = 4\n",
    "ind = [2, 3]\n",
    "obj = [0, 1, 2]\n",
    "U = unitary_group.rvs(2)\n",
    "U = RZ(np.pi / 3).matrix()\n",
    "Ud = np.eye(d, dtype=CDTYPE)\n",
    "Ud[np.ix_(ind, ind)] = U\n",
    "# print(Ud)\n",
    "\n",
    "p = np.eye(2**(d - 1)) - su2_encoding(np.eye(d))\n",
    "Ue = su2_encoding(Ud)\n",
    "Up = Ue + p\n",
    "# print(Up)\n",
    "\n",
    "circ = Circuit()\n",
    "circ += UnivMathGate('U', U).on(obj[0], obj[1:])\n",
    "Uc = circ.matrix()\n",
    "# print(Uc)\n",
    "\n",
    "val1, vec1 = eig(Up)\n",
    "val2, vec2 = eig(Uc)\n",
    "sort1 = np.argsort(val1)\n",
    "sort2 = np.argsort(val2)\n",
    "val1 = val1[sort1]\n",
    "val2 = val2[sort2]\n",
    "vec1 = vec1[:, sort1]\n",
    "vec2 = vec2[:, sort1]\n",
    "print(approx_matrix(Up - vec1 @ np.diag(val1) @ inv(vec1)))\n",
    "print(approx_matrix(Uc - vec2 @ np.diag(val2) @ inv(vec2)))\n",
    "# c = vec1 @ inv(vec2)\n",
    "# print(approx_matrix(c @ Uc @ inv(c)))"
   ]
  },
  {
   "cell_type": "code",
   "execution_count": 68,
   "metadata": {},
   "outputs": [
    {
     "name": "stdout",
     "output_type": "stream",
     "text": [
      "[[1.       +0.j  0.       +0.j  0.       +0.j  0.       +0.j ]\n",
      " [0.       +0.j  1.       +0.j  0.       +0.j  0.       +0.j ]\n",
      " [0.       +0.j  0.       +0.j  0.8660254+0.j  0.       -0.5j]\n",
      " [0.       +0.j  0.       +0.j  0.       -0.5j 0.8660254+0.j ]]\n",
      "[[ 1.       +0.j          0.       +0.j          0.       +0.j          0.       +0.j          0.       +0.j          0.       +0.j          0.       +0.j          0.       +0.j        ]\n",
      " [ 0.       +0.j          1.       +0.j          0.       +0.j          0.       +0.j          0.       +0.j          0.       +0.j          0.       +0.j          0.       +0.j        ]\n",
      " [ 0.       +0.j          0.       +0.j          1.       +0.j          0.       +0.j          0.       +0.j          0.       +0.j          0.       +0.j          0.       +0.j        ]\n",
      " [ 0.       +0.j          0.       +0.j          0.       +0.j          0.9553418+0.j          0.       +0.j         -0.0446582+0.j         -0.0446582+0.j          0.       -0.28867513j]\n",
      " [ 0.       +0.j          0.       +0.j          0.       +0.j          0.       +0.j          1.       +0.j          0.       +0.j          0.       +0.j          0.       +0.j        ]\n",
      " [ 0.       +0.j          0.       +0.j          0.       +0.j         -0.0446582+0.j          0.       +0.j          0.9553418+0.j         -0.0446582+0.j          0.       -0.28867513j]\n",
      " [ 0.       +0.j          0.       +0.j          0.       +0.j         -0.0446582+0.j          0.       +0.j         -0.0446582+0.j          0.9553418+0.j          0.       -0.28867513j]\n",
      " [ 0.       +0.j          0.       +0.j          0.       +0.j          0.       -0.28867513j  0.       +0.j          0.       -0.28867513j  0.       -0.28867513j  0.8660254+0.j        ]]\n",
      "[[ 1.       +0.j          0.       +0.j          0.       +0.j          0.       +0.j          0.       +0.j          0.       +0.j          0.       +0.j          0.       +0.j        ]\n",
      " [ 0.       +0.j          1.       +0.j          0.       +0.j          0.       +0.j          0.       +0.j          0.       +0.j          0.       +0.j          0.       +0.j        ]\n",
      " [ 0.       +0.j          0.       +0.j          1.       +0.j          0.       +0.j          0.       +0.j          0.       +0.j          0.       +0.j          0.       +0.j        ]\n",
      " [ 0.       +0.j          0.       +0.j          0.       +0.j          0.9553418+0.j          0.       +0.j         -0.0446582+0.j         -0.0446582+0.j          0.       -0.28867513j]\n",
      " [ 0.       +0.j          0.       +0.j          0.       +0.j          0.       +0.j          1.       +0.j          0.       +0.j          0.       +0.j          0.       +0.j        ]\n",
      " [ 0.       +0.j          0.       +0.j          0.       +0.j         -0.0446582+0.j          0.       +0.j          0.9553418+0.j         -0.0446582+0.j          0.       -0.28867513j]\n",
      " [ 0.       +0.j          0.       +0.j          0.       +0.j         -0.0446582+0.j          0.       +0.j         -0.0446582+0.j          0.9553418+0.j          0.       -0.28867513j]\n",
      " [ 0.       +0.j          0.       +0.j          0.       +0.j          0.       -0.28867513j  0.       +0.j          0.       -0.28867513j  0.       -0.28867513j  0.8660254+0.j        ]]\n",
      "True\n"
     ]
    },
    {
     "data": {
      "image/svg+xml": [
       "<svg xmlns=\"http://www.w3.org/2000/svg\" width=\"956.8\" height=\"200.0\" xmlns:xlink=\"http://www.w3.org/1999/xlink\"><rect x=\"0\" y=\"0.0\" width=\"956.8\" height=\"200.0\" fill=\"#ffffff\" /><text x=\"20.0\" y=\"40.0\" font-size=\"16px\" dominant-baseline=\"middle\" text-anchor=\"start\" font-family=\"Arial\" font-weight=\"normal\" fill=\"#252b3a\" >q0: </text><text x=\"20.0\" y=\"100.0\" font-size=\"16px\" dominant-baseline=\"middle\" text-anchor=\"start\" font-family=\"Arial\" font-weight=\"normal\" fill=\"#252b3a\" >q1: </text><text x=\"20.0\" y=\"160.0\" font-size=\"16px\" dominant-baseline=\"middle\" text-anchor=\"start\" font-family=\"Arial\" font-weight=\"normal\" fill=\"#252b3a\" >q2: </text><line x1=\"48.8\" x2=\"936.8\" y1=\"40.0\" y2=\"40.0\" stroke=\"#adb0b8\" stroke-width=\"1\" /><line x1=\"48.8\" x2=\"936.8\" y1=\"100.0\" y2=\"100.0\" stroke=\"#adb0b8\" stroke-width=\"1\" /><line x1=\"48.8\" x2=\"936.8\" y1=\"160.0\" y2=\"160.0\" stroke=\"#adb0b8\" stroke-width=\"1\" /><circle cx=\"92.8\" cy=\"40.0\" r=\"4\" fill=\"#16acff\" /><line x1=\"92.8\" x2=\"92.8\" y1=\"40.0\" y2=\"100.0\" stroke=\"#16acff\" stroke-width=\"3\" /><rect x=\"72.8\" y=\"80.0\" width=\"40\" height=\"40\" rx=\"4\" ry=\"4\" stroke=\"#ffffff\" stroke-width=\"0\" fill=\"#16acff\" fill-opacity=\"1\" /><line x1=\"78.8\" x2=\"106.8\" y1=\"100.0\" y2=\"100.0\" stroke=\"#ffffff\" stroke-width=\"4\" /><line x1=\"92.8\" x2=\"92.8\" y1=\"86.0\" y2=\"114.0\" stroke=\"#ffffff\" stroke-width=\"4\" /><circle cx=\"152.8\" cy=\"100.0\" r=\"4\" fill=\"#fac209\" /><line x1=\"152.8\" x2=\"152.8\" y1=\"40.0\" y2=\"100.0\" stroke=\"#fac209\" stroke-width=\"3\" /><rect x=\"132.8\" y=\"20.0\" width=\"40.0\" height=\"40\" rx=\"4\" ry=\"4\" stroke=\"#ffffff\" stroke-width=\"0\" fill=\"#fac209\" fill-opacity=\"1\" /><text x=\"152.8\" y=\"36.0\" font-size=\"20px\" dominant-baseline=\"middle\" text-anchor=\"middle\" font-family=\"Arial\" font-weight=\"normal\" fill=\"#ffffff\" >RY </text><text x=\"152.8\" y=\"52.0\" font-size=\"14.0px\" dominant-baseline=\"middle\" text-anchor=\"middle\" font-family=\"Arial\" font-weight=\"normal\" fill=\"#ffffff\" >-π/2 </text><circle cx=\"212.8\" cy=\"40.0\" r=\"4\" fill=\"#16acff\" /><line x1=\"212.8\" x2=\"212.8\" y1=\"40.0\" y2=\"100.0\" stroke=\"#16acff\" stroke-width=\"3\" /><rect x=\"192.8\" y=\"80.0\" width=\"40\" height=\"40\" rx=\"4\" ry=\"4\" stroke=\"#ffffff\" stroke-width=\"0\" fill=\"#16acff\" fill-opacity=\"1\" /><line x1=\"198.8\" x2=\"226.8\" y1=\"100.0\" y2=\"100.0\" stroke=\"#ffffff\" stroke-width=\"4\" /><line x1=\"212.8\" x2=\"212.8\" y1=\"86.0\" y2=\"114.0\" stroke=\"#ffffff\" stroke-width=\"4\" /><circle cx=\"272.8\" cy=\"40.0\" r=\"4\" fill=\"#16acff\" /><line x1=\"272.8\" x2=\"272.8\" y1=\"40.0\" y2=\"160.0\" stroke=\"#16acff\" stroke-width=\"3\" /><rect x=\"252.8\" y=\"140.0\" width=\"40\" height=\"40\" rx=\"4\" ry=\"4\" stroke=\"#ffffff\" stroke-width=\"0\" fill=\"#16acff\" fill-opacity=\"1\" /><line x1=\"258.8\" x2=\"286.8\" y1=\"160.0\" y2=\"160.0\" stroke=\"#ffffff\" stroke-width=\"4\" /><line x1=\"272.8\" x2=\"272.8\" y1=\"146.0\" y2=\"174.0\" stroke=\"#ffffff\" stroke-width=\"4\" /><circle cx=\"352.8\" cy=\"160.0\" r=\"4\" fill=\"#fac209\" /><line x1=\"352.8\" x2=\"352.8\" y1=\"40.0\" y2=\"160.0\" stroke=\"#fac209\" stroke-width=\"3\" /><rect x=\"312.8\" y=\"20.0\" width=\"80.0\" height=\"40\" rx=\"4\" ry=\"4\" stroke=\"#ffffff\" stroke-width=\"0\" fill=\"#fac209\" fill-opacity=\"1\" /><text x=\"352.8\" y=\"36.0\" font-size=\"20px\" dominant-baseline=\"middle\" text-anchor=\"middle\" font-family=\"Arial\" font-weight=\"normal\" fill=\"#ffffff\" >RY </text><text x=\"352.8\" y=\"52.0\" font-size=\"14.0px\" dominant-baseline=\"middle\" text-anchor=\"middle\" font-family=\"Arial\" font-weight=\"normal\" fill=\"#ffffff\" >-1.231 </text><circle cx=\"432.8\" cy=\"40.0\" r=\"4\" fill=\"#16acff\" /><line x1=\"432.8\" x2=\"432.8\" y1=\"40.0\" y2=\"160.0\" stroke=\"#16acff\" stroke-width=\"3\" /><rect x=\"412.8\" y=\"140.0\" width=\"40\" height=\"40\" rx=\"4\" ry=\"4\" stroke=\"#ffffff\" stroke-width=\"0\" fill=\"#16acff\" fill-opacity=\"1\" /><line x1=\"418.8\" x2=\"446.8\" y1=\"160.0\" y2=\"160.0\" stroke=\"#ffffff\" stroke-width=\"4\" /><line x1=\"432.8\" x2=\"432.8\" y1=\"146.0\" y2=\"174.0\" stroke=\"#ffffff\" stroke-width=\"4\" /><circle cx=\"492.8\" cy=\"100.0\" r=\"4\" fill=\"#5e7ce0\" /><circle cx=\"492.8\" cy=\"160.0\" r=\"4\" fill=\"#5e7ce0\" /><line x1=\"492.8\" x2=\"492.8\" y1=\"40.0\" y2=\"160.0\" stroke=\"#5e7ce0\" stroke-width=\"3\" /><rect x=\"472.8\" y=\"20.0\" width=\"40.0\" height=\"40\" rx=\"4\" ry=\"4\" stroke=\"#ffffff\" stroke-width=\"0\" fill=\"#5e7ce0\" fill-opacity=\"1\" /><text x=\"492.8\" y=\"40.0\" font-size=\"20px\" dominant-baseline=\"middle\" text-anchor=\"middle\" font-family=\"Arial\" font-weight=\"normal\" fill=\"#ffffff\" >U </text><circle cx=\"552.8\" cy=\"40.0\" r=\"4\" fill=\"#16acff\" /><line x1=\"552.8\" x2=\"552.8\" y1=\"40.0\" y2=\"160.0\" stroke=\"#16acff\" stroke-width=\"3\" /><rect x=\"532.8\" y=\"140.0\" width=\"40\" height=\"40\" rx=\"4\" ry=\"4\" stroke=\"#ffffff\" stroke-width=\"0\" fill=\"#16acff\" fill-opacity=\"1\" /><line x1=\"538.8\" x2=\"566.8\" y1=\"160.0\" y2=\"160.0\" stroke=\"#ffffff\" stroke-width=\"4\" /><line x1=\"552.8\" x2=\"552.8\" y1=\"146.0\" y2=\"174.0\" stroke=\"#ffffff\" stroke-width=\"4\" /><circle cx=\"632.8\" cy=\"160.0\" r=\"4\" fill=\"#fac209\" /><line x1=\"632.8\" x2=\"632.8\" y1=\"40.0\" y2=\"160.0\" stroke=\"#fac209\" stroke-width=\"3\" /><rect x=\"592.8\" y=\"20.0\" width=\"80.0\" height=\"40\" rx=\"4\" ry=\"4\" stroke=\"#ffffff\" stroke-width=\"0\" fill=\"#fac209\" fill-opacity=\"1\" /><text x=\"632.8\" y=\"36.0\" font-size=\"20px\" dominant-baseline=\"middle\" text-anchor=\"middle\" font-family=\"Arial\" font-weight=\"normal\" fill=\"#ffffff\" >RY </text><text x=\"632.8\" y=\"52.0\" font-size=\"14.0px\" dominant-baseline=\"middle\" text-anchor=\"middle\" font-family=\"Arial\" font-weight=\"normal\" fill=\"#ffffff\" >1.231 </text><circle cx=\"712.8\" cy=\"40.0\" r=\"4\" fill=\"#16acff\" /><line x1=\"712.8\" x2=\"712.8\" y1=\"40.0\" y2=\"160.0\" stroke=\"#16acff\" stroke-width=\"3\" /><rect x=\"692.8\" y=\"140.0\" width=\"40\" height=\"40\" rx=\"4\" ry=\"4\" stroke=\"#ffffff\" stroke-width=\"0\" fill=\"#16acff\" fill-opacity=\"1\" /><line x1=\"698.8\" x2=\"726.8\" y1=\"160.0\" y2=\"160.0\" stroke=\"#ffffff\" stroke-width=\"4\" /><line x1=\"712.8\" x2=\"712.8\" y1=\"146.0\" y2=\"174.0\" stroke=\"#ffffff\" stroke-width=\"4\" /><circle cx=\"772.8\" cy=\"40.0\" r=\"4\" fill=\"#16acff\" /><line x1=\"772.8\" x2=\"772.8\" y1=\"40.0\" y2=\"100.0\" stroke=\"#16acff\" stroke-width=\"3\" /><rect x=\"752.8\" y=\"80.0\" width=\"40\" height=\"40\" rx=\"4\" ry=\"4\" stroke=\"#ffffff\" stroke-width=\"0\" fill=\"#16acff\" fill-opacity=\"1\" /><line x1=\"758.8\" x2=\"786.8\" y1=\"100.0\" y2=\"100.0\" stroke=\"#ffffff\" stroke-width=\"4\" /><line x1=\"772.8\" x2=\"772.8\" y1=\"86.0\" y2=\"114.0\" stroke=\"#ffffff\" stroke-width=\"4\" /><circle cx=\"832.8\" cy=\"100.0\" r=\"4\" fill=\"#fac209\" /><line x1=\"832.8\" x2=\"832.8\" y1=\"40.0\" y2=\"100.0\" stroke=\"#fac209\" stroke-width=\"3\" /><rect x=\"812.8\" y=\"20.0\" width=\"40.0\" height=\"40\" rx=\"4\" ry=\"4\" stroke=\"#ffffff\" stroke-width=\"0\" fill=\"#fac209\" fill-opacity=\"1\" /><text x=\"832.8\" y=\"36.0\" font-size=\"20px\" dominant-baseline=\"middle\" text-anchor=\"middle\" font-family=\"Arial\" font-weight=\"normal\" fill=\"#ffffff\" >RY </text><text x=\"832.8\" y=\"52.0\" font-size=\"14.0px\" dominant-baseline=\"middle\" text-anchor=\"middle\" font-family=\"Arial\" font-weight=\"normal\" fill=\"#ffffff\" >π/2 </text><circle cx=\"892.8\" cy=\"40.0\" r=\"4\" fill=\"#16acff\" /><line x1=\"892.8\" x2=\"892.8\" y1=\"40.0\" y2=\"100.0\" stroke=\"#16acff\" stroke-width=\"3\" /><rect x=\"872.8\" y=\"80.0\" width=\"40\" height=\"40\" rx=\"4\" ry=\"4\" stroke=\"#ffffff\" stroke-width=\"0\" fill=\"#16acff\" fill-opacity=\"1\" /><line x1=\"878.8\" x2=\"906.8\" y1=\"100.0\" y2=\"100.0\" stroke=\"#ffffff\" stroke-width=\"4\" /><line x1=\"892.8\" x2=\"892.8\" y1=\"86.0\" y2=\"114.0\" stroke=\"#ffffff\" stroke-width=\"4\" /></svg>"
      ],
      "text/plain": [
       "<mindquantum.io.display.circuit_svg_drawer.SVGCircuit at 0x1bbdf92cd30>"
      ]
     },
     "execution_count": 68,
     "metadata": {},
     "output_type": "execute_result"
    }
   ],
   "source": [
    "# Qubit ansatz of one-ququart unitary gate\n",
    "d = 4\n",
    "ind = [2, 3]\n",
    "obj = [0, 1, 2]\n",
    "U = unitary_group.rvs(2)\n",
    "U = RX(np.pi / 3).matrix()\n",
    "Ud = np.eye(d, dtype=CDTYPE)\n",
    "Ud[np.ix_(ind, ind)] = U\n",
    "print(Ud)\n",
    "\n",
    "p = np.eye(2**(d - 1)) - su2_encoding(np.eye(d))\n",
    "Ue = su2_encoding(Ud)\n",
    "Up = Ue + p\n",
    "print(Up)\n",
    "\n",
    "circ = Circuit()\n",
    "if ind == [0, 1]:\n",
    "    corr = Circuit() + X(obj[1], obj[0]) + RY(np.pi / 2).on(obj[0], obj[1]) + X(obj[1], obj[0]) + X(\n",
    "        obj[2], obj[0]) + RY(np.arccos(1 / 3)).on(obj[0], obj[2]) + X(obj[2], obj[0]) + UN(X, obj[1:])\n",
    "elif ind == [0, 2]:\n",
    "    corr = Circuit()\n",
    "elif ind == [0, 3]:\n",
    "    corr = Circuit() + X(obj[0]) + X(obj[1], obj[0]) + X(obj[2], obj[0]) + X(obj[0])\n",
    "elif ind == [1, 2]:\n",
    "    corr = Circuit()\n",
    "elif ind == [1, 3]:\n",
    "    corr = Circuit()\n",
    "elif ind == [2, 3]:\n",
    "    corr = Circuit() + X(obj[1], obj[0]) + RY(-np.pi / 2).on(obj[0], obj[1]) + X(obj[1], obj[0]) + X(\n",
    "        obj[2], obj[0]) + RY(-np.arccos(1 / 3)).on(obj[0], obj[2]) + X(obj[2], obj[0])\n",
    "circ += corr\n",
    "circ += UnivMathGate('U', U).on(obj[0], obj[1:])\n",
    "circ += corr.hermitian()\n",
    "print(approx_matrix(circ.matrix()))\n",
    "# print(su2_decoding(circ.matrix() - p))\n",
    "print(np.allclose(Up, circ.matrix()))\n",
    "circ.svg()"
   ]
  },
  {
   "cell_type": "code",
   "execution_count": 448,
   "metadata": {},
   "outputs": [
    {
     "name": "stdout",
     "output_type": "stream",
     "text": [
      "Hamiltonian Dimension: (8, 8)\n",
      "Number of qubits: 3\n",
      "Number of params: 1\n",
      "Number of gates: 13\n",
      "Loss: 0.000000000000000, Fidelity: 1.000000000000000,  10, 0.0036\n",
      "Optimization terminated successfully.\n",
      "Optimal: 0.00000000000000000000\n",
      "psi norm: 1.24781146954059352083\n",
      "psi fidelity: 0.06778795899388925794\n",
      "{'b': -1.2309594173407779}\n"
     ]
    },
    {
     "data": {
      "image/svg+xml": [
       "<svg xmlns=\"http://www.w3.org/2000/svg\" width=\"876.8\" height=\"200.0\" xmlns:xlink=\"http://www.w3.org/1999/xlink\"><rect x=\"0\" y=\"0.0\" width=\"876.8\" height=\"200.0\" fill=\"#ffffff\" /><text x=\"20.0\" y=\"40.0\" font-size=\"16px\" dominant-baseline=\"middle\" text-anchor=\"start\" font-family=\"Arial\" font-weight=\"normal\" fill=\"#252b3a\" >q0: </text><text x=\"20.0\" y=\"100.0\" font-size=\"16px\" dominant-baseline=\"middle\" text-anchor=\"start\" font-family=\"Arial\" font-weight=\"normal\" fill=\"#252b3a\" >q1: </text><text x=\"20.0\" y=\"160.0\" font-size=\"16px\" dominant-baseline=\"middle\" text-anchor=\"start\" font-family=\"Arial\" font-weight=\"normal\" fill=\"#252b3a\" >q2: </text><line x1=\"48.8\" x2=\"856.8\" y1=\"40.0\" y2=\"40.0\" stroke=\"#adb0b8\" stroke-width=\"1\" /><line x1=\"48.8\" x2=\"856.8\" y1=\"100.0\" y2=\"100.0\" stroke=\"#adb0b8\" stroke-width=\"1\" /><line x1=\"48.8\" x2=\"856.8\" y1=\"160.0\" y2=\"160.0\" stroke=\"#adb0b8\" stroke-width=\"1\" /><circle cx=\"92.8\" cy=\"40.0\" r=\"4\" fill=\"#16acff\" /><line x1=\"92.8\" x2=\"92.8\" y1=\"40.0\" y2=\"100.0\" stroke=\"#16acff\" stroke-width=\"3\" /><rect x=\"72.8\" y=\"80.0\" width=\"40\" height=\"40\" rx=\"4\" ry=\"4\" stroke=\"#ffffff\" stroke-width=\"0\" fill=\"#16acff\" fill-opacity=\"1\" /><line x1=\"78.8\" x2=\"106.8\" y1=\"100.0\" y2=\"100.0\" stroke=\"#ffffff\" stroke-width=\"4\" /><line x1=\"92.8\" x2=\"92.8\" y1=\"86.0\" y2=\"114.0\" stroke=\"#ffffff\" stroke-width=\"4\" /><circle cx=\"152.8\" cy=\"100.0\" r=\"4\" fill=\"#fac209\" /><line x1=\"152.8\" x2=\"152.8\" y1=\"40.0\" y2=\"100.0\" stroke=\"#fac209\" stroke-width=\"3\" /><rect x=\"132.8\" y=\"20.0\" width=\"40.0\" height=\"40\" rx=\"4\" ry=\"4\" stroke=\"#ffffff\" stroke-width=\"0\" fill=\"#fac209\" fill-opacity=\"1\" /><text x=\"152.8\" y=\"36.0\" font-size=\"20px\" dominant-baseline=\"middle\" text-anchor=\"middle\" font-family=\"Arial\" font-weight=\"normal\" fill=\"#ffffff\" >RY </text><text x=\"152.8\" y=\"52.0\" font-size=\"14.0px\" dominant-baseline=\"middle\" text-anchor=\"middle\" font-family=\"Arial\" font-weight=\"normal\" fill=\"#ffffff\" >-π/2 </text><circle cx=\"212.8\" cy=\"40.0\" r=\"4\" fill=\"#16acff\" /><line x1=\"212.8\" x2=\"212.8\" y1=\"40.0\" y2=\"100.0\" stroke=\"#16acff\" stroke-width=\"3\" /><rect x=\"192.8\" y=\"80.0\" width=\"40\" height=\"40\" rx=\"4\" ry=\"4\" stroke=\"#ffffff\" stroke-width=\"0\" fill=\"#16acff\" fill-opacity=\"1\" /><line x1=\"198.8\" x2=\"226.8\" y1=\"100.0\" y2=\"100.0\" stroke=\"#ffffff\" stroke-width=\"4\" /><line x1=\"212.8\" x2=\"212.8\" y1=\"86.0\" y2=\"114.0\" stroke=\"#ffffff\" stroke-width=\"4\" /><circle cx=\"272.8\" cy=\"40.0\" r=\"4\" fill=\"#16acff\" /><line x1=\"272.8\" x2=\"272.8\" y1=\"40.0\" y2=\"160.0\" stroke=\"#16acff\" stroke-width=\"3\" /><rect x=\"252.8\" y=\"140.0\" width=\"40\" height=\"40\" rx=\"4\" ry=\"4\" stroke=\"#ffffff\" stroke-width=\"0\" fill=\"#16acff\" fill-opacity=\"1\" /><line x1=\"258.8\" x2=\"286.8\" y1=\"160.0\" y2=\"160.0\" stroke=\"#ffffff\" stroke-width=\"4\" /><line x1=\"272.8\" x2=\"272.8\" y1=\"146.0\" y2=\"174.0\" stroke=\"#ffffff\" stroke-width=\"4\" /><circle cx=\"332.8\" cy=\"160.0\" r=\"4\" fill=\"#fac209\" /><line x1=\"332.8\" x2=\"332.8\" y1=\"40.0\" y2=\"160.0\" stroke=\"#fac209\" stroke-width=\"3\" /><rect x=\"312.8\" y=\"20.0\" width=\"40.0\" height=\"40\" rx=\"4\" ry=\"4\" stroke=\"#ffffff\" stroke-width=\"0\" fill=\"#fac209\" fill-opacity=\"1\" /><text x=\"332.8\" y=\"36.0\" font-size=\"20px\" dominant-baseline=\"middle\" text-anchor=\"middle\" font-family=\"Arial\" font-weight=\"normal\" fill=\"#ffffff\" >RY </text><text x=\"332.8\" y=\"52.0\" font-size=\"14.0px\" dominant-baseline=\"middle\" text-anchor=\"middle\" font-family=\"Arial\" font-weight=\"normal\" fill=\"#ffffff\" >b </text><circle cx=\"392.8\" cy=\"40.0\" r=\"4\" fill=\"#16acff\" /><line x1=\"392.8\" x2=\"392.8\" y1=\"40.0\" y2=\"160.0\" stroke=\"#16acff\" stroke-width=\"3\" /><rect x=\"372.8\" y=\"140.0\" width=\"40\" height=\"40\" rx=\"4\" ry=\"4\" stroke=\"#ffffff\" stroke-width=\"0\" fill=\"#16acff\" fill-opacity=\"1\" /><line x1=\"378.8\" x2=\"406.8\" y1=\"160.0\" y2=\"160.0\" stroke=\"#ffffff\" stroke-width=\"4\" /><line x1=\"392.8\" x2=\"392.8\" y1=\"146.0\" y2=\"174.0\" stroke=\"#ffffff\" stroke-width=\"4\" /><circle cx=\"452.8\" cy=\"100.0\" r=\"4\" fill=\"#5e7ce0\" /><circle cx=\"452.8\" cy=\"160.0\" r=\"4\" fill=\"#5e7ce0\" /><line x1=\"452.8\" x2=\"452.8\" y1=\"40.0\" y2=\"160.0\" stroke=\"#5e7ce0\" stroke-width=\"3\" /><rect x=\"432.8\" y=\"20.0\" width=\"40.0\" height=\"40\" rx=\"4\" ry=\"4\" stroke=\"#ffffff\" stroke-width=\"0\" fill=\"#5e7ce0\" fill-opacity=\"1\" /><text x=\"452.8\" y=\"40.0\" font-size=\"20px\" dominant-baseline=\"middle\" text-anchor=\"middle\" font-family=\"Arial\" font-weight=\"normal\" fill=\"#ffffff\" >U </text><circle cx=\"512.8\" cy=\"40.0\" r=\"4\" fill=\"#16acff\" /><line x1=\"512.8\" x2=\"512.8\" y1=\"40.0\" y2=\"160.0\" stroke=\"#16acff\" stroke-width=\"3\" /><rect x=\"492.8\" y=\"140.0\" width=\"40\" height=\"40\" rx=\"4\" ry=\"4\" stroke=\"#ffffff\" stroke-width=\"0\" fill=\"#16acff\" fill-opacity=\"1\" /><line x1=\"498.8\" x2=\"526.8\" y1=\"160.0\" y2=\"160.0\" stroke=\"#ffffff\" stroke-width=\"4\" /><line x1=\"512.8\" x2=\"512.8\" y1=\"146.0\" y2=\"174.0\" stroke=\"#ffffff\" stroke-width=\"4\" /><circle cx=\"572.8\" cy=\"160.0\" r=\"4\" fill=\"#fac209\" /><line x1=\"572.8\" x2=\"572.8\" y1=\"40.0\" y2=\"160.0\" stroke=\"#fac209\" stroke-width=\"3\" /><rect x=\"552.8\" y=\"20.0\" width=\"40.0\" height=\"40\" rx=\"4\" ry=\"4\" stroke=\"#ffffff\" stroke-width=\"0\" fill=\"#fac209\" fill-opacity=\"1\" /><text x=\"572.8\" y=\"36.0\" font-size=\"20px\" dominant-baseline=\"middle\" text-anchor=\"middle\" font-family=\"Arial\" font-weight=\"normal\" fill=\"#ffffff\" >RY </text><text x=\"572.8\" y=\"52.0\" font-size=\"14.0px\" dominant-baseline=\"middle\" text-anchor=\"middle\" font-family=\"Arial\" font-weight=\"normal\" fill=\"#ffffff\" >-b </text><circle cx=\"632.8\" cy=\"40.0\" r=\"4\" fill=\"#16acff\" /><line x1=\"632.8\" x2=\"632.8\" y1=\"40.0\" y2=\"160.0\" stroke=\"#16acff\" stroke-width=\"3\" /><rect x=\"612.8\" y=\"140.0\" width=\"40\" height=\"40\" rx=\"4\" ry=\"4\" stroke=\"#ffffff\" stroke-width=\"0\" fill=\"#16acff\" fill-opacity=\"1\" /><line x1=\"618.8\" x2=\"646.8\" y1=\"160.0\" y2=\"160.0\" stroke=\"#ffffff\" stroke-width=\"4\" /><line x1=\"632.8\" x2=\"632.8\" y1=\"146.0\" y2=\"174.0\" stroke=\"#ffffff\" stroke-width=\"4\" /><circle cx=\"692.8\" cy=\"40.0\" r=\"4\" fill=\"#16acff\" /><line x1=\"692.8\" x2=\"692.8\" y1=\"40.0\" y2=\"100.0\" stroke=\"#16acff\" stroke-width=\"3\" /><rect x=\"672.8\" y=\"80.0\" width=\"40\" height=\"40\" rx=\"4\" ry=\"4\" stroke=\"#ffffff\" stroke-width=\"0\" fill=\"#16acff\" fill-opacity=\"1\" /><line x1=\"678.8\" x2=\"706.8\" y1=\"100.0\" y2=\"100.0\" stroke=\"#ffffff\" stroke-width=\"4\" /><line x1=\"692.8\" x2=\"692.8\" y1=\"86.0\" y2=\"114.0\" stroke=\"#ffffff\" stroke-width=\"4\" /><circle cx=\"752.8\" cy=\"100.0\" r=\"4\" fill=\"#fac209\" /><line x1=\"752.8\" x2=\"752.8\" y1=\"40.0\" y2=\"100.0\" stroke=\"#fac209\" stroke-width=\"3\" /><rect x=\"732.8\" y=\"20.0\" width=\"40.0\" height=\"40\" rx=\"4\" ry=\"4\" stroke=\"#ffffff\" stroke-width=\"0\" fill=\"#fac209\" fill-opacity=\"1\" /><text x=\"752.8\" y=\"36.0\" font-size=\"20px\" dominant-baseline=\"middle\" text-anchor=\"middle\" font-family=\"Arial\" font-weight=\"normal\" fill=\"#ffffff\" >RY </text><text x=\"752.8\" y=\"52.0\" font-size=\"14.0px\" dominant-baseline=\"middle\" text-anchor=\"middle\" font-family=\"Arial\" font-weight=\"normal\" fill=\"#ffffff\" >π/2 </text><circle cx=\"812.8\" cy=\"40.0\" r=\"4\" fill=\"#16acff\" /><line x1=\"812.8\" x2=\"812.8\" y1=\"40.0\" y2=\"100.0\" stroke=\"#16acff\" stroke-width=\"3\" /><rect x=\"792.8\" y=\"80.0\" width=\"40\" height=\"40\" rx=\"4\" ry=\"4\" stroke=\"#ffffff\" stroke-width=\"0\" fill=\"#16acff\" fill-opacity=\"1\" /><line x1=\"798.8\" x2=\"826.8\" y1=\"100.0\" y2=\"100.0\" stroke=\"#ffffff\" stroke-width=\"4\" /><line x1=\"812.8\" x2=\"812.8\" y1=\"86.0\" y2=\"114.0\" stroke=\"#ffffff\" stroke-width=\"4\" /></svg>"
      ],
      "text/plain": [
       "<mindquantum.io.display.circuit_svg_drawer.SVGCircuit at 0x1d8f37a04f0>"
      ]
     },
     "execution_count": 448,
     "metadata": {},
     "output_type": "execute_result"
    }
   ],
   "source": [
    "def fun(p0, sim_grad, args=None):\n",
    "    f, g = sim_grad(p0)\n",
    "    f = 1 - np.real(f)[0][0]\n",
    "    g = -np.real(g)[0][0]\n",
    "    if args is not None:\n",
    "        args.append(f)\n",
    "        i = len(args)\n",
    "        if i % 10 == 0:\n",
    "            global start\n",
    "            t = time.perf_counter() - start\n",
    "            print('Loss: %.15f, Fidelity: %.15f, %3d, %.4f' % (f, 1 - f, i, t))\n",
    "    return f, g\n",
    "\n",
    "\n",
    "U = unitary_group.rvs(2)\n",
    "Ud = np.eye(d, dtype=CDTYPE)\n",
    "Ud[np.ix_(ind, ind)] = U\n",
    "p = np.eye(2**(d - 1)) - su2_encoding(np.eye(d))\n",
    "Ue = su2_encoding(Ud)\n",
    "Up = Ue + p\n",
    "\n",
    "circ = Circuit()\n",
    "corr = Circuit() + X(obj[1], obj[0]) + RY(-np.pi / 2).on(obj[0], obj[1]) + X(obj[1], obj[0]) + X(\n",
    "    obj[2], obj[0]) + RY('b').on(obj[0], obj[2]) + X(obj[2], obj[0])\n",
    "circ += corr\n",
    "circ += UnivMathGate('U', U).on(obj[0], obj[1:])\n",
    "circ += corr.hermitian()\n",
    "nq = circ.n_qubits\n",
    "\n",
    "psi_random = np.random.rand(2**nq) + 1j * np.random.rand(2**nq)\n",
    "psi_random /= norm(psi_random)\n",
    "\n",
    "gate = Circuit() + UnivMathGate('Up', Up).on(range(nq))\n",
    "sim = Simulator('mqvector', nq)\n",
    "sim.set_qs(psi_random)\n",
    "sim.apply_circuit(gate)\n",
    "psi = sim.get_qs()\n",
    "rho = np.outer(psi, psi.conj())\n",
    "Ham = Hamiltonian(csr_matrix(rho))\n",
    "print('Hamiltonian Dimension:', rho.shape)\n",
    "\n",
    "p_name = circ.ansatz_params_name\n",
    "p_num = len(p_name)\n",
    "g_num = sum(1 for _ in circ)\n",
    "print('Number of qubits: %d' % nq)\n",
    "print('Number of params: %d' % p_num)\n",
    "print('Number of gates: %d' % g_num)\n",
    "\n",
    "sim.reset()\n",
    "sim.set_qs(psi_random)\n",
    "sim_grad = sim.get_expectation_with_grad(Ham, circ)\n",
    "p0 = np.random.uniform(-1, 1, p_num)\n",
    "fun(p0, sim_grad)\n",
    "start = time.perf_counter()\n",
    "res = minimize(fun, p0, args=(sim_grad, []), method='CG', jac=True, tol=1e-8)\n",
    "\n",
    "print(res.message)\n",
    "print('Optimal: %.20f' % res.fun)\n",
    "\n",
    "sim.reset()\n",
    "pr_res = dict(zip(p_name, res.x))\n",
    "sim.apply_circuit(circ.apply_value(pr_res))\n",
    "psi_res = sim.get_qs()\n",
    "print('psi norm: %.20f' % norm(psi - psi_res, 2))\n",
    "print('psi fidelity: %.20f' % fidelity(psi, psi_res))\n",
    "print(pr_res)\n",
    "circ.svg()"
   ]
  }
 ],
 "metadata": {
  "kernelspec": {
   "display_name": "Python 3",
   "language": "python",
   "name": "python3"
  },
  "language_info": {
   "codemirror_mode": {
    "name": "ipython",
    "version": 3
   },
   "file_extension": ".py",
   "mimetype": "text/x-python",
   "name": "python",
   "nbconvert_exporter": "python",
   "pygments_lexer": "ipython3",
   "version": "3.9.13"
  }
 },
 "nbformat": 4,
 "nbformat_minor": 2
}
