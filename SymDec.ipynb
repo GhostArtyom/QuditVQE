{
 "cells": [
  {
   "cell_type": "code",
   "execution_count": 1,
   "metadata": {},
   "outputs": [],
   "source": [
    "import re\n",
    "import os\n",
    "import sys\n",
    "import h5py\n",
    "import time\n",
    "import numpy as np\n",
    "import scipy as sp\n",
    "from utils import *\n",
    "import mindspore as ms\n",
    "from scipy.sparse import csr_matrix\n",
    "from scipy.optimize import minimize\n",
    "from mindquantum.framework import *\n",
    "from mindquantum.core.gates import *\n",
    "from scipy.stats import unitary_group\n",
    "from mindquantum.core.circuit import *\n",
    "from IPython.display import display_svg\n",
    "from mindquantum.core.operators import *\n",
    "from mindquantum.algorithm.nisq import *\n",
    "from mindspore.common.initializer import *\n",
    "from mindquantum.simulator import Simulator\n",
    "from mindquantum.algorithm.compiler import *\n",
    "from numpy.linalg import det, svd, eigh, norm\n",
    "from scipy.linalg import expm, sqrtm, block_diag\n",
    "\n",
    "np.set_printoptions(linewidth=200)"
   ]
  },
  {
   "cell_type": "code",
   "execution_count": null,
   "metadata": {},
   "outputs": [],
   "source": [
    "# Test whether a qutrit encoding is in the symmetric subspace\n"
   ]
  },
  {
   "cell_type": "code",
   "execution_count": 2,
   "metadata": {},
   "outputs": [
    {
     "name": "stdout",
     "output_type": "stream",
     "text": [
      "[[0.34880034+0.j         0.40977999-0.24334959j]\n",
      " [0.40977999+0.24334959j 0.65119966+0.j        ]]\n",
      "[[0.03454462+0.j         0.0930421 +0.15714469j]\n",
      " [0.0930421 -0.15714469j 0.96545538+0.j        ]]\n",
      "[[ 1.20491735e-02+0.j          3.24531155e-02+0.05481212j  1.41556919e-02-0.00840642j  7.63678855e-02+0.04175299j]\n",
      " [ 3.24531155e-02-0.05481212j  3.36751167e-01+0.j         -1.14305675e-04-0.0870365j   3.95624296e-01-0.23494318j]\n",
      " [ 1.41556919e-02+0.00840642j -1.14305675e-04+0.0870365j   2.24954416e-02+0.j          6.05889828e-02+0.10233257j]\n",
      " [ 7.63678855e-02-0.04175299j  3.95624296e-01+0.23494318j  6.05889828e-02-0.10233257j  6.28704218e-01+0.j        ]]\n",
      "\n"
     ]
    }
   ],
   "source": [
    "# How to restore a reduce density matrix\n",
    "np.random.seed(42)\n",
    "a = np.random.rand(2) + 1j * np.random.rand(2)\n",
    "b = np.random.rand(2) + 1j * np.random.rand(2)\n",
    "a /= norm(a)\n",
    "b /= norm(b)\n",
    "psi_ab = np.kron(a, b)\n",
    "np.outer(psi_ab.conj(), psi_ab)\n",
    "rho_a = np.outer(a.conj(), a)\n",
    "rho_b = np.outer(b.conj(), b)\n",
    "rho_ab = np.kron(rho_a, rho_b)\n",
    "print(rho_a)\n",
    "print(rho_b)\n",
    "print(rho_ab)\n",
    "print()\n",
    "\n",
    "# partial_trace(rho_ab, 1)"
   ]
  }
 ],
 "metadata": {
  "kernelspec": {
   "display_name": "Python 3",
   "language": "python",
   "name": "python3"
  },
  "language_info": {
   "codemirror_mode": {
    "name": "ipython",
    "version": 3
   },
   "file_extension": ".py",
   "mimetype": "text/x-python",
   "name": "python",
   "nbconvert_exporter": "python",
   "pygments_lexer": "ipython3",
   "version": "3.7.5"
  },
  "orig_nbformat": 4
 },
 "nbformat": 4,
 "nbformat_minor": 2
}
