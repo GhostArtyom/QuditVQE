{
 "cells": [
  {
   "cell_type": "code",
   "execution_count": 1,
   "metadata": {},
   "outputs": [],
   "source": [
    "import re\n",
    "import os\n",
    "import sys\n",
    "import time\n",
    "import numpy as np\n",
    "import scipy as sp\n",
    "from utils import *\n",
    "from math import log\n",
    "from h5py import File\n",
    "from numpy.linalg import *\n",
    "from scipy.linalg import *\n",
    "from scipy.sparse import csr_matrix\n",
    "from scipy.optimize import minimize\n",
    "from mindquantum.framework import *\n",
    "from mindquantum.core.gates import *\n",
    "from scipy.stats import unitary_group\n",
    "from mindquantum.core.circuit import *\n",
    "from IPython.display import display_svg\n",
    "from mindquantum.core.operators import *\n",
    "from mindquantum.algorithm.nisq import *\n",
    "from mindquantum.simulator import Simulator\n",
    "from mindquantum.algorithm.compiler import *\n",
    "\n",
    "np.set_printoptions(linewidth=400)"
   ]
  },
  {
   "cell_type": "code",
   "execution_count": 2,
   "metadata": {},
   "outputs": [],
   "source": [
    "def Pd(name, d, ind):\n",
    "    if len(ind) != 2:\n",
    "        raise ValueError(f'{name} index length {len(ind)} should be 2')\n",
    "    if len(set(ind)) != len(ind):\n",
    "        raise ValueError(f'{name} index {ind} cannot be repeated')\n",
    "    if min(ind) < 0 or max(ind) >= d:\n",
    "        raise ValueError(f'{name} index {ind} should in 0 to {d-1}')\n",
    "    mat = np.eye(d, dtype=np.complex128)\n",
    "    if name == 'X':\n",
    "        mat[np.ix_(ind, ind)] = X.matrix()\n",
    "    elif name == 'Y':\n",
    "        mat[np.ix_(ind, ind)] = Y.matrix()\n",
    "    elif name == 'Z':\n",
    "        mat[np.ix_(ind, ind)] = Z.matrix()\n",
    "    return mat\n",
    "\n",
    "\n",
    "def Rd(name, d, ind, pr):\n",
    "    if len(ind) != 2:\n",
    "        raise ValueError(f'R{name} index length {len(ind)} should be 2')\n",
    "    if len(set(ind)) != len(ind):\n",
    "        raise ValueError(f'R{name} index {ind} cannot be repeated')\n",
    "    if min(ind) < 0 or max(ind) >= d:\n",
    "        raise ValueError(f'R{name} index {ind} should in 0 to {d-1}')\n",
    "    mat = np.eye(d, dtype=np.complex128)\n",
    "    if name == 'X':\n",
    "        mat[np.ix_(ind, ind)] = RX(pr).matrix()\n",
    "    elif name == 'Y':\n",
    "        mat[np.ix_(ind, ind)] = RY(pr).matrix()\n",
    "    elif name == 'Z':\n",
    "        mat[np.ix_(ind, ind)] = RZ(pr).matrix()\n",
    "    return mat\n",
    "\n",
    "\n",
    "def Ud(d, ind, pr):\n",
    "    if len(ind) != 2:\n",
    "        raise ValueError(f'U3 index length {len(ind)} should be 2')\n",
    "    if len(set(ind)) != len(ind):\n",
    "        raise ValueError(f'U3 index {ind} cannot be repeated')\n",
    "    if min(ind) < 0 or max(ind) >= d:\n",
    "        raise ValueError(f'U3 index {ind} should in 0 to {d-1}')\n",
    "    if len(pr) != 3:\n",
    "        raise ValueError(f'U3 params length {len(pr)} should be 3')\n",
    "    theta, phi, lam = pr\n",
    "    mat = np.eye(d, dtype=np.complex128)\n",
    "    mat[np.ix_(ind, ind)] = U3(theta, phi, lam).matrix()\n",
    "    return mat\n",
    "\n",
    "\n",
    "def INC(d):\n",
    "    mat = np.eye(d, dtype=np.complex128)\n",
    "    mat = mat[[d - 1] + list(range(d - 1))]\n",
    "    return mat\n",
    "\n",
    "\n",
    "def CINC(d):\n",
    "    return block_diag(np.eye(d**2 - d), INC(d))\n",
    "\n",
    "\n",
    "def GCX(d, ind, m):\n",
    "    if m < 0 or m >= d:\n",
    "        raise ValueError(f'¦{m}⟩ control state should in 0 to {d-1}')\n",
    "    return block_diag(np.eye(d * m), Pd('X', d, ind), np.eye(d * (d - m - 1)))\n",
    "\n",
    "def GCP(name, d, ind, m):\n",
    "    if m < 0 or m >= d:\n",
    "        raise ValueError(f'¦{m}⟩ control state should in 0 to {d-1}')\n",
    "    return block_diag(np.eye(d * m), Pd(name, d, ind), np.eye(d * (d - m - 1)))\n",
    "\n",
    "def GCR(name, d, ind, pr, m):\n",
    "    if m < 0 or m >= d:\n",
    "        raise ValueError(f'¦{m}⟩ control state should in 0 to {d-1}')\n",
    "    return block_diag(np.eye(d * m), Rd(name, d, ind, pr), np.eye(d * (d - m - 1)))\n",
    "\n",
    "def GCU(d, ind, U, m):\n",
    "    if m < 0 or m >= d:\n",
    "        raise ValueError(f'¦{m}⟩ control state should in 0 to {d-1}')\n",
    "    mat = np.eye(d, dtype=np.complex128)\n",
    "    mat[np.ix_(ind, ind)] = U\n",
    "    return block_diag(np.eye(d * m), mat, np.eye(d * (d - m - 1)))"
   ]
  },
  {
   "cell_type": "code",
   "execution_count": 3,
   "metadata": {},
   "outputs": [
    {
     "name": "stdout",
     "output_type": "stream",
     "text": [
      "Hamiltonian Dimension: (16, 16)\n",
      "Number of qubits: 4\n",
      "Number of params: 18\n",
      "Number of gates: 54\n",
      "Loss: 0.717194687693114, Fidelity: 0.282805312306886,  10, 0.0028\n",
      "Loss: 0.256061257012965, Fidelity: 0.743938742987035,  20, 0.0051\n",
      "Loss: 0.253858445427711, Fidelity: 0.746141554572289,  30, 0.0074\n",
      "Loss: 0.253429660966418, Fidelity: 0.746570339033582,  40, 0.0095\n",
      "Loss: 0.248979200296595, Fidelity: 0.751020799703405,  50, 0.0117\n",
      "Loss: 0.167038836265820, Fidelity: 0.832961163734180,  60, 0.0139\n",
      "Loss: 0.000010094337641, Fidelity: 0.999989905662359,  70, 0.0162\n",
      "Loss: 0.000000000001456, Fidelity: 0.999999999998544,  80, 0.0183\n",
      "Loss: 0.000000000000000, Fidelity: 1.000000000000000,  90, 0.0207\n",
      "Optimization terminated successfully.\n",
      "Optimal: 0.00000000000000033307\n",
      "psi norm: 0.81907864905116134491\n",
      "psi fidelity: 0.99999999999999988898\n",
      "Is state symmetric: True True\n"
     ]
    },
    {
     "data": {
      "image/svg+xml": [
       "<svg xmlns=\"http://www.w3.org/2000/svg\" width=\"2436.8\" height=\"260.0\" xmlns:xlink=\"http://www.w3.org/1999/xlink\"><rect x=\"0\" y=\"0.0\" width=\"2436.8\" height=\"260.0\" fill=\"#ffffff\" /><text x=\"20.0\" y=\"40.0\" font-size=\"16px\" dominant-baseline=\"middle\" text-anchor=\"start\" font-family=\"Arial\" font-weight=\"normal\" fill=\"#252b3a\" >q0: </text><text x=\"20.0\" y=\"100.0\" font-size=\"16px\" dominant-baseline=\"middle\" text-anchor=\"start\" font-family=\"Arial\" font-weight=\"normal\" fill=\"#252b3a\" >q1: </text><text x=\"20.0\" y=\"160.0\" font-size=\"16px\" dominant-baseline=\"middle\" text-anchor=\"start\" font-family=\"Arial\" font-weight=\"normal\" fill=\"#252b3a\" >q2: </text><text x=\"20.0\" y=\"220.0\" font-size=\"16px\" dominant-baseline=\"middle\" text-anchor=\"start\" font-family=\"Arial\" font-weight=\"normal\" fill=\"#252b3a\" >q3: </text><line x1=\"48.8\" x2=\"2416.8\" y1=\"40.0\" y2=\"40.0\" stroke=\"#adb0b8\" stroke-width=\"1\" /><line x1=\"48.8\" x2=\"2416.8\" y1=\"100.0\" y2=\"100.0\" stroke=\"#adb0b8\" stroke-width=\"1\" /><line x1=\"48.8\" x2=\"2416.8\" y1=\"160.0\" y2=\"160.0\" stroke=\"#adb0b8\" stroke-width=\"1\" /><line x1=\"48.8\" x2=\"2416.8\" y1=\"220.0\" y2=\"220.0\" stroke=\"#adb0b8\" stroke-width=\"1\" /><rect x=\"72.8\" y=\"20.0\" width=\"40.0\" height=\"40\" rx=\"4\" ry=\"4\" stroke=\"#ffffff\" stroke-width=\"0\" fill=\"#5e7ce0\" fill-opacity=\"1\" /><text x=\"92.8\" y=\"40.0\" font-size=\"20px\" dominant-baseline=\"middle\" text-anchor=\"middle\" font-family=\"Arial\" font-weight=\"normal\" fill=\"#ffffff\" >X </text><circle cx=\"152.8\" cy=\"40.0\" r=\"4\" fill=\"#16acff\" /><line x1=\"152.8\" x2=\"152.8\" y1=\"40.0\" y2=\"100.0\" stroke=\"#16acff\" stroke-width=\"3\" /><rect x=\"132.8\" y=\"80.0\" width=\"40\" height=\"40\" rx=\"4\" ry=\"4\" stroke=\"#ffffff\" stroke-width=\"0\" fill=\"#16acff\" fill-opacity=\"1\" /><line x1=\"138.8\" x2=\"166.8\" y1=\"100.0\" y2=\"100.0\" stroke=\"#ffffff\" stroke-width=\"4\" /><line x1=\"152.8\" x2=\"152.8\" y1=\"86.0\" y2=\"114.0\" stroke=\"#ffffff\" stroke-width=\"4\" /><rect x=\"192.8\" y=\"20.0\" width=\"40.0\" height=\"40\" rx=\"4\" ry=\"4\" stroke=\"#ffffff\" stroke-width=\"0\" fill=\"#5e7ce0\" fill-opacity=\"1\" /><text x=\"212.8\" y=\"40.0\" font-size=\"20px\" dominant-baseline=\"middle\" text-anchor=\"middle\" font-family=\"Arial\" font-weight=\"normal\" fill=\"#ffffff\" >X </text><circle cx=\"312.8\" cy=\"100.0\" r=\"4\" fill=\"#fac209\" /><line x1=\"312.8\" x2=\"312.8\" y1=\"40.0\" y2=\"100.0\" stroke=\"#fac209\" stroke-width=\"3\" /><rect x=\"252.8\" y=\"20.0\" width=\"120.0\" height=\"40\" rx=\"4\" ry=\"4\" stroke=\"#ffffff\" stroke-width=\"0\" fill=\"#fac209\" fill-opacity=\"1\" /><text x=\"312.8\" y=\"36.0\" font-size=\"20px\" dominant-baseline=\"middle\" text-anchor=\"middle\" font-family=\"Arial\" font-weight=\"normal\" fill=\"#ffffff\" >RZ </text><text x=\"312.8\" y=\"52.0\" font-size=\"14.0px\" dominant-baseline=\"middle\" text-anchor=\"middle\" font-family=\"Arial\" font-weight=\"normal\" fill=\"#ffffff\" >mat0_RZ02_0 </text><circle cx=\"452.8\" cy=\"100.0\" r=\"4\" fill=\"#fac209\" /><line x1=\"452.8\" x2=\"452.8\" y1=\"40.0\" y2=\"100.0\" stroke=\"#fac209\" stroke-width=\"3\" /><rect x=\"392.8\" y=\"20.0\" width=\"120.0\" height=\"40\" rx=\"4\" ry=\"4\" stroke=\"#ffffff\" stroke-width=\"0\" fill=\"#fac209\" fill-opacity=\"1\" /><text x=\"452.8\" y=\"36.0\" font-size=\"20px\" dominant-baseline=\"middle\" text-anchor=\"middle\" font-family=\"Arial\" font-weight=\"normal\" fill=\"#ffffff\" >RY </text><text x=\"452.8\" y=\"52.0\" font-size=\"14.0px\" dominant-baseline=\"middle\" text-anchor=\"middle\" font-family=\"Arial\" font-weight=\"normal\" fill=\"#ffffff\" >mat0_RY02_0 </text><circle cx=\"592.8\" cy=\"100.0\" r=\"4\" fill=\"#fac209\" /><line x1=\"592.8\" x2=\"592.8\" y1=\"40.0\" y2=\"100.0\" stroke=\"#fac209\" stroke-width=\"3\" /><rect x=\"532.8\" y=\"20.0\" width=\"120.0\" height=\"40\" rx=\"4\" ry=\"4\" stroke=\"#ffffff\" stroke-width=\"0\" fill=\"#fac209\" fill-opacity=\"1\" /><text x=\"592.8\" y=\"36.0\" font-size=\"20px\" dominant-baseline=\"middle\" text-anchor=\"middle\" font-family=\"Arial\" font-weight=\"normal\" fill=\"#ffffff\" >RZ </text><text x=\"592.8\" y=\"52.0\" font-size=\"14.0px\" dominant-baseline=\"middle\" text-anchor=\"middle\" font-family=\"Arial\" font-weight=\"normal\" fill=\"#ffffff\" >mat0_Rz02_0 </text><rect x=\"672.8\" y=\"20.0\" width=\"40.0\" height=\"40\" rx=\"4\" ry=\"4\" stroke=\"#ffffff\" stroke-width=\"0\" fill=\"#5e7ce0\" fill-opacity=\"1\" /><text x=\"692.8\" y=\"40.0\" font-size=\"20px\" dominant-baseline=\"middle\" text-anchor=\"middle\" font-family=\"Arial\" font-weight=\"normal\" fill=\"#ffffff\" >X </text><circle cx=\"752.8\" cy=\"40.0\" r=\"4\" fill=\"#16acff\" /><line x1=\"752.8\" x2=\"752.8\" y1=\"40.0\" y2=\"100.0\" stroke=\"#16acff\" stroke-width=\"3\" /><rect x=\"732.8\" y=\"80.0\" width=\"40\" height=\"40\" rx=\"4\" ry=\"4\" stroke=\"#ffffff\" stroke-width=\"0\" fill=\"#16acff\" fill-opacity=\"1\" /><line x1=\"738.8\" x2=\"766.8\" y1=\"100.0\" y2=\"100.0\" stroke=\"#ffffff\" stroke-width=\"4\" /><line x1=\"752.8\" x2=\"752.8\" y1=\"86.0\" y2=\"114.0\" stroke=\"#ffffff\" stroke-width=\"4\" /><rect x=\"792.8\" y=\"20.0\" width=\"40.0\" height=\"40\" rx=\"4\" ry=\"4\" stroke=\"#ffffff\" stroke-width=\"0\" fill=\"#5e7ce0\" fill-opacity=\"1\" /><text x=\"812.8\" y=\"40.0\" font-size=\"20px\" dominant-baseline=\"middle\" text-anchor=\"middle\" font-family=\"Arial\" font-weight=\"normal\" fill=\"#ffffff\" >X </text><circle cx=\"872.8\" cy=\"40.0\" r=\"4\" fill=\"#16acff\" /><line x1=\"872.8\" x2=\"872.8\" y1=\"40.0\" y2=\"100.0\" stroke=\"#16acff\" stroke-width=\"3\" /><rect x=\"852.8\" y=\"80.0\" width=\"40\" height=\"40\" rx=\"4\" ry=\"4\" stroke=\"#ffffff\" stroke-width=\"0\" fill=\"#16acff\" fill-opacity=\"1\" /><line x1=\"858.8\" x2=\"886.8\" y1=\"100.0\" y2=\"100.0\" stroke=\"#ffffff\" stroke-width=\"4\" /><line x1=\"872.8\" x2=\"872.8\" y1=\"86.0\" y2=\"114.0\" stroke=\"#ffffff\" stroke-width=\"4\" /><circle cx=\"932.8\" cy=\"100.0\" r=\"4\" fill=\"#fac209\" /><line x1=\"932.8\" x2=\"932.8\" y1=\"40.0\" y2=\"100.0\" stroke=\"#fac209\" stroke-width=\"3\" /><rect x=\"912.8\" y=\"20.0\" width=\"40.0\" height=\"40\" rx=\"4\" ry=\"4\" stroke=\"#ffffff\" stroke-width=\"0\" fill=\"#fac209\" fill-opacity=\"1\" /><text x=\"932.8\" y=\"36.0\" font-size=\"20px\" dominant-baseline=\"middle\" text-anchor=\"middle\" font-family=\"Arial\" font-weight=\"normal\" fill=\"#ffffff\" >RY </text><text x=\"932.8\" y=\"52.0\" font-size=\"14.0px\" dominant-baseline=\"middle\" text-anchor=\"middle\" font-family=\"Arial\" font-weight=\"normal\" fill=\"#ffffff\" >-π/2 </text><circle cx=\"992.8\" cy=\"40.0\" r=\"4\" fill=\"#16acff\" /><line x1=\"992.8\" x2=\"992.8\" y1=\"40.0\" y2=\"100.0\" stroke=\"#16acff\" stroke-width=\"3\" /><rect x=\"972.8\" y=\"80.0\" width=\"40\" height=\"40\" rx=\"4\" ry=\"4\" stroke=\"#ffffff\" stroke-width=\"0\" fill=\"#16acff\" fill-opacity=\"1\" /><line x1=\"978.8\" x2=\"1006.8\" y1=\"100.0\" y2=\"100.0\" stroke=\"#ffffff\" stroke-width=\"4\" /><line x1=\"992.8\" x2=\"992.8\" y1=\"86.0\" y2=\"114.0\" stroke=\"#ffffff\" stroke-width=\"4\" /><circle cx=\"1092.8\" cy=\"100.0\" r=\"4\" fill=\"#fac209\" /><line x1=\"1092.8\" x2=\"1092.8\" y1=\"40.0\" y2=\"100.0\" stroke=\"#fac209\" stroke-width=\"3\" /><rect x=\"1032.8\" y=\"20.0\" width=\"120.0\" height=\"40\" rx=\"4\" ry=\"4\" stroke=\"#ffffff\" stroke-width=\"0\" fill=\"#fac209\" fill-opacity=\"1\" /><text x=\"1092.8\" y=\"36.0\" font-size=\"20px\" dominant-baseline=\"middle\" text-anchor=\"middle\" font-family=\"Arial\" font-weight=\"normal\" fill=\"#ffffff\" >RZ </text><text x=\"1092.8\" y=\"52.0\" font-size=\"14.0px\" dominant-baseline=\"middle\" text-anchor=\"middle\" font-family=\"Arial\" font-weight=\"normal\" fill=\"#ffffff\" >mat0_RZ12_1 </text><circle cx=\"1232.8\" cy=\"100.0\" r=\"4\" fill=\"#fac209\" /><line x1=\"1232.8\" x2=\"1232.8\" y1=\"40.0\" y2=\"100.0\" stroke=\"#fac209\" stroke-width=\"3\" /><rect x=\"1172.8\" y=\"20.0\" width=\"120.0\" height=\"40\" rx=\"4\" ry=\"4\" stroke=\"#ffffff\" stroke-width=\"0\" fill=\"#fac209\" fill-opacity=\"1\" /><text x=\"1232.8\" y=\"36.0\" font-size=\"20px\" dominant-baseline=\"middle\" text-anchor=\"middle\" font-family=\"Arial\" font-weight=\"normal\" fill=\"#ffffff\" >RY </text><text x=\"1232.8\" y=\"52.0\" font-size=\"14.0px\" dominant-baseline=\"middle\" text-anchor=\"middle\" font-family=\"Arial\" font-weight=\"normal\" fill=\"#ffffff\" >mat0_RY12_1 </text><circle cx=\"1372.8\" cy=\"100.0\" r=\"4\" fill=\"#fac209\" /><line x1=\"1372.8\" x2=\"1372.8\" y1=\"40.0\" y2=\"100.0\" stroke=\"#fac209\" stroke-width=\"3\" /><rect x=\"1312.8\" y=\"20.0\" width=\"120.0\" height=\"40\" rx=\"4\" ry=\"4\" stroke=\"#ffffff\" stroke-width=\"0\" fill=\"#fac209\" fill-opacity=\"1\" /><text x=\"1372.8\" y=\"36.0\" font-size=\"20px\" dominant-baseline=\"middle\" text-anchor=\"middle\" font-family=\"Arial\" font-weight=\"normal\" fill=\"#ffffff\" >RZ </text><text x=\"1372.8\" y=\"52.0\" font-size=\"14.0px\" dominant-baseline=\"middle\" text-anchor=\"middle\" font-family=\"Arial\" font-weight=\"normal\" fill=\"#ffffff\" >mat0_Rz12_1 </text><circle cx=\"1472.8\" cy=\"40.0\" r=\"4\" fill=\"#16acff\" /><line x1=\"1472.8\" x2=\"1472.8\" y1=\"40.0\" y2=\"100.0\" stroke=\"#16acff\" stroke-width=\"3\" /><rect x=\"1452.8\" y=\"80.0\" width=\"40\" height=\"40\" rx=\"4\" ry=\"4\" stroke=\"#ffffff\" stroke-width=\"0\" fill=\"#16acff\" fill-opacity=\"1\" /><line x1=\"1458.8\" x2=\"1486.8\" y1=\"100.0\" y2=\"100.0\" stroke=\"#ffffff\" stroke-width=\"4\" /><line x1=\"1472.8\" x2=\"1472.8\" y1=\"86.0\" y2=\"114.0\" stroke=\"#ffffff\" stroke-width=\"4\" /><circle cx=\"1532.8\" cy=\"100.0\" r=\"4\" fill=\"#fac209\" /><line x1=\"1532.8\" x2=\"1532.8\" y1=\"40.0\" y2=\"100.0\" stroke=\"#fac209\" stroke-width=\"3\" /><rect x=\"1512.8\" y=\"20.0\" width=\"40.0\" height=\"40\" rx=\"4\" ry=\"4\" stroke=\"#ffffff\" stroke-width=\"0\" fill=\"#fac209\" fill-opacity=\"1\" /><text x=\"1532.8\" y=\"36.0\" font-size=\"20px\" dominant-baseline=\"middle\" text-anchor=\"middle\" font-family=\"Arial\" font-weight=\"normal\" fill=\"#ffffff\" >RY </text><text x=\"1532.8\" y=\"52.0\" font-size=\"14.0px\" dominant-baseline=\"middle\" text-anchor=\"middle\" font-family=\"Arial\" font-weight=\"normal\" fill=\"#ffffff\" >π/2 </text><circle cx=\"1592.8\" cy=\"40.0\" r=\"4\" fill=\"#16acff\" /><line x1=\"1592.8\" x2=\"1592.8\" y1=\"40.0\" y2=\"100.0\" stroke=\"#16acff\" stroke-width=\"3\" /><rect x=\"1572.8\" y=\"80.0\" width=\"40\" height=\"40\" rx=\"4\" ry=\"4\" stroke=\"#ffffff\" stroke-width=\"0\" fill=\"#16acff\" fill-opacity=\"1\" /><line x1=\"1578.8\" x2=\"1606.8\" y1=\"100.0\" y2=\"100.0\" stroke=\"#ffffff\" stroke-width=\"4\" /><line x1=\"1592.8\" x2=\"1592.8\" y1=\"86.0\" y2=\"114.0\" stroke=\"#ffffff\" stroke-width=\"4\" /><rect x=\"1632.8\" y=\"20.0\" width=\"40.0\" height=\"40\" rx=\"4\" ry=\"4\" stroke=\"#ffffff\" stroke-width=\"0\" fill=\"#5e7ce0\" fill-opacity=\"1\" /><text x=\"1652.8\" y=\"40.0\" font-size=\"20px\" dominant-baseline=\"middle\" text-anchor=\"middle\" font-family=\"Arial\" font-weight=\"normal\" fill=\"#ffffff\" >X </text><circle cx=\"1712.8\" cy=\"40.0\" r=\"4\" fill=\"#16acff\" /><line x1=\"1712.8\" x2=\"1712.8\" y1=\"40.0\" y2=\"100.0\" stroke=\"#16acff\" stroke-width=\"3\" /><rect x=\"1692.8\" y=\"80.0\" width=\"40\" height=\"40\" rx=\"4\" ry=\"4\" stroke=\"#ffffff\" stroke-width=\"0\" fill=\"#16acff\" fill-opacity=\"1\" /><line x1=\"1698.8\" x2=\"1726.8\" y1=\"100.0\" y2=\"100.0\" stroke=\"#ffffff\" stroke-width=\"4\" /><line x1=\"1712.8\" x2=\"1712.8\" y1=\"86.0\" y2=\"114.0\" stroke=\"#ffffff\" stroke-width=\"4\" /><rect x=\"1752.8\" y=\"20.0\" width=\"40.0\" height=\"40\" rx=\"4\" ry=\"4\" stroke=\"#ffffff\" stroke-width=\"0\" fill=\"#5e7ce0\" fill-opacity=\"1\" /><text x=\"1772.8\" y=\"40.0\" font-size=\"20px\" dominant-baseline=\"middle\" text-anchor=\"middle\" font-family=\"Arial\" font-weight=\"normal\" fill=\"#ffffff\" >X </text><circle cx=\"1872.8\" cy=\"100.0\" r=\"4\" fill=\"#fac209\" /><line x1=\"1872.8\" x2=\"1872.8\" y1=\"40.0\" y2=\"100.0\" stroke=\"#fac209\" stroke-width=\"3\" /><rect x=\"1812.8\" y=\"20.0\" width=\"120.0\" height=\"40\" rx=\"4\" ry=\"4\" stroke=\"#ffffff\" stroke-width=\"0\" fill=\"#fac209\" fill-opacity=\"1\" /><text x=\"1872.8\" y=\"36.0\" font-size=\"20px\" dominant-baseline=\"middle\" text-anchor=\"middle\" font-family=\"Arial\" font-weight=\"normal\" fill=\"#ffffff\" >RZ </text><text x=\"1872.8\" y=\"52.0\" font-size=\"14.0px\" dominant-baseline=\"middle\" text-anchor=\"middle\" font-family=\"Arial\" font-weight=\"normal\" fill=\"#ffffff\" >mat0_RZ02_2 </text><circle cx=\"2012.8\" cy=\"100.0\" r=\"4\" fill=\"#fac209\" /><line x1=\"2012.8\" x2=\"2012.8\" y1=\"40.0\" y2=\"100.0\" stroke=\"#fac209\" stroke-width=\"3\" /><rect x=\"1952.8\" y=\"20.0\" width=\"120.0\" height=\"40\" rx=\"4\" ry=\"4\" stroke=\"#ffffff\" stroke-width=\"0\" fill=\"#fac209\" fill-opacity=\"1\" /><text x=\"2012.8\" y=\"36.0\" font-size=\"20px\" dominant-baseline=\"middle\" text-anchor=\"middle\" font-family=\"Arial\" font-weight=\"normal\" fill=\"#ffffff\" >RY </text><text x=\"2012.8\" y=\"52.0\" font-size=\"14.0px\" dominant-baseline=\"middle\" text-anchor=\"middle\" font-family=\"Arial\" font-weight=\"normal\" fill=\"#ffffff\" >mat0_RY02_2 </text><circle cx=\"2152.8\" cy=\"100.0\" r=\"4\" fill=\"#fac209\" /><line x1=\"2152.8\" x2=\"2152.8\" y1=\"40.0\" y2=\"100.0\" stroke=\"#fac209\" stroke-width=\"3\" /><rect x=\"2092.8\" y=\"20.0\" width=\"120.0\" height=\"40\" rx=\"4\" ry=\"4\" stroke=\"#ffffff\" stroke-width=\"0\" fill=\"#fac209\" fill-opacity=\"1\" /><text x=\"2152.8\" y=\"36.0\" font-size=\"20px\" dominant-baseline=\"middle\" text-anchor=\"middle\" font-family=\"Arial\" font-weight=\"normal\" fill=\"#ffffff\" >RZ </text><text x=\"2152.8\" y=\"52.0\" font-size=\"14.0px\" dominant-baseline=\"middle\" text-anchor=\"middle\" font-family=\"Arial\" font-weight=\"normal\" fill=\"#ffffff\" >mat0_Rz02_2 </text><rect x=\"2232.8\" y=\"20.0\" width=\"40.0\" height=\"40\" rx=\"4\" ry=\"4\" stroke=\"#ffffff\" stroke-width=\"0\" fill=\"#5e7ce0\" fill-opacity=\"1\" /><text x=\"2252.8\" y=\"40.0\" font-size=\"20px\" dominant-baseline=\"middle\" text-anchor=\"middle\" font-family=\"Arial\" font-weight=\"normal\" fill=\"#ffffff\" >X </text><circle cx=\"2312.8\" cy=\"40.0\" r=\"4\" fill=\"#16acff\" /><line x1=\"2312.8\" x2=\"2312.8\" y1=\"40.0\" y2=\"100.0\" stroke=\"#16acff\" stroke-width=\"3\" /><rect x=\"2292.8\" y=\"80.0\" width=\"40\" height=\"40\" rx=\"4\" ry=\"4\" stroke=\"#ffffff\" stroke-width=\"0\" fill=\"#16acff\" fill-opacity=\"1\" /><line x1=\"2298.8\" x2=\"2326.8\" y1=\"100.0\" y2=\"100.0\" stroke=\"#ffffff\" stroke-width=\"4\" /><line x1=\"2312.8\" x2=\"2312.8\" y1=\"86.0\" y2=\"114.0\" stroke=\"#ffffff\" stroke-width=\"4\" /><rect x=\"2352.8\" y=\"20.0\" width=\"40.0\" height=\"40\" rx=\"4\" ry=\"4\" stroke=\"#ffffff\" stroke-width=\"0\" fill=\"#5e7ce0\" fill-opacity=\"1\" /><text x=\"2372.8\" y=\"40.0\" font-size=\"20px\" dominant-baseline=\"middle\" text-anchor=\"middle\" font-family=\"Arial\" font-weight=\"normal\" fill=\"#ffffff\" >X </text><rect x=\"72.8\" y=\"140.0\" width=\"40.0\" height=\"40\" rx=\"4\" ry=\"4\" stroke=\"#ffffff\" stroke-width=\"0\" fill=\"#5e7ce0\" fill-opacity=\"1\" /><text x=\"92.8\" y=\"160.0\" font-size=\"20px\" dominant-baseline=\"middle\" text-anchor=\"middle\" font-family=\"Arial\" font-weight=\"normal\" fill=\"#ffffff\" >X </text><circle cx=\"152.8\" cy=\"160.0\" r=\"4\" fill=\"#16acff\" /><line x1=\"152.8\" x2=\"152.8\" y1=\"160.0\" y2=\"220.0\" stroke=\"#16acff\" stroke-width=\"3\" /><rect x=\"132.8\" y=\"200.0\" width=\"40\" height=\"40\" rx=\"4\" ry=\"4\" stroke=\"#ffffff\" stroke-width=\"0\" fill=\"#16acff\" fill-opacity=\"1\" /><line x1=\"138.8\" x2=\"166.8\" y1=\"220.0\" y2=\"220.0\" stroke=\"#ffffff\" stroke-width=\"4\" /><line x1=\"152.8\" x2=\"152.8\" y1=\"206.0\" y2=\"234.0\" stroke=\"#ffffff\" stroke-width=\"4\" /><rect x=\"192.8\" y=\"140.0\" width=\"40.0\" height=\"40\" rx=\"4\" ry=\"4\" stroke=\"#ffffff\" stroke-width=\"0\" fill=\"#5e7ce0\" fill-opacity=\"1\" /><text x=\"212.8\" y=\"160.0\" font-size=\"20px\" dominant-baseline=\"middle\" text-anchor=\"middle\" font-family=\"Arial\" font-weight=\"normal\" fill=\"#ffffff\" >X </text><circle cx=\"312.8\" cy=\"220.0\" r=\"4\" fill=\"#fac209\" /><line x1=\"312.8\" x2=\"312.8\" y1=\"160.0\" y2=\"220.0\" stroke=\"#fac209\" stroke-width=\"3\" /><rect x=\"252.8\" y=\"140.0\" width=\"120.0\" height=\"40\" rx=\"4\" ry=\"4\" stroke=\"#ffffff\" stroke-width=\"0\" fill=\"#fac209\" fill-opacity=\"1\" /><text x=\"312.8\" y=\"156.0\" font-size=\"20px\" dominant-baseline=\"middle\" text-anchor=\"middle\" font-family=\"Arial\" font-weight=\"normal\" fill=\"#ffffff\" >RZ </text><text x=\"312.8\" y=\"172.0\" font-size=\"14.0px\" dominant-baseline=\"middle\" text-anchor=\"middle\" font-family=\"Arial\" font-weight=\"normal\" fill=\"#ffffff\" >mat1_RZ02_0 </text><circle cx=\"452.8\" cy=\"220.0\" r=\"4\" fill=\"#fac209\" /><line x1=\"452.8\" x2=\"452.8\" y1=\"160.0\" y2=\"220.0\" stroke=\"#fac209\" stroke-width=\"3\" /><rect x=\"392.8\" y=\"140.0\" width=\"120.0\" height=\"40\" rx=\"4\" ry=\"4\" stroke=\"#ffffff\" stroke-width=\"0\" fill=\"#fac209\" fill-opacity=\"1\" /><text x=\"452.8\" y=\"156.0\" font-size=\"20px\" dominant-baseline=\"middle\" text-anchor=\"middle\" font-family=\"Arial\" font-weight=\"normal\" fill=\"#ffffff\" >RY </text><text x=\"452.8\" y=\"172.0\" font-size=\"14.0px\" dominant-baseline=\"middle\" text-anchor=\"middle\" font-family=\"Arial\" font-weight=\"normal\" fill=\"#ffffff\" >mat1_RY02_0 </text><circle cx=\"592.8\" cy=\"220.0\" r=\"4\" fill=\"#fac209\" /><line x1=\"592.8\" x2=\"592.8\" y1=\"160.0\" y2=\"220.0\" stroke=\"#fac209\" stroke-width=\"3\" /><rect x=\"532.8\" y=\"140.0\" width=\"120.0\" height=\"40\" rx=\"4\" ry=\"4\" stroke=\"#ffffff\" stroke-width=\"0\" fill=\"#fac209\" fill-opacity=\"1\" /><text x=\"592.8\" y=\"156.0\" font-size=\"20px\" dominant-baseline=\"middle\" text-anchor=\"middle\" font-family=\"Arial\" font-weight=\"normal\" fill=\"#ffffff\" >RZ </text><text x=\"592.8\" y=\"172.0\" font-size=\"14.0px\" dominant-baseline=\"middle\" text-anchor=\"middle\" font-family=\"Arial\" font-weight=\"normal\" fill=\"#ffffff\" >mat1_Rz02_0 </text><rect x=\"672.8\" y=\"140.0\" width=\"40.0\" height=\"40\" rx=\"4\" ry=\"4\" stroke=\"#ffffff\" stroke-width=\"0\" fill=\"#5e7ce0\" fill-opacity=\"1\" /><text x=\"692.8\" y=\"160.0\" font-size=\"20px\" dominant-baseline=\"middle\" text-anchor=\"middle\" font-family=\"Arial\" font-weight=\"normal\" fill=\"#ffffff\" >X </text><circle cx=\"752.8\" cy=\"160.0\" r=\"4\" fill=\"#16acff\" /><line x1=\"752.8\" x2=\"752.8\" y1=\"160.0\" y2=\"220.0\" stroke=\"#16acff\" stroke-width=\"3\" /><rect x=\"732.8\" y=\"200.0\" width=\"40\" height=\"40\" rx=\"4\" ry=\"4\" stroke=\"#ffffff\" stroke-width=\"0\" fill=\"#16acff\" fill-opacity=\"1\" /><line x1=\"738.8\" x2=\"766.8\" y1=\"220.0\" y2=\"220.0\" stroke=\"#ffffff\" stroke-width=\"4\" /><line x1=\"752.8\" x2=\"752.8\" y1=\"206.0\" y2=\"234.0\" stroke=\"#ffffff\" stroke-width=\"4\" /><rect x=\"792.8\" y=\"140.0\" width=\"40.0\" height=\"40\" rx=\"4\" ry=\"4\" stroke=\"#ffffff\" stroke-width=\"0\" fill=\"#5e7ce0\" fill-opacity=\"1\" /><text x=\"812.8\" y=\"160.0\" font-size=\"20px\" dominant-baseline=\"middle\" text-anchor=\"middle\" font-family=\"Arial\" font-weight=\"normal\" fill=\"#ffffff\" >X </text><circle cx=\"872.8\" cy=\"160.0\" r=\"4\" fill=\"#16acff\" /><line x1=\"872.8\" x2=\"872.8\" y1=\"160.0\" y2=\"220.0\" stroke=\"#16acff\" stroke-width=\"3\" /><rect x=\"852.8\" y=\"200.0\" width=\"40\" height=\"40\" rx=\"4\" ry=\"4\" stroke=\"#ffffff\" stroke-width=\"0\" fill=\"#16acff\" fill-opacity=\"1\" /><line x1=\"858.8\" x2=\"886.8\" y1=\"220.0\" y2=\"220.0\" stroke=\"#ffffff\" stroke-width=\"4\" /><line x1=\"872.8\" x2=\"872.8\" y1=\"206.0\" y2=\"234.0\" stroke=\"#ffffff\" stroke-width=\"4\" /><circle cx=\"932.8\" cy=\"220.0\" r=\"4\" fill=\"#fac209\" /><line x1=\"932.8\" x2=\"932.8\" y1=\"160.0\" y2=\"220.0\" stroke=\"#fac209\" stroke-width=\"3\" /><rect x=\"912.8\" y=\"140.0\" width=\"40.0\" height=\"40\" rx=\"4\" ry=\"4\" stroke=\"#ffffff\" stroke-width=\"0\" fill=\"#fac209\" fill-opacity=\"1\" /><text x=\"932.8\" y=\"156.0\" font-size=\"20px\" dominant-baseline=\"middle\" text-anchor=\"middle\" font-family=\"Arial\" font-weight=\"normal\" fill=\"#ffffff\" >RY </text><text x=\"932.8\" y=\"172.0\" font-size=\"14.0px\" dominant-baseline=\"middle\" text-anchor=\"middle\" font-family=\"Arial\" font-weight=\"normal\" fill=\"#ffffff\" >-π/2 </text><circle cx=\"992.8\" cy=\"160.0\" r=\"4\" fill=\"#16acff\" /><line x1=\"992.8\" x2=\"992.8\" y1=\"160.0\" y2=\"220.0\" stroke=\"#16acff\" stroke-width=\"3\" /><rect x=\"972.8\" y=\"200.0\" width=\"40\" height=\"40\" rx=\"4\" ry=\"4\" stroke=\"#ffffff\" stroke-width=\"0\" fill=\"#16acff\" fill-opacity=\"1\" /><line x1=\"978.8\" x2=\"1006.8\" y1=\"220.0\" y2=\"220.0\" stroke=\"#ffffff\" stroke-width=\"4\" /><line x1=\"992.8\" x2=\"992.8\" y1=\"206.0\" y2=\"234.0\" stroke=\"#ffffff\" stroke-width=\"4\" /><circle cx=\"1092.8\" cy=\"220.0\" r=\"4\" fill=\"#fac209\" /><line x1=\"1092.8\" x2=\"1092.8\" y1=\"160.0\" y2=\"220.0\" stroke=\"#fac209\" stroke-width=\"3\" /><rect x=\"1032.8\" y=\"140.0\" width=\"120.0\" height=\"40\" rx=\"4\" ry=\"4\" stroke=\"#ffffff\" stroke-width=\"0\" fill=\"#fac209\" fill-opacity=\"1\" /><text x=\"1092.8\" y=\"156.0\" font-size=\"20px\" dominant-baseline=\"middle\" text-anchor=\"middle\" font-family=\"Arial\" font-weight=\"normal\" fill=\"#ffffff\" >RZ </text><text x=\"1092.8\" y=\"172.0\" font-size=\"14.0px\" dominant-baseline=\"middle\" text-anchor=\"middle\" font-family=\"Arial\" font-weight=\"normal\" fill=\"#ffffff\" >mat1_RZ12_1 </text><circle cx=\"1232.8\" cy=\"220.0\" r=\"4\" fill=\"#fac209\" /><line x1=\"1232.8\" x2=\"1232.8\" y1=\"160.0\" y2=\"220.0\" stroke=\"#fac209\" stroke-width=\"3\" /><rect x=\"1172.8\" y=\"140.0\" width=\"120.0\" height=\"40\" rx=\"4\" ry=\"4\" stroke=\"#ffffff\" stroke-width=\"0\" fill=\"#fac209\" fill-opacity=\"1\" /><text x=\"1232.8\" y=\"156.0\" font-size=\"20px\" dominant-baseline=\"middle\" text-anchor=\"middle\" font-family=\"Arial\" font-weight=\"normal\" fill=\"#ffffff\" >RY </text><text x=\"1232.8\" y=\"172.0\" font-size=\"14.0px\" dominant-baseline=\"middle\" text-anchor=\"middle\" font-family=\"Arial\" font-weight=\"normal\" fill=\"#ffffff\" >mat1_RY12_1 </text><circle cx=\"1372.8\" cy=\"220.0\" r=\"4\" fill=\"#fac209\" /><line x1=\"1372.8\" x2=\"1372.8\" y1=\"160.0\" y2=\"220.0\" stroke=\"#fac209\" stroke-width=\"3\" /><rect x=\"1312.8\" y=\"140.0\" width=\"120.0\" height=\"40\" rx=\"4\" ry=\"4\" stroke=\"#ffffff\" stroke-width=\"0\" fill=\"#fac209\" fill-opacity=\"1\" /><text x=\"1372.8\" y=\"156.0\" font-size=\"20px\" dominant-baseline=\"middle\" text-anchor=\"middle\" font-family=\"Arial\" font-weight=\"normal\" fill=\"#ffffff\" >RZ </text><text x=\"1372.8\" y=\"172.0\" font-size=\"14.0px\" dominant-baseline=\"middle\" text-anchor=\"middle\" font-family=\"Arial\" font-weight=\"normal\" fill=\"#ffffff\" >mat1_Rz12_1 </text><circle cx=\"1472.8\" cy=\"160.0\" r=\"4\" fill=\"#16acff\" /><line x1=\"1472.8\" x2=\"1472.8\" y1=\"160.0\" y2=\"220.0\" stroke=\"#16acff\" stroke-width=\"3\" /><rect x=\"1452.8\" y=\"200.0\" width=\"40\" height=\"40\" rx=\"4\" ry=\"4\" stroke=\"#ffffff\" stroke-width=\"0\" fill=\"#16acff\" fill-opacity=\"1\" /><line x1=\"1458.8\" x2=\"1486.8\" y1=\"220.0\" y2=\"220.0\" stroke=\"#ffffff\" stroke-width=\"4\" /><line x1=\"1472.8\" x2=\"1472.8\" y1=\"206.0\" y2=\"234.0\" stroke=\"#ffffff\" stroke-width=\"4\" /><circle cx=\"1532.8\" cy=\"220.0\" r=\"4\" fill=\"#fac209\" /><line x1=\"1532.8\" x2=\"1532.8\" y1=\"160.0\" y2=\"220.0\" stroke=\"#fac209\" stroke-width=\"3\" /><rect x=\"1512.8\" y=\"140.0\" width=\"40.0\" height=\"40\" rx=\"4\" ry=\"4\" stroke=\"#ffffff\" stroke-width=\"0\" fill=\"#fac209\" fill-opacity=\"1\" /><text x=\"1532.8\" y=\"156.0\" font-size=\"20px\" dominant-baseline=\"middle\" text-anchor=\"middle\" font-family=\"Arial\" font-weight=\"normal\" fill=\"#ffffff\" >RY </text><text x=\"1532.8\" y=\"172.0\" font-size=\"14.0px\" dominant-baseline=\"middle\" text-anchor=\"middle\" font-family=\"Arial\" font-weight=\"normal\" fill=\"#ffffff\" >π/2 </text><circle cx=\"1592.8\" cy=\"160.0\" r=\"4\" fill=\"#16acff\" /><line x1=\"1592.8\" x2=\"1592.8\" y1=\"160.0\" y2=\"220.0\" stroke=\"#16acff\" stroke-width=\"3\" /><rect x=\"1572.8\" y=\"200.0\" width=\"40\" height=\"40\" rx=\"4\" ry=\"4\" stroke=\"#ffffff\" stroke-width=\"0\" fill=\"#16acff\" fill-opacity=\"1\" /><line x1=\"1578.8\" x2=\"1606.8\" y1=\"220.0\" y2=\"220.0\" stroke=\"#ffffff\" stroke-width=\"4\" /><line x1=\"1592.8\" x2=\"1592.8\" y1=\"206.0\" y2=\"234.0\" stroke=\"#ffffff\" stroke-width=\"4\" /><rect x=\"1632.8\" y=\"140.0\" width=\"40.0\" height=\"40\" rx=\"4\" ry=\"4\" stroke=\"#ffffff\" stroke-width=\"0\" fill=\"#5e7ce0\" fill-opacity=\"1\" /><text x=\"1652.8\" y=\"160.0\" font-size=\"20px\" dominant-baseline=\"middle\" text-anchor=\"middle\" font-family=\"Arial\" font-weight=\"normal\" fill=\"#ffffff\" >X </text><circle cx=\"1712.8\" cy=\"160.0\" r=\"4\" fill=\"#16acff\" /><line x1=\"1712.8\" x2=\"1712.8\" y1=\"160.0\" y2=\"220.0\" stroke=\"#16acff\" stroke-width=\"3\" /><rect x=\"1692.8\" y=\"200.0\" width=\"40\" height=\"40\" rx=\"4\" ry=\"4\" stroke=\"#ffffff\" stroke-width=\"0\" fill=\"#16acff\" fill-opacity=\"1\" /><line x1=\"1698.8\" x2=\"1726.8\" y1=\"220.0\" y2=\"220.0\" stroke=\"#ffffff\" stroke-width=\"4\" /><line x1=\"1712.8\" x2=\"1712.8\" y1=\"206.0\" y2=\"234.0\" stroke=\"#ffffff\" stroke-width=\"4\" /><rect x=\"1752.8\" y=\"140.0\" width=\"40.0\" height=\"40\" rx=\"4\" ry=\"4\" stroke=\"#ffffff\" stroke-width=\"0\" fill=\"#5e7ce0\" fill-opacity=\"1\" /><text x=\"1772.8\" y=\"160.0\" font-size=\"20px\" dominant-baseline=\"middle\" text-anchor=\"middle\" font-family=\"Arial\" font-weight=\"normal\" fill=\"#ffffff\" >X </text><circle cx=\"1872.8\" cy=\"220.0\" r=\"4\" fill=\"#fac209\" /><line x1=\"1872.8\" x2=\"1872.8\" y1=\"160.0\" y2=\"220.0\" stroke=\"#fac209\" stroke-width=\"3\" /><rect x=\"1812.8\" y=\"140.0\" width=\"120.0\" height=\"40\" rx=\"4\" ry=\"4\" stroke=\"#ffffff\" stroke-width=\"0\" fill=\"#fac209\" fill-opacity=\"1\" /><text x=\"1872.8\" y=\"156.0\" font-size=\"20px\" dominant-baseline=\"middle\" text-anchor=\"middle\" font-family=\"Arial\" font-weight=\"normal\" fill=\"#ffffff\" >RZ </text><text x=\"1872.8\" y=\"172.0\" font-size=\"14.0px\" dominant-baseline=\"middle\" text-anchor=\"middle\" font-family=\"Arial\" font-weight=\"normal\" fill=\"#ffffff\" >mat1_RZ02_2 </text><circle cx=\"2012.8\" cy=\"220.0\" r=\"4\" fill=\"#fac209\" /><line x1=\"2012.8\" x2=\"2012.8\" y1=\"160.0\" y2=\"220.0\" stroke=\"#fac209\" stroke-width=\"3\" /><rect x=\"1952.8\" y=\"140.0\" width=\"120.0\" height=\"40\" rx=\"4\" ry=\"4\" stroke=\"#ffffff\" stroke-width=\"0\" fill=\"#fac209\" fill-opacity=\"1\" /><text x=\"2012.8\" y=\"156.0\" font-size=\"20px\" dominant-baseline=\"middle\" text-anchor=\"middle\" font-family=\"Arial\" font-weight=\"normal\" fill=\"#ffffff\" >RY </text><text x=\"2012.8\" y=\"172.0\" font-size=\"14.0px\" dominant-baseline=\"middle\" text-anchor=\"middle\" font-family=\"Arial\" font-weight=\"normal\" fill=\"#ffffff\" >mat1_RY02_2 </text><circle cx=\"2152.8\" cy=\"220.0\" r=\"4\" fill=\"#fac209\" /><line x1=\"2152.8\" x2=\"2152.8\" y1=\"160.0\" y2=\"220.0\" stroke=\"#fac209\" stroke-width=\"3\" /><rect x=\"2092.8\" y=\"140.0\" width=\"120.0\" height=\"40\" rx=\"4\" ry=\"4\" stroke=\"#ffffff\" stroke-width=\"0\" fill=\"#fac209\" fill-opacity=\"1\" /><text x=\"2152.8\" y=\"156.0\" font-size=\"20px\" dominant-baseline=\"middle\" text-anchor=\"middle\" font-family=\"Arial\" font-weight=\"normal\" fill=\"#ffffff\" >RZ </text><text x=\"2152.8\" y=\"172.0\" font-size=\"14.0px\" dominant-baseline=\"middle\" text-anchor=\"middle\" font-family=\"Arial\" font-weight=\"normal\" fill=\"#ffffff\" >mat1_Rz02_2 </text><rect x=\"2232.8\" y=\"140.0\" width=\"40.0\" height=\"40\" rx=\"4\" ry=\"4\" stroke=\"#ffffff\" stroke-width=\"0\" fill=\"#5e7ce0\" fill-opacity=\"1\" /><text x=\"2252.8\" y=\"160.0\" font-size=\"20px\" dominant-baseline=\"middle\" text-anchor=\"middle\" font-family=\"Arial\" font-weight=\"normal\" fill=\"#ffffff\" >X </text><circle cx=\"2312.8\" cy=\"160.0\" r=\"4\" fill=\"#16acff\" /><line x1=\"2312.8\" x2=\"2312.8\" y1=\"160.0\" y2=\"220.0\" stroke=\"#16acff\" stroke-width=\"3\" /><rect x=\"2292.8\" y=\"200.0\" width=\"40\" height=\"40\" rx=\"4\" ry=\"4\" stroke=\"#ffffff\" stroke-width=\"0\" fill=\"#16acff\" fill-opacity=\"1\" /><line x1=\"2298.8\" x2=\"2326.8\" y1=\"220.0\" y2=\"220.0\" stroke=\"#ffffff\" stroke-width=\"4\" /><line x1=\"2312.8\" x2=\"2312.8\" y1=\"206.0\" y2=\"234.0\" stroke=\"#ffffff\" stroke-width=\"4\" /><rect x=\"2352.8\" y=\"140.0\" width=\"40.0\" height=\"40\" rx=\"4\" ry=\"4\" stroke=\"#ffffff\" stroke-width=\"0\" fill=\"#5e7ce0\" fill-opacity=\"1\" /><text x=\"2372.8\" y=\"160.0\" font-size=\"20px\" dominant-baseline=\"middle\" text-anchor=\"middle\" font-family=\"Arial\" font-weight=\"normal\" fill=\"#ffffff\" >X </text></svg>"
      ],
      "text/plain": [
       "<mindquantum.io.display.circuit_svg_drawer.SVGCircuit at 0x1cf0a377820>"
      ]
     },
     "execution_count": 3,
     "metadata": {},
     "output_type": "execute_result"
    }
   ],
   "source": [
    "def fun(p0, sim_grad, args=None):\n",
    "    f, g = sim_grad(p0)\n",
    "    f = 1 - np.real(f)[0][0]\n",
    "    g = -np.real(g)[0][0]\n",
    "    if args is not None:\n",
    "        args.append(f)\n",
    "        i = len(args)\n",
    "        if i % 10 == 0:\n",
    "            global start\n",
    "            t = time.perf_counter() - start\n",
    "            print('Loss: %.15f, Fidelity: %.15f, %3d, %.4f' % (f, 1 - f, i, t))\n",
    "    return f, g\n",
    "\n",
    "\n",
    "def Ub(basis, d, ind, pr, obj):\n",
    "    if d != 3:\n",
    "        raise ValueError('Only works when d = 3')\n",
    "    if len(ind) != 2:\n",
    "        raise ValueError(f'U3 index length {len(ind)} should be 2')\n",
    "    if len(set(ind)) != len(ind):\n",
    "        raise ValueError(f'U3 index {ind} cannot be repeated')\n",
    "    if min(ind) < 0 or max(ind) >= d:\n",
    "        raise ValueError(f'U3 index {ind} should in 0 to {d-1}')\n",
    "    if len(pr) != 3:\n",
    "        raise ValueError(f'U3 params length {len(pr)} should be 3')\n",
    "    circ = Circuit()\n",
    "    if ind == [0, 1]:\n",
    "        corr = Circuit() + X(obj[1], obj[0]) + RY(np.pi / 2).on(obj[0], obj[1]) + X(obj[1], obj[0]) + X(obj[1])\n",
    "    elif ind == [0, 2]:\n",
    "        corr = Circuit() + X(obj[0]) + X(obj[1], obj[0]) + X(obj[0])\n",
    "    elif ind == [1, 2]:\n",
    "        corr = Circuit() + X(obj[1], obj[0]) + RY(-np.pi / 2).on(obj[0], obj[1]) + X(obj[1], obj[0])\n",
    "    circ += corr\n",
    "    if basis == 'zyz':\n",
    "        circ += RZ(pr[0]).on(obj[0], obj[1])\n",
    "        circ += RY(pr[1]).on(obj[0], obj[1])\n",
    "        circ += RZ(pr[2]).on(obj[0], obj[1])\n",
    "    elif basis == 'u3':\n",
    "        theta, phi, lam = pr\n",
    "        circ += U3(theta, phi, lam).on(obj[0], obj[1])\n",
    "    else:\n",
    "        raise ValueError(f'Wrong basis {basis} is not in {opt_basis}')\n",
    "    circ += corr.hermitian()\n",
    "    return circ\n",
    "\n",
    "\n",
    "def one_qutrit_symmetric_ansatz(gate: UnivMathGate, basis: str = 'zyz', with_phase: bool = False):\n",
    "    name = f'{gate.name}_'\n",
    "    obj = gate.obj_qubits\n",
    "    circ = Circuit()\n",
    "    index = [[0, 2], [1, 2], [0, 2]]\n",
    "    if basis == 'zyz':\n",
    "        for i, ind in enumerate(index):\n",
    "            str_pr = f'{\"\".join(str(i) for i in ind)}_{i}'\n",
    "            pr = [f'{name}RZ{str_pr}', f'{name}RY{str_pr}', f'{name}Rz{str_pr}']\n",
    "            circ += Ub(basis, d, ind, pr, obj)\n",
    "    elif basis == 'u3':\n",
    "        for i, ind in enumerate(index):\n",
    "            str_pr = f'{\"\".join(str(i) for i in ind)}_{i}'\n",
    "            pr = [f'{name}𝜃{str_pr}', f'{name}𝜑{str_pr}', f'{name}𝜆{str_pr}']\n",
    "            circ += Ub(basis, d, ind, pr, obj)\n",
    "    else:\n",
    "        raise ValueError(f'Wrong basis {basis} is not in {opt_basis}')\n",
    "    if with_phase:\n",
    "        for i in obj:\n",
    "            circ += GlobalPhase(f'phase').on(i)\n",
    "    return circ\n",
    "\n",
    "\n",
    "opt_basis = ['zyz', 'u3']\n",
    "\n",
    "d, m = 3, 2\n",
    "nq = d - 1\n",
    "Id = su2_encoding(np.eye(d))\n",
    "p = np.eye(Id.shape[0]) - Id\n",
    "\n",
    "circ = Circuit()\n",
    "ansatz = Circuit()\n",
    "for i in range(m):\n",
    "    mat = unitary_group.rvs(d)\n",
    "    mat = su2_encoding(mat) + p\n",
    "    obj = list(range(nq * i, nq * (i + 1)))\n",
    "    gate = UnivMathGate(f'mat{i}', mat).on(obj)\n",
    "    circ += gate\n",
    "    ansatz += one_qutrit_symmetric_ansatz(gate, 'zyz')\n",
    "\n",
    "nq = circ.n_qubits\n",
    "sim = Simulator('mqvector', nq)\n",
    "sim.apply_circuit(circ)\n",
    "psi = sim.get_qs()\n",
    "\n",
    "rho = np.outer(psi, psi.conj())\n",
    "Ham = Hamiltonian(csr_matrix(rho))\n",
    "print('Hamiltonian Dimension:', rho.shape)\n",
    "\n",
    "p_name = ansatz.ansatz_params_name\n",
    "p_num = len(p_name)\n",
    "g_num = sum(1 for _ in ansatz)\n",
    "print('Number of qubits: %d' % nq)\n",
    "print('Number of params: %d' % p_num)\n",
    "print('Number of gates: %d' % g_num)\n",
    "\n",
    "sim.reset()\n",
    "sim_grad = sim.get_expectation_with_grad(Ham, ansatz)\n",
    "p0 = np.random.uniform(-1, 1, p_num)\n",
    "fun(p0, sim_grad)\n",
    "start = time.perf_counter()\n",
    "res = minimize(fun, p0, args=(sim_grad, []), method='CG', jac=True, tol=1e-8)\n",
    "\n",
    "print(res.message)\n",
    "print('Optimal: %.20f' % res.fun)\n",
    "\n",
    "sim.reset()\n",
    "pr_res = dict(zip(p_name, res.x))\n",
    "sim.apply_circuit(ansatz.apply_value(pr_res))\n",
    "psi_res = sim.get_qs()\n",
    "print('psi norm: %.20f' % norm(psi - psi_res, 2))\n",
    "print('psi fidelity: %.20f' % fidelity(psi, psi_res))\n",
    "print('Is state symmetric:', is_symmetric(psi, m), is_symmetric(psi_res, m))\n",
    "\n",
    "ansatz.svg()"
   ]
  },
  {
   "cell_type": "code",
   "execution_count": 4,
   "metadata": {},
   "outputs": [
    {
     "name": "stdout",
     "output_type": "stream",
     "text": [
      "[[ 1.        +0.j          0.        +0.j          0.        +0.j          0.        +0.j          0.        +0.j          0.        +0.j          0.        +0.j          0.        +0.j          0.        +0.j        ]\n",
      " [ 0.        +0.j          1.        +0.j          0.        +0.j          0.        +0.j          0.        +0.j          0.        +0.j          0.        +0.j          0.        +0.j          0.        +0.j        ]\n",
      " [ 0.        +0.j          0.        +0.j          1.        +0.j          0.        +0.j          0.        +0.j          0.        +0.j          0.        +0.j          0.        +0.j          0.        +0.j        ]\n",
      " [ 0.        +0.j          0.        +0.j          0.        +0.j          0.91615867-0.38947545j  0.0358917 +0.08760114j  0.        +0.j          0.        +0.j          0.        +0.j          0.        +0.j        ]\n",
      " [ 0.        +0.j          0.        +0.j          0.        +0.j          0.07291218-0.06038201j -0.6248494 -0.77498455j  0.        +0.j          0.        +0.j          0.        +0.j          0.        +0.j        ]\n",
      " [ 0.        +0.j          0.        +0.j          0.        +0.j          0.        +0.j          0.        +0.j          1.        +0.j          0.        +0.j          0.        +0.j          0.        +0.j        ]\n",
      " [ 0.        +0.j          0.        +0.j          0.        +0.j          0.        +0.j          0.        +0.j          0.        +0.j          1.        +0.j          0.        +0.j          0.        +0.j        ]\n",
      " [ 0.        +0.j          0.        +0.j          0.        +0.j          0.        +0.j          0.        +0.j          0.        +0.j          0.        +0.j          1.        +0.j          0.        +0.j        ]\n",
      " [ 0.        +0.j          0.        +0.j          0.        +0.j          0.        +0.j          0.        +0.j          0.        +0.j          0.        +0.j          0.        +0.j          1.        +0.j        ]]\n",
      "[[ 1.        +0.j          0.        +0.j          0.        +0.j          0.        +0.j          0.        +0.j          0.        +0.j          0.        +0.j          0.        +0.j          0.        +0.j          0.        +0.j          0.        +0.j          0.        +0.j          0.        +0.j          0.        +0.j          0.        +0.j          0.        +0.j        ]\n",
      " [ 0.        +0.j          1.        +0.j          0.        +0.j          0.        +0.j          0.        +0.j          0.        +0.j          0.        +0.j          0.        +0.j          0.        +0.j          0.        +0.j          0.        +0.j          0.        +0.j          0.        +0.j          0.        +0.j          0.        +0.j          0.        +0.j        ]\n",
      " [ 0.        +0.j          0.        +0.j          1.        +0.j          0.        +0.j          0.        +0.j          0.        +0.j          0.        +0.j          0.        +0.j          0.        +0.j          0.        +0.j          0.        +0.j          0.        +0.j          0.        +0.j          0.        +0.j          0.        +0.j          0.        +0.j        ]\n",
      " [ 0.        +0.j          0.        +0.j          0.        +0.j          1.        +0.j          0.        +0.j          0.        +0.j          0.        +0.j          0.        +0.j          0.        +0.j          0.        +0.j          0.        +0.j          0.        +0.j          0.        +0.j          0.        +0.j          0.        +0.j          0.        +0.j        ]\n",
      " [ 0.        +0.j          0.        +0.j          0.        +0.j          0.        +0.j          0.95807933-0.19473772j  0.01268963+0.03097168j  0.01268963+0.03097168j  0.        +0.j         -0.04192067-0.19473772j  0.01268963+0.03097168j  0.01268963+0.03097168j  0.        +0.j          0.        +0.j          0.        +0.j          0.        +0.j          0.        +0.j        ]\n",
      " [ 0.        +0.j          0.        +0.j          0.        +0.j          0.        +0.j          0.02577835-0.02134827j  0.59378765-0.19374614j -0.40621235-0.19374614j  0.        +0.j          0.02577835-0.02134827j -0.40621235-0.19374614j -0.40621235-0.19374614j  0.        +0.j          0.        +0.j          0.        +0.j          0.        +0.j          0.        +0.j        ]\n",
      " [ 0.        +0.j          0.        +0.j          0.        +0.j          0.        +0.j          0.02577835-0.02134827j -0.40621235-0.19374614j  0.59378765-0.19374614j  0.        +0.j          0.02577835-0.02134827j -0.40621235-0.19374614j -0.40621235-0.19374614j  0.        +0.j          0.        +0.j          0.        +0.j          0.        +0.j          0.        +0.j        ]\n",
      " [ 0.        +0.j          0.        +0.j          0.        +0.j          0.        +0.j          0.        +0.j          0.        +0.j          0.        +0.j          1.        +0.j          0.        +0.j          0.        +0.j          0.        +0.j          0.        +0.j          0.        +0.j          0.        +0.j          0.        +0.j          0.        +0.j        ]\n",
      " [ 0.        +0.j          0.        +0.j          0.        +0.j          0.        +0.j         -0.04192067-0.19473772j  0.01268963+0.03097168j  0.01268963+0.03097168j  0.        +0.j          0.95807933-0.19473772j  0.01268963+0.03097168j  0.01268963+0.03097168j  0.        +0.j          0.        +0.j          0.        +0.j          0.        +0.j          0.        +0.j        ]\n",
      " [ 0.        +0.j          0.        +0.j          0.        +0.j          0.        +0.j          0.02577835-0.02134827j -0.40621235-0.19374614j -0.40621235-0.19374614j  0.        +0.j          0.02577835-0.02134827j  0.59378765-0.19374614j -0.40621235-0.19374614j  0.        +0.j          0.        +0.j          0.        +0.j          0.        +0.j          0.        +0.j        ]\n",
      " [ 0.        +0.j          0.        +0.j          0.        +0.j          0.        +0.j          0.02577835-0.02134827j -0.40621235-0.19374614j -0.40621235-0.19374614j  0.        +0.j          0.02577835-0.02134827j -0.40621235-0.19374614j  0.59378765-0.19374614j  0.        +0.j          0.        +0.j          0.        +0.j          0.        +0.j          0.        +0.j        ]\n",
      " [ 0.        +0.j          0.        +0.j          0.        +0.j          0.        +0.j          0.        +0.j          0.        +0.j          0.        +0.j          0.        +0.j          0.        +0.j          0.        +0.j          0.        +0.j          1.        +0.j          0.        +0.j          0.        +0.j          0.        +0.j          0.        +0.j        ]\n",
      " [ 0.        +0.j          0.        +0.j          0.        +0.j          0.        +0.j          0.        +0.j          0.        +0.j          0.        +0.j          0.        +0.j          0.        +0.j          0.        +0.j          0.        +0.j          0.        +0.j          1.        +0.j          0.        +0.j          0.        +0.j          0.        +0.j        ]\n",
      " [ 0.        +0.j          0.        +0.j          0.        +0.j          0.        +0.j          0.        +0.j          0.        +0.j          0.        +0.j          0.        +0.j          0.        +0.j          0.        +0.j          0.        +0.j          0.        +0.j          0.        +0.j          1.        +0.j          0.        +0.j          0.        +0.j        ]\n",
      " [ 0.        +0.j          0.        +0.j          0.        +0.j          0.        +0.j          0.        +0.j          0.        +0.j          0.        +0.j          0.        +0.j          0.        +0.j          0.        +0.j          0.        +0.j          0.        +0.j          0.        +0.j          0.        +0.j          1.        +0.j          0.        +0.j        ]\n",
      " [ 0.        +0.j          0.        +0.j          0.        +0.j          0.        +0.j          0.        +0.j          0.        +0.j          0.        +0.j          0.        +0.j          0.        +0.j          0.        +0.j          0.        +0.j          0.        +0.j          0.        +0.j          0.        +0.j          0.        +0.j          1.        +0.j        ]]\n",
      "True\n"
     ]
    },
    {
     "data": {
      "image/svg+xml": [
       "<svg xmlns=\"http://www.w3.org/2000/svg\" width=\"876.8\" height=\"260.0\" xmlns:xlink=\"http://www.w3.org/1999/xlink\"><rect x=\"0\" y=\"0.0\" width=\"876.8\" height=\"260.0\" fill=\"#ffffff\" /><text x=\"20.0\" y=\"40.0\" font-size=\"16px\" dominant-baseline=\"middle\" text-anchor=\"start\" font-family=\"Arial\" font-weight=\"normal\" fill=\"#252b3a\" >q0: </text><text x=\"20.0\" y=\"100.0\" font-size=\"16px\" dominant-baseline=\"middle\" text-anchor=\"start\" font-family=\"Arial\" font-weight=\"normal\" fill=\"#252b3a\" >q1: </text><text x=\"20.0\" y=\"160.0\" font-size=\"16px\" dominant-baseline=\"middle\" text-anchor=\"start\" font-family=\"Arial\" font-weight=\"normal\" fill=\"#252b3a\" >q2: </text><text x=\"20.0\" y=\"220.0\" font-size=\"16px\" dominant-baseline=\"middle\" text-anchor=\"start\" font-family=\"Arial\" font-weight=\"normal\" fill=\"#252b3a\" >q3: </text><line x1=\"48.8\" x2=\"856.8\" y1=\"40.0\" y2=\"40.0\" stroke=\"#adb0b8\" stroke-width=\"1\" /><line x1=\"48.8\" x2=\"856.8\" y1=\"100.0\" y2=\"100.0\" stroke=\"#adb0b8\" stroke-width=\"1\" /><line x1=\"48.8\" x2=\"856.8\" y1=\"160.0\" y2=\"160.0\" stroke=\"#adb0b8\" stroke-width=\"1\" /><line x1=\"48.8\" x2=\"856.8\" y1=\"220.0\" y2=\"220.0\" stroke=\"#adb0b8\" stroke-width=\"1\" /><circle cx=\"92.8\" cy=\"220.0\" r=\"4\" fill=\"#16acff\" /><line x1=\"92.8\" x2=\"92.8\" y1=\"160.0\" y2=\"220.0\" stroke=\"#16acff\" stroke-width=\"3\" /><rect x=\"72.8\" y=\"140.0\" width=\"40\" height=\"40\" rx=\"4\" ry=\"4\" stroke=\"#ffffff\" stroke-width=\"0\" fill=\"#16acff\" fill-opacity=\"1\" /><line x1=\"78.8\" x2=\"106.8\" y1=\"160.0\" y2=\"160.0\" stroke=\"#ffffff\" stroke-width=\"4\" /><line x1=\"92.8\" x2=\"92.8\" y1=\"146.0\" y2=\"174.0\" stroke=\"#ffffff\" stroke-width=\"4\" /><rect x=\"132.8\" y=\"200.0\" width=\"40.0\" height=\"40\" rx=\"4\" ry=\"4\" stroke=\"#ffffff\" stroke-width=\"0\" fill=\"#fac209\" fill-opacity=\"1\" /><text x=\"152.8\" y=\"216.0\" font-size=\"20px\" dominant-baseline=\"middle\" text-anchor=\"middle\" font-family=\"Arial\" font-weight=\"normal\" fill=\"#ffffff\" >RY </text><text x=\"152.8\" y=\"232.0\" font-size=\"14.0px\" dominant-baseline=\"middle\" text-anchor=\"middle\" font-family=\"Arial\" font-weight=\"normal\" fill=\"#ffffff\" >π/2 </text><circle cx=\"212.8\" cy=\"40.0\" r=\"4\" fill=\"#5e7ce0\" /><circle cx=\"212.8\" cy=\"160.0\" r=\"4\" fill=\"#5e7ce0\" /><circle cx=\"212.8\" cy=\"220.0\" r=\"4\" fill=\"#5e7ce0\" /><line x1=\"212.8\" x2=\"212.8\" y1=\"40.0\" y2=\"220.0\" stroke=\"#5e7ce0\" stroke-width=\"3\" /><rect x=\"192.8\" y=\"80.0\" width=\"40.0\" height=\"40\" rx=\"4\" ry=\"4\" stroke=\"#ffffff\" stroke-width=\"0\" fill=\"#5e7ce0\" fill-opacity=\"1\" /><text x=\"212.8\" y=\"100.0\" font-size=\"20px\" dominant-baseline=\"middle\" text-anchor=\"middle\" font-family=\"Arial\" font-weight=\"normal\" fill=\"#ffffff\" >X </text><circle cx=\"272.8\" cy=\"100.0\" r=\"4\" fill=\"#fac209\" /><circle cx=\"272.8\" cy=\"160.0\" r=\"4\" fill=\"#fac209\" /><circle cx=\"272.8\" cy=\"220.0\" r=\"4\" fill=\"#fac209\" /><line x1=\"272.8\" x2=\"272.8\" y1=\"40.0\" y2=\"220.0\" stroke=\"#fac209\" stroke-width=\"3\" /><rect x=\"252.8\" y=\"20.0\" width=\"40.0\" height=\"40\" rx=\"4\" ry=\"4\" stroke=\"#ffffff\" stroke-width=\"0\" fill=\"#fac209\" fill-opacity=\"1\" /><text x=\"272.8\" y=\"36.0\" font-size=\"20px\" dominant-baseline=\"middle\" text-anchor=\"middle\" font-family=\"Arial\" font-weight=\"normal\" fill=\"#ffffff\" >RY </text><text x=\"272.8\" y=\"52.0\" font-size=\"14.0px\" dominant-baseline=\"middle\" text-anchor=\"middle\" font-family=\"Arial\" font-weight=\"normal\" fill=\"#ffffff\" >π/2 </text><circle cx=\"332.8\" cy=\"40.0\" r=\"4\" fill=\"#5e7ce0\" /><circle cx=\"332.8\" cy=\"160.0\" r=\"4\" fill=\"#5e7ce0\" /><circle cx=\"332.8\" cy=\"220.0\" r=\"4\" fill=\"#5e7ce0\" /><line x1=\"332.8\" x2=\"332.8\" y1=\"40.0\" y2=\"220.0\" stroke=\"#5e7ce0\" stroke-width=\"3\" /><rect x=\"312.8\" y=\"80.0\" width=\"40.0\" height=\"40\" rx=\"4\" ry=\"4\" stroke=\"#ffffff\" stroke-width=\"0\" fill=\"#5e7ce0\" fill-opacity=\"1\" /><text x=\"332.8\" y=\"100.0\" font-size=\"20px\" dominant-baseline=\"middle\" text-anchor=\"middle\" font-family=\"Arial\" font-weight=\"normal\" fill=\"#ffffff\" >X </text><circle cx=\"392.8\" cy=\"160.0\" r=\"4\" fill=\"#5e7ce0\" /><circle cx=\"392.8\" cy=\"220.0\" r=\"4\" fill=\"#5e7ce0\" /><line x1=\"392.8\" x2=\"392.8\" y1=\"100.0\" y2=\"220.0\" stroke=\"#5e7ce0\" stroke-width=\"3\" /><rect x=\"372.8\" y=\"80.0\" width=\"40.0\" height=\"40\" rx=\"4\" ry=\"4\" stroke=\"#ffffff\" stroke-width=\"0\" fill=\"#5e7ce0\" fill-opacity=\"1\" /><text x=\"392.8\" y=\"100.0\" font-size=\"20px\" dominant-baseline=\"middle\" text-anchor=\"middle\" font-family=\"Arial\" font-weight=\"normal\" fill=\"#ffffff\" >X </text><circle cx=\"452.8\" cy=\"100.0\" r=\"4\" fill=\"#5e7ce0\" /><circle cx=\"452.8\" cy=\"160.0\" r=\"4\" fill=\"#5e7ce0\" /><circle cx=\"452.8\" cy=\"220.0\" r=\"4\" fill=\"#5e7ce0\" /><line x1=\"452.8\" x2=\"452.8\" y1=\"40.0\" y2=\"220.0\" stroke=\"#5e7ce0\" stroke-width=\"3\" /><rect x=\"432.8\" y=\"20.0\" width=\"40.0\" height=\"40\" rx=\"4\" ry=\"4\" stroke=\"#ffffff\" stroke-width=\"0\" fill=\"#5e7ce0\" fill-opacity=\"1\" /><text x=\"452.8\" y=\"40.0\" font-size=\"20px\" dominant-baseline=\"middle\" text-anchor=\"middle\" font-family=\"Arial\" font-weight=\"normal\" fill=\"#ffffff\" >U </text><circle cx=\"512.8\" cy=\"160.0\" r=\"4\" fill=\"#5e7ce0\" /><circle cx=\"512.8\" cy=\"220.0\" r=\"4\" fill=\"#5e7ce0\" /><line x1=\"512.8\" x2=\"512.8\" y1=\"100.0\" y2=\"220.0\" stroke=\"#5e7ce0\" stroke-width=\"3\" /><rect x=\"492.8\" y=\"80.0\" width=\"40.0\" height=\"40\" rx=\"4\" ry=\"4\" stroke=\"#ffffff\" stroke-width=\"0\" fill=\"#5e7ce0\" fill-opacity=\"1\" /><text x=\"512.8\" y=\"100.0\" font-size=\"20px\" dominant-baseline=\"middle\" text-anchor=\"middle\" font-family=\"Arial\" font-weight=\"normal\" fill=\"#ffffff\" >X </text><circle cx=\"572.8\" cy=\"40.0\" r=\"4\" fill=\"#5e7ce0\" /><circle cx=\"572.8\" cy=\"160.0\" r=\"4\" fill=\"#5e7ce0\" /><circle cx=\"572.8\" cy=\"220.0\" r=\"4\" fill=\"#5e7ce0\" /><line x1=\"572.8\" x2=\"572.8\" y1=\"40.0\" y2=\"220.0\" stroke=\"#5e7ce0\" stroke-width=\"3\" /><rect x=\"552.8\" y=\"80.0\" width=\"40.0\" height=\"40\" rx=\"4\" ry=\"4\" stroke=\"#ffffff\" stroke-width=\"0\" fill=\"#5e7ce0\" fill-opacity=\"1\" /><text x=\"572.8\" y=\"100.0\" font-size=\"20px\" dominant-baseline=\"middle\" text-anchor=\"middle\" font-family=\"Arial\" font-weight=\"normal\" fill=\"#ffffff\" >X </text><circle cx=\"632.8\" cy=\"100.0\" r=\"4\" fill=\"#fac209\" /><circle cx=\"632.8\" cy=\"160.0\" r=\"4\" fill=\"#fac209\" /><circle cx=\"632.8\" cy=\"220.0\" r=\"4\" fill=\"#fac209\" /><line x1=\"632.8\" x2=\"632.8\" y1=\"40.0\" y2=\"220.0\" stroke=\"#fac209\" stroke-width=\"3\" /><rect x=\"612.8\" y=\"20.0\" width=\"40.0\" height=\"40\" rx=\"4\" ry=\"4\" stroke=\"#ffffff\" stroke-width=\"0\" fill=\"#fac209\" fill-opacity=\"1\" /><text x=\"632.8\" y=\"36.0\" font-size=\"20px\" dominant-baseline=\"middle\" text-anchor=\"middle\" font-family=\"Arial\" font-weight=\"normal\" fill=\"#ffffff\" >RY </text><text x=\"632.8\" y=\"52.0\" font-size=\"14.0px\" dominant-baseline=\"middle\" text-anchor=\"middle\" font-family=\"Arial\" font-weight=\"normal\" fill=\"#ffffff\" >-π/2 </text><circle cx=\"692.8\" cy=\"40.0\" r=\"4\" fill=\"#5e7ce0\" /><circle cx=\"692.8\" cy=\"160.0\" r=\"4\" fill=\"#5e7ce0\" /><circle cx=\"692.8\" cy=\"220.0\" r=\"4\" fill=\"#5e7ce0\" /><line x1=\"692.8\" x2=\"692.8\" y1=\"40.0\" y2=\"220.0\" stroke=\"#5e7ce0\" stroke-width=\"3\" /><rect x=\"672.8\" y=\"80.0\" width=\"40.0\" height=\"40\" rx=\"4\" ry=\"4\" stroke=\"#ffffff\" stroke-width=\"0\" fill=\"#5e7ce0\" fill-opacity=\"1\" /><text x=\"692.8\" y=\"100.0\" font-size=\"20px\" dominant-baseline=\"middle\" text-anchor=\"middle\" font-family=\"Arial\" font-weight=\"normal\" fill=\"#ffffff\" >X </text><rect x=\"732.8\" y=\"200.0\" width=\"40.0\" height=\"40\" rx=\"4\" ry=\"4\" stroke=\"#ffffff\" stroke-width=\"0\" fill=\"#fac209\" fill-opacity=\"1\" /><text x=\"752.8\" y=\"216.0\" font-size=\"20px\" dominant-baseline=\"middle\" text-anchor=\"middle\" font-family=\"Arial\" font-weight=\"normal\" fill=\"#ffffff\" >RY </text><text x=\"752.8\" y=\"232.0\" font-size=\"14.0px\" dominant-baseline=\"middle\" text-anchor=\"middle\" font-family=\"Arial\" font-weight=\"normal\" fill=\"#ffffff\" >-π/2 </text><circle cx=\"812.8\" cy=\"220.0\" r=\"4\" fill=\"#16acff\" /><line x1=\"812.8\" x2=\"812.8\" y1=\"160.0\" y2=\"220.0\" stroke=\"#16acff\" stroke-width=\"3\" /><rect x=\"792.8\" y=\"140.0\" width=\"40\" height=\"40\" rx=\"4\" ry=\"4\" stroke=\"#ffffff\" stroke-width=\"0\" fill=\"#16acff\" fill-opacity=\"1\" /><line x1=\"798.8\" x2=\"826.8\" y1=\"160.0\" y2=\"160.0\" stroke=\"#ffffff\" stroke-width=\"4\" /><line x1=\"812.8\" x2=\"812.8\" y1=\"146.0\" y2=\"174.0\" stroke=\"#ffffff\" stroke-width=\"4\" /></svg>"
      ],
      "text/plain": [
       "<mindquantum.io.display.circuit_svg_drawer.SVGCircuit at 0x1cf43afa640>"
      ]
     },
     "execution_count": 4,
     "metadata": {},
     "output_type": "execute_result"
    }
   ],
   "source": [
    "# Qubit ansatz of qutrit controlled unitary gate\n",
    "d = 3\n",
    "m = 1\n",
    "ind = [0, 1]\n",
    "U = unitary_group.rvs(2)\n",
    "print(GCU(d, ind, U, m))\n",
    "\n",
    "p = np.eye(2**((d - 1) * 2)) - su2_encoding(np.eye(d**2), 2)\n",
    "GCUe = su2_encoding(GCU(d, ind, U, m), 2)\n",
    "GCUp = GCUe + p\n",
    "# print(GCUp)\n",
    "\n",
    "circ = Circuit()\n",
    "if m == 0:\n",
    "    if ind == [0, 1]:\n",
    "        corr = Circuit() + X(2) + X(3) + X(1, [0, 2, 3]) + RY(np.pi / 2).on(0, [1, 2, 3]) + X(1, [0, 2, 3]) + X(\n",
    "            1, [2, 3])\n",
    "    elif ind == [0, 2]:\n",
    "        corr = Circuit() + X(2) + X(3) + X(0, [2, 3]) + X(1, [0, 2, 3]) + X(0, [2, 3])\n",
    "    elif ind == [1, 2]:\n",
    "        corr = Circuit() + X(2) + X(3) + X(1, [0, 2, 3]) + RY(-np.pi / 2).on(0, [1, 2, 3]) + X(1, [0, 2, 3])\n",
    "elif m == 1:\n",
    "    if ind == [0, 1]:\n",
    "        corr = Circuit() + X(2, 3) + RY(np.pi / 2).on(3) + X(1, [0, 2, 3]) + RY(np.pi / 2).on(0, [1, 2, 3]) + X(1, [0, 2, 3]) + X(1, [2, 3])\n",
    "    elif ind == [0, 2]:\n",
    "        corr = Circuit() + X(2, 3) + RY(np.pi / 2).on(3) + X(0, [2, 3]) + X(1, [0, 2, 3]) + X(0, [2, 3])\n",
    "    elif ind == [1, 2]:\n",
    "        corr = Circuit() + X(2, 3) + RY(np.pi / 2).on(3) + X(1, [0, 2, 3]) + RY(-np.pi / 2).on(0, [1, 2, 3]) + X(1, [0, 2, 3])\n",
    "elif m == 2:\n",
    "    if ind == [0, 1]:\n",
    "        corr = Circuit() + X(1, [0, 2, 3]) + RY(np.pi / 2).on(0, [1, 2, 3]) + X(1, [0, 2, 3]) + X(1, [2, 3])\n",
    "    elif ind == [0, 2]:\n",
    "        corr = Circuit() + X(0, [2, 3]) + X(1, [0, 2, 3]) + X(0, [2, 3])\n",
    "    elif ind == [1, 2]:\n",
    "        corr = Circuit() + X(1, [0, 2, 3]) + RY(-np.pi / 2).on(0, [1, 2, 3]) + X(1, [0, 2, 3])\n",
    "circ += corr\n",
    "circ += UnivMathGate('U', U).on(0, [1, 2, 3])\n",
    "circ += corr.hermitian()\n",
    "print(circ.matrix())\n",
    "print(np.allclose(GCUp, circ.matrix()))\n",
    "circ.svg()"
   ]
  },
  {
   "cell_type": "code",
   "execution_count": 5,
   "metadata": {},
   "outputs": [
    {
     "name": "stdout",
     "output_type": "stream",
     "text": [
      "[[ 1.        +0.j         0.        +0.j         0.        +0.j         0.        +0.j         0.        +0.j         0.        +0.j         0.        +0.j         0.        +0.j         0.        +0.j         0.        +0.j         0.        +0.j         0.        +0.j         0.        +0.j         0.        +0.j         0.        +0.j         0.        +0.j       ]\n",
      " [ 0.        +0.j         1.        +0.j         0.        +0.j         0.        +0.j         0.        +0.j         0.        +0.j         0.        +0.j         0.        +0.j         0.        +0.j         0.        +0.j         0.        +0.j         0.        +0.j         0.        +0.j         0.        +0.j         0.        +0.j         0.        +0.j       ]\n",
      " [ 0.        +0.j         0.        +0.j         1.        +0.j         0.        +0.j         0.        +0.j         0.        +0.j         0.        +0.j         0.        +0.j         0.        +0.j         0.        +0.j         0.        +0.j         0.        +0.j         0.        +0.j         0.        +0.j         0.        +0.j         0.        +0.j       ]\n",
      " [ 0.        +0.j         0.        +0.j         0.        +0.j         1.        +0.j         0.        +0.j         0.        +0.j         0.        +0.j         0.        +0.j         0.        +0.j         0.        +0.j         0.        +0.j         0.        +0.j         0.        +0.j         0.        +0.j         0.        +0.j         0.        +0.j       ]\n",
      " [ 0.        +0.j         0.        +0.j         0.        +0.j         0.        +0.j         0.9330127 +0.j         0.        -0.1767767j  0.        -0.1767767j  0.        +0.j        -0.0669873 +0.j         0.        -0.1767767j  0.        -0.1767767j  0.        +0.j         0.        +0.j         0.        +0.j         0.        +0.j         0.        +0.j       ]\n",
      " [ 0.        +0.j         0.        +0.j         0.        +0.j         0.        +0.j         0.        -0.1767767j  0.96650635+0.j        -0.03349365+0.j         0.        +0.j         0.        -0.1767767j -0.03349365+0.j        -0.03349365+0.j         0.        +0.j         0.        +0.j         0.        +0.j         0.        +0.j         0.        +0.j       ]\n",
      " [ 0.        +0.j         0.        +0.j         0.        +0.j         0.        +0.j         0.        -0.1767767j -0.03349365+0.j         0.96650635+0.j         0.        +0.j         0.        -0.1767767j -0.03349365+0.j        -0.03349365+0.j         0.        +0.j         0.        +0.j         0.        +0.j         0.        +0.j         0.        +0.j       ]\n",
      " [ 0.        +0.j         0.        +0.j         0.        +0.j         0.        +0.j         0.        +0.j         0.        +0.j         0.        +0.j         1.        +0.j         0.        +0.j         0.        +0.j         0.        +0.j         0.        +0.j         0.        +0.j         0.        +0.j         0.        +0.j         0.        +0.j       ]\n",
      " [ 0.        +0.j         0.        +0.j         0.        +0.j         0.        +0.j        -0.0669873 +0.j         0.        -0.1767767j  0.        -0.1767767j  0.        +0.j         0.9330127 +0.j         0.        -0.1767767j  0.        -0.1767767j  0.        +0.j         0.        +0.j         0.        +0.j         0.        +0.j         0.        +0.j       ]\n",
      " [ 0.        +0.j         0.        +0.j         0.        +0.j         0.        +0.j         0.        -0.1767767j -0.03349365+0.j        -0.03349365+0.j         0.        +0.j         0.        -0.1767767j  0.96650635+0.j        -0.03349365+0.j         0.        +0.j         0.        +0.j         0.        +0.j         0.        +0.j         0.        +0.j       ]\n",
      " [ 0.        +0.j         0.        +0.j         0.        +0.j         0.        +0.j         0.        -0.1767767j -0.03349365+0.j        -0.03349365+0.j         0.        +0.j         0.        -0.1767767j -0.03349365+0.j         0.96650635+0.j         0.        +0.j         0.        +0.j         0.        +0.j         0.        +0.j         0.        +0.j       ]\n",
      " [ 0.        +0.j         0.        +0.j         0.        +0.j         0.        +0.j         0.        +0.j         0.        +0.j         0.        +0.j         0.        +0.j         0.        +0.j         0.        +0.j         0.        +0.j         1.        +0.j         0.        +0.j         0.        +0.j         0.        +0.j         0.        +0.j       ]\n",
      " [ 0.        +0.j         0.        +0.j         0.        +0.j         0.        +0.j         0.        +0.j         0.        +0.j         0.        +0.j         0.        +0.j         0.        +0.j         0.        +0.j         0.        +0.j         0.        +0.j         1.        +0.j         0.        +0.j         0.        +0.j         0.        +0.j       ]\n",
      " [ 0.        +0.j         0.        +0.j         0.        +0.j         0.        +0.j         0.        +0.j         0.        +0.j         0.        +0.j         0.        +0.j         0.        +0.j         0.        +0.j         0.        +0.j         0.        +0.j         0.        +0.j         1.        +0.j         0.        +0.j         0.        +0.j       ]\n",
      " [ 0.        +0.j         0.        +0.j         0.        +0.j         0.        +0.j         0.        +0.j         0.        +0.j         0.        +0.j         0.        +0.j         0.        +0.j         0.        +0.j         0.        +0.j         0.        +0.j         0.        +0.j         0.        +0.j         1.        +0.j         0.        +0.j       ]\n",
      " [ 0.        +0.j         0.        +0.j         0.        +0.j         0.        +0.j         0.        +0.j         0.        +0.j         0.        +0.j         0.        +0.j         0.        +0.j         0.        +0.j         0.        +0.j         0.        +0.j         0.        +0.j         0.        +0.j         0.        +0.j         1.        +0.j       ]]\n",
      "True\n"
     ]
    },
    {
     "data": {
      "image/svg+xml": [
       "<svg xmlns=\"http://www.w3.org/2000/svg\" width=\"916.8\" height=\"260.0\" xmlns:xlink=\"http://www.w3.org/1999/xlink\"><rect x=\"0\" y=\"0.0\" width=\"916.8\" height=\"260.0\" fill=\"#ffffff\" /><text x=\"20.0\" y=\"40.0\" font-size=\"16px\" dominant-baseline=\"middle\" text-anchor=\"start\" font-family=\"Arial\" font-weight=\"normal\" fill=\"#252b3a\" >q0: </text><text x=\"20.0\" y=\"100.0\" font-size=\"16px\" dominant-baseline=\"middle\" text-anchor=\"start\" font-family=\"Arial\" font-weight=\"normal\" fill=\"#252b3a\" >q1: </text><text x=\"20.0\" y=\"160.0\" font-size=\"16px\" dominant-baseline=\"middle\" text-anchor=\"start\" font-family=\"Arial\" font-weight=\"normal\" fill=\"#252b3a\" >q2: </text><text x=\"20.0\" y=\"220.0\" font-size=\"16px\" dominant-baseline=\"middle\" text-anchor=\"start\" font-family=\"Arial\" font-weight=\"normal\" fill=\"#252b3a\" >q3: </text><line x1=\"48.8\" x2=\"896.8\" y1=\"40.0\" y2=\"40.0\" stroke=\"#adb0b8\" stroke-width=\"1\" /><line x1=\"48.8\" x2=\"896.8\" y1=\"100.0\" y2=\"100.0\" stroke=\"#adb0b8\" stroke-width=\"1\" /><line x1=\"48.8\" x2=\"896.8\" y1=\"160.0\" y2=\"160.0\" stroke=\"#adb0b8\" stroke-width=\"1\" /><line x1=\"48.8\" x2=\"896.8\" y1=\"220.0\" y2=\"220.0\" stroke=\"#adb0b8\" stroke-width=\"1\" /><circle cx=\"92.8\" cy=\"220.0\" r=\"4\" fill=\"#16acff\" /><line x1=\"92.8\" x2=\"92.8\" y1=\"160.0\" y2=\"220.0\" stroke=\"#16acff\" stroke-width=\"3\" /><rect x=\"72.8\" y=\"140.0\" width=\"40\" height=\"40\" rx=\"4\" ry=\"4\" stroke=\"#ffffff\" stroke-width=\"0\" fill=\"#16acff\" fill-opacity=\"1\" /><line x1=\"78.8\" x2=\"106.8\" y1=\"160.0\" y2=\"160.0\" stroke=\"#ffffff\" stroke-width=\"4\" /><line x1=\"92.8\" x2=\"92.8\" y1=\"146.0\" y2=\"174.0\" stroke=\"#ffffff\" stroke-width=\"4\" /><rect x=\"132.8\" y=\"200.0\" width=\"40.0\" height=\"40\" rx=\"4\" ry=\"4\" stroke=\"#ffffff\" stroke-width=\"0\" fill=\"#fac209\" fill-opacity=\"1\" /><text x=\"152.8\" y=\"216.0\" font-size=\"20px\" dominant-baseline=\"middle\" text-anchor=\"middle\" font-family=\"Arial\" font-weight=\"normal\" fill=\"#ffffff\" >RY </text><text x=\"152.8\" y=\"232.0\" font-size=\"14.0px\" dominant-baseline=\"middle\" text-anchor=\"middle\" font-family=\"Arial\" font-weight=\"normal\" fill=\"#ffffff\" >π/2 </text><circle cx=\"212.8\" cy=\"40.0\" r=\"4\" fill=\"#5e7ce0\" /><circle cx=\"212.8\" cy=\"160.0\" r=\"4\" fill=\"#5e7ce0\" /><circle cx=\"212.8\" cy=\"220.0\" r=\"4\" fill=\"#5e7ce0\" /><line x1=\"212.8\" x2=\"212.8\" y1=\"40.0\" y2=\"220.0\" stroke=\"#5e7ce0\" stroke-width=\"3\" /><rect x=\"192.8\" y=\"80.0\" width=\"40.0\" height=\"40\" rx=\"4\" ry=\"4\" stroke=\"#ffffff\" stroke-width=\"0\" fill=\"#5e7ce0\" fill-opacity=\"1\" /><text x=\"212.8\" y=\"100.0\" font-size=\"20px\" dominant-baseline=\"middle\" text-anchor=\"middle\" font-family=\"Arial\" font-weight=\"normal\" fill=\"#ffffff\" >X </text><circle cx=\"272.8\" cy=\"100.0\" r=\"4\" fill=\"#fac209\" /><circle cx=\"272.8\" cy=\"160.0\" r=\"4\" fill=\"#fac209\" /><circle cx=\"272.8\" cy=\"220.0\" r=\"4\" fill=\"#fac209\" /><line x1=\"272.8\" x2=\"272.8\" y1=\"40.0\" y2=\"220.0\" stroke=\"#fac209\" stroke-width=\"3\" /><rect x=\"252.8\" y=\"20.0\" width=\"40.0\" height=\"40\" rx=\"4\" ry=\"4\" stroke=\"#ffffff\" stroke-width=\"0\" fill=\"#fac209\" fill-opacity=\"1\" /><text x=\"272.8\" y=\"36.0\" font-size=\"20px\" dominant-baseline=\"middle\" text-anchor=\"middle\" font-family=\"Arial\" font-weight=\"normal\" fill=\"#ffffff\" >RY </text><text x=\"272.8\" y=\"52.0\" font-size=\"14.0px\" dominant-baseline=\"middle\" text-anchor=\"middle\" font-family=\"Arial\" font-weight=\"normal\" fill=\"#ffffff\" >π/2 </text><circle cx=\"332.8\" cy=\"40.0\" r=\"4\" fill=\"#5e7ce0\" /><circle cx=\"332.8\" cy=\"160.0\" r=\"4\" fill=\"#5e7ce0\" /><circle cx=\"332.8\" cy=\"220.0\" r=\"4\" fill=\"#5e7ce0\" /><line x1=\"332.8\" x2=\"332.8\" y1=\"40.0\" y2=\"220.0\" stroke=\"#5e7ce0\" stroke-width=\"3\" /><rect x=\"312.8\" y=\"80.0\" width=\"40.0\" height=\"40\" rx=\"4\" ry=\"4\" stroke=\"#ffffff\" stroke-width=\"0\" fill=\"#5e7ce0\" fill-opacity=\"1\" /><text x=\"332.8\" y=\"100.0\" font-size=\"20px\" dominant-baseline=\"middle\" text-anchor=\"middle\" font-family=\"Arial\" font-weight=\"normal\" fill=\"#ffffff\" >X </text><circle cx=\"392.8\" cy=\"160.0\" r=\"4\" fill=\"#5e7ce0\" /><circle cx=\"392.8\" cy=\"220.0\" r=\"4\" fill=\"#5e7ce0\" /><line x1=\"392.8\" x2=\"392.8\" y1=\"100.0\" y2=\"220.0\" stroke=\"#5e7ce0\" stroke-width=\"3\" /><rect x=\"372.8\" y=\"80.0\" width=\"40.0\" height=\"40\" rx=\"4\" ry=\"4\" stroke=\"#ffffff\" stroke-width=\"0\" fill=\"#5e7ce0\" fill-opacity=\"1\" /><text x=\"392.8\" y=\"100.0\" font-size=\"20px\" dominant-baseline=\"middle\" text-anchor=\"middle\" font-family=\"Arial\" font-weight=\"normal\" fill=\"#ffffff\" >X </text><circle cx=\"472.8\" cy=\"100.0\" r=\"4\" fill=\"#fac209\" /><circle cx=\"472.8\" cy=\"160.0\" r=\"4\" fill=\"#fac209\" /><circle cx=\"472.8\" cy=\"220.0\" r=\"4\" fill=\"#fac209\" /><line x1=\"472.8\" x2=\"472.8\" y1=\"40.0\" y2=\"220.0\" stroke=\"#fac209\" stroke-width=\"3\" /><rect x=\"432.8\" y=\"20.0\" width=\"80.0\" height=\"40\" rx=\"4\" ry=\"4\" stroke=\"#ffffff\" stroke-width=\"0\" fill=\"#fac209\" fill-opacity=\"1\" /><text x=\"472.8\" y=\"36.0\" font-size=\"20px\" dominant-baseline=\"middle\" text-anchor=\"middle\" font-family=\"Arial\" font-weight=\"normal\" fill=\"#ffffff\" >RX </text><text x=\"472.8\" y=\"52.0\" font-size=\"14.0px\" dominant-baseline=\"middle\" text-anchor=\"middle\" font-family=\"Arial\" font-weight=\"normal\" fill=\"#ffffff\" >1.0472 </text><circle cx=\"552.8\" cy=\"160.0\" r=\"4\" fill=\"#5e7ce0\" /><circle cx=\"552.8\" cy=\"220.0\" r=\"4\" fill=\"#5e7ce0\" /><line x1=\"552.8\" x2=\"552.8\" y1=\"100.0\" y2=\"220.0\" stroke=\"#5e7ce0\" stroke-width=\"3\" /><rect x=\"532.8\" y=\"80.0\" width=\"40.0\" height=\"40\" rx=\"4\" ry=\"4\" stroke=\"#ffffff\" stroke-width=\"0\" fill=\"#5e7ce0\" fill-opacity=\"1\" /><text x=\"552.8\" y=\"100.0\" font-size=\"20px\" dominant-baseline=\"middle\" text-anchor=\"middle\" font-family=\"Arial\" font-weight=\"normal\" fill=\"#ffffff\" >X </text><circle cx=\"612.8\" cy=\"40.0\" r=\"4\" fill=\"#5e7ce0\" /><circle cx=\"612.8\" cy=\"160.0\" r=\"4\" fill=\"#5e7ce0\" /><circle cx=\"612.8\" cy=\"220.0\" r=\"4\" fill=\"#5e7ce0\" /><line x1=\"612.8\" x2=\"612.8\" y1=\"40.0\" y2=\"220.0\" stroke=\"#5e7ce0\" stroke-width=\"3\" /><rect x=\"592.8\" y=\"80.0\" width=\"40.0\" height=\"40\" rx=\"4\" ry=\"4\" stroke=\"#ffffff\" stroke-width=\"0\" fill=\"#5e7ce0\" fill-opacity=\"1\" /><text x=\"612.8\" y=\"100.0\" font-size=\"20px\" dominant-baseline=\"middle\" text-anchor=\"middle\" font-family=\"Arial\" font-weight=\"normal\" fill=\"#ffffff\" >X </text><circle cx=\"672.8\" cy=\"100.0\" r=\"4\" fill=\"#fac209\" /><circle cx=\"672.8\" cy=\"160.0\" r=\"4\" fill=\"#fac209\" /><circle cx=\"672.8\" cy=\"220.0\" r=\"4\" fill=\"#fac209\" /><line x1=\"672.8\" x2=\"672.8\" y1=\"40.0\" y2=\"220.0\" stroke=\"#fac209\" stroke-width=\"3\" /><rect x=\"652.8\" y=\"20.0\" width=\"40.0\" height=\"40\" rx=\"4\" ry=\"4\" stroke=\"#ffffff\" stroke-width=\"0\" fill=\"#fac209\" fill-opacity=\"1\" /><text x=\"672.8\" y=\"36.0\" font-size=\"20px\" dominant-baseline=\"middle\" text-anchor=\"middle\" font-family=\"Arial\" font-weight=\"normal\" fill=\"#ffffff\" >RY </text><text x=\"672.8\" y=\"52.0\" font-size=\"14.0px\" dominant-baseline=\"middle\" text-anchor=\"middle\" font-family=\"Arial\" font-weight=\"normal\" fill=\"#ffffff\" >-π/2 </text><circle cx=\"732.8\" cy=\"40.0\" r=\"4\" fill=\"#5e7ce0\" /><circle cx=\"732.8\" cy=\"160.0\" r=\"4\" fill=\"#5e7ce0\" /><circle cx=\"732.8\" cy=\"220.0\" r=\"4\" fill=\"#5e7ce0\" /><line x1=\"732.8\" x2=\"732.8\" y1=\"40.0\" y2=\"220.0\" stroke=\"#5e7ce0\" stroke-width=\"3\" /><rect x=\"712.8\" y=\"80.0\" width=\"40.0\" height=\"40\" rx=\"4\" ry=\"4\" stroke=\"#ffffff\" stroke-width=\"0\" fill=\"#5e7ce0\" fill-opacity=\"1\" /><text x=\"732.8\" y=\"100.0\" font-size=\"20px\" dominant-baseline=\"middle\" text-anchor=\"middle\" font-family=\"Arial\" font-weight=\"normal\" fill=\"#ffffff\" >X </text><rect x=\"772.8\" y=\"200.0\" width=\"40.0\" height=\"40\" rx=\"4\" ry=\"4\" stroke=\"#ffffff\" stroke-width=\"0\" fill=\"#fac209\" fill-opacity=\"1\" /><text x=\"792.8\" y=\"216.0\" font-size=\"20px\" dominant-baseline=\"middle\" text-anchor=\"middle\" font-family=\"Arial\" font-weight=\"normal\" fill=\"#ffffff\" >RY </text><text x=\"792.8\" y=\"232.0\" font-size=\"14.0px\" dominant-baseline=\"middle\" text-anchor=\"middle\" font-family=\"Arial\" font-weight=\"normal\" fill=\"#ffffff\" >-π/2 </text><circle cx=\"852.8\" cy=\"220.0\" r=\"4\" fill=\"#16acff\" /><line x1=\"852.8\" x2=\"852.8\" y1=\"160.0\" y2=\"220.0\" stroke=\"#16acff\" stroke-width=\"3\" /><rect x=\"832.8\" y=\"140.0\" width=\"40\" height=\"40\" rx=\"4\" ry=\"4\" stroke=\"#ffffff\" stroke-width=\"0\" fill=\"#16acff\" fill-opacity=\"1\" /><line x1=\"838.8\" x2=\"866.8\" y1=\"160.0\" y2=\"160.0\" stroke=\"#ffffff\" stroke-width=\"4\" /><line x1=\"852.8\" x2=\"852.8\" y1=\"146.0\" y2=\"174.0\" stroke=\"#ffffff\" stroke-width=\"4\" /></svg>"
      ],
      "text/plain": [
       "<mindquantum.io.display.circuit_svg_drawer.SVGCircuit at 0x1cf08a25100>"
      ]
     },
     "execution_count": 5,
     "metadata": {},
     "output_type": "execute_result"
    }
   ],
   "source": [
    "# Qubit ansatz of qutrit controlled rotation gate\n",
    "d = 3\n",
    "m = 1\n",
    "name = 'X'\n",
    "ind = [0, 1]\n",
    "t = np.pi / 3\n",
    "# print(GCR(name, d, ind, t, m))\n",
    "\n",
    "p = np.eye(2**((d - 1) * 2)) - su2_encoding(np.eye(d**2), 2)\n",
    "GCRe = su2_encoding(GCR(name, d, ind, t, m), 2)\n",
    "GCRp = GCRe + p\n",
    "# print(GCRp)\n",
    "\n",
    "circ = Circuit()\n",
    "if m == 0:\n",
    "    if ind == [0, 1]:\n",
    "        corr = Circuit() + X(2) + X(3) + X(1, [0, 2, 3]) + RY(np.pi / 2).on(0, [1, 2, 3]) + X(1, [0, 2, 3]) + X(\n",
    "            1, [2, 3])\n",
    "    elif ind == [0, 2]:\n",
    "        corr = Circuit() + X(2) + X(3) + X(0, [2, 3]) + X(1, [0, 2, 3]) + X(0, [2, 3])\n",
    "    elif ind == [1, 2]:\n",
    "        corr = Circuit() + X(2) + X(3) + X(1, [0, 2, 3]) + RY(-np.pi / 2).on(0, [1, 2, 3]) + X(1, [0, 2, 3])\n",
    "elif m == 1:\n",
    "    if ind == [0, 1]:\n",
    "        corr = Circuit() + X(2, 3) + RY(np.pi / 2).on(3) + X(1, [0, 2, 3]) + RY(np.pi / 2).on(0, [1, 2, 3]) + X(1, [0, 2, 3]) + X(1, [2, 3])\n",
    "    elif ind == [0, 2]:\n",
    "        corr = Circuit() + X(2, 3) + RY(np.pi / 2).on(3) + X(0, [2, 3]) + X(1, [0, 2, 3]) + X(0, [2, 3])\n",
    "    elif ind == [1, 2]:\n",
    "        corr = Circuit() + X(2, 3) + RY(np.pi / 2).on(3) + X(1, [0, 2, 3]) + RY(-np.pi / 2).on(0, [1, 2, 3]) + X(1, [0, 2, 3])\n",
    "elif m == 2:\n",
    "    if ind == [0, 1]:\n",
    "        corr = Circuit() + X(1, [0, 2, 3]) + RY(np.pi / 2).on(0, [1, 2, 3]) + X(1, [0, 2, 3]) + X(1, [2, 3])\n",
    "    elif ind == [0, 2]:\n",
    "        corr = Circuit() + X(0, [2, 3]) + X(1, [0, 2, 3]) + X(0, [2, 3])\n",
    "    elif ind == [1, 2]:\n",
    "        corr = Circuit() + X(1, [0, 2, 3]) + RY(-np.pi / 2).on(0, [1, 2, 3]) + X(1, [0, 2, 3])\n",
    "circ += corr\n",
    "if name == 'X':\n",
    "    circ = circ + RX(t).on(0, [1, 2, 3])\n",
    "elif name == 'Y':\n",
    "    circ = circ + RY(t).on(0, [1, 2, 3])\n",
    "elif name == 'Z':\n",
    "    circ = circ + RZ(t).on(0, [1, 2, 3])\n",
    "circ += corr.hermitian()\n",
    "print(circ.matrix())\n",
    "print(np.allclose(GCRp, circ.matrix()))\n",
    "circ.svg()"
   ]
  },
  {
   "cell_type": "code",
   "execution_count": 6,
   "metadata": {},
   "outputs": [
    {
     "name": "stdout",
     "output_type": "stream",
     "text": [
      "[[1.+0.j 0.+0.j 0.+0.j 0.+0.j 0.+0.j 0.+0.j 0.+0.j 0.+0.j 0.+0.j]\n",
      " [0.+0.j 1.+0.j 0.+0.j 0.+0.j 0.+0.j 0.+0.j 0.+0.j 0.+0.j 0.+0.j]\n",
      " [0.+0.j 0.+0.j 1.+0.j 0.+0.j 0.+0.j 0.+0.j 0.+0.j 0.+0.j 0.+0.j]\n",
      " [0.+0.j 0.+0.j 0.+0.j 0.+0.j 1.+0.j 0.+0.j 0.+0.j 0.+0.j 0.+0.j]\n",
      " [0.+0.j 0.+0.j 0.+0.j 1.+0.j 0.+0.j 0.+0.j 0.+0.j 0.+0.j 0.+0.j]\n",
      " [0.+0.j 0.+0.j 0.+0.j 0.+0.j 0.+0.j 1.+0.j 0.+0.j 0.+0.j 0.+0.j]\n",
      " [0.+0.j 0.+0.j 0.+0.j 0.+0.j 0.+0.j 0.+0.j 1.+0.j 0.+0.j 0.+0.j]\n",
      " [0.+0.j 0.+0.j 0.+0.j 0.+0.j 0.+0.j 0.+0.j 0.+0.j 1.+0.j 0.+0.j]\n",
      " [0.+0.j 0.+0.j 0.+0.j 0.+0.j 0.+0.j 0.+0.j 0.+0.j 0.+0.j 1.+0.j]]\n",
      "[[ 1.        +0.j  0.        +0.j  0.        +0.j  0.        +0.j  0.        +0.j  0.        +0.j  0.        +0.j  0.        +0.j  0.        +0.j  0.        +0.j  0.        +0.j  0.        +0.j  0.        +0.j  0.        +0.j  0.        +0.j  0.        +0.j]\n",
      " [ 0.        +0.j  1.        +0.j  0.        +0.j  0.        +0.j  0.        +0.j  0.        +0.j  0.        +0.j  0.        +0.j  0.        +0.j  0.        +0.j  0.        +0.j  0.        +0.j  0.        +0.j  0.        +0.j  0.        +0.j  0.        +0.j]\n",
      " [ 0.        +0.j  0.        +0.j  1.        +0.j  0.        +0.j  0.        +0.j  0.        +0.j  0.        +0.j  0.        +0.j  0.        +0.j  0.        +0.j  0.        +0.j  0.        +0.j  0.        +0.j  0.        +0.j  0.        +0.j  0.        +0.j]\n",
      " [ 0.        +0.j  0.        +0.j  0.        +0.j  1.        +0.j  0.        +0.j  0.        +0.j  0.        +0.j  0.        +0.j  0.        +0.j  0.        +0.j  0.        +0.j  0.        +0.j  0.        +0.j  0.        +0.j  0.        +0.j  0.        +0.j]\n",
      " [ 0.        +0.j  0.        +0.j  0.        +0.j  0.        +0.j  0.5       +0.j  0.35355339+0.j  0.35355339+0.j  0.        +0.j -0.5       +0.j  0.35355339+0.j  0.35355339+0.j  0.        +0.j  0.        +0.j  0.        +0.j  0.        +0.j  0.        +0.j]\n",
      " [ 0.        +0.j  0.        +0.j  0.        +0.j  0.        +0.j  0.35355339+0.j  0.75      +0.j -0.25      +0.j  0.        +0.j  0.35355339+0.j -0.25      +0.j -0.25      +0.j  0.        +0.j  0.        +0.j  0.        +0.j  0.        +0.j  0.        +0.j]\n",
      " [ 0.        +0.j  0.        +0.j  0.        +0.j  0.        +0.j  0.35355339+0.j -0.25      +0.j  0.75      +0.j  0.        +0.j  0.35355339+0.j -0.25      +0.j -0.25      +0.j  0.        +0.j  0.        +0.j  0.        +0.j  0.        +0.j  0.        +0.j]\n",
      " [ 0.        +0.j  0.        +0.j  0.        +0.j  0.        +0.j  0.        +0.j  0.        +0.j  0.        +0.j  1.        +0.j  0.        +0.j  0.        +0.j  0.        +0.j  0.        +0.j  0.        +0.j  0.        +0.j  0.        +0.j  0.        +0.j]\n",
      " [ 0.        +0.j  0.        +0.j  0.        +0.j  0.        +0.j -0.5       +0.j  0.35355339+0.j  0.35355339+0.j  0.        +0.j  0.5       +0.j  0.35355339+0.j  0.35355339+0.j  0.        +0.j  0.        +0.j  0.        +0.j  0.        +0.j  0.        +0.j]\n",
      " [ 0.        +0.j  0.        +0.j  0.        +0.j  0.        +0.j  0.35355339+0.j -0.25      +0.j -0.25      +0.j  0.        +0.j  0.35355339+0.j  0.75      +0.j -0.25      +0.j  0.        +0.j  0.        +0.j  0.        +0.j  0.        +0.j  0.        +0.j]\n",
      " [ 0.        +0.j  0.        +0.j  0.        +0.j  0.        +0.j  0.35355339+0.j -0.25      +0.j -0.25      +0.j  0.        +0.j  0.35355339+0.j -0.25      +0.j  0.75      +0.j  0.        +0.j  0.        +0.j  0.        +0.j  0.        +0.j  0.        +0.j]\n",
      " [ 0.        +0.j  0.        +0.j  0.        +0.j  0.        +0.j  0.        +0.j  0.        +0.j  0.        +0.j  0.        +0.j  0.        +0.j  0.        +0.j  0.        +0.j  1.        +0.j  0.        +0.j  0.        +0.j  0.        +0.j  0.        +0.j]\n",
      " [ 0.        +0.j  0.        +0.j  0.        +0.j  0.        +0.j  0.        +0.j  0.        +0.j  0.        +0.j  0.        +0.j  0.        +0.j  0.        +0.j  0.        +0.j  0.        +0.j  1.        +0.j  0.        +0.j  0.        +0.j  0.        +0.j]\n",
      " [ 0.        +0.j  0.        +0.j  0.        +0.j  0.        +0.j  0.        +0.j  0.        +0.j  0.        +0.j  0.        +0.j  0.        +0.j  0.        +0.j  0.        +0.j  0.        +0.j  0.        +0.j  1.        +0.j  0.        +0.j  0.        +0.j]\n",
      " [ 0.        +0.j  0.        +0.j  0.        +0.j  0.        +0.j  0.        +0.j  0.        +0.j  0.        +0.j  0.        +0.j  0.        +0.j  0.        +0.j  0.        +0.j  0.        +0.j  0.        +0.j  0.        +0.j  1.        +0.j  0.        +0.j]\n",
      " [ 0.        +0.j  0.        +0.j  0.        +0.j  0.        +0.j  0.        +0.j  0.        +0.j  0.        +0.j  0.        +0.j  0.        +0.j  0.        +0.j  0.        +0.j  0.        +0.j  0.        +0.j  0.        +0.j  0.        +0.j  1.        +0.j]]\n",
      "True\n"
     ]
    },
    {
     "data": {
      "image/svg+xml": [
       "<svg xmlns=\"http://www.w3.org/2000/svg\" width=\"876.8\" height=\"260.0\" xmlns:xlink=\"http://www.w3.org/1999/xlink\"><rect x=\"0\" y=\"0.0\" width=\"876.8\" height=\"260.0\" fill=\"#ffffff\" /><text x=\"20.0\" y=\"40.0\" font-size=\"16px\" dominant-baseline=\"middle\" text-anchor=\"start\" font-family=\"Arial\" font-weight=\"normal\" fill=\"#252b3a\" >q0: </text><text x=\"20.0\" y=\"100.0\" font-size=\"16px\" dominant-baseline=\"middle\" text-anchor=\"start\" font-family=\"Arial\" font-weight=\"normal\" fill=\"#252b3a\" >q1: </text><text x=\"20.0\" y=\"160.0\" font-size=\"16px\" dominant-baseline=\"middle\" text-anchor=\"start\" font-family=\"Arial\" font-weight=\"normal\" fill=\"#252b3a\" >q2: </text><text x=\"20.0\" y=\"220.0\" font-size=\"16px\" dominant-baseline=\"middle\" text-anchor=\"start\" font-family=\"Arial\" font-weight=\"normal\" fill=\"#252b3a\" >q3: </text><line x1=\"48.8\" x2=\"856.8\" y1=\"40.0\" y2=\"40.0\" stroke=\"#adb0b8\" stroke-width=\"1\" /><line x1=\"48.8\" x2=\"856.8\" y1=\"100.0\" y2=\"100.0\" stroke=\"#adb0b8\" stroke-width=\"1\" /><line x1=\"48.8\" x2=\"856.8\" y1=\"160.0\" y2=\"160.0\" stroke=\"#adb0b8\" stroke-width=\"1\" /><line x1=\"48.8\" x2=\"856.8\" y1=\"220.0\" y2=\"220.0\" stroke=\"#adb0b8\" stroke-width=\"1\" /><circle cx=\"92.8\" cy=\"220.0\" r=\"4\" fill=\"#16acff\" /><line x1=\"92.8\" x2=\"92.8\" y1=\"160.0\" y2=\"220.0\" stroke=\"#16acff\" stroke-width=\"3\" /><rect x=\"72.8\" y=\"140.0\" width=\"40\" height=\"40\" rx=\"4\" ry=\"4\" stroke=\"#ffffff\" stroke-width=\"0\" fill=\"#16acff\" fill-opacity=\"1\" /><line x1=\"78.8\" x2=\"106.8\" y1=\"160.0\" y2=\"160.0\" stroke=\"#ffffff\" stroke-width=\"4\" /><line x1=\"92.8\" x2=\"92.8\" y1=\"146.0\" y2=\"174.0\" stroke=\"#ffffff\" stroke-width=\"4\" /><rect x=\"132.8\" y=\"200.0\" width=\"40.0\" height=\"40\" rx=\"4\" ry=\"4\" stroke=\"#ffffff\" stroke-width=\"0\" fill=\"#fac209\" fill-opacity=\"1\" /><text x=\"152.8\" y=\"216.0\" font-size=\"20px\" dominant-baseline=\"middle\" text-anchor=\"middle\" font-family=\"Arial\" font-weight=\"normal\" fill=\"#ffffff\" >RY </text><text x=\"152.8\" y=\"232.0\" font-size=\"14.0px\" dominant-baseline=\"middle\" text-anchor=\"middle\" font-family=\"Arial\" font-weight=\"normal\" fill=\"#ffffff\" >π/2 </text><circle cx=\"212.8\" cy=\"40.0\" r=\"4\" fill=\"#5e7ce0\" /><circle cx=\"212.8\" cy=\"160.0\" r=\"4\" fill=\"#5e7ce0\" /><circle cx=\"212.8\" cy=\"220.0\" r=\"4\" fill=\"#5e7ce0\" /><line x1=\"212.8\" x2=\"212.8\" y1=\"40.0\" y2=\"220.0\" stroke=\"#5e7ce0\" stroke-width=\"3\" /><rect x=\"192.8\" y=\"80.0\" width=\"40.0\" height=\"40\" rx=\"4\" ry=\"4\" stroke=\"#ffffff\" stroke-width=\"0\" fill=\"#5e7ce0\" fill-opacity=\"1\" /><text x=\"212.8\" y=\"100.0\" font-size=\"20px\" dominant-baseline=\"middle\" text-anchor=\"middle\" font-family=\"Arial\" font-weight=\"normal\" fill=\"#ffffff\" >X </text><circle cx=\"272.8\" cy=\"100.0\" r=\"4\" fill=\"#fac209\" /><circle cx=\"272.8\" cy=\"160.0\" r=\"4\" fill=\"#fac209\" /><circle cx=\"272.8\" cy=\"220.0\" r=\"4\" fill=\"#fac209\" /><line x1=\"272.8\" x2=\"272.8\" y1=\"40.0\" y2=\"220.0\" stroke=\"#fac209\" stroke-width=\"3\" /><rect x=\"252.8\" y=\"20.0\" width=\"40.0\" height=\"40\" rx=\"4\" ry=\"4\" stroke=\"#ffffff\" stroke-width=\"0\" fill=\"#fac209\" fill-opacity=\"1\" /><text x=\"272.8\" y=\"36.0\" font-size=\"20px\" dominant-baseline=\"middle\" text-anchor=\"middle\" font-family=\"Arial\" font-weight=\"normal\" fill=\"#ffffff\" >RY </text><text x=\"272.8\" y=\"52.0\" font-size=\"14.0px\" dominant-baseline=\"middle\" text-anchor=\"middle\" font-family=\"Arial\" font-weight=\"normal\" fill=\"#ffffff\" >π/2 </text><circle cx=\"332.8\" cy=\"40.0\" r=\"4\" fill=\"#5e7ce0\" /><circle cx=\"332.8\" cy=\"160.0\" r=\"4\" fill=\"#5e7ce0\" /><circle cx=\"332.8\" cy=\"220.0\" r=\"4\" fill=\"#5e7ce0\" /><line x1=\"332.8\" x2=\"332.8\" y1=\"40.0\" y2=\"220.0\" stroke=\"#5e7ce0\" stroke-width=\"3\" /><rect x=\"312.8\" y=\"80.0\" width=\"40.0\" height=\"40\" rx=\"4\" ry=\"4\" stroke=\"#ffffff\" stroke-width=\"0\" fill=\"#5e7ce0\" fill-opacity=\"1\" /><text x=\"332.8\" y=\"100.0\" font-size=\"20px\" dominant-baseline=\"middle\" text-anchor=\"middle\" font-family=\"Arial\" font-weight=\"normal\" fill=\"#ffffff\" >X </text><circle cx=\"392.8\" cy=\"160.0\" r=\"4\" fill=\"#5e7ce0\" /><circle cx=\"392.8\" cy=\"220.0\" r=\"4\" fill=\"#5e7ce0\" /><line x1=\"392.8\" x2=\"392.8\" y1=\"100.0\" y2=\"220.0\" stroke=\"#5e7ce0\" stroke-width=\"3\" /><rect x=\"372.8\" y=\"80.0\" width=\"40.0\" height=\"40\" rx=\"4\" ry=\"4\" stroke=\"#ffffff\" stroke-width=\"0\" fill=\"#5e7ce0\" fill-opacity=\"1\" /><text x=\"392.8\" y=\"100.0\" font-size=\"20px\" dominant-baseline=\"middle\" text-anchor=\"middle\" font-family=\"Arial\" font-weight=\"normal\" fill=\"#ffffff\" >X </text><circle cx=\"452.8\" cy=\"100.0\" r=\"4\" fill=\"#5e7ce0\" /><circle cx=\"452.8\" cy=\"160.0\" r=\"4\" fill=\"#5e7ce0\" /><circle cx=\"452.8\" cy=\"220.0\" r=\"4\" fill=\"#5e7ce0\" /><line x1=\"452.8\" x2=\"452.8\" y1=\"40.0\" y2=\"220.0\" stroke=\"#5e7ce0\" stroke-width=\"3\" /><rect x=\"432.8\" y=\"20.0\" width=\"40.0\" height=\"40\" rx=\"4\" ry=\"4\" stroke=\"#ffffff\" stroke-width=\"0\" fill=\"#5e7ce0\" fill-opacity=\"1\" /><text x=\"452.8\" y=\"40.0\" font-size=\"20px\" dominant-baseline=\"middle\" text-anchor=\"middle\" font-family=\"Arial\" font-weight=\"normal\" fill=\"#ffffff\" >X </text><circle cx=\"512.8\" cy=\"160.0\" r=\"4\" fill=\"#5e7ce0\" /><circle cx=\"512.8\" cy=\"220.0\" r=\"4\" fill=\"#5e7ce0\" /><line x1=\"512.8\" x2=\"512.8\" y1=\"100.0\" y2=\"220.0\" stroke=\"#5e7ce0\" stroke-width=\"3\" /><rect x=\"492.8\" y=\"80.0\" width=\"40.0\" height=\"40\" rx=\"4\" ry=\"4\" stroke=\"#ffffff\" stroke-width=\"0\" fill=\"#5e7ce0\" fill-opacity=\"1\" /><text x=\"512.8\" y=\"100.0\" font-size=\"20px\" dominant-baseline=\"middle\" text-anchor=\"middle\" font-family=\"Arial\" font-weight=\"normal\" fill=\"#ffffff\" >X </text><circle cx=\"572.8\" cy=\"40.0\" r=\"4\" fill=\"#5e7ce0\" /><circle cx=\"572.8\" cy=\"160.0\" r=\"4\" fill=\"#5e7ce0\" /><circle cx=\"572.8\" cy=\"220.0\" r=\"4\" fill=\"#5e7ce0\" /><line x1=\"572.8\" x2=\"572.8\" y1=\"40.0\" y2=\"220.0\" stroke=\"#5e7ce0\" stroke-width=\"3\" /><rect x=\"552.8\" y=\"80.0\" width=\"40.0\" height=\"40\" rx=\"4\" ry=\"4\" stroke=\"#ffffff\" stroke-width=\"0\" fill=\"#5e7ce0\" fill-opacity=\"1\" /><text x=\"572.8\" y=\"100.0\" font-size=\"20px\" dominant-baseline=\"middle\" text-anchor=\"middle\" font-family=\"Arial\" font-weight=\"normal\" fill=\"#ffffff\" >X </text><circle cx=\"632.8\" cy=\"100.0\" r=\"4\" fill=\"#fac209\" /><circle cx=\"632.8\" cy=\"160.0\" r=\"4\" fill=\"#fac209\" /><circle cx=\"632.8\" cy=\"220.0\" r=\"4\" fill=\"#fac209\" /><line x1=\"632.8\" x2=\"632.8\" y1=\"40.0\" y2=\"220.0\" stroke=\"#fac209\" stroke-width=\"3\" /><rect x=\"612.8\" y=\"20.0\" width=\"40.0\" height=\"40\" rx=\"4\" ry=\"4\" stroke=\"#ffffff\" stroke-width=\"0\" fill=\"#fac209\" fill-opacity=\"1\" /><text x=\"632.8\" y=\"36.0\" font-size=\"20px\" dominant-baseline=\"middle\" text-anchor=\"middle\" font-family=\"Arial\" font-weight=\"normal\" fill=\"#ffffff\" >RY </text><text x=\"632.8\" y=\"52.0\" font-size=\"14.0px\" dominant-baseline=\"middle\" text-anchor=\"middle\" font-family=\"Arial\" font-weight=\"normal\" fill=\"#ffffff\" >-π/2 </text><circle cx=\"692.8\" cy=\"40.0\" r=\"4\" fill=\"#5e7ce0\" /><circle cx=\"692.8\" cy=\"160.0\" r=\"4\" fill=\"#5e7ce0\" /><circle cx=\"692.8\" cy=\"220.0\" r=\"4\" fill=\"#5e7ce0\" /><line x1=\"692.8\" x2=\"692.8\" y1=\"40.0\" y2=\"220.0\" stroke=\"#5e7ce0\" stroke-width=\"3\" /><rect x=\"672.8\" y=\"80.0\" width=\"40.0\" height=\"40\" rx=\"4\" ry=\"4\" stroke=\"#ffffff\" stroke-width=\"0\" fill=\"#5e7ce0\" fill-opacity=\"1\" /><text x=\"692.8\" y=\"100.0\" font-size=\"20px\" dominant-baseline=\"middle\" text-anchor=\"middle\" font-family=\"Arial\" font-weight=\"normal\" fill=\"#ffffff\" >X </text><rect x=\"732.8\" y=\"200.0\" width=\"40.0\" height=\"40\" rx=\"4\" ry=\"4\" stroke=\"#ffffff\" stroke-width=\"0\" fill=\"#fac209\" fill-opacity=\"1\" /><text x=\"752.8\" y=\"216.0\" font-size=\"20px\" dominant-baseline=\"middle\" text-anchor=\"middle\" font-family=\"Arial\" font-weight=\"normal\" fill=\"#ffffff\" >RY </text><text x=\"752.8\" y=\"232.0\" font-size=\"14.0px\" dominant-baseline=\"middle\" text-anchor=\"middle\" font-family=\"Arial\" font-weight=\"normal\" fill=\"#ffffff\" >-π/2 </text><circle cx=\"812.8\" cy=\"220.0\" r=\"4\" fill=\"#16acff\" /><line x1=\"812.8\" x2=\"812.8\" y1=\"160.0\" y2=\"220.0\" stroke=\"#16acff\" stroke-width=\"3\" /><rect x=\"792.8\" y=\"140.0\" width=\"40\" height=\"40\" rx=\"4\" ry=\"4\" stroke=\"#ffffff\" stroke-width=\"0\" fill=\"#16acff\" fill-opacity=\"1\" /><line x1=\"798.8\" x2=\"826.8\" y1=\"160.0\" y2=\"160.0\" stroke=\"#ffffff\" stroke-width=\"4\" /><line x1=\"812.8\" x2=\"812.8\" y1=\"146.0\" y2=\"174.0\" stroke=\"#ffffff\" stroke-width=\"4\" /></svg>"
      ],
      "text/plain": [
       "<mindquantum.io.display.circuit_svg_drawer.SVGCircuit at 0x1cf0a3c2670>"
      ]
     },
     "execution_count": 6,
     "metadata": {},
     "output_type": "execute_result"
    }
   ],
   "source": [
    "# Qubit ansatz of qutrit controlled Pauli gate\n",
    "d = 3\n",
    "m = 1\n",
    "name = 'X'\n",
    "ind = [0, 1]\n",
    "print(GCP(name, d, ind, m))\n",
    "\n",
    "p = np.eye(2**((d - 1) * 2)) - su2_encoding(np.eye(d**2), 2)\n",
    "GCPe = su2_encoding(GCP(name, d, ind, m), 2)\n",
    "GCPp = GCPe + p\n",
    "# print(GCPp)\n",
    "\n",
    "circ = Circuit()\n",
    "if m == 0:\n",
    "    if ind == [0, 1]:\n",
    "        corr = Circuit() + X(2) + X(3) + X(1, [0, 2, 3]) + RY(np.pi / 2).on(0, [1, 2, 3]) + X(1, [0, 2, 3]) + X(1, [2, 3])\n",
    "    elif ind == [0, 2]:\n",
    "        corr = Circuit() + X(2) + X(3) + X(0, [2, 3]) + X(1, [0, 2, 3]) + X(0, [2, 3])\n",
    "    elif ind == [1, 2]:\n",
    "        corr = Circuit() + X(2) + X(3) + X(1, [0, 2, 3]) + RY(-np.pi / 2).on(0, [1, 2, 3]) + X(1, [0, 2, 3])\n",
    "elif m == 1:\n",
    "    if ind == [0, 1]:\n",
    "        corr = Circuit() + X(2, 3) + RY(np.pi / 2).on(3) + X(1, [0, 2, 3]) + RY(np.pi / 2).on(0, [1, 2, 3]) + X(1, [0, 2, 3]) + X(1, [2, 3])\n",
    "    elif ind == [0, 2]:\n",
    "        corr = Circuit() + X(2, 3) + RY(np.pi / 2).on(3) + X(0, [2, 3]) + X(1, [0, 2, 3]) + X(0, [2, 3])\n",
    "    elif ind == [1, 2]:\n",
    "        corr = Circuit() + X(2, 3) + RY(np.pi / 2).on(3) + X(1, [0, 2, 3]) + RY(-np.pi / 2).on(0, [1, 2, 3]) + X(1, [0, 2, 3])\n",
    "elif m == 2:\n",
    "    if ind == [0, 1]:\n",
    "        corr = Circuit() + X(1, [0, 2, 3]) + RY(np.pi / 2).on(0, [1, 2, 3]) + X(1, [0, 2, 3]) + X(1, [2, 3])\n",
    "    elif ind == [0, 2]:\n",
    "        corr = Circuit() + X(0, [2, 3]) + X(1, [0, 2, 3]) + X(0, [2, 3])\n",
    "    elif ind == [1, 2]:\n",
    "        corr = Circuit() + X(1, [0, 2, 3]) + RY(-np.pi / 2).on(0, [1, 2, 3]) + X(1, [0, 2, 3])\n",
    "circ += corr\n",
    "if name == 'X':\n",
    "    circ = circ + X(0, [1, 2, 3])\n",
    "elif name == 'Y':\n",
    "    circ = circ + Y(0, [1, 2, 3])\n",
    "elif name == 'Z':\n",
    "    circ = circ + Z(0, [1, 2, 3])\n",
    "circ += corr.hermitian()\n",
    "print(circ.matrix())\n",
    "print(np.allclose(GCPp, circ.matrix()))\n",
    "circ.svg()"
   ]
  },
  {
   "cell_type": "code",
   "execution_count": 7,
   "metadata": {},
   "outputs": [
    {
     "name": "stdout",
     "output_type": "stream",
     "text": [
      "[[1. 0. 0. 0. 0. 0. 0. 0. 0.]\n",
      " [0. 1. 0. 0. 0. 0. 0. 0. 0.]\n",
      " [0. 0. 1. 0. 0. 0. 0. 0. 0.]\n",
      " [0. 0. 0. 0. 1. 0. 0. 0. 0.]\n",
      " [0. 0. 0. 1. 0. 0. 0. 0. 0.]\n",
      " [0. 0. 0. 0. 0. 1. 0. 0. 0.]\n",
      " [0. 0. 0. 0. 0. 0. 1. 0. 0.]\n",
      " [0. 0. 0. 0. 0. 0. 0. 1. 0.]\n",
      " [0. 0. 0. 0. 0. 0. 0. 0. 1.]]\n",
      "[[ 1.          0.          0.          0.          0.          0.          0.          0.          0.          0.          0.          0.          0.          0.          0.          0.        ]\n",
      " [ 0.          1.          0.          0.          0.          0.          0.          0.          0.          0.          0.          0.          0.          0.          0.          0.        ]\n",
      " [ 0.          0.          1.          0.          0.          0.          0.          0.          0.          0.          0.          0.          0.          0.          0.          0.        ]\n",
      " [ 0.          0.          0.          1.          0.          0.          0.          0.          0.          0.          0.          0.          0.          0.          0.          0.        ]\n",
      " [ 0.          0.          0.          0.          0.5         0.35355339  0.35355339  0.         -0.5         0.35355339  0.35355339  0.          0.          0.          0.          0.        ]\n",
      " [ 0.          0.          0.          0.          0.35355339  0.75       -0.25        0.          0.35355339 -0.25       -0.25        0.          0.          0.          0.          0.        ]\n",
      " [ 0.          0.          0.          0.          0.35355339 -0.25        0.75        0.          0.35355339 -0.25       -0.25        0.          0.          0.          0.          0.        ]\n",
      " [ 0.          0.          0.          0.          0.          0.          0.          1.          0.          0.          0.          0.          0.          0.          0.          0.        ]\n",
      " [ 0.          0.          0.          0.         -0.5         0.35355339  0.35355339  0.          0.5         0.35355339  0.35355339  0.          0.          0.          0.          0.        ]\n",
      " [ 0.          0.          0.          0.          0.35355339 -0.25       -0.25        0.          0.35355339  0.75       -0.25        0.          0.          0.          0.          0.        ]\n",
      " [ 0.          0.          0.          0.          0.35355339 -0.25       -0.25        0.          0.35355339 -0.25        0.75        0.          0.          0.          0.          0.        ]\n",
      " [ 0.          0.          0.          0.          0.          0.          0.          0.          0.          0.          0.          1.          0.          0.          0.          0.        ]\n",
      " [ 0.          0.          0.          0.          0.          0.          0.          0.          0.          0.          0.          0.          1.          0.          0.          0.        ]\n",
      " [ 0.          0.          0.          0.          0.          0.          0.          0.          0.          0.          0.          0.          0.          1.          0.          0.        ]\n",
      " [ 0.          0.          0.          0.          0.          0.          0.          0.          0.          0.          0.          0.          0.          0.          1.          0.        ]\n",
      " [ 0.          0.          0.          0.          0.          0.          0.          0.          0.          0.          0.          0.          0.          0.          0.          1.        ]]\n",
      "True\n"
     ]
    },
    {
     "data": {
      "image/svg+xml": [
       "<svg xmlns=\"http://www.w3.org/2000/svg\" width=\"756.8\" height=\"260.0\" xmlns:xlink=\"http://www.w3.org/1999/xlink\"><rect x=\"0\" y=\"0.0\" width=\"756.8\" height=\"260.0\" fill=\"#ffffff\" /><text x=\"20.0\" y=\"40.0\" font-size=\"16px\" dominant-baseline=\"middle\" text-anchor=\"start\" font-family=\"Arial\" font-weight=\"normal\" fill=\"#252b3a\" >q0: </text><text x=\"20.0\" y=\"100.0\" font-size=\"16px\" dominant-baseline=\"middle\" text-anchor=\"start\" font-family=\"Arial\" font-weight=\"normal\" fill=\"#252b3a\" >q1: </text><text x=\"20.0\" y=\"160.0\" font-size=\"16px\" dominant-baseline=\"middle\" text-anchor=\"start\" font-family=\"Arial\" font-weight=\"normal\" fill=\"#252b3a\" >q2: </text><text x=\"20.0\" y=\"220.0\" font-size=\"16px\" dominant-baseline=\"middle\" text-anchor=\"start\" font-family=\"Arial\" font-weight=\"normal\" fill=\"#252b3a\" >q3: </text><line x1=\"48.8\" x2=\"736.8\" y1=\"40.0\" y2=\"40.0\" stroke=\"#adb0b8\" stroke-width=\"1\" /><line x1=\"48.8\" x2=\"736.8\" y1=\"100.0\" y2=\"100.0\" stroke=\"#adb0b8\" stroke-width=\"1\" /><line x1=\"48.8\" x2=\"736.8\" y1=\"160.0\" y2=\"160.0\" stroke=\"#adb0b8\" stroke-width=\"1\" /><line x1=\"48.8\" x2=\"736.8\" y1=\"220.0\" y2=\"220.0\" stroke=\"#adb0b8\" stroke-width=\"1\" /><circle cx=\"92.8\" cy=\"220.0\" r=\"4\" fill=\"#16acff\" /><line x1=\"92.8\" x2=\"92.8\" y1=\"160.0\" y2=\"220.0\" stroke=\"#16acff\" stroke-width=\"3\" /><rect x=\"72.8\" y=\"140.0\" width=\"40\" height=\"40\" rx=\"4\" ry=\"4\" stroke=\"#ffffff\" stroke-width=\"0\" fill=\"#16acff\" fill-opacity=\"1\" /><line x1=\"78.8\" x2=\"106.8\" y1=\"160.0\" y2=\"160.0\" stroke=\"#ffffff\" stroke-width=\"4\" /><line x1=\"92.8\" x2=\"92.8\" y1=\"146.0\" y2=\"174.0\" stroke=\"#ffffff\" stroke-width=\"4\" /><rect x=\"132.8\" y=\"200.0\" width=\"40.0\" height=\"40\" rx=\"4\" ry=\"4\" stroke=\"#ffffff\" stroke-width=\"0\" fill=\"#fac209\" fill-opacity=\"1\" /><text x=\"152.8\" y=\"216.0\" font-size=\"20px\" dominant-baseline=\"middle\" text-anchor=\"middle\" font-family=\"Arial\" font-weight=\"normal\" fill=\"#ffffff\" >RY </text><text x=\"152.8\" y=\"232.0\" font-size=\"14.0px\" dominant-baseline=\"middle\" text-anchor=\"middle\" font-family=\"Arial\" font-weight=\"normal\" fill=\"#ffffff\" >π/2 </text><circle cx=\"212.8\" cy=\"40.0\" r=\"4\" fill=\"#5e7ce0\" /><circle cx=\"212.8\" cy=\"160.0\" r=\"4\" fill=\"#5e7ce0\" /><circle cx=\"212.8\" cy=\"220.0\" r=\"4\" fill=\"#5e7ce0\" /><line x1=\"212.8\" x2=\"212.8\" y1=\"40.0\" y2=\"220.0\" stroke=\"#5e7ce0\" stroke-width=\"3\" /><rect x=\"192.8\" y=\"80.0\" width=\"40.0\" height=\"40\" rx=\"4\" ry=\"4\" stroke=\"#ffffff\" stroke-width=\"0\" fill=\"#5e7ce0\" fill-opacity=\"1\" /><text x=\"212.8\" y=\"100.0\" font-size=\"20px\" dominant-baseline=\"middle\" text-anchor=\"middle\" font-family=\"Arial\" font-weight=\"normal\" fill=\"#ffffff\" >X </text><circle cx=\"272.8\" cy=\"100.0\" r=\"4\" fill=\"#fac209\" /><circle cx=\"272.8\" cy=\"160.0\" r=\"4\" fill=\"#fac209\" /><circle cx=\"272.8\" cy=\"220.0\" r=\"4\" fill=\"#fac209\" /><line x1=\"272.8\" x2=\"272.8\" y1=\"40.0\" y2=\"220.0\" stroke=\"#fac209\" stroke-width=\"3\" /><rect x=\"252.8\" y=\"20.0\" width=\"40.0\" height=\"40\" rx=\"4\" ry=\"4\" stroke=\"#ffffff\" stroke-width=\"0\" fill=\"#fac209\" fill-opacity=\"1\" /><text x=\"272.8\" y=\"36.0\" font-size=\"20px\" dominant-baseline=\"middle\" text-anchor=\"middle\" font-family=\"Arial\" font-weight=\"normal\" fill=\"#ffffff\" >RY </text><text x=\"272.8\" y=\"52.0\" font-size=\"14.0px\" dominant-baseline=\"middle\" text-anchor=\"middle\" font-family=\"Arial\" font-weight=\"normal\" fill=\"#ffffff\" >π/2 </text><circle cx=\"332.8\" cy=\"160.0\" r=\"4\" fill=\"#5e7ce0\" /><circle cx=\"332.8\" cy=\"220.0\" r=\"4\" fill=\"#5e7ce0\" /><line x1=\"332.8\" x2=\"332.8\" y1=\"100.0\" y2=\"220.0\" stroke=\"#5e7ce0\" stroke-width=\"3\" /><rect x=\"312.8\" y=\"80.0\" width=\"40.0\" height=\"40\" rx=\"4\" ry=\"4\" stroke=\"#ffffff\" stroke-width=\"0\" fill=\"#5e7ce0\" fill-opacity=\"1\" /><text x=\"332.8\" y=\"100.0\" font-size=\"20px\" dominant-baseline=\"middle\" text-anchor=\"middle\" font-family=\"Arial\" font-weight=\"normal\" fill=\"#ffffff\" >X </text><line x1=\"392.8\" x2=\"392.8\" y1=\"20.0\" y2=\"120.0\" stroke-width=\"3\" stroke=\"#16acff\" /><circle cx=\"392.8\" cy=\"160.0\" r=\"4\" fill=\"#16acff\" /><circle cx=\"392.8\" cy=\"220.0\" r=\"4\" fill=\"#16acff\" /><line x1=\"392.8\" x2=\"392.8\" y1=\"40.0\" y2=\"220.0\" stroke=\"#16acff\" stroke-width=\"3\" /><rect x=\"372.8\" y=\"20.0\" width=\"40\" height=\"40\" rx=\"4\" ry=\"4\" fill=\"#16acff\" fill-opacity=\"1\" stroke=\"#ffffff\" stroke-width=\"0\" /><path d=\"M 383.2 36.31384387633061 L 388.0 28.0 L 392.8 36.31384387633061 L 389.44 36.31384387633061 L 389.44 52.0 L 386.56 52.0 L 386.56 36.31384387633061 Z\" fill=\"#ffffff\" /><path d=\"M 402.40000000000003 43.68615612366939 L 397.6 52.0 L 392.8 43.68615612366939 L 396.16 43.68615612366939 L 396.16 28.0 L 399.04 28.0 L 399.04 43.68615612366939 Z\" fill=\"#ffffff\" /><rect x=\"372.8\" y=\"80.0\" width=\"40\" height=\"40\" rx=\"4\" ry=\"4\" fill=\"#16acff\" fill-opacity=\"1\" stroke=\"#ffffff\" stroke-width=\"0\" /><path d=\"M 383.2 96.31384387633061 L 388.0 88.0 L 392.8 96.31384387633061 L 389.44 96.31384387633061 L 389.44 112.0 L 386.56 112.0 L 386.56 96.31384387633061 Z\" fill=\"#ffffff\" /><path d=\"M 402.40000000000003 103.68615612366939 L 397.6 112.0 L 392.8 103.68615612366939 L 396.16 103.68615612366939 L 396.16 88.0 L 399.04 88.0 L 399.04 103.68615612366939 Z\" fill=\"#ffffff\" /><circle cx=\"452.8\" cy=\"160.0\" r=\"4\" fill=\"#5e7ce0\" /><circle cx=\"452.8\" cy=\"220.0\" r=\"4\" fill=\"#5e7ce0\" /><line x1=\"452.8\" x2=\"452.8\" y1=\"100.0\" y2=\"220.0\" stroke=\"#5e7ce0\" stroke-width=\"3\" /><rect x=\"432.8\" y=\"80.0\" width=\"40.0\" height=\"40\" rx=\"4\" ry=\"4\" stroke=\"#ffffff\" stroke-width=\"0\" fill=\"#5e7ce0\" fill-opacity=\"1\" /><text x=\"452.8\" y=\"100.0\" font-size=\"20px\" dominant-baseline=\"middle\" text-anchor=\"middle\" font-family=\"Arial\" font-weight=\"normal\" fill=\"#ffffff\" >X </text><circle cx=\"512.8\" cy=\"100.0\" r=\"4\" fill=\"#fac209\" /><circle cx=\"512.8\" cy=\"160.0\" r=\"4\" fill=\"#fac209\" /><circle cx=\"512.8\" cy=\"220.0\" r=\"4\" fill=\"#fac209\" /><line x1=\"512.8\" x2=\"512.8\" y1=\"40.0\" y2=\"220.0\" stroke=\"#fac209\" stroke-width=\"3\" /><rect x=\"492.8\" y=\"20.0\" width=\"40.0\" height=\"40\" rx=\"4\" ry=\"4\" stroke=\"#ffffff\" stroke-width=\"0\" fill=\"#fac209\" fill-opacity=\"1\" /><text x=\"512.8\" y=\"36.0\" font-size=\"20px\" dominant-baseline=\"middle\" text-anchor=\"middle\" font-family=\"Arial\" font-weight=\"normal\" fill=\"#ffffff\" >RY </text><text x=\"512.8\" y=\"52.0\" font-size=\"14.0px\" dominant-baseline=\"middle\" text-anchor=\"middle\" font-family=\"Arial\" font-weight=\"normal\" fill=\"#ffffff\" >-π/2 </text><circle cx=\"572.8\" cy=\"40.0\" r=\"4\" fill=\"#5e7ce0\" /><circle cx=\"572.8\" cy=\"160.0\" r=\"4\" fill=\"#5e7ce0\" /><circle cx=\"572.8\" cy=\"220.0\" r=\"4\" fill=\"#5e7ce0\" /><line x1=\"572.8\" x2=\"572.8\" y1=\"40.0\" y2=\"220.0\" stroke=\"#5e7ce0\" stroke-width=\"3\" /><rect x=\"552.8\" y=\"80.0\" width=\"40.0\" height=\"40\" rx=\"4\" ry=\"4\" stroke=\"#ffffff\" stroke-width=\"0\" fill=\"#5e7ce0\" fill-opacity=\"1\" /><text x=\"572.8\" y=\"100.0\" font-size=\"20px\" dominant-baseline=\"middle\" text-anchor=\"middle\" font-family=\"Arial\" font-weight=\"normal\" fill=\"#ffffff\" >X </text><rect x=\"612.8\" y=\"200.0\" width=\"40.0\" height=\"40\" rx=\"4\" ry=\"4\" stroke=\"#ffffff\" stroke-width=\"0\" fill=\"#fac209\" fill-opacity=\"1\" /><text x=\"632.8\" y=\"216.0\" font-size=\"20px\" dominant-baseline=\"middle\" text-anchor=\"middle\" font-family=\"Arial\" font-weight=\"normal\" fill=\"#ffffff\" >RY </text><text x=\"632.8\" y=\"232.0\" font-size=\"14.0px\" dominant-baseline=\"middle\" text-anchor=\"middle\" font-family=\"Arial\" font-weight=\"normal\" fill=\"#ffffff\" >-π/2 </text><circle cx=\"692.8\" cy=\"220.0\" r=\"4\" fill=\"#16acff\" /><line x1=\"692.8\" x2=\"692.8\" y1=\"160.0\" y2=\"220.0\" stroke=\"#16acff\" stroke-width=\"3\" /><rect x=\"672.8\" y=\"140.0\" width=\"40\" height=\"40\" rx=\"4\" ry=\"4\" stroke=\"#ffffff\" stroke-width=\"0\" fill=\"#16acff\" fill-opacity=\"1\" /><line x1=\"678.8\" x2=\"706.8\" y1=\"160.0\" y2=\"160.0\" stroke=\"#ffffff\" stroke-width=\"4\" /><line x1=\"692.8\" x2=\"692.8\" y1=\"146.0\" y2=\"174.0\" stroke=\"#ffffff\" stroke-width=\"4\" /></svg>"
      ],
      "text/plain": [
       "<mindquantum.io.display.circuit_svg_drawer.SVGCircuit at 0x1cf0a4114c0>"
      ]
     },
     "execution_count": 7,
     "metadata": {},
     "output_type": "execute_result"
    }
   ],
   "source": [
    "# Qubit ansatz of qutrit GCX gate\n",
    "d = 3\n",
    "m = 1\n",
    "ind = [0, 1]\n",
    "print(GCX(d, ind, m).real)\n",
    "\n",
    "p = np.eye(2**((d - 1) * 2)) - su2_encoding(np.eye(d**2), 2)\n",
    "GCXe = su2_encoding(GCX(d, ind, m), 2)\n",
    "GCXp = GCXe + p\n",
    "# print(GCXp.real)\n",
    "\n",
    "circ = Circuit()\n",
    "if m == 0:\n",
    "    if ind == [0, 1]:\n",
    "        corr = Circuit() + X(2) + X(3) + X(1, [0, 2, 3]) + RY(np.pi / 2).on(0, [1, 2, 3]) + X(1, [2, 3])\n",
    "    elif ind == [0, 2]:\n",
    "        corr = Circuit() + X(2) + X(3) + X(0, [2, 3])\n",
    "    elif ind == [1, 2]:\n",
    "        corr = Circuit() + X(2) + X(3) + X(1, [0, 2, 3]) + RY(-np.pi / 2).on(0, [1, 2, 3])\n",
    "elif m == 1:\n",
    "    if ind == [0, 1]:\n",
    "        corr = Circuit() + X(2, 3) + RY(np.pi / 2).on(3) + X(1, [0, 2, 3]) + RY(np.pi / 2).on(0, [1, 2, 3]) + X(1, [2, 3])\n",
    "    elif ind == [0, 2]:\n",
    "        corr = Circuit() + X(2, 3) + RY(np.pi / 2).on(3) + X(0, [2, 3])\n",
    "    elif ind == [1, 2]:\n",
    "        corr = Circuit() + X(2, 3) + RY(np.pi / 2).on(3) + X(1, [0, 2, 3]) + RY(-np.pi / 2).on(0, [1, 2, 3])\n",
    "elif m == 2:\n",
    "    if ind == [0, 1]:\n",
    "        corr = Circuit() + X(1, [0, 2, 3]) + RY(np.pi / 2).on(0, [1, 2, 3]) + X(1, [2, 3])\n",
    "    elif ind == [0, 2]:\n",
    "        corr = Circuit() + X(0, [2, 3])\n",
    "    elif ind == [1, 2]:\n",
    "        corr = Circuit() + X(1, [0, 2, 3]) + RY(-np.pi / 2).on(0, [1, 2, 3])\n",
    "circ += corr\n",
    "circ = circ + SWAP([0, 1], [2, 3])\n",
    "circ += corr.hermitian()\n",
    "print(circ.matrix().real)\n",
    "print(np.allclose(GCXp, circ.matrix()))\n",
    "circ.svg()"
   ]
  },
  {
   "cell_type": "code",
   "execution_count": 8,
   "metadata": {},
   "outputs": [
    {
     "name": "stdout",
     "output_type": "stream",
     "text": [
      "[[-0.10091651+0.7406338j  -0.40966659+0.52292515j  0.        +0.j        ]\n",
      " [-0.4533024 -0.48558662j  0.16451039+0.72914944j  0.        +0.j        ]\n",
      " [ 0.        +0.j          0.        +0.j          1.        +0.j        ]]\n",
      "[[-0.10091651+0.7406338j  -0.28967802+0.36976392j -0.28967802+0.36976392j  0.        +0.j        ]\n",
      " [-0.3205332 -0.34336159j  0.58225519+0.36457472j -0.41774481+0.36457472j  0.        +0.j        ]\n",
      " [-0.3205332 -0.34336159j -0.41774481+0.36457472j  0.58225519+0.36457472j  0.        +0.j        ]\n",
      " [ 0.        +0.j          0.        +0.j          0.        +0.j          1.        +0.j        ]]\n",
      "[[-0.10091651+0.7406338j  -0.28967802+0.36976392j -0.28967802+0.36976392j -0.        +0.j        ]\n",
      " [-0.3205332 -0.34336159j  0.58225519+0.36457472j -0.41774481+0.36457472j  0.        +0.j        ]\n",
      " [-0.3205332 -0.34336159j -0.41774481+0.36457472j  0.58225519+0.36457472j  0.        +0.j        ]\n",
      " [ 0.        +0.j          0.        +0.j          0.        +0.j          1.        +0.j        ]]\n",
      "True\n"
     ]
    },
    {
     "data": {
      "image/svg+xml": [
       "<svg xmlns=\"http://www.w3.org/2000/svg\" width=\"636.8\" height=\"140.0\" xmlns:xlink=\"http://www.w3.org/1999/xlink\"><rect x=\"0\" y=\"0.0\" width=\"636.8\" height=\"140.0\" fill=\"#ffffff\" /><text x=\"20.0\" y=\"40.0\" font-size=\"16px\" dominant-baseline=\"middle\" text-anchor=\"start\" font-family=\"Arial\" font-weight=\"normal\" fill=\"#252b3a\" >q0: </text><text x=\"20.0\" y=\"100.0\" font-size=\"16px\" dominant-baseline=\"middle\" text-anchor=\"start\" font-family=\"Arial\" font-weight=\"normal\" fill=\"#252b3a\" >q1: </text><line x1=\"48.8\" x2=\"616.8\" y1=\"40.0\" y2=\"40.0\" stroke=\"#adb0b8\" stroke-width=\"1\" /><line x1=\"48.8\" x2=\"616.8\" y1=\"100.0\" y2=\"100.0\" stroke=\"#adb0b8\" stroke-width=\"1\" /><circle cx=\"92.8\" cy=\"40.0\" r=\"4\" fill=\"#16acff\" /><line x1=\"92.8\" x2=\"92.8\" y1=\"40.0\" y2=\"100.0\" stroke=\"#16acff\" stroke-width=\"3\" /><rect x=\"72.8\" y=\"80.0\" width=\"40\" height=\"40\" rx=\"4\" ry=\"4\" stroke=\"#ffffff\" stroke-width=\"0\" fill=\"#16acff\" fill-opacity=\"1\" /><line x1=\"78.8\" x2=\"106.8\" y1=\"100.0\" y2=\"100.0\" stroke=\"#ffffff\" stroke-width=\"4\" /><line x1=\"92.8\" x2=\"92.8\" y1=\"86.0\" y2=\"114.0\" stroke=\"#ffffff\" stroke-width=\"4\" /><circle cx=\"152.8\" cy=\"100.0\" r=\"4\" fill=\"#fac209\" /><line x1=\"152.8\" x2=\"152.8\" y1=\"40.0\" y2=\"100.0\" stroke=\"#fac209\" stroke-width=\"3\" /><rect x=\"132.8\" y=\"20.0\" width=\"40.0\" height=\"40\" rx=\"4\" ry=\"4\" stroke=\"#ffffff\" stroke-width=\"0\" fill=\"#fac209\" fill-opacity=\"1\" /><text x=\"152.8\" y=\"36.0\" font-size=\"20px\" dominant-baseline=\"middle\" text-anchor=\"middle\" font-family=\"Arial\" font-weight=\"normal\" fill=\"#ffffff\" >RY </text><text x=\"152.8\" y=\"52.0\" font-size=\"14.0px\" dominant-baseline=\"middle\" text-anchor=\"middle\" font-family=\"Arial\" font-weight=\"normal\" fill=\"#ffffff\" >π/2 </text><circle cx=\"212.8\" cy=\"40.0\" r=\"4\" fill=\"#16acff\" /><line x1=\"212.8\" x2=\"212.8\" y1=\"40.0\" y2=\"100.0\" stroke=\"#16acff\" stroke-width=\"3\" /><rect x=\"192.8\" y=\"80.0\" width=\"40\" height=\"40\" rx=\"4\" ry=\"4\" stroke=\"#ffffff\" stroke-width=\"0\" fill=\"#16acff\" fill-opacity=\"1\" /><line x1=\"198.8\" x2=\"226.8\" y1=\"100.0\" y2=\"100.0\" stroke=\"#ffffff\" stroke-width=\"4\" /><line x1=\"212.8\" x2=\"212.8\" y1=\"86.0\" y2=\"114.0\" stroke=\"#ffffff\" stroke-width=\"4\" /><rect x=\"252.8\" y=\"80.0\" width=\"40.0\" height=\"40\" rx=\"4\" ry=\"4\" stroke=\"#ffffff\" stroke-width=\"0\" fill=\"#5e7ce0\" fill-opacity=\"1\" /><text x=\"272.8\" y=\"100.0\" font-size=\"20px\" dominant-baseline=\"middle\" text-anchor=\"middle\" font-family=\"Arial\" font-weight=\"normal\" fill=\"#ffffff\" >X </text><circle cx=\"332.8\" cy=\"100.0\" r=\"4\" fill=\"#5e7ce0\" /><line x1=\"332.8\" x2=\"332.8\" y1=\"40.0\" y2=\"100.0\" stroke=\"#5e7ce0\" stroke-width=\"3\" /><rect x=\"312.8\" y=\"20.0\" width=\"40.0\" height=\"40\" rx=\"4\" ry=\"4\" stroke=\"#ffffff\" stroke-width=\"0\" fill=\"#5e7ce0\" fill-opacity=\"1\" /><text x=\"332.8\" y=\"40.0\" font-size=\"20px\" dominant-baseline=\"middle\" text-anchor=\"middle\" font-family=\"Arial\" font-weight=\"normal\" fill=\"#ffffff\" >U </text><rect x=\"372.8\" y=\"80.0\" width=\"40.0\" height=\"40\" rx=\"4\" ry=\"4\" stroke=\"#ffffff\" stroke-width=\"0\" fill=\"#5e7ce0\" fill-opacity=\"1\" /><text x=\"392.8\" y=\"100.0\" font-size=\"20px\" dominant-baseline=\"middle\" text-anchor=\"middle\" font-family=\"Arial\" font-weight=\"normal\" fill=\"#ffffff\" >X </text><circle cx=\"452.8\" cy=\"40.0\" r=\"4\" fill=\"#16acff\" /><line x1=\"452.8\" x2=\"452.8\" y1=\"40.0\" y2=\"100.0\" stroke=\"#16acff\" stroke-width=\"3\" /><rect x=\"432.8\" y=\"80.0\" width=\"40\" height=\"40\" rx=\"4\" ry=\"4\" stroke=\"#ffffff\" stroke-width=\"0\" fill=\"#16acff\" fill-opacity=\"1\" /><line x1=\"438.8\" x2=\"466.8\" y1=\"100.0\" y2=\"100.0\" stroke=\"#ffffff\" stroke-width=\"4\" /><line x1=\"452.8\" x2=\"452.8\" y1=\"86.0\" y2=\"114.0\" stroke=\"#ffffff\" stroke-width=\"4\" /><circle cx=\"512.8\" cy=\"100.0\" r=\"4\" fill=\"#fac209\" /><line x1=\"512.8\" x2=\"512.8\" y1=\"40.0\" y2=\"100.0\" stroke=\"#fac209\" stroke-width=\"3\" /><rect x=\"492.8\" y=\"20.0\" width=\"40.0\" height=\"40\" rx=\"4\" ry=\"4\" stroke=\"#ffffff\" stroke-width=\"0\" fill=\"#fac209\" fill-opacity=\"1\" /><text x=\"512.8\" y=\"36.0\" font-size=\"20px\" dominant-baseline=\"middle\" text-anchor=\"middle\" font-family=\"Arial\" font-weight=\"normal\" fill=\"#ffffff\" >RY </text><text x=\"512.8\" y=\"52.0\" font-size=\"14.0px\" dominant-baseline=\"middle\" text-anchor=\"middle\" font-family=\"Arial\" font-weight=\"normal\" fill=\"#ffffff\" >-π/2 </text><circle cx=\"572.8\" cy=\"40.0\" r=\"4\" fill=\"#16acff\" /><line x1=\"572.8\" x2=\"572.8\" y1=\"40.0\" y2=\"100.0\" stroke=\"#16acff\" stroke-width=\"3\" /><rect x=\"552.8\" y=\"80.0\" width=\"40\" height=\"40\" rx=\"4\" ry=\"4\" stroke=\"#ffffff\" stroke-width=\"0\" fill=\"#16acff\" fill-opacity=\"1\" /><line x1=\"558.8\" x2=\"586.8\" y1=\"100.0\" y2=\"100.0\" stroke=\"#ffffff\" stroke-width=\"4\" /><line x1=\"572.8\" x2=\"572.8\" y1=\"86.0\" y2=\"114.0\" stroke=\"#ffffff\" stroke-width=\"4\" /></svg>"
      ],
      "text/plain": [
       "<mindquantum.io.display.circuit_svg_drawer.SVGCircuit at 0x1cf0a3776a0>"
      ]
     },
     "execution_count": 8,
     "metadata": {},
     "output_type": "execute_result"
    }
   ],
   "source": [
    "# Qubit ansatz of one-qutrit unitary gate\n",
    "d = 3\n",
    "ind = [0, 1]\n",
    "U = unitary_group.rvs(2)\n",
    "Ud = np.eye(d, dtype=np.complex128)\n",
    "Ud[np.ix_(ind, ind)] = U\n",
    "print(Ud)\n",
    "\n",
    "p = np.eye(2**(d - 1)) - su2_encoding(np.eye(d))\n",
    "Ue = su2_encoding(Ud)\n",
    "Up = Ue + p\n",
    "print(Up)\n",
    "\n",
    "circ = Circuit()\n",
    "if ind == [0, 1]:\n",
    "    corr = Circuit() + X(1, 0) + RY(np.pi / 2).on(0, 1) + X(1, 0) + X(1)\n",
    "elif ind == [0, 2]:\n",
    "    corr = Circuit() + X(0) + X(1, 0) + X(0)\n",
    "elif ind == [1, 2]:\n",
    "    corr = Circuit() + X(1, 0) + RY(-np.pi / 2).on(0, 1) + X(1, 0)\n",
    "circ += corr\n",
    "circ += UnivMathGate('U', U).on(0, 1)\n",
    "circ += corr.hermitian()\n",
    "print(circ.matrix())\n",
    "print(np.allclose(Up, circ.matrix()))\n",
    "circ.svg()"
   ]
  },
  {
   "cell_type": "code",
   "execution_count": 9,
   "metadata": {},
   "outputs": [
    {
     "name": "stdout",
     "output_type": "stream",
     "text": [
      "[[0.8660254+0.j  0.       -0.5j 0.       +0.j ]\n",
      " [0.       -0.5j 0.8660254+0.j  0.       +0.j ]\n",
      " [0.       +0.j  0.       +0.j  1.       +0.j ]]\n",
      "[[ 0.8660254+0.j          0.       -0.35355339j  0.       -0.35355339j  0.       +0.j        ]\n",
      " [ 0.       -0.35355339j  0.9330127+0.j         -0.0669873+0.j          0.       +0.j        ]\n",
      " [ 0.       -0.35355339j -0.0669873+0.j          0.9330127+0.j          0.       +0.j        ]\n",
      " [ 0.       +0.j          0.       +0.j          0.       +0.j          1.       +0.j        ]]\n",
      "[[ 0.8660254+0.j          0.       -0.35355339j  0.       -0.35355339j  0.       +0.j        ]\n",
      " [ 0.       -0.35355339j  0.9330127+0.j         -0.0669873+0.j          0.       +0.j        ]\n",
      " [ 0.       -0.35355339j -0.0669873+0.j          0.9330127+0.j          0.       +0.j        ]\n",
      " [ 0.       +0.j          0.       +0.j          0.       +0.j          1.       +0.j        ]]\n",
      "True\n"
     ]
    },
    {
     "data": {
      "image/svg+xml": [
       "<svg xmlns=\"http://www.w3.org/2000/svg\" width=\"676.8\" height=\"140.0\" xmlns:xlink=\"http://www.w3.org/1999/xlink\"><rect x=\"0\" y=\"0.0\" width=\"676.8\" height=\"140.0\" fill=\"#ffffff\" /><text x=\"20.0\" y=\"40.0\" font-size=\"16px\" dominant-baseline=\"middle\" text-anchor=\"start\" font-family=\"Arial\" font-weight=\"normal\" fill=\"#252b3a\" >q0: </text><text x=\"20.0\" y=\"100.0\" font-size=\"16px\" dominant-baseline=\"middle\" text-anchor=\"start\" font-family=\"Arial\" font-weight=\"normal\" fill=\"#252b3a\" >q1: </text><line x1=\"48.8\" x2=\"656.8\" y1=\"40.0\" y2=\"40.0\" stroke=\"#adb0b8\" stroke-width=\"1\" /><line x1=\"48.8\" x2=\"656.8\" y1=\"100.0\" y2=\"100.0\" stroke=\"#adb0b8\" stroke-width=\"1\" /><circle cx=\"92.8\" cy=\"40.0\" r=\"4\" fill=\"#16acff\" /><line x1=\"92.8\" x2=\"92.8\" y1=\"40.0\" y2=\"100.0\" stroke=\"#16acff\" stroke-width=\"3\" /><rect x=\"72.8\" y=\"80.0\" width=\"40\" height=\"40\" rx=\"4\" ry=\"4\" stroke=\"#ffffff\" stroke-width=\"0\" fill=\"#16acff\" fill-opacity=\"1\" /><line x1=\"78.8\" x2=\"106.8\" y1=\"100.0\" y2=\"100.0\" stroke=\"#ffffff\" stroke-width=\"4\" /><line x1=\"92.8\" x2=\"92.8\" y1=\"86.0\" y2=\"114.0\" stroke=\"#ffffff\" stroke-width=\"4\" /><circle cx=\"152.8\" cy=\"100.0\" r=\"4\" fill=\"#fac209\" /><line x1=\"152.8\" x2=\"152.8\" y1=\"40.0\" y2=\"100.0\" stroke=\"#fac209\" stroke-width=\"3\" /><rect x=\"132.8\" y=\"20.0\" width=\"40.0\" height=\"40\" rx=\"4\" ry=\"4\" stroke=\"#ffffff\" stroke-width=\"0\" fill=\"#fac209\" fill-opacity=\"1\" /><text x=\"152.8\" y=\"36.0\" font-size=\"20px\" dominant-baseline=\"middle\" text-anchor=\"middle\" font-family=\"Arial\" font-weight=\"normal\" fill=\"#ffffff\" >RY </text><text x=\"152.8\" y=\"52.0\" font-size=\"14.0px\" dominant-baseline=\"middle\" text-anchor=\"middle\" font-family=\"Arial\" font-weight=\"normal\" fill=\"#ffffff\" >π/2 </text><circle cx=\"212.8\" cy=\"40.0\" r=\"4\" fill=\"#16acff\" /><line x1=\"212.8\" x2=\"212.8\" y1=\"40.0\" y2=\"100.0\" stroke=\"#16acff\" stroke-width=\"3\" /><rect x=\"192.8\" y=\"80.0\" width=\"40\" height=\"40\" rx=\"4\" ry=\"4\" stroke=\"#ffffff\" stroke-width=\"0\" fill=\"#16acff\" fill-opacity=\"1\" /><line x1=\"198.8\" x2=\"226.8\" y1=\"100.0\" y2=\"100.0\" stroke=\"#ffffff\" stroke-width=\"4\" /><line x1=\"212.8\" x2=\"212.8\" y1=\"86.0\" y2=\"114.0\" stroke=\"#ffffff\" stroke-width=\"4\" /><rect x=\"252.8\" y=\"80.0\" width=\"40.0\" height=\"40\" rx=\"4\" ry=\"4\" stroke=\"#ffffff\" stroke-width=\"0\" fill=\"#5e7ce0\" fill-opacity=\"1\" /><text x=\"272.8\" y=\"100.0\" font-size=\"20px\" dominant-baseline=\"middle\" text-anchor=\"middle\" font-family=\"Arial\" font-weight=\"normal\" fill=\"#ffffff\" >X </text><circle cx=\"352.8\" cy=\"100.0\" r=\"4\" fill=\"#fac209\" /><line x1=\"352.8\" x2=\"352.8\" y1=\"40.0\" y2=\"100.0\" stroke=\"#fac209\" stroke-width=\"3\" /><rect x=\"312.8\" y=\"20.0\" width=\"80.0\" height=\"40\" rx=\"4\" ry=\"4\" stroke=\"#ffffff\" stroke-width=\"0\" fill=\"#fac209\" fill-opacity=\"1\" /><text x=\"352.8\" y=\"36.0\" font-size=\"20px\" dominant-baseline=\"middle\" text-anchor=\"middle\" font-family=\"Arial\" font-weight=\"normal\" fill=\"#ffffff\" >RX </text><text x=\"352.8\" y=\"52.0\" font-size=\"14.0px\" dominant-baseline=\"middle\" text-anchor=\"middle\" font-family=\"Arial\" font-weight=\"normal\" fill=\"#ffffff\" >1.0472 </text><rect x=\"412.8\" y=\"80.0\" width=\"40.0\" height=\"40\" rx=\"4\" ry=\"4\" stroke=\"#ffffff\" stroke-width=\"0\" fill=\"#5e7ce0\" fill-opacity=\"1\" /><text x=\"432.8\" y=\"100.0\" font-size=\"20px\" dominant-baseline=\"middle\" text-anchor=\"middle\" font-family=\"Arial\" font-weight=\"normal\" fill=\"#ffffff\" >X </text><circle cx=\"492.8\" cy=\"40.0\" r=\"4\" fill=\"#16acff\" /><line x1=\"492.8\" x2=\"492.8\" y1=\"40.0\" y2=\"100.0\" stroke=\"#16acff\" stroke-width=\"3\" /><rect x=\"472.8\" y=\"80.0\" width=\"40\" height=\"40\" rx=\"4\" ry=\"4\" stroke=\"#ffffff\" stroke-width=\"0\" fill=\"#16acff\" fill-opacity=\"1\" /><line x1=\"478.8\" x2=\"506.8\" y1=\"100.0\" y2=\"100.0\" stroke=\"#ffffff\" stroke-width=\"4\" /><line x1=\"492.8\" x2=\"492.8\" y1=\"86.0\" y2=\"114.0\" stroke=\"#ffffff\" stroke-width=\"4\" /><circle cx=\"552.8\" cy=\"100.0\" r=\"4\" fill=\"#fac209\" /><line x1=\"552.8\" x2=\"552.8\" y1=\"40.0\" y2=\"100.0\" stroke=\"#fac209\" stroke-width=\"3\" /><rect x=\"532.8\" y=\"20.0\" width=\"40.0\" height=\"40\" rx=\"4\" ry=\"4\" stroke=\"#ffffff\" stroke-width=\"0\" fill=\"#fac209\" fill-opacity=\"1\" /><text x=\"552.8\" y=\"36.0\" font-size=\"20px\" dominant-baseline=\"middle\" text-anchor=\"middle\" font-family=\"Arial\" font-weight=\"normal\" fill=\"#ffffff\" >RY </text><text x=\"552.8\" y=\"52.0\" font-size=\"14.0px\" dominant-baseline=\"middle\" text-anchor=\"middle\" font-family=\"Arial\" font-weight=\"normal\" fill=\"#ffffff\" >-π/2 </text><circle cx=\"612.8\" cy=\"40.0\" r=\"4\" fill=\"#16acff\" /><line x1=\"612.8\" x2=\"612.8\" y1=\"40.0\" y2=\"100.0\" stroke=\"#16acff\" stroke-width=\"3\" /><rect x=\"592.8\" y=\"80.0\" width=\"40\" height=\"40\" rx=\"4\" ry=\"4\" stroke=\"#ffffff\" stroke-width=\"0\" fill=\"#16acff\" fill-opacity=\"1\" /><line x1=\"598.8\" x2=\"626.8\" y1=\"100.0\" y2=\"100.0\" stroke=\"#ffffff\" stroke-width=\"4\" /><line x1=\"612.8\" x2=\"612.8\" y1=\"86.0\" y2=\"114.0\" stroke=\"#ffffff\" stroke-width=\"4\" /></svg>"
      ],
      "text/plain": [
       "<mindquantum.io.display.circuit_svg_drawer.SVGCircuit at 0x1cf0a455820>"
      ]
     },
     "execution_count": 9,
     "metadata": {},
     "output_type": "execute_result"
    }
   ],
   "source": [
    "# Qubit ansatz of one-qutrit unitary gate\n",
    "d = 3\n",
    "name = 'X'\n",
    "ind = [0, 1]\n",
    "pr = np.pi / 3\n",
    "print(Rd(name, d, ind, pr))\n",
    "\n",
    "p = np.eye(2**(d - 1)) - su2_encoding(np.eye(d))\n",
    "Re = su2_encoding(Rd(name, d, ind, pr))\n",
    "Rp = Re + p\n",
    "print(Rp)\n",
    "\n",
    "circ = Circuit()\n",
    "if ind == [0, 1]:\n",
    "    corr = Circuit() + X(1, 0) + RY(np.pi / 2).on(0, 1) + X(1, 0) + X(1)\n",
    "elif ind == [0, 2]:\n",
    "    corr = Circuit() + X(0) + X(1, 0) + X(0)\n",
    "elif ind == [1, 2]:\n",
    "    corr = Circuit() + X(1, 0) + RY(-np.pi / 2).on(0, 1) + X(1, 0)\n",
    "circ += corr\n",
    "if name == 'X':\n",
    "    circ = circ + RX(t).on(0, 1)\n",
    "elif name == 'Y':\n",
    "    circ = circ + RY(t).on(0, 1)\n",
    "elif name == 'Z':\n",
    "    circ = circ + RZ(t).on(0, 1)\n",
    "circ += corr.hermitian()\n",
    "print(circ.matrix())\n",
    "print(np.allclose(Rp, circ.matrix()))\n",
    "circ.svg()"
   ]
  },
  {
   "cell_type": "code",
   "execution_count": 10,
   "metadata": {},
   "outputs": [
    {
     "name": "stdout",
     "output_type": "stream",
     "text": [
      "[[0.+0.j 0.+0.j 1.+0.j]\n",
      " [1.+0.j 0.+0.j 0.+0.j]\n",
      " [0.+0.j 1.+0.j 0.+0.j]]\n",
      "[[ 0.        +0.j  0.        +0.j  0.        +0.j  1.        +0.j]\n",
      " [ 0.70710678+0.j  0.5       +0.j -0.5       +0.j  0.        +0.j]\n",
      " [ 0.70710678+0.j -0.5       +0.j  0.5       +0.j  0.        +0.j]\n",
      " [ 0.        +0.j  0.70710678+0.j  0.70710678+0.j  0.        +0.j]]\n",
      "[[ 0.        +0.j  0.        +0.j  0.        +0.j  1.        +0.j]\n",
      " [ 0.70710678+0.j  0.5       +0.j -0.5       +0.j  0.        +0.j]\n",
      " [ 0.70710678+0.j -0.5       +0.j  0.5       +0.j  0.        +0.j]\n",
      " [ 0.        +0.j  0.70710678+0.j  0.70710678+0.j  0.        +0.j]]\n",
      "True\n"
     ]
    },
    {
     "data": {
      "image/svg+xml": [
       "<svg xmlns=\"http://www.w3.org/2000/svg\" width=\"576.8\" height=\"140.0\" xmlns:xlink=\"http://www.w3.org/1999/xlink\"><rect x=\"0\" y=\"0.0\" width=\"576.8\" height=\"140.0\" fill=\"#ffffff\" /><text x=\"20.0\" y=\"40.0\" font-size=\"16px\" dominant-baseline=\"middle\" text-anchor=\"start\" font-family=\"Arial\" font-weight=\"normal\" fill=\"#252b3a\" >q0: </text><text x=\"20.0\" y=\"100.0\" font-size=\"16px\" dominant-baseline=\"middle\" text-anchor=\"start\" font-family=\"Arial\" font-weight=\"normal\" fill=\"#252b3a\" >q1: </text><line x1=\"48.8\" x2=\"556.8\" y1=\"40.0\" y2=\"40.0\" stroke=\"#adb0b8\" stroke-width=\"1\" /><line x1=\"48.8\" x2=\"556.8\" y1=\"100.0\" y2=\"100.0\" stroke=\"#adb0b8\" stroke-width=\"1\" /><circle cx=\"92.8\" cy=\"40.0\" r=\"4\" fill=\"#16acff\" /><line x1=\"92.8\" x2=\"92.8\" y1=\"40.0\" y2=\"100.0\" stroke=\"#16acff\" stroke-width=\"3\" /><rect x=\"72.8\" y=\"80.0\" width=\"40\" height=\"40\" rx=\"4\" ry=\"4\" stroke=\"#ffffff\" stroke-width=\"0\" fill=\"#16acff\" fill-opacity=\"1\" /><line x1=\"78.8\" x2=\"106.8\" y1=\"100.0\" y2=\"100.0\" stroke=\"#ffffff\" stroke-width=\"4\" /><line x1=\"92.8\" x2=\"92.8\" y1=\"86.0\" y2=\"114.0\" stroke=\"#ffffff\" stroke-width=\"4\" /><circle cx=\"152.8\" cy=\"100.0\" r=\"4\" fill=\"#fac209\" /><line x1=\"152.8\" x2=\"152.8\" y1=\"40.0\" y2=\"100.0\" stroke=\"#fac209\" stroke-width=\"3\" /><rect x=\"132.8\" y=\"20.0\" width=\"40.0\" height=\"40\" rx=\"4\" ry=\"4\" stroke=\"#ffffff\" stroke-width=\"0\" fill=\"#fac209\" fill-opacity=\"1\" /><text x=\"152.8\" y=\"36.0\" font-size=\"20px\" dominant-baseline=\"middle\" text-anchor=\"middle\" font-family=\"Arial\" font-weight=\"normal\" fill=\"#ffffff\" >RY </text><text x=\"152.8\" y=\"52.0\" font-size=\"14.0px\" dominant-baseline=\"middle\" text-anchor=\"middle\" font-family=\"Arial\" font-weight=\"normal\" fill=\"#ffffff\" >π/2 </text><circle cx=\"212.8\" cy=\"40.0\" r=\"4\" fill=\"#16acff\" /><line x1=\"212.8\" x2=\"212.8\" y1=\"40.0\" y2=\"100.0\" stroke=\"#16acff\" stroke-width=\"3\" /><rect x=\"192.8\" y=\"80.0\" width=\"40\" height=\"40\" rx=\"4\" ry=\"4\" stroke=\"#ffffff\" stroke-width=\"0\" fill=\"#16acff\" fill-opacity=\"1\" /><line x1=\"198.8\" x2=\"226.8\" y1=\"100.0\" y2=\"100.0\" stroke=\"#ffffff\" stroke-width=\"4\" /><line x1=\"212.8\" x2=\"212.8\" y1=\"86.0\" y2=\"114.0\" stroke=\"#ffffff\" stroke-width=\"4\" /><rect x=\"252.8\" y=\"20.0\" width=\"40.0\" height=\"40\" rx=\"4\" ry=\"4\" stroke=\"#ffffff\" stroke-width=\"0\" fill=\"#5e7ce0\" fill-opacity=\"1\" /><text x=\"272.8\" y=\"40.0\" font-size=\"20px\" dominant-baseline=\"middle\" text-anchor=\"middle\" font-family=\"Arial\" font-weight=\"normal\" fill=\"#ffffff\" >X </text><line x1=\"332.8\" x2=\"332.8\" y1=\"20.0\" y2=\"120.0\" stroke-width=\"3\" stroke=\"#16acff\" /><rect x=\"312.8\" y=\"20.0\" width=\"40\" height=\"40\" rx=\"4\" ry=\"4\" fill=\"#16acff\" fill-opacity=\"1\" stroke=\"#ffffff\" stroke-width=\"0\" /><path d=\"M 323.2 36.31384387633061 L 328.0 28.0 L 332.8 36.31384387633061 L 329.44 36.31384387633061 L 329.44 52.0 L 326.56 52.0 L 326.56 36.31384387633061 Z\" fill=\"#ffffff\" /><path d=\"M 342.40000000000003 43.68615612366939 L 337.6 52.0 L 332.8 43.68615612366939 L 336.16 43.68615612366939 L 336.16 28.0 L 339.04 28.0 L 339.04 43.68615612366939 Z\" fill=\"#ffffff\" /><rect x=\"312.8\" y=\"80.0\" width=\"40\" height=\"40\" rx=\"4\" ry=\"4\" fill=\"#16acff\" fill-opacity=\"1\" stroke=\"#ffffff\" stroke-width=\"0\" /><path d=\"M 323.2 96.31384387633061 L 328.0 88.0 L 332.8 96.31384387633061 L 329.44 96.31384387633061 L 329.44 112.0 L 326.56 112.0 L 326.56 96.31384387633061 Z\" fill=\"#ffffff\" /><path d=\"M 342.40000000000003 103.68615612366939 L 337.6 112.0 L 332.8 103.68615612366939 L 336.16 103.68615612366939 L 336.16 88.0 L 339.04 88.0 L 339.04 103.68615612366939 Z\" fill=\"#ffffff\" /><rect x=\"372.8\" y=\"20.0\" width=\"40.0\" height=\"40\" rx=\"4\" ry=\"4\" stroke=\"#ffffff\" stroke-width=\"0\" fill=\"#5e7ce0\" fill-opacity=\"1\" /><text x=\"392.8\" y=\"40.0\" font-size=\"20px\" dominant-baseline=\"middle\" text-anchor=\"middle\" font-family=\"Arial\" font-weight=\"normal\" fill=\"#ffffff\" >X </text><circle cx=\"452.8\" cy=\"100.0\" r=\"4\" fill=\"#fac209\" /><line x1=\"452.8\" x2=\"452.8\" y1=\"40.0\" y2=\"100.0\" stroke=\"#fac209\" stroke-width=\"3\" /><rect x=\"432.8\" y=\"20.0\" width=\"40.0\" height=\"40\" rx=\"4\" ry=\"4\" stroke=\"#ffffff\" stroke-width=\"0\" fill=\"#fac209\" fill-opacity=\"1\" /><text x=\"452.8\" y=\"36.0\" font-size=\"20px\" dominant-baseline=\"middle\" text-anchor=\"middle\" font-family=\"Arial\" font-weight=\"normal\" fill=\"#ffffff\" >RY </text><text x=\"452.8\" y=\"52.0\" font-size=\"14.0px\" dominant-baseline=\"middle\" text-anchor=\"middle\" font-family=\"Arial\" font-weight=\"normal\" fill=\"#ffffff\" >-π/2 </text><circle cx=\"512.8\" cy=\"40.0\" r=\"4\" fill=\"#16acff\" /><line x1=\"512.8\" x2=\"512.8\" y1=\"40.0\" y2=\"100.0\" stroke=\"#16acff\" stroke-width=\"3\" /><rect x=\"492.8\" y=\"80.0\" width=\"40\" height=\"40\" rx=\"4\" ry=\"4\" stroke=\"#ffffff\" stroke-width=\"0\" fill=\"#16acff\" fill-opacity=\"1\" /><line x1=\"498.8\" x2=\"526.8\" y1=\"100.0\" y2=\"100.0\" stroke=\"#ffffff\" stroke-width=\"4\" /><line x1=\"512.8\" x2=\"512.8\" y1=\"86.0\" y2=\"114.0\" stroke=\"#ffffff\" stroke-width=\"4\" /></svg>"
      ],
      "text/plain": [
       "<mindquantum.io.display.circuit_svg_drawer.SVGCircuit at 0x1cf0a3c25e0>"
      ]
     },
     "execution_count": 10,
     "metadata": {},
     "output_type": "execute_result"
    }
   ],
   "source": [
    "# Qubit ansatz of qutrit INC gate\n",
    "d = 3\n",
    "p = np.eye(2**(d - 1)) - su2_encoding(np.eye(d))\n",
    "q = {i: np.eye(d)[i] for i in range(d)}\n",
    "\n",
    "state = q[0] + q[1]\n",
    "state /= norm(state)\n",
    "# str_ket(d, state)\n",
    "# str_ket(d, INC @ state)\n",
    "print(INC(d))\n",
    "\n",
    "INCe = su2_encoding(INC(d))\n",
    "INCp = INCe + p\n",
    "# print(INCe)\n",
    "print(INCp)\n",
    "# str_ket(2, su2_encoding(state))\n",
    "# str_ket(2, INCp @ su2_encoding(state))\n",
    "\n",
    "circ = Circuit() + X(1, 0) + RY(np.pi / 2).on(0, 1) + X(1, 0) + X(0) + SWAP([0, 1]) + X(0) + RY(-np.pi / 2).on(0, 1) + X(1, 0)\n",
    "print(circ.matrix())\n",
    "print(np.allclose(INCp, circ.matrix()))\n",
    "circ.svg()"
   ]
  },
  {
   "cell_type": "code",
   "execution_count": 11,
   "metadata": {},
   "outputs": [
    {
     "name": "stdout",
     "output_type": "stream",
     "text": [
      "[[1. 0. 0. 0. 0. 0. 0. 0. 0.]\n",
      " [0. 1. 0. 0. 0. 0. 0. 0. 0.]\n",
      " [0. 0. 1. 0. 0. 0. 0. 0. 0.]\n",
      " [0. 0. 0. 1. 0. 0. 0. 0. 0.]\n",
      " [0. 0. 0. 0. 1. 0. 0. 0. 0.]\n",
      " [0. 0. 0. 0. 0. 1. 0. 0. 0.]\n",
      " [0. 0. 0. 0. 0. 0. 0. 0. 1.]\n",
      " [0. 0. 0. 0. 0. 0. 1. 0. 0.]\n",
      " [0. 0. 0. 0. 0. 0. 0. 1. 0.]]\n",
      "True\n"
     ]
    },
    {
     "data": {
      "image/svg+xml": [
       "<svg xmlns=\"http://www.w3.org/2000/svg\" width=\"576.8\" height=\"248.0\" xmlns:xlink=\"http://www.w3.org/1999/xlink\"><rect x=\"0\" y=\"0.0\" width=\"576.8\" height=\"248.0\" fill=\"#ffffff\" /><text x=\"20.0\" y=\"40.0\" font-size=\"16px\" dominant-baseline=\"middle\" text-anchor=\"start\" font-family=\"Arial\" font-weight=\"normal\" fill=\"#252b3a\" >q0: </text><text x=\"20.0\" y=\"100.0\" font-size=\"16px\" dominant-baseline=\"middle\" text-anchor=\"start\" font-family=\"Arial\" font-weight=\"normal\" fill=\"#252b3a\" >q1: </text><text x=\"20.0\" y=\"160.0\" font-size=\"16px\" dominant-baseline=\"middle\" text-anchor=\"start\" font-family=\"Arial\" font-weight=\"normal\" fill=\"#252b3a\" >q2: </text><text x=\"20.0\" y=\"220.0\" font-size=\"16px\" dominant-baseline=\"middle\" text-anchor=\"start\" font-family=\"Arial\" font-weight=\"normal\" fill=\"#252b3a\" >q3: </text><line x1=\"48.8\" x2=\"556.8\" y1=\"40.0\" y2=\"40.0\" stroke=\"#adb0b8\" stroke-width=\"1\" /><line x1=\"48.8\" x2=\"556.8\" y1=\"100.0\" y2=\"100.0\" stroke=\"#adb0b8\" stroke-width=\"1\" /><line x1=\"48.8\" x2=\"556.8\" y1=\"160.0\" y2=\"160.0\" stroke=\"#adb0b8\" stroke-width=\"1\" /><line x1=\"48.8\" x2=\"556.8\" y1=\"220.0\" y2=\"220.0\" stroke=\"#adb0b8\" stroke-width=\"1\" /><circle cx=\"92.8\" cy=\"40.0\" r=\"4\" fill=\"#5e7ce0\" /><circle cx=\"92.8\" cy=\"160.0\" r=\"4\" fill=\"#5e7ce0\" /><circle cx=\"92.8\" cy=\"220.0\" r=\"4\" fill=\"#5e7ce0\" /><line x1=\"92.8\" x2=\"92.8\" y1=\"40.0\" y2=\"220.0\" stroke=\"#5e7ce0\" stroke-width=\"3\" /><rect x=\"72.8\" y=\"80.0\" width=\"40.0\" height=\"40\" rx=\"4\" ry=\"4\" stroke=\"#ffffff\" stroke-width=\"0\" fill=\"#5e7ce0\" fill-opacity=\"1\" /><text x=\"92.8\" y=\"100.0\" font-size=\"20px\" dominant-baseline=\"middle\" text-anchor=\"middle\" font-family=\"Arial\" font-weight=\"normal\" fill=\"#ffffff\" >X </text><circle cx=\"152.8\" cy=\"100.0\" r=\"4\" fill=\"#fac209\" /><circle cx=\"152.8\" cy=\"160.0\" r=\"4\" fill=\"#fac209\" /><circle cx=\"152.8\" cy=\"220.0\" r=\"4\" fill=\"#fac209\" /><line x1=\"152.8\" x2=\"152.8\" y1=\"40.0\" y2=\"220.0\" stroke=\"#fac209\" stroke-width=\"3\" /><rect x=\"132.8\" y=\"20.0\" width=\"40.0\" height=\"40\" rx=\"4\" ry=\"4\" stroke=\"#ffffff\" stroke-width=\"0\" fill=\"#fac209\" fill-opacity=\"1\" /><text x=\"152.8\" y=\"36.0\" font-size=\"20px\" dominant-baseline=\"middle\" text-anchor=\"middle\" font-family=\"Arial\" font-weight=\"normal\" fill=\"#ffffff\" >RY </text><text x=\"152.8\" y=\"52.0\" font-size=\"14.0px\" dominant-baseline=\"middle\" text-anchor=\"middle\" font-family=\"Arial\" font-weight=\"normal\" fill=\"#ffffff\" >π/2 </text><circle cx=\"212.8\" cy=\"40.0\" r=\"4\" fill=\"#5e7ce0\" /><circle cx=\"212.8\" cy=\"160.0\" r=\"4\" fill=\"#5e7ce0\" /><circle cx=\"212.8\" cy=\"220.0\" r=\"4\" fill=\"#5e7ce0\" /><line x1=\"212.8\" x2=\"212.8\" y1=\"40.0\" y2=\"220.0\" stroke=\"#5e7ce0\" stroke-width=\"3\" /><rect x=\"192.8\" y=\"80.0\" width=\"40.0\" height=\"40\" rx=\"4\" ry=\"4\" stroke=\"#ffffff\" stroke-width=\"0\" fill=\"#5e7ce0\" fill-opacity=\"1\" /><text x=\"212.8\" y=\"100.0\" font-size=\"20px\" dominant-baseline=\"middle\" text-anchor=\"middle\" font-family=\"Arial\" font-weight=\"normal\" fill=\"#ffffff\" >X </text><circle cx=\"272.8\" cy=\"160.0\" r=\"4\" fill=\"#5e7ce0\" /><circle cx=\"272.8\" cy=\"220.0\" r=\"4\" fill=\"#5e7ce0\" /><line x1=\"272.8\" x2=\"272.8\" y1=\"40.0\" y2=\"220.0\" stroke=\"#5e7ce0\" stroke-width=\"3\" /><rect x=\"252.8\" y=\"20.0\" width=\"40.0\" height=\"40\" rx=\"4\" ry=\"4\" stroke=\"#ffffff\" stroke-width=\"0\" fill=\"#5e7ce0\" fill-opacity=\"1\" /><text x=\"272.8\" y=\"40.0\" font-size=\"20px\" dominant-baseline=\"middle\" text-anchor=\"middle\" font-family=\"Arial\" font-weight=\"normal\" fill=\"#ffffff\" >X </text><line x1=\"332.8\" x2=\"332.8\" y1=\"20.0\" y2=\"120.0\" stroke-width=\"3\" stroke=\"#16acff\" /><circle cx=\"332.8\" cy=\"160.0\" r=\"4\" fill=\"#16acff\" /><circle cx=\"332.8\" cy=\"220.0\" r=\"4\" fill=\"#16acff\" /><line x1=\"332.8\" x2=\"332.8\" y1=\"40.0\" y2=\"220.0\" stroke=\"#16acff\" stroke-width=\"3\" /><rect x=\"312.8\" y=\"20.0\" width=\"40\" height=\"40\" rx=\"4\" ry=\"4\" fill=\"#16acff\" fill-opacity=\"1\" stroke=\"#ffffff\" stroke-width=\"0\" /><path d=\"M 323.2 36.31384387633061 L 328.0 28.0 L 332.8 36.31384387633061 L 329.44 36.31384387633061 L 329.44 52.0 L 326.56 52.0 L 326.56 36.31384387633061 Z\" fill=\"#ffffff\" /><path d=\"M 342.40000000000003 43.68615612366939 L 337.6 52.0 L 332.8 43.68615612366939 L 336.16 43.68615612366939 L 336.16 28.0 L 339.04 28.0 L 339.04 43.68615612366939 Z\" fill=\"#ffffff\" /><rect x=\"312.8\" y=\"80.0\" width=\"40\" height=\"40\" rx=\"4\" ry=\"4\" fill=\"#16acff\" fill-opacity=\"1\" stroke=\"#ffffff\" stroke-width=\"0\" /><path d=\"M 323.2 96.31384387633061 L 328.0 88.0 L 332.8 96.31384387633061 L 329.44 96.31384387633061 L 329.44 112.0 L 326.56 112.0 L 326.56 96.31384387633061 Z\" fill=\"#ffffff\" /><path d=\"M 342.40000000000003 103.68615612366939 L 337.6 112.0 L 332.8 103.68615612366939 L 336.16 103.68615612366939 L 336.16 88.0 L 339.04 88.0 L 339.04 103.68615612366939 Z\" fill=\"#ffffff\" /><circle cx=\"392.8\" cy=\"160.0\" r=\"4\" fill=\"#5e7ce0\" /><circle cx=\"392.8\" cy=\"220.0\" r=\"4\" fill=\"#5e7ce0\" /><line x1=\"392.8\" x2=\"392.8\" y1=\"40.0\" y2=\"220.0\" stroke=\"#5e7ce0\" stroke-width=\"3\" /><rect x=\"372.8\" y=\"20.0\" width=\"40.0\" height=\"40\" rx=\"4\" ry=\"4\" stroke=\"#ffffff\" stroke-width=\"0\" fill=\"#5e7ce0\" fill-opacity=\"1\" /><text x=\"392.8\" y=\"40.0\" font-size=\"20px\" dominant-baseline=\"middle\" text-anchor=\"middle\" font-family=\"Arial\" font-weight=\"normal\" fill=\"#ffffff\" >X </text><circle cx=\"452.8\" cy=\"100.0\" r=\"4\" fill=\"#fac209\" /><circle cx=\"452.8\" cy=\"160.0\" r=\"4\" fill=\"#fac209\" /><circle cx=\"452.8\" cy=\"220.0\" r=\"4\" fill=\"#fac209\" /><line x1=\"452.8\" x2=\"452.8\" y1=\"40.0\" y2=\"220.0\" stroke=\"#fac209\" stroke-width=\"3\" /><rect x=\"432.8\" y=\"20.0\" width=\"40.0\" height=\"40\" rx=\"4\" ry=\"4\" stroke=\"#ffffff\" stroke-width=\"0\" fill=\"#fac209\" fill-opacity=\"1\" /><text x=\"452.8\" y=\"36.0\" font-size=\"20px\" dominant-baseline=\"middle\" text-anchor=\"middle\" font-family=\"Arial\" font-weight=\"normal\" fill=\"#ffffff\" >RY </text><text x=\"452.8\" y=\"52.0\" font-size=\"14.0px\" dominant-baseline=\"middle\" text-anchor=\"middle\" font-family=\"Arial\" font-weight=\"normal\" fill=\"#ffffff\" >-π/2 </text><circle cx=\"512.8\" cy=\"40.0\" r=\"4\" fill=\"#5e7ce0\" /><circle cx=\"512.8\" cy=\"160.0\" r=\"4\" fill=\"#5e7ce0\" /><circle cx=\"512.8\" cy=\"220.0\" r=\"4\" fill=\"#5e7ce0\" /><line x1=\"512.8\" x2=\"512.8\" y1=\"40.0\" y2=\"220.0\" stroke=\"#5e7ce0\" stroke-width=\"3\" /><rect x=\"492.8\" y=\"80.0\" width=\"40.0\" height=\"40\" rx=\"4\" ry=\"4\" stroke=\"#ffffff\" stroke-width=\"0\" fill=\"#5e7ce0\" fill-opacity=\"1\" /><text x=\"512.8\" y=\"100.0\" font-size=\"20px\" dominant-baseline=\"middle\" text-anchor=\"middle\" font-family=\"Arial\" font-weight=\"normal\" fill=\"#ffffff\" >X </text></svg>"
      ],
      "text/plain": [
       "<mindquantum.io.display.circuit_svg_drawer.SVGCircuit at 0x1cf0a471c10>"
      ]
     },
     "execution_count": 11,
     "metadata": {},
     "output_type": "execute_result"
    }
   ],
   "source": [
    "# Qubit ansatz of qutrit CINC gate\n",
    "d = 3\n",
    "print(CINC(d).real)\n",
    "\n",
    "p = np.eye(2**((d - 1) * 2)) - su2_encoding(np.eye(d**2), 2)\n",
    "CINCe = su2_encoding(CINC(d), 2)\n",
    "CINCp = CINCe + p\n",
    "# print(CINCp.real)\n",
    "circ = Circuit() + X(1, [0, 2, 3]) + RY(np.pi / 2).on(0, [1, 2, 3]) + X(1, [0, 2, 3]) + X(0, [2, 3])\n",
    "circ += SWAP([0, 1], [2, 3])\n",
    "circ = circ + X(0, [2, 3]) + RY(-np.pi / 2).on(0, [1, 2, 3]) + X(1, [0, 2, 3])\n",
    "# print(circ.matrix().real)\n",
    "print(np.allclose(CINCp, circ.matrix()))\n",
    "circ.svg()"
   ]
  },
  {
   "cell_type": "code",
   "execution_count": 12,
   "metadata": {},
   "outputs": [
    {
     "name": "stdout",
     "output_type": "stream",
     "text": [
      "0|00⟩ -> |0000⟩ \n",
      "1|01⟩ -> |0001⟩ |0010⟩ \n",
      "2|02⟩ -> |0011⟩ \n",
      "3|10⟩ -> |0100⟩ |1000⟩ \n",
      "4|11⟩ -> |0101⟩ |0110⟩ |1001⟩ |1010⟩ \n",
      "5|12⟩ -> |0111⟩ |1011⟩ \n",
      "6|20⟩ -> |1100⟩ \n",
      "7|21⟩ -> |1101⟩ |1110⟩ \n",
      "8|22⟩ -> |1111⟩ \n"
     ]
    }
   ],
   "source": [
    "d, m = 3, 2\n",
    "nq = (d - 1) * m\n",
    "n = 2**nq\n",
    "sym_ind(3, 2)\n",
    "\n",
    "ind_ = {}\n",
    "for i in range(2**(d - 1)):\n",
    "    num1 = bin(i).count('1')\n",
    "    i_ = bin(i)[2::].zfill(d - 1)\n",
    "    if num1 in ind_:\n",
    "        ind_[num1].append(i_)\n",
    "    else:\n",
    "        ind_[num1] = [i_]\n",
    "for i in range(d**m):\n",
    "    multi = ['']\n",
    "    base = np.base_repr(i, d).zfill(m)\n",
    "    for j in range(m):\n",
    "        multi = [x + y for x in multi for y in ind_[int(base[j])]]\n",
    "    print(f'{i}|{base}⟩ -> ', end='')\n",
    "    for j in multi:\n",
    "        print(f'|{j}⟩ ', end='')\n",
    "        # print(f'{int(j, 2)}|{j}⟩ ', end='')\n",
    "    print()"
   ]
  },
  {
   "cell_type": "code",
   "execution_count": 13,
   "metadata": {},
   "outputs": [
    {
     "name": "stdout",
     "output_type": "stream",
     "text": [
      "a00|0⟩⟨0| a01|0⟩⟨1| a02|0⟩⟨2| \n",
      "a10|1⟩⟨0| a11|1⟩⟨1| a12|1⟩⟨2| \n",
      "a20|2⟩⟨0| a21|2⟩⟨1| a22|2⟩⟨2| \n",
      "\n",
      "a00|00⟩⟨00| a01|00⟩⟨01| a02|00⟩⟨10| a03|00⟩⟨11| \n",
      "a10|01⟩⟨00| a11|01⟩⟨01| a12|01⟩⟨10| a13|01⟩⟨11| \n",
      "a20|10⟩⟨00| a21|10⟩⟨01| a22|10⟩⟨10| a23|10⟩⟨11| \n",
      "a30|11⟩⟨00| a31|11⟩⟨01| a32|11⟩⟨10| a33|11⟩⟨11| \n"
     ]
    }
   ],
   "source": [
    "# Qudit\n",
    "d = 3\n",
    "nq = d - 1\n",
    "n = 2**nq\n",
    "for i in range(d):\n",
    "    for j in range(d):\n",
    "        a = f'a{str(i)}{str(j)}|{str(i)}⟩⟨{str(j)}|'\n",
    "        print(a, end=' ')\n",
    "    print()\n",
    "print()\n",
    "# Qubit\n",
    "for i in range(n):\n",
    "    for j in range(n):\n",
    "        ii = bin(i)[2:].zfill(nq)\n",
    "        jj = bin(j)[2:].zfill(nq)\n",
    "        a = f'a{str(i)}{str(j)}|{ii}⟩⟨{jj}|'\n",
    "        print(a, end=' ')\n",
    "    print()"
   ]
  },
  {
   "cell_type": "code",
   "execution_count": 14,
   "metadata": {},
   "outputs": [
    {
     "name": "stdout",
     "output_type": "stream",
     "text": [
      "\\begin{pmatrix}\n",
      "a_{00} & a_{01} & a_{02} & a_{03} \\\\\n",
      "a_{10} & a_{11} & a_{12} & a_{13} \\\\\n",
      "a_{20} & a_{21} & a_{22} & a_{23} \\\\\n",
      "a_{30} & a_{31} & a_{32} & a_{33} \\\\\n",
      "\\end{pmatrix}\n",
      "\n",
      "{0: [0], 1: [1], 2: [1], 3: [2], 4: [1], 5: [2], 6: [2], 7: [3]}\n",
      "\\begin{pmatrix}\n",
      "a_{00} & a_{01} & a_{01} & a_{02} \\\\\n",
      "a_{10} & a_{11} & a_{11} & a_{12} \\\\\n",
      "a_{10} & a_{11} & a_{11} & a_{12} \\\\\n",
      "a_{20} & a_{21} & a_{21} & a_{22} \\\\\n",
      "\\end{pmatrix}\n"
     ]
    }
   ],
   "source": [
    "# Qudit\n",
    "d = 4\n",
    "nq = d - 1\n",
    "n = 2**nq\n",
    "print('\\\\begin{pmatrix}')\n",
    "for i in range(d):\n",
    "    for j in range(d):\n",
    "        a = f'a_{{{str(i)}{str(j)}}}'\n",
    "        if j < d - 1:\n",
    "            print(a, end=' & ')\n",
    "        else:\n",
    "            print(a, end=' \\\\\\\\\\n')\n",
    "print('\\\\end{pmatrix}')\n",
    "print()\n",
    "# Qubit\n",
    "ind = {}\n",
    "for i in range(n):\n",
    "    num1 = bin(i).count('1')\n",
    "    ind[i] = [num1]\n",
    "print(ind)\n",
    "print('\\\\begin{pmatrix}')\n",
    "for i in range(d):\n",
    "    for j in range(d):\n",
    "        a = f'a_{{{str(ind[i][0])}{str(ind[j][0])}}}'\n",
    "        if j < d - 1:\n",
    "            print(a, end=' & ')\n",
    "        else:\n",
    "            print(a, end=' \\\\\\\\\\n')\n",
    "print('\\\\end{pmatrix}')"
   ]
  },
  {
   "cell_type": "code",
   "execution_count": 15,
   "metadata": {},
   "outputs": [
    {
     "name": "stdout",
     "output_type": "stream",
     "text": [
      "[[ 0.70294006+0.03118885j  0.07149122-0.03163382j -0.32562695+0.62670402j]\n",
      " [-0.58979256-0.32180129j -0.08381644+0.28570668j -0.52579407+0.4283407j ]\n",
      " [ 0.1075851 -0.20473555j  0.82823819+0.46824812j -0.03587238-0.19996792j]]\n",
      "[[ 0.70294006+0.03118885j  0.05055192-0.02236849j  0.05055192-0.02236849j -0.32562695+0.62670402j]\n",
      " [-0.41704632-0.22754787j -0.04190822+0.14285334j -0.04190822+0.14285334j -0.37179255+0.30288261j]\n",
      " [-0.41704632-0.22754787j -0.04190822+0.14285334j -0.04190822+0.14285334j -0.37179255+0.30288261j]\n",
      " [ 0.1075851 -0.20473555j  0.58565284+0.33110142j  0.58565284+0.33110142j -0.03587238-0.19996792j]]\n",
      "[[ 0. +0.j  0. +0.j  0. +0.j  0. +0.j]\n",
      " [ 0. +0.j  0.5+0.j -0.5+0.j  0. +0.j]\n",
      " [ 0. +0.j -0.5+0.j  0.5+0.j  0. +0.j]\n",
      " [ 0. +0.j  0. +0.j  0. +0.j  0. +0.j]]\n"
     ]
    },
    {
     "data": {
      "text/plain": [
       "(True, False)"
      ]
     },
     "execution_count": 15,
     "metadata": {},
     "output_type": "execute_result"
    }
   ],
   "source": [
    "d = 3\n",
    "n = 2**(d - 1)\n",
    "a1 = unitary_group.rvs(d)\n",
    "a2 = su2_encoding(a1)\n",
    "print(a1)\n",
    "print(a2)\n",
    "p = np.eye(n) - su2_encoding(np.eye(d))\n",
    "print(p)\n",
    "a2 += p\n",
    "is_unitary(a2), is_symmetric(a2)"
   ]
  },
  {
   "cell_type": "code",
   "execution_count": 16,
   "metadata": {},
   "outputs": [
    {
     "name": "stdout",
     "output_type": "stream",
     "text": [
      "[[1. 0. 0.]\n",
      " [0. 1. 0.]\n",
      " [0. 0. 1.]]\n",
      "[[1. +0.j 0. +0.j 0. +0.j 0. +0.j]\n",
      " [0. +0.j 0.5+0.j 0.5+0.j 0. +0.j]\n",
      " [0. +0.j 0.5+0.j 0.5+0.j 0. +0.j]\n",
      " [0. +0.j 0. +0.j 0. +0.j 1. +0.j]]\n",
      "[[ 0. +0.j  0. +0.j  0. +0.j  0. +0.j]\n",
      " [ 0. +0.j  0.5+0.j -0.5+0.j  0. +0.j]\n",
      " [ 0. +0.j -0.5+0.j  0.5+0.j  0. +0.j]\n",
      " [ 0. +0.j  0. +0.j  0. +0.j  0. +0.j]]\n"
     ]
    },
    {
     "data": {
      "text/plain": [
       "(True, 3)"
      ]
     },
     "execution_count": 16,
     "metadata": {},
     "output_type": "execute_result"
    }
   ],
   "source": [
    "d = 3\n",
    "n = 2**(d - 1)\n",
    "i1 = np.eye(d)\n",
    "i2 = su2_encoding(i1)\n",
    "p = np.eye(n) - su2_encoding(np.eye(d))\n",
    "print(i1)\n",
    "print(i2)\n",
    "print(p)\n",
    "is_symmetric(i2), matrix_rank(i2)"
   ]
  },
  {
   "cell_type": "code",
   "execution_count": 17,
   "metadata": {},
   "outputs": [
    {
     "data": {
      "image/svg+xml": [
       "<svg xmlns=\"http://www.w3.org/2000/svg\" width=\"196.8\" height=\"140.0\" xmlns:xlink=\"http://www.w3.org/1999/xlink\"><rect x=\"0\" y=\"0.0\" width=\"196.8\" height=\"140.0\" fill=\"#ffffff\" /><text x=\"20.0\" y=\"40.0\" font-size=\"16px\" dominant-baseline=\"middle\" text-anchor=\"start\" font-family=\"Arial\" font-weight=\"normal\" fill=\"#252b3a\" >q0: </text><text x=\"20.0\" y=\"100.0\" font-size=\"16px\" dominant-baseline=\"middle\" text-anchor=\"start\" font-family=\"Arial\" font-weight=\"normal\" fill=\"#252b3a\" >q1: </text><line x1=\"48.8\" x2=\"176.8\" y1=\"40.0\" y2=\"40.0\" stroke=\"#adb0b8\" stroke-width=\"1\" /><line x1=\"48.8\" x2=\"176.8\" y1=\"100.0\" y2=\"100.0\" stroke=\"#adb0b8\" stroke-width=\"1\" /><rect x=\"72.8\" y=\"20.0\" width=\"80.0\" height=\"100\" rx=\"4\" ry=\"4\" stroke=\"#ffffff\" stroke-width=\"0\" fill=\"#fac209\" fill-opacity=\"1\" /><text x=\"112.8\" y=\"66.0\" font-size=\"20px\" dominant-baseline=\"middle\" text-anchor=\"middle\" font-family=\"Arial\" font-weight=\"normal\" fill=\"#ffffff\" >Rzz </text><text x=\"112.8\" y=\"82.0\" font-size=\"14.0px\" dominant-baseline=\"middle\" text-anchor=\"middle\" font-family=\"Arial\" font-weight=\"normal\" fill=\"#ffffff\" >-2.4423 </text></svg>"
      ]
     },
     "metadata": {},
     "output_type": "display_data"
    },
    {
     "data": {
      "text/plain": [
       "(True, True, True)"
      ]
     },
     "execution_count": 17,
     "metadata": {},
     "output_type": "execute_result"
    }
   ],
   "source": [
    "# U2⊗U2 Rxx Ryy Rzz SWAP preserve symmetry\n",
    "d = 3\n",
    "a1 = unitary_group.rvs(d)\n",
    "b1 = np.random.rand(d) + 1j * np.random.rand(d)\n",
    "b1 /= norm(b1)\n",
    "a2 = su2_encoding(a1)\n",
    "b2 = su2_encoding(b1)\n",
    "# print(a1)\n",
    "# print(a2)\n",
    "# print(b1)\n",
    "# print(b2)\n",
    "t = np.random.uniform(-np.pi, np.pi)\n",
    "k = Circuit() + Rzz(t).on([0, 1])\n",
    "# k = Circuit() + UN(UnivMathGate('', unitary_group.rvs(2)), 2)\n",
    "display_svg(k.svg())\n",
    "k = k.matrix()\n",
    "# print(k)\n",
    "# print(a2 @ k)\n",
    "# print(k @ a2)\n",
    "# print(k @ b2)\n",
    "is_symmetric(a2 @ k), is_symmetric(k @ a2), is_symmetric(k @ b2)"
   ]
  },
  {
   "cell_type": "code",
   "execution_count": 18,
   "metadata": {},
   "outputs": [
    {
     "name": "stdout",
     "output_type": "stream",
     "text": [
      "[[0.34880034-4.71109104e-18j 0.40977999+2.43349593e-01j]\n",
      " [0.40977999-2.43349593e-01j 0.65119966-1.91180564e-17j]]\n",
      "[[0.03454462+1.57127038e-19j 0.0930421 -1.57144687e-01j]\n",
      " [0.0930421 +1.57144687e-01j 0.96545538+5.22244966e-18j]]\n",
      "[[ 1.20491735e-02-1.07936862e-19j  3.24531155e-02-5.48121201e-02j  1.41556919e-02+8.40641803e-03j  7.63678855e-02-4.17529910e-02j]\n",
      " [ 3.24531155e-02+5.48121201e-02j  3.36751167e-01-2.72675600e-18j -1.14305675e-04+8.70365046e-02j  3.95624296e-01+2.34943175e-01j]\n",
      " [ 1.41556919e-02-8.40641803e-03j -1.14305675e-04-8.70365046e-02j  2.24954416e-02-5.58104827e-19j  6.05889828e-02-1.02332567e-01j]\n",
      " [ 7.63678855e-02+4.17529910e-02j  3.95624296e-01-2.34943175e-01j  6.05889828e-02+1.02332567e-01j  6.28704218e-01-1.50567731e-17j]]\n",
      "(1.0000000000000007-5.551115123125783e-17j)\n"
     ]
    },
    {
     "data": {
      "text/plain": [
       "1.0000000000000002"
      ]
     },
     "execution_count": 18,
     "metadata": {},
     "output_type": "execute_result"
    }
   ],
   "source": [
    "# How to restore a reduce density matrix\n",
    "np.random.seed(42)\n",
    "a = np.random.rand(2) + 1j * np.random.rand(2)\n",
    "b = np.random.rand(2) + 1j * np.random.rand(2)\n",
    "a /= norm(a)\n",
    "b /= norm(b)\n",
    "psi_ab = np.kron(a, b)\n",
    "rho_a = np.outer(a, a.conj())\n",
    "rho_b = np.outer(b, b.conj())\n",
    "rho_ab = np.kron(rho_a, rho_b)\n",
    "print(rho_a)\n",
    "print(rho_b)\n",
    "print(rho_ab)\n",
    "print(psi_ab.conj() @ rho_ab @ psi_ab)\n",
    "fidelity(rho_ab, psi_ab)"
   ]
  }
 ],
 "metadata": {
  "kernelspec": {
   "display_name": "Python 3",
   "language": "python",
   "name": "python3"
  },
  "language_info": {
   "codemirror_mode": {
    "name": "ipython",
    "version": 3
   },
   "file_extension": ".py",
   "mimetype": "text/x-python",
   "name": "python",
   "nbconvert_exporter": "python",
   "pygments_lexer": "ipython3",
   "version": "3.9.13"
  },
  "orig_nbformat": 4
 },
 "nbformat": 4,
 "nbformat_minor": 2
}
