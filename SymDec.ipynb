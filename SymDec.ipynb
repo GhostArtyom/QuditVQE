{
 "cells": [
  {
   "cell_type": "code",
   "execution_count": 1,
   "metadata": {},
   "outputs": [],
   "source": [
    "import re\n",
    "import os\n",
    "import sys\n",
    "import h5py\n",
    "import time\n",
    "import numpy as np\n",
    "import scipy as sp\n",
    "from utils import *\n",
    "from math import log\n",
    "import mindspore as ms\n",
    "from scipy.sparse import csr_matrix\n",
    "from scipy.optimize import minimize\n",
    "from mindquantum.framework import *\n",
    "from mindquantum.core.gates import *\n",
    "from scipy.stats import unitary_group\n",
    "from mindquantum.core.circuit import *\n",
    "from IPython.display import display_svg\n",
    "from mindquantum.core.operators import *\n",
    "from mindquantum.algorithm.nisq import *\n",
    "from mindspore.common.initializer import *\n",
    "from mindquantum.simulator import Simulator\n",
    "from mindquantum.algorithm.compiler import *\n",
    "from scipy.linalg import expm, sqrtm, block_diag\n",
    "from numpy.linalg import det, svd, eigh, norm, matrix_rank\n",
    "\n",
    "np.set_printoptions(linewidth=200)"
   ]
  },
  {
   "cell_type": "code",
   "execution_count": 2,
   "metadata": {},
   "outputs": [
    {
     "name": "stdout",
     "output_type": "stream",
     "text": [
      "-0.7833574523594131 -0.3256893761745039 0.09601440848086917\n",
      "[0.68654072+0.03916566j 0.28809226+0.0474913j  0.60149771+0.28297672j]\n",
      "[[ 0.69222524+0.57060169j  0.        +0.j          0.        +0.j          0.28104859-0.340954j  ]\n",
      " [ 0.        +0.j         -0.28337511-0.34377642j -0.6908279 +0.56944986j  0.        +0.j        ]\n",
      " [ 0.        +0.j         -0.6908279 +0.56944986j -0.28337511-0.34377642j  0.        +0.j        ]\n",
      " [ 0.28104859-0.340954j    0.        +0.j          0.        +0.j          0.69222524+0.57060169j]]\n",
      "True\n"
     ]
    },
    {
     "data": {
      "image/svg+xml": [
       "<svg xmlns=\"http://www.w3.org/2000/svg\" width=\"596.8\" height=\"260.0\" xmlns:xlink=\"http://www.w3.org/1999/xlink\"><rect x=\"0\" y=\"0.0\" width=\"596.8\" height=\"260.0\" fill=\"#ffffff\" /><text x=\"20.0\" y=\"40.0\" font-size=\"16px\" dominant-baseline=\"middle\" text-anchor=\"start\" font-family=\"Arial\" font-weight=\"normal\" fill=\"#252b3a\" >q0: </text><text x=\"20.0\" y=\"100.0\" font-size=\"16px\" dominant-baseline=\"middle\" text-anchor=\"start\" font-family=\"Arial\" font-weight=\"normal\" fill=\"#252b3a\" >q1: </text><text x=\"20.0\" y=\"160.0\" font-size=\"16px\" dominant-baseline=\"middle\" text-anchor=\"start\" font-family=\"Arial\" font-weight=\"normal\" fill=\"#252b3a\" >q2: </text><text x=\"20.0\" y=\"220.0\" font-size=\"16px\" dominant-baseline=\"middle\" text-anchor=\"start\" font-family=\"Arial\" font-weight=\"normal\" fill=\"#252b3a\" >q3: </text><line x1=\"48.8\" x2=\"576.8\" y1=\"40.0\" y2=\"40.0\" stroke=\"#adb0b8\" stroke-width=\"1\" /><line x1=\"48.8\" x2=\"576.8\" y1=\"100.0\" y2=\"100.0\" stroke=\"#adb0b8\" stroke-width=\"1\" /><line x1=\"48.8\" x2=\"576.8\" y1=\"160.0\" y2=\"160.0\" stroke=\"#adb0b8\" stroke-width=\"1\" /><line x1=\"48.8\" x2=\"576.8\" y1=\"220.0\" y2=\"220.0\" stroke=\"#adb0b8\" stroke-width=\"1\" /><rect x=\"72.8\" y=\"80.0\" width=\"40.0\" height=\"40\" rx=\"4\" ry=\"4\" stroke=\"#ffffff\" stroke-width=\"0\" fill=\"#fac209\" fill-opacity=\"1\" /><text x=\"92.8\" y=\"96.0\" font-size=\"20px\" dominant-baseline=\"middle\" text-anchor=\"middle\" font-family=\"Arial\" font-weight=\"normal\" fill=\"#ffffff\" >RZ </text><text x=\"92.8\" y=\"112.0\" font-size=\"14.0px\" dominant-baseline=\"middle\" text-anchor=\"middle\" font-family=\"Arial\" font-weight=\"normal\" fill=\"#ffffff\" >π/2 </text><circle cx=\"152.8\" cy=\"100.0\" r=\"4\" fill=\"#16acff\" /><line x1=\"152.8\" x2=\"152.8\" y1=\"40.0\" y2=\"100.0\" stroke=\"#16acff\" stroke-width=\"3\" /><rect x=\"132.8\" y=\"20.0\" width=\"40\" height=\"40\" rx=\"4\" ry=\"4\" stroke=\"#ffffff\" stroke-width=\"0\" fill=\"#16acff\" fill-opacity=\"1\" /><line x1=\"138.8\" x2=\"166.8\" y1=\"40.0\" y2=\"40.0\" stroke=\"#ffffff\" stroke-width=\"4\" /><line x1=\"152.8\" x2=\"152.8\" y1=\"26.0\" y2=\"54.0\" stroke=\"#ffffff\" stroke-width=\"4\" /><rect x=\"192.8\" y=\"20.0\" width=\"80.0\" height=\"40\" rx=\"4\" ry=\"4\" stroke=\"#ffffff\" stroke-width=\"0\" fill=\"#fac209\" fill-opacity=\"1\" /><text x=\"232.8\" y=\"36.0\" font-size=\"20px\" dominant-baseline=\"middle\" text-anchor=\"middle\" font-family=\"Arial\" font-weight=\"normal\" fill=\"#ffffff\" >RZ </text><text x=\"232.8\" y=\"52.0\" font-size=\"14.0px\" dominant-baseline=\"middle\" text-anchor=\"middle\" font-family=\"Arial\" font-weight=\"normal\" fill=\"#ffffff\" >-1.3788 </text><rect x=\"192.8\" y=\"80.0\" width=\"80.0\" height=\"40\" rx=\"4\" ry=\"4\" stroke=\"#ffffff\" stroke-width=\"0\" fill=\"#fac209\" fill-opacity=\"1\" /><text x=\"232.8\" y=\"96.0\" font-size=\"20px\" dominant-baseline=\"middle\" text-anchor=\"middle\" font-family=\"Arial\" font-weight=\"normal\" fill=\"#ffffff\" >RY </text><text x=\"232.8\" y=\"112.0\" font-size=\"14.0px\" dominant-baseline=\"middle\" text-anchor=\"middle\" font-family=\"Arial\" font-weight=\"normal\" fill=\"#ffffff\" >3.1375 </text><circle cx=\"312.8\" cy=\"40.0\" r=\"4\" fill=\"#16acff\" /><line x1=\"312.8\" x2=\"312.8\" y1=\"40.0\" y2=\"100.0\" stroke=\"#16acff\" stroke-width=\"3\" /><rect x=\"292.8\" y=\"80.0\" width=\"40\" height=\"40\" rx=\"4\" ry=\"4\" stroke=\"#ffffff\" stroke-width=\"0\" fill=\"#16acff\" fill-opacity=\"1\" /><line x1=\"298.8\" x2=\"326.8\" y1=\"100.0\" y2=\"100.0\" stroke=\"#ffffff\" stroke-width=\"4\" /><line x1=\"312.8\" x2=\"312.8\" y1=\"86.0\" y2=\"114.0\" stroke=\"#ffffff\" stroke-width=\"4\" /><rect x=\"352.8\" y=\"80.0\" width=\"80.0\" height=\"40\" rx=\"4\" ry=\"4\" stroke=\"#ffffff\" stroke-width=\"0\" fill=\"#fac209\" fill-opacity=\"1\" /><text x=\"392.8\" y=\"96.0\" font-size=\"20px\" dominant-baseline=\"middle\" text-anchor=\"middle\" font-family=\"Arial\" font-weight=\"normal\" fill=\"#ffffff\" >RY </text><text x=\"392.8\" y=\"112.0\" font-size=\"14.0px\" dominant-baseline=\"middle\" text-anchor=\"middle\" font-family=\"Arial\" font-weight=\"normal\" fill=\"#ffffff\" >-2.2222 </text><circle cx=\"472.8\" cy=\"100.0\" r=\"4\" fill=\"#16acff\" /><line x1=\"472.8\" x2=\"472.8\" y1=\"40.0\" y2=\"100.0\" stroke=\"#16acff\" stroke-width=\"3\" /><rect x=\"452.8\" y=\"20.0\" width=\"40\" height=\"40\" rx=\"4\" ry=\"4\" stroke=\"#ffffff\" stroke-width=\"0\" fill=\"#16acff\" fill-opacity=\"1\" /><line x1=\"458.8\" x2=\"486.8\" y1=\"40.0\" y2=\"40.0\" stroke=\"#ffffff\" stroke-width=\"4\" /><line x1=\"472.8\" x2=\"472.8\" y1=\"26.0\" y2=\"54.0\" stroke=\"#ffffff\" stroke-width=\"4\" /><rect x=\"512.8\" y=\"20.0\" width=\"40.0\" height=\"40\" rx=\"4\" ry=\"4\" stroke=\"#ffffff\" stroke-width=\"0\" fill=\"#fac209\" fill-opacity=\"1\" /><text x=\"532.8\" y=\"36.0\" font-size=\"20px\" dominant-baseline=\"middle\" text-anchor=\"middle\" font-family=\"Arial\" font-weight=\"normal\" fill=\"#ffffff\" >RZ </text><text x=\"532.8\" y=\"52.0\" font-size=\"14.0px\" dominant-baseline=\"middle\" text-anchor=\"middle\" font-family=\"Arial\" font-weight=\"normal\" fill=\"#ffffff\" >-π/2 </text><rect x=\"72.8\" y=\"200.0\" width=\"40.0\" height=\"40\" rx=\"4\" ry=\"4\" stroke=\"#ffffff\" stroke-width=\"0\" fill=\"#fac209\" fill-opacity=\"1\" /><text x=\"92.8\" y=\"216.0\" font-size=\"20px\" dominant-baseline=\"middle\" text-anchor=\"middle\" font-family=\"Arial\" font-weight=\"normal\" fill=\"#ffffff\" >RZ </text><text x=\"92.8\" y=\"232.0\" font-size=\"14.0px\" dominant-baseline=\"middle\" text-anchor=\"middle\" font-family=\"Arial\" font-weight=\"normal\" fill=\"#ffffff\" >π/2 </text><circle cx=\"152.8\" cy=\"220.0\" r=\"4\" fill=\"#16acff\" /><line x1=\"152.8\" x2=\"152.8\" y1=\"160.0\" y2=\"220.0\" stroke=\"#16acff\" stroke-width=\"3\" /><rect x=\"132.8\" y=\"140.0\" width=\"40\" height=\"40\" rx=\"4\" ry=\"4\" stroke=\"#ffffff\" stroke-width=\"0\" fill=\"#16acff\" fill-opacity=\"1\" /><line x1=\"138.8\" x2=\"166.8\" y1=\"160.0\" y2=\"160.0\" stroke=\"#ffffff\" stroke-width=\"4\" /><line x1=\"152.8\" x2=\"152.8\" y1=\"146.0\" y2=\"174.0\" stroke=\"#ffffff\" stroke-width=\"4\" /><rect x=\"192.8\" y=\"140.0\" width=\"80.0\" height=\"40\" rx=\"4\" ry=\"4\" stroke=\"#ffffff\" stroke-width=\"0\" fill=\"#fac209\" fill-opacity=\"1\" /><text x=\"232.8\" y=\"156.0\" font-size=\"20px\" dominant-baseline=\"middle\" text-anchor=\"middle\" font-family=\"Arial\" font-weight=\"normal\" fill=\"#ffffff\" >RZ </text><text x=\"232.8\" y=\"172.0\" font-size=\"14.0px\" dominant-baseline=\"middle\" text-anchor=\"middle\" font-family=\"Arial\" font-weight=\"normal\" fill=\"#ffffff\" >-1.3788 </text><rect x=\"192.8\" y=\"200.0\" width=\"80.0\" height=\"40\" rx=\"4\" ry=\"4\" stroke=\"#ffffff\" stroke-width=\"0\" fill=\"#fac209\" fill-opacity=\"1\" /><text x=\"232.8\" y=\"216.0\" font-size=\"20px\" dominant-baseline=\"middle\" text-anchor=\"middle\" font-family=\"Arial\" font-weight=\"normal\" fill=\"#ffffff\" >RY </text><text x=\"232.8\" y=\"232.0\" font-size=\"14.0px\" dominant-baseline=\"middle\" text-anchor=\"middle\" font-family=\"Arial\" font-weight=\"normal\" fill=\"#ffffff\" >3.1375 </text><circle cx=\"312.8\" cy=\"160.0\" r=\"4\" fill=\"#16acff\" /><line x1=\"312.8\" x2=\"312.8\" y1=\"160.0\" y2=\"220.0\" stroke=\"#16acff\" stroke-width=\"3\" /><rect x=\"292.8\" y=\"200.0\" width=\"40\" height=\"40\" rx=\"4\" ry=\"4\" stroke=\"#ffffff\" stroke-width=\"0\" fill=\"#16acff\" fill-opacity=\"1\" /><line x1=\"298.8\" x2=\"326.8\" y1=\"220.0\" y2=\"220.0\" stroke=\"#ffffff\" stroke-width=\"4\" /><line x1=\"312.8\" x2=\"312.8\" y1=\"206.0\" y2=\"234.0\" stroke=\"#ffffff\" stroke-width=\"4\" /><rect x=\"352.8\" y=\"200.0\" width=\"80.0\" height=\"40\" rx=\"4\" ry=\"4\" stroke=\"#ffffff\" stroke-width=\"0\" fill=\"#fac209\" fill-opacity=\"1\" /><text x=\"392.8\" y=\"216.0\" font-size=\"20px\" dominant-baseline=\"middle\" text-anchor=\"middle\" font-family=\"Arial\" font-weight=\"normal\" fill=\"#ffffff\" >RY </text><text x=\"392.8\" y=\"232.0\" font-size=\"14.0px\" dominant-baseline=\"middle\" text-anchor=\"middle\" font-family=\"Arial\" font-weight=\"normal\" fill=\"#ffffff\" >-2.2222 </text><circle cx=\"472.8\" cy=\"220.0\" r=\"4\" fill=\"#16acff\" /><line x1=\"472.8\" x2=\"472.8\" y1=\"160.0\" y2=\"220.0\" stroke=\"#16acff\" stroke-width=\"3\" /><rect x=\"452.8\" y=\"140.0\" width=\"40\" height=\"40\" rx=\"4\" ry=\"4\" stroke=\"#ffffff\" stroke-width=\"0\" fill=\"#16acff\" fill-opacity=\"1\" /><line x1=\"458.8\" x2=\"486.8\" y1=\"160.0\" y2=\"160.0\" stroke=\"#ffffff\" stroke-width=\"4\" /><line x1=\"472.8\" x2=\"472.8\" y1=\"146.0\" y2=\"174.0\" stroke=\"#ffffff\" stroke-width=\"4\" /><rect x=\"512.8\" y=\"140.0\" width=\"40.0\" height=\"40\" rx=\"4\" ry=\"4\" stroke=\"#ffffff\" stroke-width=\"0\" fill=\"#fac209\" fill-opacity=\"1\" /><text x=\"532.8\" y=\"156.0\" font-size=\"20px\" dominant-baseline=\"middle\" text-anchor=\"middle\" font-family=\"Arial\" font-weight=\"normal\" fill=\"#ffffff\" >RZ </text><text x=\"532.8\" y=\"172.0\" font-size=\"14.0px\" dominant-baseline=\"middle\" text-anchor=\"middle\" font-family=\"Arial\" font-weight=\"normal\" fill=\"#ffffff\" >-π/2 </text></svg>"
      ],
      "text/plain": [
       "<mindquantum.io.display.circuit_svg_drawer.SVGCircuit at 0x26b3f8734f0>"
      ]
     },
     "execution_count": 2,
     "metadata": {},
     "output_type": "execute_result"
    }
   ],
   "source": [
    "def ESP_ansatz(x, y, z, q0, q1):\n",
    "    circ = Circuit()\n",
    "    circ += RZ(np.pi / 2).on(q1)\n",
    "    circ += X(q0, q1)\n",
    "    circ += RZ(2 * z - np.pi / 2).on(q0)\n",
    "    circ += RY(np.pi / 2 - 2 * x).on(q1)\n",
    "    circ += X(q1, q0)\n",
    "    circ += RY(2 * y - np.pi / 2).on(q1)\n",
    "    circ += X(q0, q1)\n",
    "    circ += RZ(-np.pi / 2).on(q0)\n",
    "    return circ\n",
    "\n",
    "\n",
    "x, y, z = np.random.uniform(-1, 1, 3)\n",
    "print(x, y, z)\n",
    "# circ = Circuit() + X(0) + X(1) + H(0) + X(1, 0)\n",
    "circ = ESP_ansatz(x, y, z, 0, 1) + ESP_ansatz(x, y, z, 2, 3)\n",
    "d = circ.n_qubits\n",
    "sim = Simulator('mqvector', circ.n_qubits)\n",
    "qudit = np.random.rand(3) + 1j * np.random.rand(3)\n",
    "qudit /= norm(qudit)\n",
    "print(qudit)\n",
    "# qubit = su2_encoding(qudit)\n",
    "# sim.set_qs(qubit)\n",
    "# # print(sim.get_qs())\n",
    "# sim.apply_circuit(circ)\n",
    "# print(sim.get_qs())\n",
    "# print(is_symmetric(sim.get_qs(), 2))\n",
    "print(ESP_ansatz(x, y, z, 0, 1).matrix())\n",
    "print(np.allclose(circ.matrix(), circ.matrix().T))\n",
    "circ.svg()\n"
   ]
  },
  {
   "cell_type": "code",
   "execution_count": 3,
   "metadata": {},
   "outputs": [
    {
     "name": "stdout",
     "output_type": "stream",
     "text": [
      "a00|0⟩⟨0| a01|0⟩⟨1| a02|0⟩⟨2| \n",
      "a10|1⟩⟨0| a11|1⟩⟨1| a12|1⟩⟨2| \n",
      "a20|2⟩⟨0| a21|2⟩⟨1| a22|2⟩⟨2| \n",
      "\n",
      "a00|00⟩⟨00| a01|00⟩⟨01| a02|00⟩⟨10| a03|00⟩⟨11| \n",
      "a10|01⟩⟨00| a11|01⟩⟨01| a12|01⟩⟨10| a13|01⟩⟨11| \n",
      "a20|10⟩⟨00| a21|10⟩⟨01| a22|10⟩⟨10| a23|10⟩⟨11| \n",
      "a30|11⟩⟨00| a31|11⟩⟨01| a32|11⟩⟨10| a33|11⟩⟨11| \n"
     ]
    }
   ],
   "source": [
    "# Qudit\n",
    "d = 3\n",
    "nq = d - 1\n",
    "n = 2**nq\n",
    "for i in range(d):\n",
    "    for j in range(d):\n",
    "        a = f'a{str(i)}{str(j)}|{str(i)}⟩⟨{str(j)}|'\n",
    "        print(a, end=' ')\n",
    "    print()\n",
    "print()\n",
    "# Qubit\n",
    "for i in range(n):\n",
    "    for j in range(n):\n",
    "        ii = bin(i)[2:].zfill(nq)\n",
    "        jj = bin(j)[2:].zfill(nq)\n",
    "        a = f'a{str(i)}{str(j)}|{ii}⟩⟨{jj}|'\n",
    "        print(a, end=' ')\n",
    "    print()"
   ]
  },
  {
   "cell_type": "code",
   "execution_count": 4,
   "metadata": {},
   "outputs": [
    {
     "name": "stdout",
     "output_type": "stream",
     "text": [
      "\\begin{pmatrix}\n",
      "a_{00} & a_{01} & a_{02} & a_{03} \\\\\n",
      "a_{10} & a_{11} & a_{12} & a_{13} \\\\\n",
      "a_{20} & a_{21} & a_{22} & a_{23} \\\\\n",
      "a_{30} & a_{31} & a_{32} & a_{33} \\\\\n",
      "\\end{pmatrix}\n",
      "\n",
      "{0: [0], 1: [1], 2: [1], 3: [2], 4: [1], 5: [2], 6: [2], 7: [3]}\n",
      "\\begin{pmatrix}\n",
      "a_{00} & a_{01} & a_{01} & a_{02} \\\\\n",
      "a_{10} & a_{11} & a_{11} & a_{12} \\\\\n",
      "a_{10} & a_{11} & a_{11} & a_{12} \\\\\n",
      "a_{20} & a_{21} & a_{21} & a_{22} \\\\\n",
      "\\end{pmatrix}\n"
     ]
    }
   ],
   "source": [
    "# Qudit\n",
    "d = 4\n",
    "nq = d - 1\n",
    "n = 2**nq\n",
    "print('\\\\begin{pmatrix}')\n",
    "for i in range(d):\n",
    "    for j in range(d):\n",
    "        a = f'a_{{{str(i)}{str(j)}}}'\n",
    "        if j < d - 1:\n",
    "            print(a, end=' & ')\n",
    "        else:\n",
    "            print(a, end=' \\\\\\\\\\n')\n",
    "print('\\\\end{pmatrix}')\n",
    "print()\n",
    "# Qubit\n",
    "ind = {}\n",
    "for i in range(n):\n",
    "    num1 = bin(i).count('1')\n",
    "    ind[i] = [num1]\n",
    "print(ind)\n",
    "print('\\\\begin{pmatrix}')\n",
    "for i in range(d):\n",
    "    for j in range(d):\n",
    "        a = f'a_{{{str(ind[i][0])}{str(ind[j][0])}}}'\n",
    "        if j < d - 1:\n",
    "            print(a, end=' & ')\n",
    "        else:\n",
    "            print(a, end=' \\\\\\\\\\n')\n",
    "print('\\\\end{pmatrix}')"
   ]
  },
  {
   "cell_type": "code",
   "execution_count": 5,
   "metadata": {},
   "outputs": [
    {
     "name": "stdout",
     "output_type": "stream",
     "text": [
      "[[ 0.57545538+0.16590746j -0.60864031+0.26254676j  0.43029052-0.12962278j]\n",
      " [-0.10319062-0.66173937j -0.00385583-0.3116642j   0.64081083+0.20896109j]\n",
      " [-0.32373878+0.29660028j  0.26535201+0.626949j    0.43109755+0.39736589j]]\n",
      "[[ 0.57545538+0.16590746j -0.43037369+0.1856486j  -0.43037369+0.1856486j   0.43029052-0.12962278j]\n",
      " [-0.07296679-0.4679204j  -0.00192792-0.1558321j  -0.00192792-0.1558321j   0.45312168+0.1477578j ]\n",
      " [-0.07296679-0.4679204j  -0.00192792-0.1558321j  -0.00192792-0.1558321j   0.45312168+0.1477578j ]\n",
      " [-0.32373878+0.29660028j  0.1876322 +0.44331989j  0.1876322 +0.44331989j  0.43109755+0.39736589j]]\n",
      "[[ 0. +0.j  0. +0.j  0. +0.j  0. +0.j]\n",
      " [ 0. +0.j  0.5+0.j -0.5+0.j  0. +0.j]\n",
      " [ 0. +0.j -0.5+0.j  0.5+0.j  0. +0.j]\n",
      " [ 0. +0.j  0. +0.j  0. +0.j  0. +0.j]]\n"
     ]
    },
    {
     "data": {
      "text/plain": [
       "(True, False)"
      ]
     },
     "execution_count": 5,
     "metadata": {},
     "output_type": "execute_result"
    }
   ],
   "source": [
    "d = 3\n",
    "n = 2**(d - 1)\n",
    "a1 = unitary_group.rvs(d)\n",
    "a2 = su2_encoding(a1)\n",
    "print(a1)\n",
    "print(a2)\n",
    "p = np.eye(n) - su2_encoding(np.eye(d))\n",
    "print(p)\n",
    "a2 += p\n",
    "is_unitary(a2), is_symmetric(a2)"
   ]
  },
  {
   "cell_type": "code",
   "execution_count": 6,
   "metadata": {},
   "outputs": [
    {
     "name": "stdout",
     "output_type": "stream",
     "text": [
      "[[1. 0. 0.]\n",
      " [0. 1. 0.]\n",
      " [0. 0. 1.]]\n",
      "[[1. +0.j 0. +0.j 0. +0.j 0. +0.j]\n",
      " [0. +0.j 0.5+0.j 0.5+0.j 0. +0.j]\n",
      " [0. +0.j 0.5+0.j 0.5+0.j 0. +0.j]\n",
      " [0. +0.j 0. +0.j 0. +0.j 1. +0.j]]\n",
      "[[ 0. +0.j  0. +0.j  0. +0.j  0. +0.j]\n",
      " [ 0. +0.j  0.5+0.j -0.5+0.j  0. +0.j]\n",
      " [ 0. +0.j -0.5+0.j  0.5+0.j  0. +0.j]\n",
      " [ 0. +0.j  0. +0.j  0. +0.j  0. +0.j]]\n"
     ]
    },
    {
     "data": {
      "text/plain": [
       "(True, 3)"
      ]
     },
     "execution_count": 6,
     "metadata": {},
     "output_type": "execute_result"
    }
   ],
   "source": [
    "d = 3\n",
    "n = 2**(d - 1)\n",
    "i1 = np.eye(d)\n",
    "i2 = su2_encoding(i1)\n",
    "p = np.eye(n) - su2_encoding(np.eye(d))\n",
    "print(i1)\n",
    "print(i2)\n",
    "print(p)\n",
    "is_symmetric(i2), matrix_rank(i2)"
   ]
  },
  {
   "cell_type": "code",
   "execution_count": 7,
   "metadata": {},
   "outputs": [
    {
     "data": {
      "image/svg+xml": [
       "<svg xmlns=\"http://www.w3.org/2000/svg\" width=\"196.8\" height=\"140.0\" xmlns:xlink=\"http://www.w3.org/1999/xlink\"><rect x=\"0\" y=\"0.0\" width=\"196.8\" height=\"140.0\" fill=\"#ffffff\" /><text x=\"20.0\" y=\"40.0\" font-size=\"16px\" dominant-baseline=\"middle\" text-anchor=\"start\" font-family=\"Arial\" font-weight=\"normal\" fill=\"#252b3a\" >q0: </text><text x=\"20.0\" y=\"100.0\" font-size=\"16px\" dominant-baseline=\"middle\" text-anchor=\"start\" font-family=\"Arial\" font-weight=\"normal\" fill=\"#252b3a\" >q1: </text><line x1=\"48.8\" x2=\"176.8\" y1=\"40.0\" y2=\"40.0\" stroke=\"#adb0b8\" stroke-width=\"1\" /><line x1=\"48.8\" x2=\"176.8\" y1=\"100.0\" y2=\"100.0\" stroke=\"#adb0b8\" stroke-width=\"1\" /><rect x=\"72.8\" y=\"20.0\" width=\"80.0\" height=\"100\" rx=\"4\" ry=\"4\" stroke=\"#ffffff\" stroke-width=\"0\" fill=\"#fac209\" fill-opacity=\"1\" /><text x=\"112.8\" y=\"66.0\" font-size=\"20px\" dominant-baseline=\"middle\" text-anchor=\"middle\" font-family=\"Arial\" font-weight=\"normal\" fill=\"#ffffff\" >Rzz </text><text x=\"112.8\" y=\"82.0\" font-size=\"14.0px\" dominant-baseline=\"middle\" text-anchor=\"middle\" font-family=\"Arial\" font-weight=\"normal\" fill=\"#ffffff\" >2.6222 </text></svg>"
      ]
     },
     "metadata": {},
     "output_type": "display_data"
    },
    {
     "data": {
      "text/plain": [
       "(True, True, True)"
      ]
     },
     "execution_count": 7,
     "metadata": {},
     "output_type": "execute_result"
    }
   ],
   "source": [
    "# U2⊗U2 Rxx Ryy Rzz SWAP preserve symmetry\n",
    "d = 3\n",
    "a1 = unitary_group.rvs(d)\n",
    "b1 = np.random.rand(d) + 1j * np.random.rand(d)\n",
    "b1 /= norm(b1)\n",
    "a2 = su2_encoding(a1)\n",
    "b2 = su2_encoding(b1)\n",
    "# print(a1)\n",
    "# print(a2)\n",
    "# print(b1)\n",
    "# print(b2)\n",
    "t = np.random.uniform(-np.pi, np.pi)\n",
    "k = Circuit() + Rzz(t).on([0, 1])\n",
    "# k = Circuit() + UN(UnivMathGate('', unitary_group.rvs(2)), 2)\n",
    "display_svg(k.svg())\n",
    "k = k.matrix()\n",
    "# print(k)\n",
    "# print(a2 @ k)\n",
    "# print(k @ a2)\n",
    "# print(k @ b2)\n",
    "is_symmetric(a2 @ k), is_symmetric(k @ a2), is_symmetric(k @ b2)"
   ]
  },
  {
   "cell_type": "code",
   "execution_count": 8,
   "metadata": {},
   "outputs": [
    {
     "name": "stdout",
     "output_type": "stream",
     "text": [
      "[[0.34880034+0.j         0.40977999+0.24334959j]\n",
      " [0.40977999-0.24334959j 0.65119966+0.j        ]]\n",
      "[[0.03454462+0.j         0.0930421 -0.15714469j]\n",
      " [0.0930421 +0.15714469j 0.96545538+0.j        ]]\n",
      "[[ 1.20491735e-02+0.j          3.24531155e-02-0.05481212j  1.41556919e-02+0.00840642j  7.63678855e-02-0.04175299j]\n",
      " [ 3.24531155e-02+0.05481212j  3.36751167e-01+0.j         -1.14305675e-04+0.0870365j   3.95624296e-01+0.23494318j]\n",
      " [ 1.41556919e-02-0.00840642j -1.14305675e-04-0.0870365j   2.24954416e-02+0.j          6.05889828e-02-0.10233257j]\n",
      " [ 7.63678855e-02+0.04175299j  3.95624296e-01-0.23494318j  6.05889828e-02+0.10233257j  6.28704218e-01+0.j        ]]\n",
      "(1.0000000000000007+0j)\n"
     ]
    },
    {
     "data": {
      "text/plain": [
       "1.0000000000000002"
      ]
     },
     "execution_count": 8,
     "metadata": {},
     "output_type": "execute_result"
    }
   ],
   "source": [
    "# How to restore a reduce density matrix\n",
    "np.random.seed(42)\n",
    "a = np.random.rand(2) + 1j * np.random.rand(2)\n",
    "b = np.random.rand(2) + 1j * np.random.rand(2)\n",
    "a /= norm(a)\n",
    "b /= norm(b)\n",
    "psi_ab = np.kron(a, b)\n",
    "rho_a = np.outer(a, a.conj())\n",
    "rho_b = np.outer(b, b.conj())\n",
    "rho_ab = np.kron(rho_a, rho_b)\n",
    "print(rho_a)\n",
    "print(rho_b)\n",
    "print(rho_ab)\n",
    "print(psi_ab.conj() @ rho_ab @ psi_ab)\n",
    "fidelity(rho_ab, psi_ab)"
   ]
  }
 ],
 "metadata": {
  "kernelspec": {
   "display_name": "Python 3",
   "language": "python",
   "name": "python3"
  },
  "language_info": {
   "codemirror_mode": {
    "name": "ipython",
    "version": 3
   },
   "file_extension": ".py",
   "mimetype": "text/x-python",
   "name": "python",
   "nbconvert_exporter": "python",
   "pygments_lexer": "ipython3",
   "version": "3.9.13"
  },
  "orig_nbformat": 4
 },
 "nbformat": 4,
 "nbformat_minor": 2
}
