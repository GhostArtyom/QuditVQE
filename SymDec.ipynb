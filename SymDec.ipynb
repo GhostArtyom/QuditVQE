{
 "cells": [
  {
   "cell_type": "code",
   "execution_count": 2,
   "metadata": {},
   "outputs": [],
   "source": [
    "import re\n",
    "import os\n",
    "import sys\n",
    "import time\n",
    "import numpy as np\n",
    "import scipy as sp\n",
    "from utils import *\n",
    "from math import log\n",
    "from h5py import File\n",
    "import mindspore as ms\n",
    "from numpy.linalg import *\n",
    "from scipy.linalg import *\n",
    "from mindquantum.simulator import *\n",
    "from scipy.sparse import csr_matrix\n",
    "from scipy.optimize import minimize\n",
    "from mindquantum.framework import *\n",
    "from mindquantum.core.gates import *\n",
    "from scipy.stats import unitary_group\n",
    "from mindquantum.core.circuit import *\n",
    "from IPython.display import display_svg\n",
    "from mindquantum.core.operators import *\n",
    "from mindquantum.algorithm.nisq import *\n",
    "from mindspore.common.initializer import *\n",
    "from mindquantum.algorithm.compiler import *\n",
    "\n",
    "np.set_printoptions(linewidth=200)"
   ]
  },
  {
   "cell_type": "code",
   "execution_count": 15,
   "metadata": {},
   "outputs": [
    {
     "name": "stdout",
     "output_type": "stream",
     "text": [
      "Number of qubits: 3\n",
      "Number of params: 64\n",
      "Number of gates: 34\n",
      "Optimization terminated successfully.\n",
      "Optimal Value: 0.00000000000009681145\n",
      "psi norm: 1.80960744052250577241\n",
      "psi fidelity: 0.99999999999995159428\n"
     ]
    },
    {
     "data": {
      "image/svg+xml": [
       "<svg xmlns=\"http://www.w3.org/2000/svg\" width=\"7776.8\" height=\"200.0\" xmlns:xlink=\"http://www.w3.org/1999/xlink\"><rect x=\"0\" y=\"0.0\" width=\"7776.8\" height=\"200.0\" fill=\"#ffffff\" /><text x=\"20.0\" y=\"40.0\" font-size=\"16px\" dominant-baseline=\"middle\" text-anchor=\"start\" font-family=\"Arial\" font-weight=\"normal\" fill=\"#252b3a\" >q0: </text><text x=\"20.0\" y=\"100.0\" font-size=\"16px\" dominant-baseline=\"middle\" text-anchor=\"start\" font-family=\"Arial\" font-weight=\"normal\" fill=\"#252b3a\" >q1: </text><text x=\"20.0\" y=\"160.0\" font-size=\"16px\" dominant-baseline=\"middle\" text-anchor=\"start\" font-family=\"Arial\" font-weight=\"normal\" fill=\"#252b3a\" >q2: </text><line x1=\"48.8\" x2=\"7756.8\" y1=\"40.0\" y2=\"40.0\" stroke=\"#adb0b8\" stroke-width=\"1\" /><line x1=\"48.8\" x2=\"7756.8\" y1=\"100.0\" y2=\"100.0\" stroke=\"#adb0b8\" stroke-width=\"1\" /><line x1=\"48.8\" x2=\"7756.8\" y1=\"160.0\" y2=\"160.0\" stroke=\"#adb0b8\" stroke-width=\"1\" /><rect x=\"72.8\" y=\"140.0\" width=\"360.0\" height=\"40\" rx=\"4\" ry=\"4\" stroke=\"#ffffff\" stroke-width=\"0\" fill=\"#fac209\" fill-opacity=\"1\" /><text x=\"252.8\" y=\"156.0\" font-size=\"20px\" dominant-baseline=\"middle\" text-anchor=\"middle\" font-family=\"Arial\" font-weight=\"normal\" fill=\"#ffffff\" >U3 </text><text x=\"252.8\" y=\"172.0\" font-size=\"14.0px\" dominant-baseline=\"middle\" text-anchor=\"middle\" font-family=\"Arial\" font-weight=\"normal\" fill=\"#ffffff\" >𝜃=q1_U1_U1t, 𝜑=q1_U1_U1p, 𝜆=q1_U1_U1l </text><circle cx=\"492.8\" cy=\"160.0\" r=\"4\" fill=\"#fac209\" /><line x1=\"492.8\" x2=\"492.8\" y1=\"100.0\" y2=\"160.0\" stroke=\"#fac209\" stroke-width=\"3\" /><rect x=\"452.8\" y=\"80.0\" width=\"80.0\" height=\"40\" rx=\"4\" ry=\"4\" stroke=\"#ffffff\" stroke-width=\"0\" fill=\"#fac209\" fill-opacity=\"1\" /><text x=\"492.8\" y=\"96.0\" font-size=\"20px\" dominant-baseline=\"middle\" text-anchor=\"middle\" font-family=\"Arial\" font-weight=\"normal\" fill=\"#ffffff\" >RZ </text><text x=\"492.8\" y=\"112.0\" font-size=\"14.0px\" dominant-baseline=\"middle\" text-anchor=\"middle\" font-family=\"Arial\" font-weight=\"normal\" fill=\"#ffffff\" >q1_U1_R1 </text><rect x=\"552.8\" y=\"140.0\" width=\"360.0\" height=\"40\" rx=\"4\" ry=\"4\" stroke=\"#ffffff\" stroke-width=\"0\" fill=\"#fac209\" fill-opacity=\"1\" /><text x=\"732.8\" y=\"156.0\" font-size=\"20px\" dominant-baseline=\"middle\" text-anchor=\"middle\" font-family=\"Arial\" font-weight=\"normal\" fill=\"#ffffff\" >U3 </text><text x=\"732.8\" y=\"172.0\" font-size=\"14.0px\" dominant-baseline=\"middle\" text-anchor=\"middle\" font-family=\"Arial\" font-weight=\"normal\" fill=\"#ffffff\" >𝜃=q1_U1_U2t, 𝜑=q1_U1_U2p, 𝜆=q1_U1_U2l </text><circle cx=\"972.8\" cy=\"160.0\" r=\"4\" fill=\"#fac209\" /><line x1=\"972.8\" x2=\"972.8\" y1=\"100.0\" y2=\"160.0\" stroke=\"#fac209\" stroke-width=\"3\" /><rect x=\"932.8\" y=\"80.0\" width=\"80.0\" height=\"40\" rx=\"4\" ry=\"4\" stroke=\"#ffffff\" stroke-width=\"0\" fill=\"#fac209\" fill-opacity=\"1\" /><text x=\"972.8\" y=\"96.0\" font-size=\"20px\" dominant-baseline=\"middle\" text-anchor=\"middle\" font-family=\"Arial\" font-weight=\"normal\" fill=\"#ffffff\" >RY </text><text x=\"972.8\" y=\"112.0\" font-size=\"14.0px\" dominant-baseline=\"middle\" text-anchor=\"middle\" font-family=\"Arial\" font-weight=\"normal\" fill=\"#ffffff\" >q1_U1_R2 </text><rect x=\"1032.8\" y=\"140.0\" width=\"360.0\" height=\"40\" rx=\"4\" ry=\"4\" stroke=\"#ffffff\" stroke-width=\"0\" fill=\"#fac209\" fill-opacity=\"1\" /><text x=\"1212.8\" y=\"156.0\" font-size=\"20px\" dominant-baseline=\"middle\" text-anchor=\"middle\" font-family=\"Arial\" font-weight=\"normal\" fill=\"#ffffff\" >U3 </text><text x=\"1212.8\" y=\"172.0\" font-size=\"14.0px\" dominant-baseline=\"middle\" text-anchor=\"middle\" font-family=\"Arial\" font-weight=\"normal\" fill=\"#ffffff\" >𝜃=q1_U1_U3t, 𝜑=q1_U1_U3p, 𝜆=q1_U1_U3l </text><circle cx=\"1452.8\" cy=\"160.0\" r=\"4\" fill=\"#fac209\" /><line x1=\"1452.8\" x2=\"1452.8\" y1=\"100.0\" y2=\"160.0\" stroke=\"#fac209\" stroke-width=\"3\" /><rect x=\"1412.8\" y=\"80.0\" width=\"80.0\" height=\"40\" rx=\"4\" ry=\"4\" stroke=\"#ffffff\" stroke-width=\"0\" fill=\"#fac209\" fill-opacity=\"1\" /><text x=\"1452.8\" y=\"96.0\" font-size=\"20px\" dominant-baseline=\"middle\" text-anchor=\"middle\" font-family=\"Arial\" font-weight=\"normal\" fill=\"#ffffff\" >RZ </text><text x=\"1452.8\" y=\"112.0\" font-size=\"14.0px\" dominant-baseline=\"middle\" text-anchor=\"middle\" font-family=\"Arial\" font-weight=\"normal\" fill=\"#ffffff\" >q1_U1_R3 </text><rect x=\"1512.8\" y=\"140.0\" width=\"360.0\" height=\"40\" rx=\"4\" ry=\"4\" stroke=\"#ffffff\" stroke-width=\"0\" fill=\"#fac209\" fill-opacity=\"1\" /><text x=\"1692.8\" y=\"156.0\" font-size=\"20px\" dominant-baseline=\"middle\" text-anchor=\"middle\" font-family=\"Arial\" font-weight=\"normal\" fill=\"#ffffff\" >U3 </text><text x=\"1692.8\" y=\"172.0\" font-size=\"14.0px\" dominant-baseline=\"middle\" text-anchor=\"middle\" font-family=\"Arial\" font-weight=\"normal\" fill=\"#ffffff\" >𝜃=q1_U1_U4t, 𝜑=q1_U1_U4p, 𝜆=q1_U1_U4l </text><circle cx=\"1932.8\" cy=\"100.0\" r=\"4\" fill=\"#fac209\" /><circle cx=\"1932.8\" cy=\"160.0\" r=\"4\" fill=\"#fac209\" /><line x1=\"1932.8\" x2=\"1932.8\" y1=\"40.0\" y2=\"160.0\" stroke=\"#fac209\" stroke-width=\"3\" /><rect x=\"1892.8\" y=\"20.0\" width=\"80.0\" height=\"40\" rx=\"4\" ry=\"4\" stroke=\"#ffffff\" stroke-width=\"0\" fill=\"#fac209\" fill-opacity=\"1\" /><text x=\"1932.8\" y=\"36.0\" font-size=\"20px\" dominant-baseline=\"middle\" text-anchor=\"middle\" font-family=\"Arial\" font-weight=\"normal\" fill=\"#ffffff\" >RZ </text><text x=\"1932.8\" y=\"52.0\" font-size=\"14.0px\" dominant-baseline=\"middle\" text-anchor=\"middle\" font-family=\"Arial\" font-weight=\"normal\" fill=\"#ffffff\" >q0_a_R1 </text><rect x=\"1992.8\" y=\"140.0\" width=\"360.0\" height=\"40\" rx=\"4\" ry=\"4\" stroke=\"#ffffff\" stroke-width=\"0\" fill=\"#fac209\" fill-opacity=\"1\" /><text x=\"2172.8\" y=\"156.0\" font-size=\"20px\" dominant-baseline=\"middle\" text-anchor=\"middle\" font-family=\"Arial\" font-weight=\"normal\" fill=\"#ffffff\" >U3 </text><text x=\"2172.8\" y=\"172.0\" font-size=\"14.0px\" dominant-baseline=\"middle\" text-anchor=\"middle\" font-family=\"Arial\" font-weight=\"normal\" fill=\"#ffffff\" >𝜃=q1_U2_U1t, 𝜑=q1_U2_U1p, 𝜆=q1_U2_U1l </text><circle cx=\"2412.8\" cy=\"160.0\" r=\"4\" fill=\"#fac209\" /><line x1=\"2412.8\" x2=\"2412.8\" y1=\"100.0\" y2=\"160.0\" stroke=\"#fac209\" stroke-width=\"3\" /><rect x=\"2372.8\" y=\"80.0\" width=\"80.0\" height=\"40\" rx=\"4\" ry=\"4\" stroke=\"#ffffff\" stroke-width=\"0\" fill=\"#fac209\" fill-opacity=\"1\" /><text x=\"2412.8\" y=\"96.0\" font-size=\"20px\" dominant-baseline=\"middle\" text-anchor=\"middle\" font-family=\"Arial\" font-weight=\"normal\" fill=\"#ffffff\" >RZ </text><text x=\"2412.8\" y=\"112.0\" font-size=\"14.0px\" dominant-baseline=\"middle\" text-anchor=\"middle\" font-family=\"Arial\" font-weight=\"normal\" fill=\"#ffffff\" >q1_U2_R1 </text><rect x=\"2472.8\" y=\"140.0\" width=\"360.0\" height=\"40\" rx=\"4\" ry=\"4\" stroke=\"#ffffff\" stroke-width=\"0\" fill=\"#fac209\" fill-opacity=\"1\" /><text x=\"2652.8\" y=\"156.0\" font-size=\"20px\" dominant-baseline=\"middle\" text-anchor=\"middle\" font-family=\"Arial\" font-weight=\"normal\" fill=\"#ffffff\" >U3 </text><text x=\"2652.8\" y=\"172.0\" font-size=\"14.0px\" dominant-baseline=\"middle\" text-anchor=\"middle\" font-family=\"Arial\" font-weight=\"normal\" fill=\"#ffffff\" >𝜃=q1_U2_U2t, 𝜑=q1_U2_U2p, 𝜆=q1_U2_U2l </text><circle cx=\"2892.8\" cy=\"160.0\" r=\"4\" fill=\"#fac209\" /><line x1=\"2892.8\" x2=\"2892.8\" y1=\"100.0\" y2=\"160.0\" stroke=\"#fac209\" stroke-width=\"3\" /><rect x=\"2852.8\" y=\"80.0\" width=\"80.0\" height=\"40\" rx=\"4\" ry=\"4\" stroke=\"#ffffff\" stroke-width=\"0\" fill=\"#fac209\" fill-opacity=\"1\" /><text x=\"2892.8\" y=\"96.0\" font-size=\"20px\" dominant-baseline=\"middle\" text-anchor=\"middle\" font-family=\"Arial\" font-weight=\"normal\" fill=\"#ffffff\" >RY </text><text x=\"2892.8\" y=\"112.0\" font-size=\"14.0px\" dominant-baseline=\"middle\" text-anchor=\"middle\" font-family=\"Arial\" font-weight=\"normal\" fill=\"#ffffff\" >q1_U2_R2 </text><rect x=\"2952.8\" y=\"140.0\" width=\"360.0\" height=\"40\" rx=\"4\" ry=\"4\" stroke=\"#ffffff\" stroke-width=\"0\" fill=\"#fac209\" fill-opacity=\"1\" /><text x=\"3132.8\" y=\"156.0\" font-size=\"20px\" dominant-baseline=\"middle\" text-anchor=\"middle\" font-family=\"Arial\" font-weight=\"normal\" fill=\"#ffffff\" >U3 </text><text x=\"3132.8\" y=\"172.0\" font-size=\"14.0px\" dominant-baseline=\"middle\" text-anchor=\"middle\" font-family=\"Arial\" font-weight=\"normal\" fill=\"#ffffff\" >𝜃=q1_U2_U3t, 𝜑=q1_U2_U3p, 𝜆=q1_U2_U3l </text><circle cx=\"3372.8\" cy=\"160.0\" r=\"4\" fill=\"#fac209\" /><line x1=\"3372.8\" x2=\"3372.8\" y1=\"100.0\" y2=\"160.0\" stroke=\"#fac209\" stroke-width=\"3\" /><rect x=\"3332.8\" y=\"80.0\" width=\"80.0\" height=\"40\" rx=\"4\" ry=\"4\" stroke=\"#ffffff\" stroke-width=\"0\" fill=\"#fac209\" fill-opacity=\"1\" /><text x=\"3372.8\" y=\"96.0\" font-size=\"20px\" dominant-baseline=\"middle\" text-anchor=\"middle\" font-family=\"Arial\" font-weight=\"normal\" fill=\"#ffffff\" >RZ </text><text x=\"3372.8\" y=\"112.0\" font-size=\"14.0px\" dominant-baseline=\"middle\" text-anchor=\"middle\" font-family=\"Arial\" font-weight=\"normal\" fill=\"#ffffff\" >q1_U2_R3 </text><rect x=\"3432.8\" y=\"140.0\" width=\"360.0\" height=\"40\" rx=\"4\" ry=\"4\" stroke=\"#ffffff\" stroke-width=\"0\" fill=\"#fac209\" fill-opacity=\"1\" /><text x=\"3612.8\" y=\"156.0\" font-size=\"20px\" dominant-baseline=\"middle\" text-anchor=\"middle\" font-family=\"Arial\" font-weight=\"normal\" fill=\"#ffffff\" >U3 </text><text x=\"3612.8\" y=\"172.0\" font-size=\"14.0px\" dominant-baseline=\"middle\" text-anchor=\"middle\" font-family=\"Arial\" font-weight=\"normal\" fill=\"#ffffff\" >𝜃=q1_U2_U4t, 𝜑=q1_U2_U4p, 𝜆=q1_U2_U4l </text><circle cx=\"3852.8\" cy=\"100.0\" r=\"4\" fill=\"#fac209\" /><circle cx=\"3852.8\" cy=\"160.0\" r=\"4\" fill=\"#fac209\" /><line x1=\"3852.8\" x2=\"3852.8\" y1=\"40.0\" y2=\"160.0\" stroke=\"#fac209\" stroke-width=\"3\" /><rect x=\"3812.8\" y=\"20.0\" width=\"80.0\" height=\"40\" rx=\"4\" ry=\"4\" stroke=\"#ffffff\" stroke-width=\"0\" fill=\"#fac209\" fill-opacity=\"1\" /><text x=\"3852.8\" y=\"36.0\" font-size=\"20px\" dominant-baseline=\"middle\" text-anchor=\"middle\" font-family=\"Arial\" font-weight=\"normal\" fill=\"#ffffff\" >RY </text><text x=\"3852.8\" y=\"52.0\" font-size=\"14.0px\" dominant-baseline=\"middle\" text-anchor=\"middle\" font-family=\"Arial\" font-weight=\"normal\" fill=\"#ffffff\" >q0_a_R2 </text><rect x=\"3912.8\" y=\"140.0\" width=\"360.0\" height=\"40\" rx=\"4\" ry=\"4\" stroke=\"#ffffff\" stroke-width=\"0\" fill=\"#fac209\" fill-opacity=\"1\" /><text x=\"4092.8\" y=\"156.0\" font-size=\"20px\" dominant-baseline=\"middle\" text-anchor=\"middle\" font-family=\"Arial\" font-weight=\"normal\" fill=\"#ffffff\" >U3 </text><text x=\"4092.8\" y=\"172.0\" font-size=\"14.0px\" dominant-baseline=\"middle\" text-anchor=\"middle\" font-family=\"Arial\" font-weight=\"normal\" fill=\"#ffffff\" >𝜃=q1_U3_U1t, 𝜑=q1_U3_U1p, 𝜆=q1_U3_U1l </text><circle cx=\"4332.8\" cy=\"160.0\" r=\"4\" fill=\"#fac209\" /><line x1=\"4332.8\" x2=\"4332.8\" y1=\"100.0\" y2=\"160.0\" stroke=\"#fac209\" stroke-width=\"3\" /><rect x=\"4292.8\" y=\"80.0\" width=\"80.0\" height=\"40\" rx=\"4\" ry=\"4\" stroke=\"#ffffff\" stroke-width=\"0\" fill=\"#fac209\" fill-opacity=\"1\" /><text x=\"4332.8\" y=\"96.0\" font-size=\"20px\" dominant-baseline=\"middle\" text-anchor=\"middle\" font-family=\"Arial\" font-weight=\"normal\" fill=\"#ffffff\" >RZ </text><text x=\"4332.8\" y=\"112.0\" font-size=\"14.0px\" dominant-baseline=\"middle\" text-anchor=\"middle\" font-family=\"Arial\" font-weight=\"normal\" fill=\"#ffffff\" >q1_U3_R1 </text><rect x=\"4392.8\" y=\"140.0\" width=\"360.0\" height=\"40\" rx=\"4\" ry=\"4\" stroke=\"#ffffff\" stroke-width=\"0\" fill=\"#fac209\" fill-opacity=\"1\" /><text x=\"4572.8\" y=\"156.0\" font-size=\"20px\" dominant-baseline=\"middle\" text-anchor=\"middle\" font-family=\"Arial\" font-weight=\"normal\" fill=\"#ffffff\" >U3 </text><text x=\"4572.8\" y=\"172.0\" font-size=\"14.0px\" dominant-baseline=\"middle\" text-anchor=\"middle\" font-family=\"Arial\" font-weight=\"normal\" fill=\"#ffffff\" >𝜃=q1_U3_U2t, 𝜑=q1_U3_U2p, 𝜆=q1_U3_U2l </text><circle cx=\"4812.8\" cy=\"160.0\" r=\"4\" fill=\"#fac209\" /><line x1=\"4812.8\" x2=\"4812.8\" y1=\"100.0\" y2=\"160.0\" stroke=\"#fac209\" stroke-width=\"3\" /><rect x=\"4772.8\" y=\"80.0\" width=\"80.0\" height=\"40\" rx=\"4\" ry=\"4\" stroke=\"#ffffff\" stroke-width=\"0\" fill=\"#fac209\" fill-opacity=\"1\" /><text x=\"4812.8\" y=\"96.0\" font-size=\"20px\" dominant-baseline=\"middle\" text-anchor=\"middle\" font-family=\"Arial\" font-weight=\"normal\" fill=\"#ffffff\" >RY </text><text x=\"4812.8\" y=\"112.0\" font-size=\"14.0px\" dominant-baseline=\"middle\" text-anchor=\"middle\" font-family=\"Arial\" font-weight=\"normal\" fill=\"#ffffff\" >q1_U3_R2 </text><rect x=\"4872.8\" y=\"140.0\" width=\"360.0\" height=\"40\" rx=\"4\" ry=\"4\" stroke=\"#ffffff\" stroke-width=\"0\" fill=\"#fac209\" fill-opacity=\"1\" /><text x=\"5052.8\" y=\"156.0\" font-size=\"20px\" dominant-baseline=\"middle\" text-anchor=\"middle\" font-family=\"Arial\" font-weight=\"normal\" fill=\"#ffffff\" >U3 </text><text x=\"5052.8\" y=\"172.0\" font-size=\"14.0px\" dominant-baseline=\"middle\" text-anchor=\"middle\" font-family=\"Arial\" font-weight=\"normal\" fill=\"#ffffff\" >𝜃=q1_U3_U3t, 𝜑=q1_U3_U3p, 𝜆=q1_U3_U3l </text><circle cx=\"5292.8\" cy=\"160.0\" r=\"4\" fill=\"#fac209\" /><line x1=\"5292.8\" x2=\"5292.8\" y1=\"100.0\" y2=\"160.0\" stroke=\"#fac209\" stroke-width=\"3\" /><rect x=\"5252.8\" y=\"80.0\" width=\"80.0\" height=\"40\" rx=\"4\" ry=\"4\" stroke=\"#ffffff\" stroke-width=\"0\" fill=\"#fac209\" fill-opacity=\"1\" /><text x=\"5292.8\" y=\"96.0\" font-size=\"20px\" dominant-baseline=\"middle\" text-anchor=\"middle\" font-family=\"Arial\" font-weight=\"normal\" fill=\"#ffffff\" >RZ </text><text x=\"5292.8\" y=\"112.0\" font-size=\"14.0px\" dominant-baseline=\"middle\" text-anchor=\"middle\" font-family=\"Arial\" font-weight=\"normal\" fill=\"#ffffff\" >q1_U3_R3 </text><rect x=\"5352.8\" y=\"140.0\" width=\"360.0\" height=\"40\" rx=\"4\" ry=\"4\" stroke=\"#ffffff\" stroke-width=\"0\" fill=\"#fac209\" fill-opacity=\"1\" /><text x=\"5532.8\" y=\"156.0\" font-size=\"20px\" dominant-baseline=\"middle\" text-anchor=\"middle\" font-family=\"Arial\" font-weight=\"normal\" fill=\"#ffffff\" >U3 </text><text x=\"5532.8\" y=\"172.0\" font-size=\"14.0px\" dominant-baseline=\"middle\" text-anchor=\"middle\" font-family=\"Arial\" font-weight=\"normal\" fill=\"#ffffff\" >𝜃=q1_U3_U4t, 𝜑=q1_U3_U4p, 𝜆=q1_U3_U4l </text><circle cx=\"5772.8\" cy=\"100.0\" r=\"4\" fill=\"#fac209\" /><circle cx=\"5772.8\" cy=\"160.0\" r=\"4\" fill=\"#fac209\" /><line x1=\"5772.8\" x2=\"5772.8\" y1=\"40.0\" y2=\"160.0\" stroke=\"#fac209\" stroke-width=\"3\" /><rect x=\"5732.8\" y=\"20.0\" width=\"80.0\" height=\"40\" rx=\"4\" ry=\"4\" stroke=\"#ffffff\" stroke-width=\"0\" fill=\"#fac209\" fill-opacity=\"1\" /><text x=\"5772.8\" y=\"36.0\" font-size=\"20px\" dominant-baseline=\"middle\" text-anchor=\"middle\" font-family=\"Arial\" font-weight=\"normal\" fill=\"#ffffff\" >RZ </text><text x=\"5772.8\" y=\"52.0\" font-size=\"14.0px\" dominant-baseline=\"middle\" text-anchor=\"middle\" font-family=\"Arial\" font-weight=\"normal\" fill=\"#ffffff\" >q0_a_R3 </text><rect x=\"5832.8\" y=\"140.0\" width=\"360.0\" height=\"40\" rx=\"4\" ry=\"4\" stroke=\"#ffffff\" stroke-width=\"0\" fill=\"#fac209\" fill-opacity=\"1\" /><text x=\"6012.8\" y=\"156.0\" font-size=\"20px\" dominant-baseline=\"middle\" text-anchor=\"middle\" font-family=\"Arial\" font-weight=\"normal\" fill=\"#ffffff\" >U3 </text><text x=\"6012.8\" y=\"172.0\" font-size=\"14.0px\" dominant-baseline=\"middle\" text-anchor=\"middle\" font-family=\"Arial\" font-weight=\"normal\" fill=\"#ffffff\" >𝜃=q1_U4_U1t, 𝜑=q1_U4_U1p, 𝜆=q1_U4_U1l </text><circle cx=\"6252.8\" cy=\"160.0\" r=\"4\" fill=\"#fac209\" /><line x1=\"6252.8\" x2=\"6252.8\" y1=\"100.0\" y2=\"160.0\" stroke=\"#fac209\" stroke-width=\"3\" /><rect x=\"6212.8\" y=\"80.0\" width=\"80.0\" height=\"40\" rx=\"4\" ry=\"4\" stroke=\"#ffffff\" stroke-width=\"0\" fill=\"#fac209\" fill-opacity=\"1\" /><text x=\"6252.8\" y=\"96.0\" font-size=\"20px\" dominant-baseline=\"middle\" text-anchor=\"middle\" font-family=\"Arial\" font-weight=\"normal\" fill=\"#ffffff\" >RZ </text><text x=\"6252.8\" y=\"112.0\" font-size=\"14.0px\" dominant-baseline=\"middle\" text-anchor=\"middle\" font-family=\"Arial\" font-weight=\"normal\" fill=\"#ffffff\" >q1_U4_R1 </text><rect x=\"6312.8\" y=\"140.0\" width=\"360.0\" height=\"40\" rx=\"4\" ry=\"4\" stroke=\"#ffffff\" stroke-width=\"0\" fill=\"#fac209\" fill-opacity=\"1\" /><text x=\"6492.8\" y=\"156.0\" font-size=\"20px\" dominant-baseline=\"middle\" text-anchor=\"middle\" font-family=\"Arial\" font-weight=\"normal\" fill=\"#ffffff\" >U3 </text><text x=\"6492.8\" y=\"172.0\" font-size=\"14.0px\" dominant-baseline=\"middle\" text-anchor=\"middle\" font-family=\"Arial\" font-weight=\"normal\" fill=\"#ffffff\" >𝜃=q1_U4_U2t, 𝜑=q1_U4_U2p, 𝜆=q1_U4_U2l </text><circle cx=\"6732.8\" cy=\"160.0\" r=\"4\" fill=\"#fac209\" /><line x1=\"6732.8\" x2=\"6732.8\" y1=\"100.0\" y2=\"160.0\" stroke=\"#fac209\" stroke-width=\"3\" /><rect x=\"6692.8\" y=\"80.0\" width=\"80.0\" height=\"40\" rx=\"4\" ry=\"4\" stroke=\"#ffffff\" stroke-width=\"0\" fill=\"#fac209\" fill-opacity=\"1\" /><text x=\"6732.8\" y=\"96.0\" font-size=\"20px\" dominant-baseline=\"middle\" text-anchor=\"middle\" font-family=\"Arial\" font-weight=\"normal\" fill=\"#ffffff\" >RY </text><text x=\"6732.8\" y=\"112.0\" font-size=\"14.0px\" dominant-baseline=\"middle\" text-anchor=\"middle\" font-family=\"Arial\" font-weight=\"normal\" fill=\"#ffffff\" >q1_U4_R2 </text><rect x=\"6792.8\" y=\"140.0\" width=\"360.0\" height=\"40\" rx=\"4\" ry=\"4\" stroke=\"#ffffff\" stroke-width=\"0\" fill=\"#fac209\" fill-opacity=\"1\" /><text x=\"6972.8\" y=\"156.0\" font-size=\"20px\" dominant-baseline=\"middle\" text-anchor=\"middle\" font-family=\"Arial\" font-weight=\"normal\" fill=\"#ffffff\" >U3 </text><text x=\"6972.8\" y=\"172.0\" font-size=\"14.0px\" dominant-baseline=\"middle\" text-anchor=\"middle\" font-family=\"Arial\" font-weight=\"normal\" fill=\"#ffffff\" >𝜃=q1_U4_U3t, 𝜑=q1_U4_U3p, 𝜆=q1_U4_U3l </text><circle cx=\"7212.8\" cy=\"160.0\" r=\"4\" fill=\"#fac209\" /><line x1=\"7212.8\" x2=\"7212.8\" y1=\"100.0\" y2=\"160.0\" stroke=\"#fac209\" stroke-width=\"3\" /><rect x=\"7172.8\" y=\"80.0\" width=\"80.0\" height=\"40\" rx=\"4\" ry=\"4\" stroke=\"#ffffff\" stroke-width=\"0\" fill=\"#fac209\" fill-opacity=\"1\" /><text x=\"7212.8\" y=\"96.0\" font-size=\"20px\" dominant-baseline=\"middle\" text-anchor=\"middle\" font-family=\"Arial\" font-weight=\"normal\" fill=\"#ffffff\" >RZ </text><text x=\"7212.8\" y=\"112.0\" font-size=\"14.0px\" dominant-baseline=\"middle\" text-anchor=\"middle\" font-family=\"Arial\" font-weight=\"normal\" fill=\"#ffffff\" >q1_U4_R3 </text><rect x=\"7272.8\" y=\"140.0\" width=\"360.0\" height=\"40\" rx=\"4\" ry=\"4\" stroke=\"#ffffff\" stroke-width=\"0\" fill=\"#fac209\" fill-opacity=\"1\" /><text x=\"7452.8\" y=\"156.0\" font-size=\"20px\" dominant-baseline=\"middle\" text-anchor=\"middle\" font-family=\"Arial\" font-weight=\"normal\" fill=\"#ffffff\" >U3 </text><text x=\"7452.8\" y=\"172.0\" font-size=\"14.0px\" dominant-baseline=\"middle\" text-anchor=\"middle\" font-family=\"Arial\" font-weight=\"normal\" fill=\"#ffffff\" >𝜃=q1_U4_U4t, 𝜑=q1_U4_U4p, 𝜆=q1_U4_U4l </text><rect x=\"5832.8\" y=\"20.0\" width=\"80.0\" height=\"40\" rx=\"4\" ry=\"4\" stroke=\"#ffffff\" stroke-width=\"0\" fill=\"#fac209\" fill-opacity=\"1\" /><text x=\"5872.8\" y=\"36.0\" font-size=\"20px\" dominant-baseline=\"middle\" text-anchor=\"middle\" font-family=\"Arial\" font-weight=\"normal\" fill=\"#ffffff\" >GP </text><text x=\"5872.8\" y=\"52.0\" font-size=\"14.0px\" dominant-baseline=\"middle\" text-anchor=\"middle\" font-family=\"Arial\" font-weight=\"normal\" fill=\"#ffffff\" >phase </text><rect x=\"7272.8\" y=\"80.0\" width=\"80.0\" height=\"40\" rx=\"4\" ry=\"4\" stroke=\"#ffffff\" stroke-width=\"0\" fill=\"#fac209\" fill-opacity=\"1\" /><text x=\"7312.8\" y=\"96.0\" font-size=\"20px\" dominant-baseline=\"middle\" text-anchor=\"middle\" font-family=\"Arial\" font-weight=\"normal\" fill=\"#ffffff\" >GP </text><text x=\"7312.8\" y=\"112.0\" font-size=\"14.0px\" dominant-baseline=\"middle\" text-anchor=\"middle\" font-family=\"Arial\" font-weight=\"normal\" fill=\"#ffffff\" >phase </text><rect x=\"7652.8\" y=\"140.0\" width=\"80.0\" height=\"40\" rx=\"4\" ry=\"4\" stroke=\"#ffffff\" stroke-width=\"0\" fill=\"#fac209\" fill-opacity=\"1\" /><text x=\"7692.8\" y=\"156.0\" font-size=\"20px\" dominant-baseline=\"middle\" text-anchor=\"middle\" font-family=\"Arial\" font-weight=\"normal\" fill=\"#ffffff\" >GP </text><text x=\"7692.8\" y=\"172.0\" font-size=\"14.0px\" dominant-baseline=\"middle\" text-anchor=\"middle\" font-family=\"Arial\" font-weight=\"normal\" fill=\"#ffffff\" >phase </text></svg>"
      ],
      "text/plain": [
       "<mindquantum.io.display.circuit_svg_drawer.SVGCircuit at 0x19b55b15310>"
      ]
     },
     "execution_count": 15,
     "metadata": {},
     "output_type": "execute_result"
    }
   ],
   "source": [
    "def fun(p0, sim_grad, args=None):\n",
    "    f, g = sim_grad(p0)\n",
    "    f = 1 - np.real(f)[0][0]\n",
    "    g = -np.real(g)[0][0]\n",
    "    if args is not None:\n",
    "        args.append(f)\n",
    "        i = len(args)\n",
    "        if i % 100 == 0:\n",
    "            global start\n",
    "            t = time.perf_counter() - start\n",
    "            print('Optimal Gap: %.20f, %d, %.4f' % (f, i, t))\n",
    "    return f, g\n",
    "\n",
    "\n",
    "def universal_ansatz(gate: UnivMathGate):\n",
    "    obj = gate.obj_qubits\n",
    "    circ = Circuit()\n",
    "    name = f'q{obj[0]}_{gate.name}_'\n",
    "    if len(obj) == 2:\n",
    "        circ += U3(f'{name}U1t', f'{name}U1p', f'{name}U1l').on(obj[1])\n",
    "        circ += RZ(f'{name}R1').on(obj[0], obj[1])\n",
    "        circ += U3(f'{name}U2t', f'{name}U2p', f'{name}U2l').on(obj[1])\n",
    "        circ += RY(f'{name}R2').on(obj[0], obj[1])\n",
    "        circ += U3(f'{name}U3t', f'{name}U3p', f'{name}U3l').on(obj[1])\n",
    "        circ += RZ(f'{name}R3').on(obj[0], obj[1])\n",
    "        circ += U3(f'{name}U4t', f'{name}U4p', f'{name}U4l').on(obj[1])\n",
    "    else:\n",
    "        n = 2**len(obj[1:])\n",
    "        circ += universal_ansatz(UnivMathGate('U1', np.eye(n)).on(obj[1:]))\n",
    "        circ += RZ(f'{name}R1').on(obj[0], obj[1:])\n",
    "        circ += universal_ansatz(UnivMathGate('U2', np.eye(n)).on(obj[1:]))\n",
    "        circ += RY(f'{name}R2').on(obj[0], obj[1:])\n",
    "        circ += universal_ansatz(UnivMathGate('U3', np.eye(n)).on(obj[1:]))\n",
    "        circ += RZ(f'{name}R3').on(obj[0], obj[1:])\n",
    "        circ += universal_ansatz(UnivMathGate('U4', np.eye(n)).on(obj[1:]))\n",
    "    return circ\n",
    "\n",
    "\n",
    "d, m = 2, 3\n",
    "nq = (d - 1) * m\n",
    "a = unitary_group.rvs(d**m)\n",
    "Id = su2_encoding(np.eye(d**m), m)\n",
    "c = np.eye(Id.shape[0]) - Id\n",
    "a = su2_encoding(a, m) + c\n",
    "\n",
    "sim = Simulator('mqvector', nq)\n",
    "psi0 = sim.get_qs()\n",
    "psi = a @ psi0\n",
    "ham = np.outer(psi, psi.conj())\n",
    "Ham = Hamiltonian(csr_matrix(ham))\n",
    "\n",
    "\n",
    "gate = UnivMathGate('a', a).on(list(range(nq)))\n",
    "ansatz = universal_ansatz(gate)\n",
    "for i in range(nq):\n",
    "    ansatz += GlobalPhase(f'phase').on(i)\n",
    "p_name = ansatz.ansatz_params_name\n",
    "p_num = len(p_name)\n",
    "g_num = sum(1 for _ in ansatz)\n",
    "print('Number of qubits: %d' % nq)\n",
    "print('Number of params: %d' % p_num)\n",
    "print('Number of gates: %d' % g_num)\n",
    "\n",
    "sim.reset()\n",
    "sim_grad = sim.get_expectation_with_grad(Ham, ansatz)\n",
    "p0 = np.random.uniform(-1, 1, p_num)\n",
    "fun(p0, sim_grad)\n",
    "start = time.perf_counter()\n",
    "res = minimize(fun, p0, args=(sim_grad, []), method='BFGS', jac=True, tol=1e-6)\n",
    "\n",
    "print(res.message)\n",
    "print('Optimal Value: %.20f' % res.fun)\n",
    "\n",
    "sim.reset()\n",
    "res_pr = dict(zip(p_name, res.x))\n",
    "sim.apply_circuit(ansatz.apply_value(res_pr))\n",
    "psi_res = sim.get_qs()\n",
    "print('psi norm: %.20f' % norm(psi - psi_res, 2))\n",
    "print('psi fidelity: %.20f' % fidelity(psi, psi_res))\n",
    "\n",
    "ansatz.svg()\n",
    "# ansatz.apply_value(res_pr).svg()"
   ]
  },
  {
   "cell_type": "code",
   "execution_count": 12,
   "metadata": {},
   "outputs": [
    {
     "name": "stdout",
     "output_type": "stream",
     "text": [
      "['q2_U1_U1t', 'q2_U1_U1p', 'q2_U1_U1l', 'q2_U1_R1', 'q2_U1_U2t', 'q2_U1_U2p', 'q2_U1_U2l', 'q2_U1_R2', 'q2_U1_U3t', 'q2_U1_U3p', 'q2_U1_U3l', 'q2_U1_R3', 'q2_U1_U4t', 'q2_U1_U4p', 'q2_U1_U4l', 'q1_U1_R1', 'q2_U2_U1t', 'q2_U2_U1p', 'q2_U2_U1l', 'q2_U2_R1', 'q2_U2_U2t', 'q2_U2_U2p', 'q2_U2_U2l', 'q2_U2_R2', 'q2_U2_U3t', 'q2_U2_U3p', 'q2_U2_U3l', 'q2_U2_R3', 'q2_U2_U4t', 'q2_U2_U4p', 'q2_U2_U4l', 'q1_U1_R2', 'q2_U3_U1t', 'q2_U3_U1p', 'q2_U3_U1l', 'q2_U3_R1', 'q2_U3_U2t', 'q2_U3_U2p', 'q2_U3_U2l', 'q2_U3_R2', 'q2_U3_U3t', 'q2_U3_U3p', 'q2_U3_U3l', 'q2_U3_R3', 'q2_U3_U4t', 'q2_U3_U4p', 'q2_U3_U4l', 'q1_U1_R3', 'q2_U4_U1t', 'q2_U4_U1p', 'q2_U4_U1l', 'q2_U4_R1', 'q2_U4_U2t', 'q2_U4_U2p', 'q2_U4_U2l', 'q2_U4_R2', 'q2_U4_U3t', 'q2_U4_U3p', 'q2_U4_U3l', 'q2_U4_R3', 'q2_U4_U4t', 'q2_U4_U4p', 'q2_U4_U4l', 'q0_a_R1', 'q1_U2_R1', 'q1_U2_R2', 'q1_U2_R3', 'q0_a_R2', 'q1_U3_R1', 'q1_U3_R2', 'q1_U3_R3', 'q0_a_R3', 'q1_U4_R1', 'q1_U4_R2', 'q1_U4_R3', 'phase']\n"
     ]
    }
   ],
   "source": [
    "print(p_name)"
   ]
  },
  {
   "cell_type": "code",
   "execution_count": 3,
   "metadata": {},
   "outputs": [
    {
     "name": "stdout",
     "output_type": "stream",
     "text": [
      "a00|0⟩⟨0| a01|0⟩⟨1| a02|0⟩⟨2| \n",
      "a10|1⟩⟨0| a11|1⟩⟨1| a12|1⟩⟨2| \n",
      "a20|2⟩⟨0| a21|2⟩⟨1| a22|2⟩⟨2| \n",
      "\n",
      "a00|00⟩⟨00| a01|00⟩⟨01| a02|00⟩⟨10| a03|00⟩⟨11| \n",
      "a10|01⟩⟨00| a11|01⟩⟨01| a12|01⟩⟨10| a13|01⟩⟨11| \n",
      "a20|10⟩⟨00| a21|10⟩⟨01| a22|10⟩⟨10| a23|10⟩⟨11| \n",
      "a30|11⟩⟨00| a31|11⟩⟨01| a32|11⟩⟨10| a33|11⟩⟨11| \n"
     ]
    }
   ],
   "source": [
    "# Qudit\n",
    "d = 3\n",
    "nq = d - 1\n",
    "n = 2**nq\n",
    "for i in range(d):\n",
    "    for j in range(d):\n",
    "        a = f'a{str(i)}{str(j)}|{str(i)}⟩⟨{str(j)}|'\n",
    "        print(a, end=' ')\n",
    "    print()\n",
    "print()\n",
    "# Qubit\n",
    "for i in range(n):\n",
    "    for j in range(n):\n",
    "        ii = bin(i)[2:].zfill(nq)\n",
    "        jj = bin(j)[2:].zfill(nq)\n",
    "        a = f'a{str(i)}{str(j)}|{ii}⟩⟨{jj}|'\n",
    "        print(a, end=' ')\n",
    "    print()"
   ]
  },
  {
   "cell_type": "code",
   "execution_count": 4,
   "metadata": {},
   "outputs": [
    {
     "name": "stdout",
     "output_type": "stream",
     "text": [
      "\\begin{pmatrix}\n",
      "a_{00} & a_{01} & a_{02} & a_{03} \\\\\n",
      "a_{10} & a_{11} & a_{12} & a_{13} \\\\\n",
      "a_{20} & a_{21} & a_{22} & a_{23} \\\\\n",
      "a_{30} & a_{31} & a_{32} & a_{33} \\\\\n",
      "\\end{pmatrix}\n",
      "\n",
      "{0: [0], 1: [1], 2: [1], 3: [2], 4: [1], 5: [2], 6: [2], 7: [3]}\n",
      "\\begin{pmatrix}\n",
      "a_{00} & a_{01} & a_{01} & a_{02} \\\\\n",
      "a_{10} & a_{11} & a_{11} & a_{12} \\\\\n",
      "a_{10} & a_{11} & a_{11} & a_{12} \\\\\n",
      "a_{20} & a_{21} & a_{21} & a_{22} \\\\\n",
      "\\end{pmatrix}\n"
     ]
    }
   ],
   "source": [
    "# Qudit\n",
    "d = 4\n",
    "nq = d - 1\n",
    "n = 2**nq\n",
    "print('\\\\begin{pmatrix}')\n",
    "for i in range(d):\n",
    "    for j in range(d):\n",
    "        a = f'a_{{{str(i)}{str(j)}}}'\n",
    "        if j < d - 1:\n",
    "            print(a, end=' & ')\n",
    "        else:\n",
    "            print(a, end=' \\\\\\\\\\n')\n",
    "print('\\\\end{pmatrix}')\n",
    "print()\n",
    "# Qubit\n",
    "ind = {}\n",
    "for i in range(n):\n",
    "    num1 = bin(i).count('1')\n",
    "    ind[i] = [num1]\n",
    "print(ind)\n",
    "print('\\\\begin{pmatrix}')\n",
    "for i in range(d):\n",
    "    for j in range(d):\n",
    "        a = f'a_{{{str(ind[i][0])}{str(ind[j][0])}}}'\n",
    "        if j < d - 1:\n",
    "            print(a, end=' & ')\n",
    "        else:\n",
    "            print(a, end=' \\\\\\\\\\n')\n",
    "print('\\\\end{pmatrix}')"
   ]
  },
  {
   "cell_type": "code",
   "execution_count": 5,
   "metadata": {},
   "outputs": [
    {
     "name": "stdout",
     "output_type": "stream",
     "text": [
      "[[ 0.57545538+0.16590746j -0.60864031+0.26254676j  0.43029052-0.12962278j]\n",
      " [-0.10319062-0.66173937j -0.00385583-0.3116642j   0.64081083+0.20896109j]\n",
      " [-0.32373878+0.29660028j  0.26535201+0.626949j    0.43109755+0.39736589j]]\n",
      "[[ 0.57545538+0.16590746j -0.43037369+0.1856486j  -0.43037369+0.1856486j   0.43029052-0.12962278j]\n",
      " [-0.07296679-0.4679204j  -0.00192792-0.1558321j  -0.00192792-0.1558321j   0.45312168+0.1477578j ]\n",
      " [-0.07296679-0.4679204j  -0.00192792-0.1558321j  -0.00192792-0.1558321j   0.45312168+0.1477578j ]\n",
      " [-0.32373878+0.29660028j  0.1876322 +0.44331989j  0.1876322 +0.44331989j  0.43109755+0.39736589j]]\n",
      "[[ 0. +0.j  0. +0.j  0. +0.j  0. +0.j]\n",
      " [ 0. +0.j  0.5+0.j -0.5+0.j  0. +0.j]\n",
      " [ 0. +0.j -0.5+0.j  0.5+0.j  0. +0.j]\n",
      " [ 0. +0.j  0. +0.j  0. +0.j  0. +0.j]]\n"
     ]
    },
    {
     "data": {
      "text/plain": [
       "(True, False)"
      ]
     },
     "execution_count": 5,
     "metadata": {},
     "output_type": "execute_result"
    }
   ],
   "source": [
    "d = 3\n",
    "n = 2**(d - 1)\n",
    "a1 = unitary_group.rvs(d)\n",
    "a2 = su2_encoding(a1)\n",
    "print(a1)\n",
    "print(a2)\n",
    "p = np.eye(n) - su2_encoding(np.eye(d))\n",
    "print(p)\n",
    "a2 += p\n",
    "is_unitary(a2), is_symmetric(a2)"
   ]
  },
  {
   "cell_type": "code",
   "execution_count": 6,
   "metadata": {},
   "outputs": [
    {
     "name": "stdout",
     "output_type": "stream",
     "text": [
      "[[1. 0. 0.]\n",
      " [0. 1. 0.]\n",
      " [0. 0. 1.]]\n",
      "[[1. +0.j 0. +0.j 0. +0.j 0. +0.j]\n",
      " [0. +0.j 0.5+0.j 0.5+0.j 0. +0.j]\n",
      " [0. +0.j 0.5+0.j 0.5+0.j 0. +0.j]\n",
      " [0. +0.j 0. +0.j 0. +0.j 1. +0.j]]\n",
      "[[ 0. +0.j  0. +0.j  0. +0.j  0. +0.j]\n",
      " [ 0. +0.j  0.5+0.j -0.5+0.j  0. +0.j]\n",
      " [ 0. +0.j -0.5+0.j  0.5+0.j  0. +0.j]\n",
      " [ 0. +0.j  0. +0.j  0. +0.j  0. +0.j]]\n"
     ]
    },
    {
     "data": {
      "text/plain": [
       "(True, 3)"
      ]
     },
     "execution_count": 6,
     "metadata": {},
     "output_type": "execute_result"
    }
   ],
   "source": [
    "d = 3\n",
    "n = 2**(d - 1)\n",
    "i1 = np.eye(d)\n",
    "i2 = su2_encoding(i1)\n",
    "p = np.eye(n) - su2_encoding(np.eye(d))\n",
    "print(i1)\n",
    "print(i2)\n",
    "print(p)\n",
    "is_symmetric(i2), matrix_rank(i2)"
   ]
  },
  {
   "cell_type": "code",
   "execution_count": 7,
   "metadata": {},
   "outputs": [
    {
     "data": {
      "image/svg+xml": [
       "<svg xmlns=\"http://www.w3.org/2000/svg\" width=\"196.8\" height=\"140.0\" xmlns:xlink=\"http://www.w3.org/1999/xlink\"><rect x=\"0\" y=\"0.0\" width=\"196.8\" height=\"140.0\" fill=\"#ffffff\" /><text x=\"20.0\" y=\"40.0\" font-size=\"16px\" dominant-baseline=\"middle\" text-anchor=\"start\" font-family=\"Arial\" font-weight=\"normal\" fill=\"#252b3a\" >q0: </text><text x=\"20.0\" y=\"100.0\" font-size=\"16px\" dominant-baseline=\"middle\" text-anchor=\"start\" font-family=\"Arial\" font-weight=\"normal\" fill=\"#252b3a\" >q1: </text><line x1=\"48.8\" x2=\"176.8\" y1=\"40.0\" y2=\"40.0\" stroke=\"#adb0b8\" stroke-width=\"1\" /><line x1=\"48.8\" x2=\"176.8\" y1=\"100.0\" y2=\"100.0\" stroke=\"#adb0b8\" stroke-width=\"1\" /><rect x=\"72.8\" y=\"20.0\" width=\"80.0\" height=\"100\" rx=\"4\" ry=\"4\" stroke=\"#ffffff\" stroke-width=\"0\" fill=\"#fac209\" fill-opacity=\"1\" /><text x=\"112.8\" y=\"66.0\" font-size=\"20px\" dominant-baseline=\"middle\" text-anchor=\"middle\" font-family=\"Arial\" font-weight=\"normal\" fill=\"#ffffff\" >Rzz </text><text x=\"112.8\" y=\"82.0\" font-size=\"14.0px\" dominant-baseline=\"middle\" text-anchor=\"middle\" font-family=\"Arial\" font-weight=\"normal\" fill=\"#ffffff\" >2.6222 </text></svg>"
      ]
     },
     "metadata": {},
     "output_type": "display_data"
    },
    {
     "data": {
      "text/plain": [
       "(True, True, True)"
      ]
     },
     "execution_count": 7,
     "metadata": {},
     "output_type": "execute_result"
    }
   ],
   "source": [
    "# U2⊗U2 Rxx Ryy Rzz SWAP preserve symmetry\n",
    "d = 3\n",
    "a1 = unitary_group.rvs(d)\n",
    "b1 = np.random.rand(d) + 1j * np.random.rand(d)\n",
    "b1 /= norm(b1)\n",
    "a2 = su2_encoding(a1)\n",
    "b2 = su2_encoding(b1)\n",
    "# print(a1)\n",
    "# print(a2)\n",
    "# print(b1)\n",
    "# print(b2)\n",
    "t = np.random.uniform(-np.pi, np.pi)\n",
    "k = Circuit() + Rzz(t).on([0, 1])\n",
    "# k = Circuit() + UN(UnivMathGate('', unitary_group.rvs(2)), 2)\n",
    "display_svg(k.svg())\n",
    "k = k.matrix()\n",
    "# print(k)\n",
    "# print(a2 @ k)\n",
    "# print(k @ a2)\n",
    "# print(k @ b2)\n",
    "is_symmetric(a2 @ k), is_symmetric(k @ a2), is_symmetric(k @ b2)"
   ]
  },
  {
   "cell_type": "code",
   "execution_count": 8,
   "metadata": {},
   "outputs": [
    {
     "name": "stdout",
     "output_type": "stream",
     "text": [
      "[[0.34880034+0.j         0.40977999+0.24334959j]\n",
      " [0.40977999-0.24334959j 0.65119966+0.j        ]]\n",
      "[[0.03454462+0.j         0.0930421 -0.15714469j]\n",
      " [0.0930421 +0.15714469j 0.96545538+0.j        ]]\n",
      "[[ 1.20491735e-02+0.j          3.24531155e-02-0.05481212j  1.41556919e-02+0.00840642j  7.63678855e-02-0.04175299j]\n",
      " [ 3.24531155e-02+0.05481212j  3.36751167e-01+0.j         -1.14305675e-04+0.0870365j   3.95624296e-01+0.23494318j]\n",
      " [ 1.41556919e-02-0.00840642j -1.14305675e-04-0.0870365j   2.24954416e-02+0.j          6.05889828e-02-0.10233257j]\n",
      " [ 7.63678855e-02+0.04175299j  3.95624296e-01-0.23494318j  6.05889828e-02+0.10233257j  6.28704218e-01+0.j        ]]\n",
      "(1.0000000000000007+0j)\n"
     ]
    },
    {
     "data": {
      "text/plain": [
       "1.0000000000000002"
      ]
     },
     "execution_count": 8,
     "metadata": {},
     "output_type": "execute_result"
    }
   ],
   "source": [
    "# How to restore a reduce density matrix\n",
    "np.random.seed(42)\n",
    "a = np.random.rand(2) + 1j * np.random.rand(2)\n",
    "b = np.random.rand(2) + 1j * np.random.rand(2)\n",
    "a /= norm(a)\n",
    "b /= norm(b)\n",
    "psi_ab = np.kron(a, b)\n",
    "rho_a = np.outer(a, a.conj())\n",
    "rho_b = np.outer(b, b.conj())\n",
    "rho_ab = np.kron(rho_a, rho_b)\n",
    "print(rho_a)\n",
    "print(rho_b)\n",
    "print(rho_ab)\n",
    "print(psi_ab.conj() @ rho_ab @ psi_ab)\n",
    "fidelity(rho_ab, psi_ab)"
   ]
  }
 ],
 "metadata": {
  "kernelspec": {
   "display_name": "Python 3",
   "language": "python",
   "name": "python3"
  },
  "language_info": {
   "codemirror_mode": {
    "name": "ipython",
    "version": 3
   },
   "file_extension": ".py",
   "mimetype": "text/x-python",
   "name": "python",
   "nbconvert_exporter": "python",
   "pygments_lexer": "ipython3",
   "version": "3.9.13"
  },
  "orig_nbformat": 4
 },
 "nbformat": 4,
 "nbformat_minor": 2
}
