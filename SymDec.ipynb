{
 "cells": [
  {
   "cell_type": "code",
   "execution_count": 1,
   "metadata": {},
   "outputs": [],
   "source": [
    "import re\n",
    "import os\n",
    "import sys\n",
    "import h5py\n",
    "import time\n",
    "import numpy as np\n",
    "import scipy as sp\n",
    "from utils import *\n",
    "import mindspore as ms\n",
    "from scipy.sparse import csr_matrix\n",
    "from scipy.optimize import minimize\n",
    "from mindquantum.framework import *\n",
    "from mindquantum.core.gates import *\n",
    "from scipy.stats import unitary_group\n",
    "from mindquantum.core.circuit import *\n",
    "from IPython.display import display_svg\n",
    "from mindquantum.core.operators import *\n",
    "from mindquantum.algorithm.nisq import *\n",
    "from mindspore.common.initializer import *\n",
    "from mindquantum.simulator import Simulator\n",
    "from mindquantum.algorithm.compiler import *\n",
    "from scipy.linalg import expm, sqrtm, block_diag\n",
    "from numpy.linalg import det, svd, eigh, norm, matrix_rank\n",
    "\n",
    "np.set_printoptions(linewidth=200)"
   ]
  },
  {
   "cell_type": "code",
   "execution_count": 2,
   "metadata": {},
   "outputs": [
    {
     "name": "stdout",
     "output_type": "stream",
     "text": [
      "a00|00⟩⟨00| a01|00⟩⟨01| a02|00⟩⟨10| a03|00⟩⟨11| \n",
      "a10|01⟩⟨00| a11|01⟩⟨01| a12|01⟩⟨10| a13|01⟩⟨11| \n",
      "a20|10⟩⟨00| a21|10⟩⟨01| a22|10⟩⟨10| a23|10⟩⟨11| \n",
      "a30|11⟩⟨00| a31|11⟩⟨01| a32|11⟩⟨10| a33|11⟩⟨11| \n"
     ]
    }
   ],
   "source": [
    "d = 3\n",
    "nq = d - 1\n",
    "for i in range(2**nq):\n",
    "    for j in range(2**nq):\n",
    "        a = 'aij|x⟩⟨y|'.replace('i', str(i)).replace('j', str(j))\n",
    "        a = a.replace('x', bin(i)[2:].zfill(nq)).replace('y', bin(j)[2:].zfill(nq))\n",
    "        print(a, end=' ')\n",
    "    print()"
   ]
  },
  {
   "cell_type": "code",
   "execution_count": 3,
   "metadata": {},
   "outputs": [
    {
     "name": "stdout",
     "output_type": "stream",
     "text": [
      "[[ 0.08516211-0.44598598j -0.61150151+0.51026305j -0.34994812+0.19255586j]\n",
      " [-0.07625552-0.78463319j  0.40702641-0.27245883j -0.26884638-0.25759109j]\n",
      " [ 0.09643167+0.40383252j  0.31396014+0.16499166j -0.83519723-0.06536507j]]\n",
      "[[ 0.08516211-0.44598598j -0.43239686+0.36081046j -0.43239686+0.36081046j -0.34994812+0.19255586j]\n",
      " [-0.0539208 -0.55481945j  0.2035132 -0.13622941j  0.2035132 -0.13622941j -0.1901031 -0.1821444j ]\n",
      " [-0.0539208 -0.55481945j  0.2035132 -0.13622941j  0.2035132 -0.13622941j -0.1901031 -0.1821444j ]\n",
      " [ 0.09643167+0.40383252j  0.22200335+0.11666672j  0.22200335+0.11666672j -0.83519723-0.06536507j]]\n",
      "[[ 0. +0.j  0. +0.j  0. +0.j  0. +0.j]\n",
      " [ 0. +0.j  0.5+0.j -0.5+0.j  0. +0.j]\n",
      " [ 0. +0.j -0.5+0.j  0.5+0.j  0. +0.j]\n",
      " [ 0. +0.j  0. +0.j  0. +0.j  0. +0.j]]\n"
     ]
    },
    {
     "data": {
      "text/plain": [
       "(True, False)"
      ]
     },
     "execution_count": 3,
     "metadata": {},
     "output_type": "execute_result"
    }
   ],
   "source": [
    "d = 3\n",
    "n = 2**(d - 1)\n",
    "a1 = unitary_group.rvs(d)\n",
    "a2 = su2_encoding(a1)\n",
    "print(a1)\n",
    "print(a2)\n",
    "p = np.eye(n) - su2_encoding(np.eye(d))\n",
    "print(p)\n",
    "a2 += p\n",
    "is_unitary(a2), is_symmetric(a2)"
   ]
  },
  {
   "cell_type": "code",
   "execution_count": 4,
   "metadata": {},
   "outputs": [
    {
     "name": "stdout",
     "output_type": "stream",
     "text": [
      "[[ 0.05707486-0.04881935j -0.14048988+0.08320474j -0.96816631-0.17422026j]\n",
      " [-0.59616925-0.65657795j -0.38694502-0.25046337j  0.03141996+0.00648497j]\n",
      " [-0.39792671+0.2224884j   0.61898477-0.61460481j -0.17681718-0.00277832j]]\n",
      "[[ 0.05707486-0.04881935j -0.09934134+0.05883463j -0.09934134+0.05883463j -0.96816631-0.17422026j]\n",
      " [-0.42155532-0.46427072j -0.19347251-0.12523168j -0.19347251-0.12523168j  0.02221726+0.00458557j]\n",
      " [-0.42155532-0.46427072j -0.19347251-0.12523168j -0.19347251-0.12523168j  0.02221726+0.00458557j]\n",
      " [-0.39792671+0.2224884j   0.43768833-0.43459123j  0.43768833-0.43459123j -0.17681718-0.00277832j]]\n"
     ]
    },
    {
     "data": {
      "text/plain": [
       "(True, 3)"
      ]
     },
     "execution_count": 4,
     "metadata": {},
     "output_type": "execute_result"
    }
   ],
   "source": [
    "# Test whether a qudit encoding is in the symmetric subspace\n",
    "d = 3\n",
    "i1 = np.eye(d)\n",
    "a1 = unitary_group.rvs(d)\n",
    "# a1 = np.reshape(range(d**2), [d, d])\n",
    "i2 = su2_encoding(i1)\n",
    "a2 = su2_encoding(a1)\n",
    "print(a1)\n",
    "print(a2)\n",
    "is_symmetric(a2), matrix_rank(i2)"
   ]
  },
  {
   "cell_type": "code",
   "execution_count": 5,
   "metadata": {},
   "outputs": [
    {
     "data": {
      "image/svg+xml": [
       "<svg xmlns=\"http://www.w3.org/2000/svg\" width=\"196.8\" height=\"140.0\" xmlns:xlink=\"http://www.w3.org/1999/xlink\"><rect x=\"0\" y=\"0.0\" width=\"196.8\" height=\"140.0\" fill=\"#ffffff\" /><text x=\"20.0\" y=\"40.0\" font-size=\"16px\" dominant-baseline=\"middle\" text-anchor=\"start\" font-family=\"Arial\" font-weight=\"normal\" fill=\"#252b3a\" >q0: </text><text x=\"20.0\" y=\"100.0\" font-size=\"16px\" dominant-baseline=\"middle\" text-anchor=\"start\" font-family=\"Arial\" font-weight=\"normal\" fill=\"#252b3a\" >q1: </text><line x1=\"48.8\" x2=\"176.8\" y1=\"40.0\" y2=\"40.0\" stroke=\"#adb0b8\" stroke-width=\"1\" /><line x1=\"48.8\" x2=\"176.8\" y1=\"100.0\" y2=\"100.0\" stroke=\"#adb0b8\" stroke-width=\"1\" /><rect x=\"72.8\" y=\"20.0\" width=\"80.0\" height=\"100\" rx=\"4\" ry=\"4\" stroke=\"#ffffff\" stroke-width=\"0\" fill=\"#fac209\" fill-opacity=\"1\" /><text x=\"112.8\" y=\"66.0\" font-size=\"20px\" dominant-baseline=\"middle\" text-anchor=\"middle\" font-family=\"Arial\" font-weight=\"normal\" fill=\"#ffffff\" >Rzz </text><text x=\"112.8\" y=\"82.0\" font-size=\"14.0px\" dominant-baseline=\"middle\" text-anchor=\"middle\" font-family=\"Arial\" font-weight=\"normal\" fill=\"#ffffff\" >-0.6818 </text></svg>"
      ]
     },
     "metadata": {},
     "output_type": "display_data"
    },
    {
     "data": {
      "text/plain": [
       "(True, True, True)"
      ]
     },
     "execution_count": 5,
     "metadata": {},
     "output_type": "execute_result"
    }
   ],
   "source": [
    "# U2⊗U2 Rxx Ryy Rzz SWAP preserve symmetry\n",
    "d = 3\n",
    "a1 = unitary_group.rvs(d)\n",
    "b1 = np.random.rand(d) + 1j * np.random.rand(d)\n",
    "b1 /= norm(b1)\n",
    "a2 = su2_encoding(a1)\n",
    "b2 = su2_encoding(b1)\n",
    "# print(a1)\n",
    "# print(a2)\n",
    "# print(b1)\n",
    "# print(b2)\n",
    "t = np.random.uniform(-np.pi, np.pi)\n",
    "k = Circuit() + Rzz(t).on([0, 1])\n",
    "# k = Circuit() + UN(UnivMathGate('', unitary_group.rvs(2)), 2)\n",
    "display_svg(k.svg())\n",
    "k = k.matrix()\n",
    "# print(k)\n",
    "# print(a2 @ k)\n",
    "# print(k @ a2)\n",
    "# print(k @ b2)\n",
    "is_symmetric(a2 @ k), is_symmetric(k @ a2), is_symmetric(k @ b2)"
   ]
  },
  {
   "cell_type": "code",
   "execution_count": 6,
   "metadata": {},
   "outputs": [
    {
     "name": "stdout",
     "output_type": "stream",
     "text": [
      "[[0.34880034+0.j         0.40977999+0.24334959j]\n",
      " [0.40977999-0.24334959j 0.65119966+0.j        ]]\n",
      "[[0.03454462+0.j         0.0930421 -0.15714469j]\n",
      " [0.0930421 +0.15714469j 0.96545538+0.j        ]]\n",
      "[[ 1.20491735e-02+0.j          3.24531155e-02-0.05481212j  1.41556919e-02+0.00840642j  7.63678855e-02-0.04175299j]\n",
      " [ 3.24531155e-02+0.05481212j  3.36751167e-01+0.j         -1.14305675e-04+0.0870365j   3.95624296e-01+0.23494318j]\n",
      " [ 1.41556919e-02-0.00840642j -1.14305675e-04-0.0870365j   2.24954416e-02+0.j          6.05889828e-02-0.10233257j]\n",
      " [ 7.63678855e-02+0.04175299j  3.95624296e-01-0.23494318j  6.05889828e-02+0.10233257j  6.28704218e-01+0.j        ]]\n",
      "(1.0000000000000007+0j)\n"
     ]
    },
    {
     "data": {
      "text/plain": [
       "1.0000000000000002"
      ]
     },
     "execution_count": 6,
     "metadata": {},
     "output_type": "execute_result"
    }
   ],
   "source": [
    "# How to restore a reduce density matrix\n",
    "np.random.seed(42)\n",
    "a = np.random.rand(2) + 1j * np.random.rand(2)\n",
    "b = np.random.rand(2) + 1j * np.random.rand(2)\n",
    "a /= norm(a)\n",
    "b /= norm(b)\n",
    "psi_ab = np.kron(a, b)\n",
    "rho_a = np.outer(a, a.conj())\n",
    "rho_b = np.outer(b, b.conj())\n",
    "rho_ab = np.kron(rho_a, rho_b)\n",
    "print(rho_a)\n",
    "print(rho_b)\n",
    "print(rho_ab)\n",
    "print(psi_ab.conj() @ rho_ab @ psi_ab)\n",
    "fidelity(rho_ab, psi_ab)"
   ]
  }
 ],
 "metadata": {
  "kernelspec": {
   "display_name": "Python 3",
   "language": "python",
   "name": "python3"
  },
  "language_info": {
   "codemirror_mode": {
    "name": "ipython",
    "version": 3
   },
   "file_extension": ".py",
   "mimetype": "text/x-python",
   "name": "python",
   "nbconvert_exporter": "python",
   "pygments_lexer": "ipython3",
   "version": "3.9.13"
  },
  "orig_nbformat": 4
 },
 "nbformat": 4,
 "nbformat_minor": 2
}
