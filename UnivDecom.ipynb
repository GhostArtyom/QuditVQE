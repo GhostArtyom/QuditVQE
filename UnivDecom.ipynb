{
 "cells": [
  {
   "cell_type": "code",
   "execution_count": 16,
   "metadata": {},
   "outputs": [],
   "source": [
    "import re\n",
    "import os\n",
    "import sys\n",
    "import h5py\n",
    "import time\n",
    "import numpy as np\n",
    "import scipy as sp\n",
    "from utils import *\n",
    "import mindspore as ms\n",
    "from numpy.linalg import inv, norm\n",
    "from scipy.sparse import csr_matrix\n",
    "from scipy.optimize import minimize\n",
    "from mindquantum.framework import *\n",
    "from mindquantum.core.gates import *\n",
    "from scipy.linalg import expm, sqrtm\n",
    "from scipy.stats import unitary_group\n",
    "from mindquantum.core.circuit import *\n",
    "from IPython.display import display_svg\n",
    "from mindquantum.core.operators import *\n",
    "from mindquantum.algorithm.nisq import *\n",
    "from mindspore.common.initializer import *\n",
    "from mindquantum.simulator import Simulator\n",
    "from mindquantum.algorithm.compiler import *\n",
    "from mindquantum.algorithm.compiler.decompose.utils import *\n",
    "\n",
    "np.set_printoptions(linewidth=200)"
   ]
  },
  {
   "cell_type": "code",
   "execution_count": 17,
   "metadata": {},
   "outputs": [
    {
     "name": "stdout",
     "output_type": "stream",
     "text": [
      "[[0.34880034+0.j         0.40977999-0.24334959j]\n",
      " [0.40977999+0.24334959j 0.65119966+0.j        ]] (1+0j)\n",
      "[[-0.30155987-0.50780113j  0.70856123+0.38618732j]\n",
      " [ 0.69384473+0.41204265j  0.59059321+0.j        ]] (0.28903334387559965-0.5078011293587639j)\n",
      "[0.53639729-0.17207415j 0.7502259 +0.17207415j]\n",
      "[0.28779342-0.08599395j 0.90823478+0.29135815j]\n",
      "[[-0.30155987-0.50780113j  0.70856123+0.38618732j]\n",
      " [ 0.69384473+0.41204265j  0.59059321+0.j        ]] (0.28903334387559965-0.5078011293587639j)\n"
     ]
    },
    {
     "data": {
      "image/svg+xml": [
       "<svg xmlns=\"http://www.w3.org/2000/svg\" width=\"496.8\" height=\"80.0\" xmlns:xlink=\"http://www.w3.org/1999/xlink\"><rect x=\"0\" y=\"0.0\" width=\"496.8\" height=\"80.0\" fill=\"#ffffff\" /><text x=\"20.0\" y=\"40.0\" font-size=\"16px\" dominant-baseline=\"middle\" text-anchor=\"start\" font-family=\"Arial\" font-weight=\"normal\" fill=\"#252b3a\" >q0: </text><line x1=\"48.8\" x2=\"476.8\" y1=\"40.0\" y2=\"40.0\" stroke=\"#adb0b8\" stroke-width=\"1\" /><rect x=\"72.8\" y=\"20.0\" width=\"80.0\" height=\"40\" rx=\"4\" ry=\"4\" stroke=\"#ffffff\" stroke-width=\"0\" fill=\"#fac209\" fill-opacity=\"1\" /><text x=\"112.8\" y=\"36.0\" font-size=\"20px\" dominant-baseline=\"middle\" text-anchor=\"middle\" font-family=\"Arial\" font-weight=\"normal\" fill=\"#ffffff\" >RZ </text><text x=\"112.8\" y=\"52.0\" font-size=\"14.0px\" dominant-baseline=\"middle\" text-anchor=\"middle\" font-family=\"Arial\" font-weight=\"normal\" fill=\"#ffffff\" >-0.5359 </text><rect x=\"172.8\" y=\"20.0\" width=\"80.0\" height=\"40\" rx=\"4\" ry=\"4\" stroke=\"#ffffff\" stroke-width=\"0\" fill=\"#fac209\" fill-opacity=\"1\" /><text x=\"212.8\" y=\"36.0\" font-size=\"20px\" dominant-baseline=\"middle\" text-anchor=\"middle\" font-family=\"Arial\" font-weight=\"normal\" fill=\"#ffffff\" >RY </text><text x=\"212.8\" y=\"52.0\" font-size=\"14.0px\" dominant-baseline=\"middle\" text-anchor=\"middle\" font-family=\"Arial\" font-weight=\"normal\" fill=\"#ffffff\" >1.878 </text><rect x=\"272.8\" y=\"20.0\" width=\"80.0\" height=\"40\" rx=\"4\" ry=\"4\" stroke=\"#ffffff\" stroke-width=\"0\" fill=\"#fac209\" fill-opacity=\"1\" /><text x=\"312.8\" y=\"36.0\" font-size=\"20px\" dominant-baseline=\"middle\" text-anchor=\"middle\" font-family=\"Arial\" font-weight=\"normal\" fill=\"#ffffff\" >RZ </text><text x=\"312.8\" y=\"52.0\" font-size=\"14.0px\" dominant-baseline=\"middle\" text-anchor=\"middle\" font-family=\"Arial\" font-weight=\"normal\" fill=\"#ffffff\" >2.6426 </text><rect x=\"372.8\" y=\"20.0\" width=\"80.0\" height=\"40\" rx=\"4\" ry=\"4\" stroke=\"#ffffff\" stroke-width=\"0\" fill=\"#fac209\" fill-opacity=\"1\" /><text x=\"412.8\" y=\"36.0\" font-size=\"20px\" dominant-baseline=\"middle\" text-anchor=\"middle\" font-family=\"Arial\" font-weight=\"normal\" fill=\"#ffffff\" >GP </text><text x=\"412.8\" y=\"52.0\" font-size=\"14.0px\" dominant-baseline=\"middle\" text-anchor=\"middle\" font-family=\"Arial\" font-weight=\"normal\" fill=\"#ffffff\" >1.0533 </text></svg>"
      ],
      "text/plain": [
       "<mindquantum.io.display.circuit_svg_drawer.SVGCircuit at 0x1eb828c0580>"
      ]
     },
     "execution_count": 17,
     "metadata": {},
     "output_type": "execute_result"
    }
   ],
   "source": [
    "r = h5py.File('mat/322_d2_num1_model957_RDM_v7.3.mat', 'r')\n",
    "l = list(r.keys())\n",
    "rdm = [r[i][:].view('complex').T for i in l]\n",
    "rdm.insert(0, [])\n",
    "r.close()\n",
    "\n",
    "np.random.seed(42)\n",
    "gate = np.random.rand(2) + 1j * np.random.rand(2)\n",
    "gate /= norm(gate)\n",
    "gate = np.outer(gate.conj(), gate)\n",
    "print(gate, np.trace(gate))\n",
    "gate_u = UnivMathGate('gate', gate).on(0)\n",
    "gate_d = euler_decompose(gate_u)\n",
    "print(gate_d.matrix(), np.trace(gate_d.matrix()))\n",
    "\n",
    "circ_u = Circuit() + gate_u\n",
    "circ_d = Circuit() + gate_d\n",
    "sim_u = Simulator('mqvector', 1)\n",
    "sim_u.apply_gate(H(0))\n",
    "sim_u.apply_circuit(circ_u)\n",
    "print(sim_u.get_qs())\n",
    "sim_d = Simulator('mqvector', 1)\n",
    "sim_d.apply_gate(H(0))\n",
    "sim_d.apply_circuit(circ_d)\n",
    "print(sim_d.get_qs())\n",
    "print(circ_d.matrix(), np.trace(circ_d.matrix()))\n",
    "\n",
    "circ_d.svg()"
   ]
  },
  {
   "cell_type": "code",
   "execution_count": 18,
   "metadata": {},
   "outputs": [
    {
     "name": "stdout",
     "output_type": "stream",
     "text": [
      "[[ 0.27702459-0.13059069j -0.76350488+0.56856287j]\n",
      " [ 0.36122517+0.88074958j  0.1700831 +0.25469254j]]\n",
      "[[ 0.27702459-0.13059069j -0.76350488+0.56856287j]\n",
      " [ 0.36122517+0.88074958j  0.1700831 +0.25469254j]]\n",
      "[[1.-8.19750498e-17j 1.+1.87079558e-16j]\n",
      " [1.-2.15807712e-16j 1.-2.26100146e-16j]] True\n"
     ]
    },
    {
     "data": {
      "image/svg+xml": [
       "<svg xmlns=\"http://www.w3.org/2000/svg\" width=\"576.8\" height=\"80.0\" xmlns:xlink=\"http://www.w3.org/1999/xlink\"><rect x=\"0\" y=\"0.0\" width=\"576.8\" height=\"80.0\" fill=\"#ffffff\" /><text x=\"20.0\" y=\"40.0\" font-size=\"16px\" dominant-baseline=\"middle\" text-anchor=\"start\" font-family=\"Arial\" font-weight=\"normal\" fill=\"#252b3a\" >q0: </text><line x1=\"48.8\" x2=\"556.8\" y1=\"40.0\" y2=\"40.0\" stroke=\"#adb0b8\" stroke-width=\"1\" /><rect x=\"72.8\" y=\"20.0\" width=\"80.0\" height=\"40\" rx=\"4\" ry=\"4\" stroke=\"#ffffff\" stroke-width=\"0\" fill=\"#fac209\" fill-opacity=\"1\" /><text x=\"112.8\" y=\"36.0\" font-size=\"20px\" dominant-baseline=\"middle\" text-anchor=\"middle\" font-family=\"Arial\" font-weight=\"normal\" fill=\"#ffffff\" >RZ </text><text x=\"112.8\" y=\"52.0\" font-size=\"14.0px\" dominant-baseline=\"middle\" text-anchor=\"middle\" font-family=\"Arial\" font-weight=\"normal\" fill=\"#ffffff\" >G1_L1_lam </text><rect x=\"172.8\" y=\"20.0\" width=\"120.0\" height=\"40\" rx=\"4\" ry=\"4\" stroke=\"#ffffff\" stroke-width=\"0\" fill=\"#fac209\" fill-opacity=\"1\" /><text x=\"232.8\" y=\"36.0\" font-size=\"20px\" dominant-baseline=\"middle\" text-anchor=\"middle\" font-family=\"Arial\" font-weight=\"normal\" fill=\"#ffffff\" >RY </text><text x=\"232.8\" y=\"52.0\" font-size=\"14.0px\" dominant-baseline=\"middle\" text-anchor=\"middle\" font-family=\"Arial\" font-weight=\"normal\" fill=\"#ffffff\" >G1_L1_theta </text><rect x=\"312.8\" y=\"20.0\" width=\"80.0\" height=\"40\" rx=\"4\" ry=\"4\" stroke=\"#ffffff\" stroke-width=\"0\" fill=\"#fac209\" fill-opacity=\"1\" /><text x=\"352.8\" y=\"36.0\" font-size=\"20px\" dominant-baseline=\"middle\" text-anchor=\"middle\" font-family=\"Arial\" font-weight=\"normal\" fill=\"#ffffff\" >RZ </text><text x=\"352.8\" y=\"52.0\" font-size=\"14.0px\" dominant-baseline=\"middle\" text-anchor=\"middle\" font-family=\"Arial\" font-weight=\"normal\" fill=\"#ffffff\" >G1_L1_phi </text><rect x=\"412.8\" y=\"20.0\" width=\"120.0\" height=\"40\" rx=\"4\" ry=\"4\" stroke=\"#ffffff\" stroke-width=\"0\" fill=\"#fac209\" fill-opacity=\"1\" /><text x=\"472.8\" y=\"36.0\" font-size=\"20px\" dominant-baseline=\"middle\" text-anchor=\"middle\" font-family=\"Arial\" font-weight=\"normal\" fill=\"#ffffff\" >GP </text><text x=\"472.8\" y=\"52.0\" font-size=\"14.0px\" dominant-baseline=\"middle\" text-anchor=\"middle\" font-family=\"Arial\" font-weight=\"normal\" fill=\"#ffffff\" >G1_L1_phase </text></svg>"
      ]
     },
     "metadata": {},
     "output_type": "display_data"
    },
    {
     "data": {
      "image/svg+xml": [
       "<svg xmlns=\"http://www.w3.org/2000/svg\" width=\"496.8\" height=\"80.0\" xmlns:xlink=\"http://www.w3.org/1999/xlink\"><rect x=\"0\" y=\"0.0\" width=\"496.8\" height=\"80.0\" fill=\"#ffffff\" /><text x=\"20.0\" y=\"40.0\" font-size=\"16px\" dominant-baseline=\"middle\" text-anchor=\"start\" font-family=\"Arial\" font-weight=\"normal\" fill=\"#252b3a\" >q0: </text><line x1=\"48.8\" x2=\"476.8\" y1=\"40.0\" y2=\"40.0\" stroke=\"#adb0b8\" stroke-width=\"1\" /><rect x=\"72.8\" y=\"20.0\" width=\"80.0\" height=\"40\" rx=\"4\" ry=\"4\" stroke=\"#ffffff\" stroke-width=\"0\" fill=\"#fac209\" fill-opacity=\"1\" /><text x=\"112.8\" y=\"36.0\" font-size=\"20px\" dominant-baseline=\"middle\" text-anchor=\"middle\" font-family=\"Arial\" font-weight=\"normal\" fill=\"#ffffff\" >RZ </text><text x=\"112.8\" y=\"52.0\" font-size=\"14.0px\" dominant-baseline=\"middle\" text-anchor=\"middle\" font-family=\"Arial\" font-weight=\"normal\" fill=\"#ffffff\" >-0.1996 </text><rect x=\"172.8\" y=\"20.0\" width=\"80.0\" height=\"40\" rx=\"4\" ry=\"4\" stroke=\"#ffffff\" stroke-width=\"0\" fill=\"#fac209\" fill-opacity=\"1\" /><text x=\"212.8\" y=\"36.0\" font-size=\"20px\" dominant-baseline=\"middle\" text-anchor=\"middle\" font-family=\"Arial\" font-weight=\"normal\" fill=\"#ffffff\" >RY </text><text x=\"212.8\" y=\"52.0\" font-size=\"14.0px\" dominant-baseline=\"middle\" text-anchor=\"middle\" font-family=\"Arial\" font-weight=\"normal\" fill=\"#ffffff\" >2.5191 </text><rect x=\"272.8\" y=\"20.0\" width=\"80.0\" height=\"40\" rx=\"4\" ry=\"4\" stroke=\"#ffffff\" stroke-width=\"0\" fill=\"#fac209\" fill-opacity=\"1\" /><text x=\"312.8\" y=\"36.0\" font-size=\"20px\" dominant-baseline=\"middle\" text-anchor=\"middle\" font-family=\"Arial\" font-weight=\"normal\" fill=\"#ffffff\" >RZ </text><text x=\"312.8\" y=\"52.0\" font-size=\"14.0px\" dominant-baseline=\"middle\" text-anchor=\"middle\" font-family=\"Arial\" font-weight=\"normal\" fill=\"#ffffff\" >1.6221 </text><rect x=\"372.8\" y=\"20.0\" width=\"80.0\" height=\"40\" rx=\"4\" ry=\"4\" stroke=\"#ffffff\" stroke-width=\"0\" fill=\"#fac209\" fill-opacity=\"1\" /><text x=\"412.8\" y=\"36.0\" font-size=\"20px\" dominant-baseline=\"middle\" text-anchor=\"middle\" font-family=\"Arial\" font-weight=\"normal\" fill=\"#ffffff\" >GP </text><text x=\"412.8\" y=\"52.0\" font-size=\"14.0px\" dominant-baseline=\"middle\" text-anchor=\"middle\" font-family=\"Arial\" font-weight=\"normal\" fill=\"#ffffff\" >-0.2708 </text></svg>"
      ],
      "text/plain": [
       "<mindquantum.io.display.circuit_svg_drawer.SVGCircuit at 0x1eb85afeaf0>"
      ]
     },
     "execution_count": 18,
     "metadata": {},
     "output_type": "execute_result"
    }
   ],
   "source": [
    "def decompose_zyz(mat: np.array):\n",
    "    d = mat.shape[0]\n",
    "    if not np.allclose(np.eye(d), mat @ mat.conj().T):\n",
    "        raise ValueError('The gate is not unitary')\n",
    "    phase = -np.angle(det(mat)) / 2\n",
    "    matU = mat * np.exp(1j * phase)\n",
    "    cos = np.sqrt(np.real(matU[0, 0] * matU[1, 1]))\n",
    "    theta = 2 * np.arccos(cos)\n",
    "    phi = np.angle(matU[1, 1]) + np.angle(matU[1, 0])\n",
    "    lam = np.angle(matU[1, 1]) - np.angle(matU[1, 0])\n",
    "    return phase, theta, phi, lam\n",
    "\n",
    "\n",
    "def decompose_u3(mat: np.array):\n",
    "    phase, theta, phi, lam = decompose_zyz(mat)\n",
    "    phase += (phi + lam) / 2\n",
    "    return phase, theta, phi, lam\n",
    "\n",
    "\n",
    "def one_qubit_decompose(gate: UnivMathGate, basis: str = 'zyz', with_phase: bool = True) -> Circuit:\n",
    "    name_phase = gate.name + '_phase'\n",
    "    name_theta = gate.name + '_theta'\n",
    "    name_phi = gate.name + '_phi'\n",
    "    name_lam = gate.name + '_lam'\n",
    "    obj = gate.obj_qubits\n",
    "    mat = gate.matrix()\n",
    "    circ = Circuit()\n",
    "    if basis == 'zyz':\n",
    "        phase, theta, phi, lam = decompose_zyz(mat)\n",
    "        circ += RZ(name_lam).on(obj)\n",
    "        circ += RY(name_theta).on(obj)\n",
    "        circ += RZ(name_phi).on(obj)\n",
    "    elif basis == 'u3':\n",
    "        circ += U3(name_theta, name_phi, name_lam).on(obj)\n",
    "        phase, theta, phi, lam = decompose_u3(mat)\n",
    "    else:\n",
    "        raise ValueError(f'{basis} is not a supported decomposition method of {optional_basis}')\n",
    "    if with_phase:\n",
    "        circ += GlobalPhase(name_phase).on(obj)\n",
    "    pr = {name_phase: phase, name_phi: phi, name_theta: theta, name_lam: lam}\n",
    "    return circ, pr\n",
    "\n",
    "\n",
    "d = 2\n",
    "gate = unitary_group.rvs(d, random_state=42)\n",
    "print(gate)\n",
    "gate_u = UnivMathGate('G1_L1', gate).on(0)\n",
    "gate_d, pr = one_qubit_decompose(gate_u, 'zyz')\n",
    "gate_mat = gate_d.matrix(pr)\n",
    "print(gate_mat)\n",
    "print(gate / gate_mat, np.allclose(gate, gate_mat))\n",
    "display_svg(gate_d.svg())\n",
    "gate_d.apply_value(pr).svg()"
   ]
  },
  {
   "cell_type": "code",
   "execution_count": 223,
   "metadata": {},
   "outputs": [
    {
     "name": "stdout",
     "output_type": "stream",
     "text": [
      "[[ 0.23648826-0.48221431j  0.06829648+0.04447898j  0.51150074-0.09529866j  0.55205719-0.35974699j]\n",
      " [-0.11148167+0.69780321j -0.24943828+0.08410701j  0.46705929-0.43192981j  0.16220654-0.01817602j]\n",
      " [-0.22351926-0.25918352j  0.24364996-0.05375623j -0.09259829-0.53810588j  0.27267708+0.66941977j]\n",
      " [ 0.11519953-0.28596729j -0.90164923-0.22099186j -0.09627758-0.13105595j -0.0200152 +0.12766128j]]\n",
      "[[ 0.23648826-0.48221431j  0.06829648+0.04447898j  0.51150074-0.09529866j  0.55205719-0.35974699j]\n",
      " [-0.11148167+0.69780321j -0.24943828+0.08410701j  0.46705929-0.43192981j  0.16220654-0.01817602j]\n",
      " [-0.22351926-0.25918352j  0.24364996-0.05375623j -0.09259829-0.53810588j  0.27267708+0.66941977j]\n",
      " [ 0.11519953-0.28596729j -0.90164923-0.22099186j -0.09627758-0.13105595j -0.0200152 +0.12766128j]]\n",
      "[[1.+7.88783220e-16j 1.-1.35547572e-15j 1.+4.71983645e-16j 1.+8.46975206e-16j]\n",
      " [1.-6.78749759e-16j 1.+9.99128141e-16j 1.-5.76571597e-16j 1.-1.56316361e-15j]\n",
      " [1.-1.16685605e-15j 1.-1.11343781e-15j 1.-1.40270666e-15j 1.-5.68987497e-16j]\n",
      " [1.-1.50312502e-15j 1.-1.19058613e-15j 1.-2.40713741e-15j 1.-1.67107238e-15j]] True\n"
     ]
    },
    {
     "data": {
      "image/svg+xml": [
       "<svg xmlns=\"http://www.w3.org/2000/svg\" width=\"996.8\" height=\"140.0\" xmlns:xlink=\"http://www.w3.org/1999/xlink\"><rect x=\"0\" y=\"0.0\" width=\"996.8\" height=\"140.0\" fill=\"#ffffff\" /><text x=\"20.0\" y=\"40.0\" font-size=\"16px\" dominant-baseline=\"middle\" text-anchor=\"start\" font-family=\"Arial\" font-weight=\"normal\" fill=\"#252b3a\" >q0: </text><text x=\"20.0\" y=\"100.0\" font-size=\"16px\" dominant-baseline=\"middle\" text-anchor=\"start\" font-family=\"Arial\" font-weight=\"normal\" fill=\"#252b3a\" >q1: </text><line x1=\"48.8\" x2=\"976.8\" y1=\"40.0\" y2=\"40.0\" stroke=\"#adb0b8\" stroke-width=\"1\" /><line x1=\"48.8\" x2=\"976.8\" y1=\"100.0\" y2=\"100.0\" stroke=\"#adb0b8\" stroke-width=\"1\" /><rect x=\"72.8\" y=\"20.0\" width=\"280.0\" height=\"40\" rx=\"4\" ry=\"4\" stroke=\"#ffffff\" stroke-width=\"0\" fill=\"#fac209\" fill-opacity=\"1\" /><text x=\"212.8\" y=\"36.0\" font-size=\"20px\" dominant-baseline=\"middle\" text-anchor=\"middle\" font-family=\"Arial\" font-weight=\"normal\" fill=\"#ffffff\" >U3 </text><text x=\"212.8\" y=\"52.0\" font-size=\"14.0px\" dominant-baseline=\"middle\" text-anchor=\"middle\" font-family=\"Arial\" font-weight=\"normal\" fill=\"#ffffff\" >𝜃=1.6999, 𝜑=5.4001, 𝜆=-0.4621 </text><rect x=\"372.8\" y=\"20.0\" width=\"80.0\" height=\"40\" rx=\"4\" ry=\"4\" stroke=\"#ffffff\" stroke-width=\"0\" fill=\"#fac209\" fill-opacity=\"1\" /><text x=\"412.8\" y=\"36.0\" font-size=\"20px\" dominant-baseline=\"middle\" text-anchor=\"middle\" font-family=\"Arial\" font-weight=\"normal\" fill=\"#ffffff\" >GP </text><text x=\"412.8\" y=\"52.0\" font-size=\"14.0px\" dominant-baseline=\"middle\" text-anchor=\"middle\" font-family=\"Arial\" font-weight=\"normal\" fill=\"#ffffff\" >2.469 </text><rect x=\"72.8\" y=\"80.0\" width=\"280.0\" height=\"40\" rx=\"4\" ry=\"4\" stroke=\"#ffffff\" stroke-width=\"0\" fill=\"#fac209\" fill-opacity=\"1\" /><text x=\"212.8\" y=\"96.0\" font-size=\"20px\" dominant-baseline=\"middle\" text-anchor=\"middle\" font-family=\"Arial\" font-weight=\"normal\" fill=\"#ffffff\" >U3 </text><text x=\"212.8\" y=\"112.0\" font-size=\"14.0px\" dominant-baseline=\"middle\" text-anchor=\"middle\" font-family=\"Arial\" font-weight=\"normal\" fill=\"#ffffff\" >𝜃=2.0752, 𝜑=-0.4439, 𝜆=-5.839 </text><rect x=\"372.8\" y=\"80.0\" width=\"80.0\" height=\"40\" rx=\"4\" ry=\"4\" stroke=\"#ffffff\" stroke-width=\"0\" fill=\"#fac209\" fill-opacity=\"1\" /><text x=\"412.8\" y=\"96.0\" font-size=\"20px\" dominant-baseline=\"middle\" text-anchor=\"middle\" font-family=\"Arial\" font-weight=\"normal\" fill=\"#ffffff\" >GP </text><text x=\"412.8\" y=\"112.0\" font-size=\"14.0px\" dominant-baseline=\"middle\" text-anchor=\"middle\" font-family=\"Arial\" font-weight=\"normal\" fill=\"#ffffff\" >-3.1415 </text><rect x=\"472.8\" y=\"20.0\" width=\"80.0\" height=\"100\" rx=\"4\" ry=\"4\" stroke=\"#ffffff\" stroke-width=\"0\" fill=\"#5e7ce0\" fill-opacity=\"1\" /><text x=\"512.8\" y=\"70.0\" font-size=\"20px\" dominant-baseline=\"middle\" text-anchor=\"middle\" font-family=\"Arial\" font-weight=\"normal\" fill=\"#ffffff\" >expk </text><rect x=\"572.8\" y=\"20.0\" width=\"240.0\" height=\"40\" rx=\"4\" ry=\"4\" stroke=\"#ffffff\" stroke-width=\"0\" fill=\"#fac209\" fill-opacity=\"1\" /><text x=\"692.8\" y=\"36.0\" font-size=\"20px\" dominant-baseline=\"middle\" text-anchor=\"middle\" font-family=\"Arial\" font-weight=\"normal\" fill=\"#ffffff\" >U3 </text><text x=\"692.8\" y=\"52.0\" font-size=\"14.0px\" dominant-baseline=\"middle\" text-anchor=\"middle\" font-family=\"Arial\" font-weight=\"normal\" fill=\"#ffffff\" >𝜃=1.2095, 𝜑=2.556, 𝜆=3.013 </text><rect x=\"832.8\" y=\"20.0\" width=\"80.0\" height=\"40\" rx=\"4\" ry=\"4\" stroke=\"#ffffff\" stroke-width=\"0\" fill=\"#fac209\" fill-opacity=\"1\" /><text x=\"872.8\" y=\"36.0\" font-size=\"20px\" dominant-baseline=\"middle\" text-anchor=\"middle\" font-family=\"Arial\" font-weight=\"normal\" fill=\"#ffffff\" >GP </text><text x=\"872.8\" y=\"52.0\" font-size=\"14.0px\" dominant-baseline=\"middle\" text-anchor=\"middle\" font-family=\"Arial\" font-weight=\"normal\" fill=\"#ffffff\" >2.7845 </text><rect x=\"572.8\" y=\"80.0\" width=\"280.0\" height=\"40\" rx=\"4\" ry=\"4\" stroke=\"#ffffff\" stroke-width=\"0\" fill=\"#fac209\" fill-opacity=\"1\" /><text x=\"712.8\" y=\"96.0\" font-size=\"20px\" dominant-baseline=\"middle\" text-anchor=\"middle\" font-family=\"Arial\" font-weight=\"normal\" fill=\"#ffffff\" >U3 </text><text x=\"712.8\" y=\"112.0\" font-size=\"14.0px\" dominant-baseline=\"middle\" text-anchor=\"middle\" font-family=\"Arial\" font-weight=\"normal\" fill=\"#ffffff\" >𝜃=0.7939, 𝜑=2.3435, 𝜆=-1.5709 </text><rect x=\"872.8\" y=\"80.0\" width=\"80.0\" height=\"40\" rx=\"4\" ry=\"4\" stroke=\"#ffffff\" stroke-width=\"0\" fill=\"#fac209\" fill-opacity=\"1\" /><text x=\"912.8\" y=\"96.0\" font-size=\"20px\" dominant-baseline=\"middle\" text-anchor=\"middle\" font-family=\"Arial\" font-weight=\"normal\" fill=\"#ffffff\" >GP </text><text x=\"912.8\" y=\"112.0\" font-size=\"14.0px\" dominant-baseline=\"middle\" text-anchor=\"middle\" font-family=\"Arial\" font-weight=\"normal\" fill=\"#ffffff\" >0.3863 </text></svg>"
      ]
     },
     "metadata": {},
     "output_type": "display_data"
    }
   ],
   "source": [
    "def two_qubit_decompose(gate: UnivMathGate, basis: str = 'zyz', with_phase: bool = True) -> Circuit:\n",
    "    A = np.array([[1, 1, -1, 1], [1, 1, 1, -1], [1, -1, -1, -1], [1, -1, 1, 1]])\n",
    "    M = np.array([[1, 0, 0, 1j], [0, 1j, 1, 0], [0, 1j, -1, 0], [1, 0, 0, -1j]]) / np.sqrt(2)\n",
    "    X_mat = X.matrix()\n",
    "    Y_mat = Y.matrix()\n",
    "    Z_mat = Z.matrix()\n",
    "    XX_mat = np.kron(X_mat, X_mat)\n",
    "    YY_mat = np.kron(Y_mat, Y_mat)\n",
    "    ZZ_mat = np.kron(Z_mat, Z_mat)\n",
    "    name_phase = gate.name + '_phase'\n",
    "    name_theta = gate.name + '_theta'\n",
    "    name_phi = gate.name + '_phi'\n",
    "    name_lam = gate.name + '_lam'\n",
    "    obj0, obj1 = gate.obj_qubits\n",
    "    mat = gate.matrix()\n",
    "    circ = Circuit()\n",
    "    u_su4 = M.conj().T @ mat @ M\n",
    "    ur = np.real(u_su4)\n",
    "    ui = np.imag(u_su4)\n",
    "    (q_left, q_right), (dr, di) = simult_svd(ur, ui)\n",
    "    d = dr + 1j * di\n",
    "    _, a1, a0 = kron_factor_4x4_to_2x2s(M @ q_left @ M.conj().T)\n",
    "    _, b1, b0 = kron_factor_4x4_to_2x2s(M @ q_right.T @ M.conj().T)\n",
    "    k = (A.T / 4) @ np.angle(np.diag(d))\n",
    "    expk = expm(1j * (k[0] * np.eye(4) + k[1] * XX_mat + k[2] * YY_mat + k[3] * ZZ_mat))\n",
    "    h1, h2, h3 = -k[1:]\n",
    "    u0 = 1j / np.sqrt(2) * (X_mat + Z_mat) @ expm(-1j * (h1 - np.pi / 4) * X_mat)\n",
    "    v0 = -1j / np.sqrt(2) * (X_mat + Z_mat)\n",
    "    u1 = expm(-1j * h3 * Z_mat)\n",
    "    v1 = expm(1j * h2 * Z_mat)\n",
    "    w = (np.eye(2) - 1j * X_mat) / np.sqrt(2)\n",
    "    rots0 = [b0, u0, v0, a0 @ w]\n",
    "    rots1 = [b1, u1, v1, a1 @ w.conj().T]\n",
    "    circ += UnivMathGate('B0', b0).on(obj0)\n",
    "    circ += UnivMathGate('B1', b1).on(obj1)\n",
    "    circ += UnivMathGate('expk', expk).on([obj0, obj1])\n",
    "    circ += UnivMathGate('A0', a0).on(obj0)\n",
    "    circ += UnivMathGate('A1', a1).on(obj1)\n",
    "    if basis == 'zyz':\n",
    "        circ_zyz = Circuit()\n",
    "        for i in circ:\n",
    "            if len(i.obj_qubits) == 1:\n",
    "                # print(one_qubit_decompose(i))\n",
    "                circ_zyz += euler_decompose(i, 'zyz')\n",
    "            else:\n",
    "                circ_zyz += i\n",
    "        return circ_zyz\n",
    "    elif basis == 'u3':\n",
    "        circ_u3 = Circuit()\n",
    "        for i in circ:\n",
    "            if len(i.obj_qubits) == 1:\n",
    "                # print(one_qubit_decompose(i))\n",
    "                circ_u3 += euler_decompose(i, 'u3')\n",
    "            else:\n",
    "                circ_u3 += i\n",
    "        return circ_u3\n",
    "    else:\n",
    "        # raise ValueError(f'{basis} is not a supported decomposition method of {optional_basis}')\n",
    "    # pr = {name_phase: phase, name_phi: phi, name_theta: theta, name_lam: lam}\n",
    "        return circ\n",
    "\n",
    "\n",
    "d = 4\n",
    "gate = unitary_group.rvs(d, random_state=42)\n",
    "print(gate)\n",
    "gate_u = UnivMathGate('gate', gate).on([0, 1])\n",
    "gate_d = two_qubit_decompose(gate_u, 'u3')\n",
    "# gate_mat = gate_d.matrix(pr)\n",
    "# print(gate_mat)\n",
    "print(gate_d.matrix())\n",
    "print(gate / gate_d.matrix(), np.allclose(gate, gate_d.matrix()))\n",
    "display_svg(gate_d.svg())\n",
    "# gate_d.apply_value(pr).svg()"
   ]
  },
  {
   "cell_type": "code",
   "execution_count": null,
   "metadata": {},
   "outputs": [],
   "source": []
  }
 ],
 "metadata": {
  "kernelspec": {
   "display_name": "Python 3",
   "language": "python",
   "name": "python3"
  },
  "language_info": {
   "codemirror_mode": {
    "name": "ipython",
    "version": 3
   },
   "file_extension": ".py",
   "mimetype": "text/x-python",
   "name": "python",
   "nbconvert_exporter": "python",
   "pygments_lexer": "ipython3",
   "version": "3.9.13"
  },
  "orig_nbformat": 4
 },
 "nbformat": 4,
 "nbformat_minor": 2
}
