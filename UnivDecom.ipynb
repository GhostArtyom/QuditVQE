{
 "cells": [
  {
   "cell_type": "code",
   "execution_count": 1,
   "metadata": {},
   "outputs": [],
   "source": [
    "import re\n",
    "import os\n",
    "import sys\n",
    "import h5py\n",
    "import time\n",
    "import numpy as np\n",
    "import scipy as sp\n",
    "import mindspore as ms\n",
    "from numpy.linalg import eig, norm\n",
    "from scipy.sparse import csr_matrix\n",
    "from scipy.optimize import minimize\n",
    "from mindquantum.framework import *\n",
    "from mindquantum.core.gates import *\n",
    "from scipy.stats import unitary_group\n",
    "from mindquantum.core.circuit import *\n",
    "from IPython.display import display_svg\n",
    "from mindquantum.core.operators import *\n",
    "from mindquantum.algorithm.nisq import *\n",
    "from scipy.linalg import block_diag, sqrtm\n",
    "from mindspore.common.initializer import *\n",
    "from mindquantum.simulator import Simulator\n",
    "from mindquantum.algorithm.compiler import *\n",
    "\n",
    "np.set_printoptions(linewidth=200)"
   ]
  },
  {
   "cell_type": "code",
   "execution_count": 50,
   "metadata": {},
   "outputs": [
    {
     "name": "stdout",
     "output_type": "stream",
     "text": [
      "[[0.34880034+0.j         0.40977999-0.24334959j]\n",
      " [0.40977999+0.24334959j 0.65119966+0.j        ]] (1+0j)\n",
      "[[-0.30155987-0.50780113j  0.70856123+0.38618732j]\n",
      " [ 0.69384473+0.41204265j  0.59059321+0.j        ]] (0.2890333438755997-0.507801129358764j)\n",
      "[0.53639729-0.17207415j 0.7502259 +0.17207415j]\n",
      "[0.28779342-0.08599395j 0.90823478+0.29135815j]\n",
      "[[-0.30155987-0.50780113j  0.70856123+0.38618732j]\n",
      " [ 0.69384473+0.41204265j  0.59059321+0.j        ]] (0.2890333438755997-0.507801129358764j)\n"
     ]
    },
    {
     "data": {
      "image/svg+xml": [
       "<svg xmlns=\"http://www.w3.org/2000/svg\" width=\"496.8\" height=\"80.0\" xmlns:xlink=\"http://www.w3.org/1999/xlink\"><rect x=\"0\" y=\"0.0\" width=\"496.8\" height=\"80.0\" fill=\"#ffffff\" /><text x=\"20.0\" y=\"40.0\" font-size=\"16px\" dominant-baseline=\"middle\" text-anchor=\"start\" font-family=\"Arial\" font-weight=\"normal\" fill=\"#252b3a\" >q0: </text><line x1=\"48.8\" x2=\"476.8\" y1=\"40.0\" y2=\"40.0\" stroke=\"#adb0b8\" stroke-width=\"1\" /><rect x=\"72.8\" y=\"20.0\" width=\"80.0\" height=\"40\" rx=\"4\" ry=\"4\" stroke=\"#ffffff\" stroke-width=\"0\" fill=\"#fac209\" fill-opacity=\"1\" /><text x=\"112.8\" y=\"36.0\" font-size=\"20px\" dominant-baseline=\"middle\" text-anchor=\"middle\" font-family=\"Arial\" font-weight=\"normal\" fill=\"#ffffff\" >RZ </text><text x=\"112.8\" y=\"52.0\" font-size=\"14.0px\" dominant-baseline=\"middle\" text-anchor=\"middle\" font-family=\"Arial\" font-weight=\"normal\" fill=\"#ffffff\" >-0.5359 </text><rect x=\"172.8\" y=\"20.0\" width=\"80.0\" height=\"40\" rx=\"4\" ry=\"4\" stroke=\"#ffffff\" stroke-width=\"0\" fill=\"#fac209\" fill-opacity=\"1\" /><text x=\"212.8\" y=\"36.0\" font-size=\"20px\" dominant-baseline=\"middle\" text-anchor=\"middle\" font-family=\"Arial\" font-weight=\"normal\" fill=\"#ffffff\" >RY </text><text x=\"212.8\" y=\"52.0\" font-size=\"14.0px\" dominant-baseline=\"middle\" text-anchor=\"middle\" font-family=\"Arial\" font-weight=\"normal\" fill=\"#ffffff\" >1.878 </text><rect x=\"272.8\" y=\"20.0\" width=\"80.0\" height=\"40\" rx=\"4\" ry=\"4\" stroke=\"#ffffff\" stroke-width=\"0\" fill=\"#fac209\" fill-opacity=\"1\" /><text x=\"312.8\" y=\"36.0\" font-size=\"20px\" dominant-baseline=\"middle\" text-anchor=\"middle\" font-family=\"Arial\" font-weight=\"normal\" fill=\"#ffffff\" >RZ </text><text x=\"312.8\" y=\"52.0\" font-size=\"14.0px\" dominant-baseline=\"middle\" text-anchor=\"middle\" font-family=\"Arial\" font-weight=\"normal\" fill=\"#ffffff\" >2.6426 </text><rect x=\"372.8\" y=\"20.0\" width=\"80.0\" height=\"40\" rx=\"4\" ry=\"4\" stroke=\"#ffffff\" stroke-width=\"0\" fill=\"#fac209\" fill-opacity=\"1\" /><text x=\"412.8\" y=\"36.0\" font-size=\"20px\" dominant-baseline=\"middle\" text-anchor=\"middle\" font-family=\"Arial\" font-weight=\"normal\" fill=\"#ffffff\" >GP </text><text x=\"412.8\" y=\"52.0\" font-size=\"14.0px\" dominant-baseline=\"middle\" text-anchor=\"middle\" font-family=\"Arial\" font-weight=\"normal\" fill=\"#ffffff\" >1.0533 </text></svg>"
      ],
      "text/plain": [
       "<mindquantum.io.display.circuit_svg_drawer.SVGCircuit at 0x10c560fed60>"
      ]
     },
     "execution_count": 50,
     "metadata": {},
     "output_type": "execute_result"
    }
   ],
   "source": [
    "r = h5py.File('mat/322_d2_num1_model957_RDM_v7.3.mat', 'r')\n",
    "l = list(r.keys())\n",
    "rdm = [r[i][:].view('complex').T for i in l]\n",
    "rdm.insert(0, [])\n",
    "r.close()\n",
    "\n",
    "np.random.seed(42)\n",
    "gate = np.random.rand(2) + 1j * np.random.rand(2)\n",
    "gate /= norm(gate)\n",
    "gate = np.outer(gate.conj(), gate)\n",
    "print(gate, np.trace(gate))\n",
    "gate_u = UnivMathGate('gate', gate).on(0)\n",
    "gate_d = euler_decompose(gate_u)\n",
    "print(gate_d.matrix(), np.trace(gate_d.matrix()))\n",
    "\n",
    "circ_u = Circuit() + gate_u\n",
    "circ_d = Circuit() + gate_d\n",
    "sim_u = Simulator('mqvector', 1)\n",
    "sim_u.apply_gate(H(0))\n",
    "sim_u.apply_circuit(circ_u)\n",
    "print(sim_u.get_qs())\n",
    "sim_d = Simulator('mqvector', 1)\n",
    "sim_d.apply_gate(H(0))\n",
    "sim_d.apply_circuit(circ_d)\n",
    "print(sim_d.get_qs())\n",
    "print(circ_d.matrix(), np.trace(circ_d.matrix()))\n",
    "\n",
    "circ_d.svg()"
   ]
  },
  {
   "cell_type": "code",
   "execution_count": 61,
   "metadata": {},
   "outputs": [
    {
     "name": "stdout",
     "output_type": "stream",
     "text": [
      "[-1.  3.] float64\n",
      "[-1.  3.] float64\n",
      "[       nan 1.73205081] float64\n"
     ]
    },
    {
     "name": "stderr",
     "output_type": "stream",
     "text": [
      "C:\\Users\\ghost\\AppData\\Local\\Temp\\ipykernel_28740\\728509003.py:9: RuntimeWarning: invalid value encountered in sqrt\n",
      "  dvals = np.sqrt(eigvals)\n"
     ]
    }
   ],
   "source": [
    "import numpy as np\n",
    "from scipy import linalg\n",
    "\n",
    "u1u2h = np.array([[1, 2], [2, 1]])\n",
    "eigvals, v = linalg.eigh(u1u2h)\n",
    "print(eigvals, eigvals.dtype)\n",
    "# eigvals = eigvals.astype(np.complex128)\n",
    "print(eigvals, eigvals.dtype)\n",
    "dvals = np.sqrt(eigvals)\n",
    "print(dvals, dvals.dtype)"
   ]
  }
 ],
 "metadata": {
  "kernelspec": {
   "display_name": "Python 3",
   "language": "python",
   "name": "python3"
  },
  "language_info": {
   "codemirror_mode": {
    "name": "ipython",
    "version": 3
   },
   "file_extension": ".py",
   "mimetype": "text/x-python",
   "name": "python",
   "nbconvert_exporter": "python",
   "pygments_lexer": "ipython3",
   "version": "3.9.13"
  },
  "orig_nbformat": 4
 },
 "nbformat": 4,
 "nbformat_minor": 2
}
